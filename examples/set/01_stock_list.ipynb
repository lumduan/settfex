{
 "cells": [
  {
   "cell_type": "markdown",
   "metadata": {},
   "source": [
    "# Stock List Service - Complete Thailand Stock Market Data\n",
    "\n",
    "Learn how to fetch and analyze the complete list of stocks traded on the Stock Exchange of Thailand (SET)."
   ]
  },
  {
   "cell_type": "markdown",
   "metadata": {},
   "source": [
    "## Overview\n",
    "\n",
    "The **Stock List Service** provides access to all stocks traded on SET and mai (Market for Alternative Investment). This service is essential for:\n",
    "\n",
    "- **Stock Symbol Validation**: Verify if a stock symbol exists before trading\n",
    "- **Market Analysis**: Analyze distribution across SET and mai markets\n",
    "- **Industry Research**: Find all stocks in specific sectors (banking, energy, property, etc.)\n",
    "- **Portfolio Construction**: Build diversified portfolios across markets and industries\n",
    "- **Compliance**: Track stock classifications and security types\n",
    "\n",
    "### When to Use This Service\n",
    "\n",
    "- Starting a new trading system (symbol validation)\n",
    "- Building stock screeners or watchlists\n",
    "- Conducting market research and industry analysis\n",
    "- Creating sector rotation strategies\n",
    "- Generating reports on market composition"
   ]
  },
  {
   "cell_type": "markdown",
   "metadata": {},
   "source": [
    "## Prerequisites\n",
    "\n",
    "### What You'll Need\n",
    "\n",
    "1. **Python 3.11+** installed on your system\n",
    "2. **settfex library** (we'll install this below)\n",
    "3. **Basic Python knowledge** (variables, functions, loops)\n",
    "4. **Internet connection** to access SET API\n",
    "\n",
    "### Understanding Async/Await\n",
    "\n",
    "This library uses **async/await** for better performance:\n",
    "- `async def` defines a function that can pause and resume\n",
    "- `await` pauses the function until the operation completes\n",
    "- Allows fetching data from multiple sources at the same time\n",
    "- Don't worry - Jupyter notebooks handle this automatically!\n",
    "\n",
    "### Type Safety with Pydantic\n",
    "\n",
    "All data is validated using **Pydantic models**:\n",
    "- Ensures data has the correct structure (e.g., symbol is a string)\n",
    "- Catches errors early (before your code breaks)\n",
    "- Provides autocomplete in modern IDEs\n",
    "- Converts data to the right types automatically"
   ]
  },
  {
   "cell_type": "markdown",
   "metadata": {},
   "source": [
    "## Installation\n",
    "\n",
    "Install the settfex library. This only needs to be done once."
   ]
  },
  {
   "cell_type": "code",
   "execution_count": 1,
   "metadata": {},
   "outputs": [
    {
     "name": "stdout",
     "output_type": "stream",
     "text": [
      "zsh:1: command not found: pip\n"
     ]
    }
   ],
   "source": [
    "# Install settfex library\n",
    "!pip install settfex"
   ]
  },
  {
   "cell_type": "markdown",
   "metadata": {},
   "source": [
    "## Import Required Libraries\n",
    "\n",
    "Import everything we need for this tutorial."
   ]
  },
  {
   "cell_type": "code",
   "execution_count": 2,
   "metadata": {},
   "outputs": [
    {
     "name": "stdout",
     "output_type": "stream",
     "text": [
      "All libraries imported successfully!\n"
     ]
    }
   ],
   "source": [
    "# Core library imports\n",
    "import asyncio\n",
    "from settfex.services.set import get_stock_list, StockListService\n",
    "from settfex.utils.data_fetcher import FetcherConfig\n",
    "\n",
    "# For data analysis and visualization\n",
    "import pandas as pd\n",
    "from collections import Counter\n",
    "\n",
    "print(\"All libraries imported successfully!\")"
   ]
  },
  {
   "cell_type": "markdown",
   "metadata": {},
   "source": [
    "## Basic Usage\n",
    "\n",
    "### Fetch Complete Stock List\n",
    "\n",
    "Let's fetch all stocks from SET and mai markets."
   ]
  },
  {
   "cell_type": "code",
   "execution_count": 3,
   "metadata": {},
   "outputs": [
    {
     "name": "stderr",
     "output_type": "stream",
     "text": [
      "\u001b[32m2025-10-05 21:07:29\u001b[0m | \u001b[1mINFO    \u001b[0m | \u001b[36msettfex.services.set.list\u001b[0m:\u001b[36m__init__\u001b[0m:\u001b[36m114\u001b[0m | \u001b[1mStockListService initialized with base_url=https://www.set.or.th\u001b[0m\n",
      "\u001b[32m2025-10-05 21:07:29\u001b[0m | \u001b[1mINFO    \u001b[0m | \u001b[36msettfex.services.set.list\u001b[0m:\u001b[36mfetch_stock_list\u001b[0m:\u001b[36m134\u001b[0m | \u001b[1mFetching stock list from https://www.set.or.th/api/set/stock/list\u001b[0m\n",
      "\u001b[32m2025-10-05 21:07:29\u001b[0m | \u001b[1mINFO    \u001b[0m | \u001b[36msettfex.utils.data_fetcher\u001b[0m:\u001b[36m__init__\u001b[0m:\u001b[36m113\u001b[0m | \u001b[1mAsyncDataFetcher initialized with browser=chrome120, timeout=30s, rate_limit=0.0s\u001b[0m\n",
      "\u001b[32m2025-10-05 21:07:29\u001b[0m | \u001b[1mINFO    \u001b[0m | \u001b[36msettfex.utils.session_manager\u001b[0m:\u001b[36m__init__\u001b[0m:\u001b[36m98\u001b[0m | \u001b[1mSessionManager created with browser=chrome120, warmup_site=set, cache=enabled\u001b[0m\n",
      "\u001b[32m2025-10-05 21:07:29\u001b[0m | \u001b[1mINFO    \u001b[0m | \u001b[36msettfex.utils.session_cache\u001b[0m:\u001b[36m__init__\u001b[0m:\u001b[36m76\u001b[0m | \u001b[1mSessionCache initialized at /Users/sarat/.settfex/cache (ttl=3600s, size_limit=100MB)\u001b[0m\n",
      "\u001b[32m2025-10-05 21:07:29\u001b[0m | \u001b[32m\u001b[1mSUCCESS \u001b[0m | \u001b[36msettfex.utils.session_manager\u001b[0m:\u001b[36m_try_load_from_cache\u001b[0m:\u001b[36m202\u001b[0m | \u001b[32m\u001b[1m✓ Loaded session from cache: 4 cookies (age=1274s, browser=chrome120)\u001b[0m\n",
      "\u001b[32m2025-10-05 21:07:29\u001b[0m | \u001b[1mINFO    \u001b[0m | \u001b[36msettfex.utils.data_fetcher\u001b[0m:\u001b[36mfetch\u001b[0m:\u001b[36m303\u001b[0m | \u001b[1mFetch successful: url=https://www.set.or.th/api/set/stock/list, status=200, elapsed=0.17s, size=1006411 bytes\u001b[0m\n",
      "\u001b[32m2025-10-05 21:07:29\u001b[0m | \u001b[1mINFO    \u001b[0m | \u001b[36msettfex.services.set.list\u001b[0m:\u001b[36mfetch_stock_list\u001b[0m:\u001b[36m146\u001b[0m | \u001b[1mSuccessfully fetched 3101 stock symbols from SET API\u001b[0m\n"
     ]
    },
    {
     "name": "stdout",
     "output_type": "stream",
     "text": [
      "Total stocks available: 3101\n",
      "\n",
      "First 5 stocks:\n",
      "  24CS     - Twenty-Four Con & Supply Public Company Limited\n",
      "             บริษัท ทเวนตี้ โฟร์ คอน แอนด์ ซัพพลาย จำกัด (มหาชน)\n",
      "             Market: mai, Industry: PROPCON\n",
      "\n",
      "  2S       - 2S METAL PUBLIC COMPANY LIMITED\n",
      "             บริษัท 2 เอส เมทัล จำกัด (มหาชน)\n",
      "             Market: SET, Industry: INDUS\n",
      "\n",
      "  3BBIF    - 3BB INTERNET INFRASTRUCTURE FUND\n",
      "             กองทุนรวมโครงสร้างพื้นฐานบรอดแบนด์อินเทอร์เน็ต สามบีบี\n",
      "             Market: SET, Industry: TECH\n",
      "\n",
      "  88TH     - 88(Thailand) Public Company Limited\n",
      "             บริษัท 88(ไทยแลนด์) จำกัด (มหาชน)\n",
      "             Market: mai, Industry: CONSUMP\n",
      "\n",
      "  A        - AREEYA PROPERTY PUBLIC COMPANY LIMITED\n",
      "             บริษัท อารียา พรอพเพอร์ตี้ จำกัด (มหาชน)\n",
      "             Market: SET, Industry: PROPCON\n",
      "\n"
     ]
    }
   ],
   "source": [
    "# Fetch complete stock list\n",
    "stock_list = await get_stock_list()\n",
    "\n",
    "print(f\"Total stocks available: {stock_list.count}\")\n",
    "print(f\"\\nFirst 5 stocks:\")\n",
    "\n",
    "for stock in stock_list.security_symbols[:5]:\n",
    "    print(f\"  {stock.symbol:8} - {stock.name_en}\")\n",
    "    print(f\"             {stock.name_th}\")\n",
    "    print(f\"             Market: {stock.market}, Industry: {stock.industry}\")\n",
    "    print()"
   ]
  },
  {
   "cell_type": "markdown",
   "metadata": {},
   "source": [
    "### Lookup a Specific Stock\n",
    "\n",
    "Find details for a specific stock symbol."
   ]
  },
  {
   "cell_type": "code",
   "execution_count": 4,
   "metadata": {},
   "outputs": [
    {
     "name": "stdout",
     "output_type": "stream",
     "text": [
      "Symbol: PTT\n",
      "English Name: PTT PUBLIC COMPANY LIMITED\n",
      "Thai Name: บริษัท ปตท. จำกัด (มหาชน)\n",
      "Market: SET\n",
      "Industry: RESOURC\n",
      "Sector: ENERG\n"
     ]
    }
   ],
   "source": [
    "# Look up PTT (Thailand's national oil and gas company)\n",
    "ptt = stock_list.get_symbol(\"PTT\")\n",
    "\n",
    "if ptt:\n",
    "    print(f\"Symbol: {ptt.symbol}\")\n",
    "    print(f\"English Name: {ptt.name_en}\")\n",
    "    print(f\"Thai Name: {ptt.name_th}\")\n",
    "    print(f\"Market: {ptt.market}\")\n",
    "    print(f\"Industry: {ptt.industry}\")\n",
    "    print(f\"Sector: {ptt.sector}\")\n",
    "else:\n",
    "    print(\"Stock not found!\")"
   ]
  },
  {
   "cell_type": "markdown",
   "metadata": {},
   "source": [
    "### Filter by Market\n",
    "\n",
    "Separate stocks by their trading market (SET vs mai)."
   ]
  },
  {
   "cell_type": "code",
   "execution_count": 5,
   "metadata": {},
   "outputs": [
    {
     "name": "stdout",
     "output_type": "stream",
     "text": [
      "SET (Main Board): 2618 stocks\n",
      "mai (Alternative Investment): 483 stocks\n",
      "\n",
      "Sample mai stocks:\n",
      "  24CS     - Twenty-Four Con & Supply Public Company Limited (PROPCON)\n",
      "  88TH     - 88(Thailand) Public Company Limited (CONSUMP)\n",
      "  ABM      - ASIA BIOMASS PUBLIC COMPANY LIMITED (RESOURC)\n",
      "  ACAP     - ASIA CAPITAL GROUP PUBLIC COMPANY LIMITED (FINCIAL)\n",
      "  ADB      - APPLIED DB PUBLIC COMPANY LIMITED (INDUS)\n"
     ]
    }
   ],
   "source": [
    "# Get stocks from each market\n",
    "set_stocks = stock_list.filter_by_market(\"SET\")\n",
    "mai_stocks = stock_list.filter_by_market(\"mai\")\n",
    "\n",
    "print(f\"SET (Main Board): {len(set_stocks)} stocks\")\n",
    "print(f\"mai (Alternative Investment): {len(mai_stocks)} stocks\")\n",
    "\n",
    "print(f\"\\nSample mai stocks:\")\n",
    "for stock in mai_stocks[:5]:\n",
    "    print(f\"  {stock.symbol:8} - {stock.name_en} ({stock.industry})\")"
   ]
  },
  {
   "cell_type": "markdown",
   "metadata": {},
   "source": [
    "## Advanced Usage\n",
    "\n",
    "### Filter by Industry\n",
    "\n",
    "Find all stocks in a specific industry sector."
   ]
  },
  {
   "cell_type": "code",
   "execution_count": 6,
   "metadata": {},
   "outputs": [
    {
     "name": "stdout",
     "output_type": "stream",
     "text": [
      "Banking Industry: 0 stocks\n",
      "\n"
     ]
    }
   ],
   "source": [
    "# Get all banking stocks\n",
    "bank_stocks = stock_list.filter_by_industry(\"BANK\")\n",
    "\n",
    "print(f\"Banking Industry: {len(bank_stocks)} stocks\\n\")\n",
    "\n",
    "for stock in bank_stocks:\n",
    "    print(f\"  {stock.symbol:8} - {stock.name_en}\")\n",
    "\n",
    "# Try other industries: PROPCON, ENERG, TECH, FOOD, etc."
   ]
  },
  {
   "cell_type": "markdown",
   "metadata": {},
   "source": [
    "### Industry Distribution Analysis\n",
    "\n",
    "Analyze how stocks are distributed across industries."
   ]
  },
  {
   "cell_type": "code",
   "execution_count": 7,
   "metadata": {},
   "outputs": [
    {
     "name": "stdout",
     "output_type": "stream",
     "text": [
      "Top 10 Industries by Stock Count:\n",
      "\n",
      "                  1317 stocks - Examples: BH-P, BIOTEC-P, CSC-P\n",
      "  SERVICE         394 stocks - Examples: AAV, ADD, ADVICE\n",
      "  PROPCON         385 stocks - Examples: 24CS, A, A5\n",
      "  INDUS           275 stocks - Examples: 2S, ACG, ADB\n",
      "  AGRO            163 stocks - Examples: AAI, APO, APURE\n",
      "  FINCIAL         159 stocks - Examples: ACAP, AEONTS, AF\n",
      "  RESOURC         142 stocks - Examples: ABM, ACC, ACE\n",
      "  TECH            133 stocks - Examples: 3BBIF, ADVANC, AIT\n",
      "  CONSUMP         133 stocks - Examples: 88TH, AFC, AJA\n"
     ]
    }
   ],
   "source": [
    "# Count stocks per industry\n",
    "industries = {}\n",
    "for stock in stock_list.security_symbols:\n",
    "    industry = stock.industry\n",
    "    if industry not in industries:\n",
    "        industries[industry] = []\n",
    "    industries[industry].append(stock.symbol)\n",
    "\n",
    "# Sort by count (descending)\n",
    "sorted_industries = sorted(industries.items(), key=lambda x: len(x[1]), reverse=True)\n",
    "\n",
    "print(\"Top 10 Industries by Stock Count:\\n\")\n",
    "for industry, symbols in sorted_industries[:10]:\n",
    "    print(f\"  {industry:15} {len(symbols):3} stocks - Examples: {', '.join(symbols[:3])}\")"
   ]
  },
  {
   "cell_type": "markdown",
   "metadata": {},
   "source": [
    "### Convert to Pandas DataFrame\n",
    "\n",
    "Export stock list to pandas for advanced analysis."
   ]
  },
  {
   "cell_type": "code",
   "execution_count": 8,
   "metadata": {},
   "outputs": [
    {
     "name": "stdout",
     "output_type": "stream",
     "text": [
      "DataFrame created!\n",
      "\n",
      "Shape: (3101, 6)\n",
      "\n",
      "First 10 rows:\n"
     ]
    },
    {
     "data": {
      "application/vnd.microsoft.datawrangler.viewer.v0+json": {
       "columns": [
        {
         "name": "index",
         "rawType": "int64",
         "type": "integer"
        },
        {
         "name": "symbol",
         "rawType": "object",
         "type": "string"
        },
        {
         "name": "name_en",
         "rawType": "object",
         "type": "string"
        },
        {
         "name": "name_th",
         "rawType": "object",
         "type": "string"
        },
        {
         "name": "market",
         "rawType": "object",
         "type": "string"
        },
        {
         "name": "industry",
         "rawType": "object",
         "type": "string"
        },
        {
         "name": "sector",
         "rawType": "object",
         "type": "string"
        }
       ],
       "ref": "fc5ac42c-53bd-47a4-9524-1a1f3a6c52cb",
       "rows": [
        [
         "0",
         "24CS",
         "Twenty-Four Con & Supply Public Company Limited",
         "บริษัท ทเวนตี้ โฟร์ คอน แอนด์ ซัพพลาย จำกัด (มหาชน)",
         "mai",
         "PROPCON",
         ""
        ],
        [
         "1",
         "2S",
         "2S METAL PUBLIC COMPANY LIMITED",
         "บริษัท 2 เอส เมทัล จำกัด (มหาชน)",
         "SET",
         "INDUS",
         "STEEL"
        ],
        [
         "2",
         "3BBIF",
         "3BB INTERNET INFRASTRUCTURE FUND",
         "กองทุนรวมโครงสร้างพื้นฐานบรอดแบนด์อินเทอร์เน็ต สามบีบี",
         "SET",
         "TECH",
         "ICT"
        ],
        [
         "3",
         "88TH",
         "88(Thailand) Public Company Limited",
         "บริษัท 88(ไทยแลนด์) จำกัด (มหาชน)",
         "mai",
         "CONSUMP",
         ""
        ],
        [
         "4",
         "A",
         "AREEYA PROPERTY PUBLIC COMPANY LIMITED",
         "บริษัท อารียา พรอพเพอร์ตี้ จำกัด (มหาชน)",
         "SET",
         "PROPCON",
         "PROP"
        ],
        [
         "5",
         "A5",
         "ASSET FIVE GROUP PUBLIC COMPANY LIMITED",
         "บริษัท แอสเซท ไฟว์ กรุ๊ป จำกัด (มหาชน)",
         "SET",
         "PROPCON",
         "PROP"
        ],
        [
         "6",
         "AAI",
         "Asian Alliance International Public Company Limited",
         "บริษัท เอเชี่ยน อะไลอันซ์ อินเตอร์เนชั่นแนล จำกัด (มหาชน)",
         "SET",
         "AGRO",
         "FOOD"
        ],
        [
         "7",
         "AAV",
         "ASIA AVIATION PUBLIC COMPANY LIMITED",
         "บริษัท เอเชีย เอวิเอชั่น จำกัด (มหาชน)",
         "SET",
         "SERVICE",
         "TRANS"
        ],
        [
         "8",
         "ABM",
         "ASIA BIOMASS PUBLIC COMPANY LIMITED",
         "บริษัท เอเชีย ไบโอแมส จำกัด (มหาชน)",
         "mai",
         "RESOURC",
         ""
        ],
        [
         "9",
         "ACAP",
         "ASIA CAPITAL GROUP PUBLIC COMPANY LIMITED",
         "บริษัท เอเชีย แคปปิตอล กรุ๊ป จำกัด (มหาชน)",
         "mai",
         "FINCIAL",
         ""
        ]
       ],
       "shape": {
        "columns": 6,
        "rows": 10
       }
      },
      "text/html": [
       "<div>\n",
       "<style scoped>\n",
       "    .dataframe tbody tr th:only-of-type {\n",
       "        vertical-align: middle;\n",
       "    }\n",
       "\n",
       "    .dataframe tbody tr th {\n",
       "        vertical-align: top;\n",
       "    }\n",
       "\n",
       "    .dataframe thead th {\n",
       "        text-align: right;\n",
       "    }\n",
       "</style>\n",
       "<table border=\"1\" class=\"dataframe\">\n",
       "  <thead>\n",
       "    <tr style=\"text-align: right;\">\n",
       "      <th></th>\n",
       "      <th>symbol</th>\n",
       "      <th>name_en</th>\n",
       "      <th>name_th</th>\n",
       "      <th>market</th>\n",
       "      <th>industry</th>\n",
       "      <th>sector</th>\n",
       "    </tr>\n",
       "  </thead>\n",
       "  <tbody>\n",
       "    <tr>\n",
       "      <th>0</th>\n",
       "      <td>24CS</td>\n",
       "      <td>Twenty-Four Con &amp; Supply Public Company Limited</td>\n",
       "      <td>บริษัท ทเวนตี้ โฟร์ คอน แอนด์ ซัพพลาย จำกัด (ม...</td>\n",
       "      <td>mai</td>\n",
       "      <td>PROPCON</td>\n",
       "      <td></td>\n",
       "    </tr>\n",
       "    <tr>\n",
       "      <th>1</th>\n",
       "      <td>2S</td>\n",
       "      <td>2S METAL PUBLIC COMPANY LIMITED</td>\n",
       "      <td>บริษัท 2 เอส เมทัล จำกัด (มหาชน)</td>\n",
       "      <td>SET</td>\n",
       "      <td>INDUS</td>\n",
       "      <td>STEEL</td>\n",
       "    </tr>\n",
       "    <tr>\n",
       "      <th>2</th>\n",
       "      <td>3BBIF</td>\n",
       "      <td>3BB INTERNET INFRASTRUCTURE FUND</td>\n",
       "      <td>กองทุนรวมโครงสร้างพื้นฐานบรอดแบนด์อินเทอร์เน็ต...</td>\n",
       "      <td>SET</td>\n",
       "      <td>TECH</td>\n",
       "      <td>ICT</td>\n",
       "    </tr>\n",
       "    <tr>\n",
       "      <th>3</th>\n",
       "      <td>88TH</td>\n",
       "      <td>88(Thailand) Public Company Limited</td>\n",
       "      <td>บริษัท 88(ไทยแลนด์) จำกัด (มหาชน)</td>\n",
       "      <td>mai</td>\n",
       "      <td>CONSUMP</td>\n",
       "      <td></td>\n",
       "    </tr>\n",
       "    <tr>\n",
       "      <th>4</th>\n",
       "      <td>A</td>\n",
       "      <td>AREEYA PROPERTY PUBLIC COMPANY LIMITED</td>\n",
       "      <td>บริษัท อารียา พรอพเพอร์ตี้ จำกัด (มหาชน)</td>\n",
       "      <td>SET</td>\n",
       "      <td>PROPCON</td>\n",
       "      <td>PROP</td>\n",
       "    </tr>\n",
       "    <tr>\n",
       "      <th>5</th>\n",
       "      <td>A5</td>\n",
       "      <td>ASSET FIVE GROUP PUBLIC COMPANY LIMITED</td>\n",
       "      <td>บริษัท แอสเซท ไฟว์ กรุ๊ป จำกัด (มหาชน)</td>\n",
       "      <td>SET</td>\n",
       "      <td>PROPCON</td>\n",
       "      <td>PROP</td>\n",
       "    </tr>\n",
       "    <tr>\n",
       "      <th>6</th>\n",
       "      <td>AAI</td>\n",
       "      <td>Asian Alliance International Public Company Li...</td>\n",
       "      <td>บริษัท เอเชี่ยน อะไลอันซ์ อินเตอร์เนชั่นแนล จำ...</td>\n",
       "      <td>SET</td>\n",
       "      <td>AGRO</td>\n",
       "      <td>FOOD</td>\n",
       "    </tr>\n",
       "    <tr>\n",
       "      <th>7</th>\n",
       "      <td>AAV</td>\n",
       "      <td>ASIA AVIATION PUBLIC COMPANY LIMITED</td>\n",
       "      <td>บริษัท เอเชีย เอวิเอชั่น จำกัด (มหาชน)</td>\n",
       "      <td>SET</td>\n",
       "      <td>SERVICE</td>\n",
       "      <td>TRANS</td>\n",
       "    </tr>\n",
       "    <tr>\n",
       "      <th>8</th>\n",
       "      <td>ABM</td>\n",
       "      <td>ASIA BIOMASS PUBLIC COMPANY LIMITED</td>\n",
       "      <td>บริษัท เอเชีย ไบโอแมส จำกัด (มหาชน)</td>\n",
       "      <td>mai</td>\n",
       "      <td>RESOURC</td>\n",
       "      <td></td>\n",
       "    </tr>\n",
       "    <tr>\n",
       "      <th>9</th>\n",
       "      <td>ACAP</td>\n",
       "      <td>ASIA CAPITAL GROUP PUBLIC COMPANY LIMITED</td>\n",
       "      <td>บริษัท เอเชีย แคปปิตอล กรุ๊ป จำกัด (มหาชน)</td>\n",
       "      <td>mai</td>\n",
       "      <td>FINCIAL</td>\n",
       "      <td></td>\n",
       "    </tr>\n",
       "  </tbody>\n",
       "</table>\n",
       "</div>"
      ],
      "text/plain": [
       "  symbol                                            name_en  \\\n",
       "0   24CS    Twenty-Four Con & Supply Public Company Limited   \n",
       "1     2S                    2S METAL PUBLIC COMPANY LIMITED   \n",
       "2  3BBIF                   3BB INTERNET INFRASTRUCTURE FUND   \n",
       "3   88TH                88(Thailand) Public Company Limited   \n",
       "4      A             AREEYA PROPERTY PUBLIC COMPANY LIMITED   \n",
       "5     A5            ASSET FIVE GROUP PUBLIC COMPANY LIMITED   \n",
       "6    AAI  Asian Alliance International Public Company Li...   \n",
       "7    AAV               ASIA AVIATION PUBLIC COMPANY LIMITED   \n",
       "8    ABM                ASIA BIOMASS PUBLIC COMPANY LIMITED   \n",
       "9   ACAP          ASIA CAPITAL GROUP PUBLIC COMPANY LIMITED   \n",
       "\n",
       "                                             name_th market industry sector  \n",
       "0  บริษัท ทเวนตี้ โฟร์ คอน แอนด์ ซัพพลาย จำกัด (ม...    mai  PROPCON         \n",
       "1                   บริษัท 2 เอส เมทัล จำกัด (มหาชน)    SET    INDUS  STEEL  \n",
       "2  กองทุนรวมโครงสร้างพื้นฐานบรอดแบนด์อินเทอร์เน็ต...    SET     TECH    ICT  \n",
       "3                  บริษัท 88(ไทยแลนด์) จำกัด (มหาชน)    mai  CONSUMP         \n",
       "4           บริษัท อารียา พรอพเพอร์ตี้ จำกัด (มหาชน)    SET  PROPCON   PROP  \n",
       "5             บริษัท แอสเซท ไฟว์ กรุ๊ป จำกัด (มหาชน)    SET  PROPCON   PROP  \n",
       "6  บริษัท เอเชี่ยน อะไลอันซ์ อินเตอร์เนชั่นแนล จำ...    SET     AGRO   FOOD  \n",
       "7             บริษัท เอเชีย เอวิเอชั่น จำกัด (มหาชน)    SET  SERVICE  TRANS  \n",
       "8                บริษัท เอเชีย ไบโอแมส จำกัด (มหาชน)    mai  RESOURC         \n",
       "9         บริษัท เอเชีย แคปปิตอล กรุ๊ป จำกัด (มหาชน)    mai  FINCIAL         "
      ]
     },
     "execution_count": 8,
     "metadata": {},
     "output_type": "execute_result"
    }
   ],
   "source": [
    "# Convert to pandas DataFrame\n",
    "data = [\n",
    "    {\n",
    "        \"symbol\": s.symbol,\n",
    "        \"name_en\": s.name_en,\n",
    "        \"name_th\": s.name_th,\n",
    "        \"market\": s.market,\n",
    "        \"industry\": s.industry,\n",
    "        \"sector\": s.sector\n",
    "    }\n",
    "    for s in stock_list.security_symbols\n",
    "]\n",
    "\n",
    "df = pd.DataFrame(data)\n",
    "\n",
    "print(\"DataFrame created!\")\n",
    "print(f\"\\nShape: {df.shape}\")\n",
    "print(f\"\\nFirst 10 rows:\")\n",
    "df.head(10)"
   ]
  },
  {
   "cell_type": "markdown",
   "metadata": {},
   "source": [
    "### Market Statistics with Pandas\n",
    "\n",
    "Use pandas to calculate market statistics."
   ]
  },
  {
   "cell_type": "code",
   "execution_count": 9,
   "metadata": {},
   "outputs": [
    {
     "name": "stdout",
     "output_type": "stream",
     "text": [
      "Stocks by Market:\n",
      "market\n",
      "SET    2618\n",
      "mai     483\n",
      "Name: count, dtype: int64\n",
      "\n",
      "Top 10 Industries:\n",
      "industry\n",
      "           1317\n",
      "SERVICE     394\n",
      "PROPCON     385\n",
      "INDUS       275\n",
      "AGRO        163\n",
      "FINCIAL     159\n",
      "RESOURC     142\n",
      "TECH        133\n",
      "CONSUMP     133\n",
      "Name: count, dtype: int64\n",
      "\n",
      "Industry distribution by market:\n",
      "industry        AGRO  CONSUMP  FINCIAL  INDUS  PROPCON  RESOURC  SERVICE  TECH\n",
      "market                                                                        \n",
      "SET       1285   140       91      137    182      308      120      268    87\n",
      "mai         32    23       42       22     93       77       22      126    46\n"
     ]
    }
   ],
   "source": [
    "# Market distribution\n",
    "print(\"Stocks by Market:\")\n",
    "print(df['market'].value_counts())\n",
    "print()\n",
    "\n",
    "# Top 10 industries\n",
    "print(\"Top 10 Industries:\")\n",
    "print(df['industry'].value_counts().head(10))\n",
    "print()\n",
    "\n",
    "# Industry distribution by market\n",
    "print(\"Industry distribution by market:\")\n",
    "print(pd.crosstab(df['market'], df['industry']))"
   ]
  },
  {
   "cell_type": "markdown",
   "metadata": {},
   "source": [
    "## Financial Firm Use Cases\n",
    "\n",
    "### Use Case 1: Symbol Validation for Trading System\n",
    "\n",
    "Validate stock symbols before executing trades."
   ]
  },
  {
   "cell_type": "code",
   "execution_count": 10,
   "metadata": {},
   "outputs": [
    {
     "name": "stderr",
     "output_type": "stream",
     "text": [
      "\u001b[32m2025-10-05 21:07:30\u001b[0m | \u001b[1mINFO    \u001b[0m | \u001b[36msettfex.services.set.list\u001b[0m:\u001b[36m__init__\u001b[0m:\u001b[36m114\u001b[0m | \u001b[1mStockListService initialized with base_url=https://www.set.or.th\u001b[0m\n",
      "\u001b[32m2025-10-05 21:07:30\u001b[0m | \u001b[1mINFO    \u001b[0m | \u001b[36msettfex.services.set.list\u001b[0m:\u001b[36mfetch_stock_list\u001b[0m:\u001b[36m134\u001b[0m | \u001b[1mFetching stock list from https://www.set.or.th/api/set/stock/list\u001b[0m\n",
      "\u001b[32m2025-10-05 21:07:30\u001b[0m | \u001b[1mINFO    \u001b[0m | \u001b[36msettfex.utils.data_fetcher\u001b[0m:\u001b[36m__init__\u001b[0m:\u001b[36m113\u001b[0m | \u001b[1mAsyncDataFetcher initialized with browser=chrome120, timeout=30s, rate_limit=0.0s\u001b[0m\n",
      "\u001b[32m2025-10-05 21:07:30\u001b[0m | \u001b[1mINFO    \u001b[0m | \u001b[36msettfex.utils.data_fetcher\u001b[0m:\u001b[36mfetch\u001b[0m:\u001b[36m303\u001b[0m | \u001b[1mFetch successful: url=https://www.set.or.th/api/set/stock/list, status=200, elapsed=0.02s, size=1006411 bytes\u001b[0m\n",
      "\u001b[32m2025-10-05 21:07:30\u001b[0m | \u001b[1mINFO    \u001b[0m | \u001b[36msettfex.services.set.list\u001b[0m:\u001b[36mfetch_stock_list\u001b[0m:\u001b[36m146\u001b[0m | \u001b[1mSuccessfully fetched 3101 stock symbols from SET API\u001b[0m\n"
     ]
    },
    {
     "name": "stdout",
     "output_type": "stream",
     "text": [
      "Valid symbols (4): ['PTT', 'KBANK', 'CPALL', 'AOT']\n",
      "Invalid symbols (2): ['INVALID123', 'FAKE']\n",
      "\n",
      "Details for valid symbols:\n",
      "  PTT: PTT PUBLIC COMPANY LIMITED - SET (RESOURC)\n",
      "  KBANK: KASIKORNBANK PUBLIC COMPANY LIMITED - SET (FINCIAL)\n",
      "  CPALL: CP ALL PUBLIC COMPANY LIMITED - SET (SERVICE)\n",
      "  AOT: AIRPORTS OF THAILAND PUBLIC COMPANY LIMITED - SET (SERVICE)\n"
     ]
    }
   ],
   "source": [
    "async def validate_symbols_for_trading(symbols: list[str]) -> dict:\n",
    "    \"\"\"\n",
    "    Validate a list of stock symbols for trading.\n",
    "    Returns dict with valid/invalid symbols and their details.\n",
    "    \"\"\"\n",
    "    stock_list = await get_stock_list()\n",
    "    \n",
    "    result = {\n",
    "        \"valid\": [],\n",
    "        \"invalid\": [],\n",
    "        \"details\": {}\n",
    "    }\n",
    "    \n",
    "    for symbol in symbols:\n",
    "        stock = stock_list.get_symbol(symbol)\n",
    "        if stock:\n",
    "            result[\"valid\"].append(symbol)\n",
    "            result[\"details\"][symbol] = {\n",
    "                \"name\": stock.name_en,\n",
    "                \"market\": stock.market,\n",
    "                \"industry\": stock.industry\n",
    "            }\n",
    "        else:\n",
    "            result[\"invalid\"].append(symbol)\n",
    "    \n",
    "    return result\n",
    "\n",
    "# Test with mix of valid and invalid symbols\n",
    "test_symbols = [\"PTT\", \"KBANK\", \"CPALL\", \"INVALID123\", \"AOT\", \"FAKE\"]\n",
    "validation = await validate_symbols_for_trading(test_symbols)\n",
    "\n",
    "print(f\"Valid symbols ({len(validation['valid'])}): {validation['valid']}\")\n",
    "print(f\"Invalid symbols ({len(validation['invalid'])}): {validation['invalid']}\")\n",
    "print(\"\\nDetails for valid symbols:\")\n",
    "for symbol, details in validation['details'].items():\n",
    "    print(f\"  {symbol}: {details['name']} - {details['market']} ({details['industry']})\")"
   ]
  },
  {
   "cell_type": "markdown",
   "metadata": {},
   "source": [
    "### Use Case 2: Sector Rotation Strategy\n",
    "\n",
    "Build a sector rotation portfolio by selecting top stocks from each industry."
   ]
  },
  {
   "cell_type": "code",
   "execution_count": 11,
   "metadata": {},
   "outputs": [
    {
     "name": "stdout",
     "output_type": "stream",
     "text": [
      "Sector Rotation Universe: 3 stocks\n",
      "\n",
      "symbol                                                                      name industry market\n",
      "     A                                    AREEYA PROPERTY PUBLIC COMPANY LIMITED  PROPCON    SET\n",
      "    A5                                   ASSET FIVE GROUP PUBLIC COMPANY LIMITED  PROPCON    SET\n",
      " AIMCG AIM COMMERCIAL GROWTH FREEHOLD AND LEASEHOLD REAL ESTATE INVESTMENT TRUST  PROPCON    SET\n",
      "\n",
      "Stocks per industry:\n",
      "industry\n",
      "PROPCON    3\n",
      "Name: count, dtype: int64\n"
     ]
    }
   ],
   "source": [
    "def build_sector_rotation_universe(stock_list, target_industries: list[str], stocks_per_industry: int = 5):\n",
    "    \"\"\"\n",
    "    Build a trading universe for sector rotation strategy.\n",
    "    \n",
    "    Args:\n",
    "        stock_list: Stock list response\n",
    "        target_industries: List of industry codes to include\n",
    "        stocks_per_industry: Number of stocks to select per industry\n",
    "    \n",
    "    Returns:\n",
    "        DataFrame with selected stocks\n",
    "    \"\"\"\n",
    "    universe = []\n",
    "    \n",
    "    for industry in target_industries:\n",
    "        # Get stocks in this industry\n",
    "        industry_stocks = stock_list.filter_by_industry(industry)\n",
    "        \n",
    "        # Filter to SET main board only (more liquid)\n",
    "        set_stocks = [s for s in industry_stocks if s.market == \"SET\"]\n",
    "        \n",
    "        # Take first N stocks (in production, you'd rank by market cap or liquidity)\n",
    "        selected = set_stocks[:stocks_per_industry]\n",
    "        \n",
    "        for stock in selected:\n",
    "            universe.append({\n",
    "                \"symbol\": stock.symbol,\n",
    "                \"name\": stock.name_en,\n",
    "                \"industry\": stock.industry,\n",
    "                \"market\": stock.market\n",
    "            })\n",
    "    \n",
    "    return pd.DataFrame(universe)\n",
    "\n",
    "# Build universe for sector rotation\n",
    "target_sectors = [\"BANK\", \"ENERG\", \"PROPCON\", \"FOOD\", \"COMM\"]\n",
    "universe_df = build_sector_rotation_universe(stock_list, target_sectors, stocks_per_industry=3)\n",
    "\n",
    "print(f\"Sector Rotation Universe: {len(universe_df)} stocks\\n\")\n",
    "print(universe_df.to_string(index=False))\n",
    "\n",
    "# Summary by industry\n",
    "print(\"\\nStocks per industry:\")\n",
    "print(universe_df['industry'].value_counts())"
   ]
  },
  {
   "cell_type": "markdown",
   "metadata": {},
   "source": [
    "### Use Case 3: Compliance Reporting\n",
    "\n",
    "Generate compliance reports on market composition."
   ]
  },
  {
   "cell_type": "code",
   "execution_count": 12,
   "metadata": {},
   "outputs": [
    {
     "name": "stdout",
     "output_type": "stream",
     "text": [
      "============================================================\n",
      "MARKET COMPOSITION REPORT\n",
      "============================================================\n",
      "\n",
      "Total Securities: 3101\n",
      "\n",
      "By Market:\n",
      "  SET        2618 stocks (84.4%)\n",
      "  mai         483 stocks (15.6%)\n",
      "\n",
      "Top 10 Industries:\n",
      "                  1317 stocks (42.5%)\n",
      "  SERVICE         394 stocks (12.7%)\n",
      "  PROPCON         385 stocks (12.4%)\n",
      "  INDUS           275 stocks (8.9%)\n",
      "  AGRO            163 stocks (5.3%)\n",
      "  FINCIAL         159 stocks (5.1%)\n",
      "  RESOURC         142 stocks (4.6%)\n",
      "  TECH            133 stocks (4.3%)\n",
      "  CONSUMP         133 stocks (4.3%)\n",
      "\n",
      "Special Categories:\n",
      "  Infrastructure Funds: 16\n",
      "  Foreign Listings: 0\n",
      "============================================================\n"
     ]
    }
   ],
   "source": [
    "def generate_market_composition_report(stock_list):\n",
    "    \"\"\"\n",
    "    Generate a compliance report on market composition.\n",
    "    Useful for regulatory reporting and risk management.\n",
    "    \"\"\"\n",
    "    # Convert to DataFrame\n",
    "    df = pd.DataFrame([\n",
    "        {\n",
    "            \"symbol\": s.symbol,\n",
    "            \"name_en\": s.name_en,\n",
    "            \"market\": s.market,\n",
    "            \"industry\": s.industry,\n",
    "            \"sector\": s.sector,\n",
    "            \"is_iff\": s.is_iff,\n",
    "            \"is_foreign_listing\": s.is_foreign_listing\n",
    "        }\n",
    "        for s in stock_list.security_symbols\n",
    "    ])\n",
    "    \n",
    "    report = {}\n",
    "    \n",
    "    # Total stocks\n",
    "    report['total_stocks'] = len(df)\n",
    "    \n",
    "    # Market breakdown\n",
    "    report['by_market'] = df['market'].value_counts().to_dict()\n",
    "    \n",
    "    # Industry breakdown\n",
    "    report['by_industry'] = df['industry'].value_counts().to_dict()\n",
    "    \n",
    "    # Special flags\n",
    "    report['infrastructure_funds'] = df['is_iff'].sum()\n",
    "    report['foreign_listings'] = df['is_foreign_listing'].sum()\n",
    "    \n",
    "    return report, df\n",
    "\n",
    "# Generate report\n",
    "report, report_df = generate_market_composition_report(stock_list)\n",
    "\n",
    "print(\"=\" * 60)\n",
    "print(\"MARKET COMPOSITION REPORT\")\n",
    "print(\"=\" * 60)\n",
    "print(f\"\\nTotal Securities: {report['total_stocks']}\")\n",
    "print(f\"\\nBy Market:\")\n",
    "for market, count in report['by_market'].items():\n",
    "    pct = (count / report['total_stocks']) * 100\n",
    "    print(f\"  {market:10} {count:4} stocks ({pct:.1f}%)\")\n",
    "\n",
    "print(f\"\\nTop 10 Industries:\")\n",
    "for industry, count in list(report['by_industry'].items())[:10]:\n",
    "    pct = (count / report['total_stocks']) * 100\n",
    "    print(f\"  {industry:15} {count:3} stocks ({pct:.1f}%)\")\n",
    "\n",
    "print(f\"\\nSpecial Categories:\")\n",
    "print(f\"  Infrastructure Funds: {report['infrastructure_funds']}\")\n",
    "print(f\"  Foreign Listings: {report['foreign_listings']}\")\n",
    "print(\"=\" * 60)"
   ]
  },
  {
   "cell_type": "markdown",
   "metadata": {},
   "source": [
    "### Use Case 4: Export to CSV for Portfolio Management System\n",
    "\n",
    "Export stock universe to CSV for import into portfolio management systems."
   ]
  },
  {
   "cell_type": "code",
   "execution_count": 13,
   "metadata": {},
   "outputs": [
    {
     "name": "stdout",
     "output_type": "stream",
     "text": [
      "Exported 3101 stocks to thailand_stock_universe.csv\n",
      "Exported 2618 SET main board stocks to thailand_set_main_board.csv\n",
      "Exported 0 banking stocks to thailand_banking_stocks.csv\n"
     ]
    }
   ],
   "source": [
    "# Export complete stock list to CSV\n",
    "df.to_csv(\"thailand_stock_universe.csv\", index=False, encoding=\"utf-8\")\n",
    "print(f\"Exported {len(df)} stocks to thailand_stock_universe.csv\")\n",
    "\n",
    "# Export SET main board only\n",
    "set_df = df[df['market'] == 'SET']\n",
    "set_df.to_csv(\"thailand_set_main_board.csv\", index=False, encoding=\"utf-8\")\n",
    "print(f\"Exported {len(set_df)} SET main board stocks to thailand_set_main_board.csv\")\n",
    "\n",
    "# Export by industry\n",
    "bank_df = df[df['industry'] == 'BANK']\n",
    "bank_df.to_csv(\"thailand_banking_stocks.csv\", index=False, encoding=\"utf-8\")\n",
    "print(f\"Exported {len(bank_df)} banking stocks to thailand_banking_stocks.csv\")"
   ]
  },
  {
   "cell_type": "markdown",
   "metadata": {},
   "source": [
    "## Error Handling\n",
    "\n",
    "### Basic Error Handling\n",
    "\n",
    "Always wrap API calls in try/except blocks for production code."
   ]
  },
  {
   "cell_type": "code",
   "execution_count": 14,
   "metadata": {},
   "outputs": [
    {
     "name": "stderr",
     "output_type": "stream",
     "text": [
      "\u001b[32m2025-10-05 21:07:30\u001b[0m | \u001b[1mINFO    \u001b[0m | \u001b[36msettfex.services.set.list\u001b[0m:\u001b[36m__init__\u001b[0m:\u001b[36m114\u001b[0m | \u001b[1mStockListService initialized with base_url=https://www.set.or.th\u001b[0m\n",
      "\u001b[32m2025-10-05 21:07:30\u001b[0m | \u001b[1mINFO    \u001b[0m | \u001b[36msettfex.services.set.list\u001b[0m:\u001b[36mfetch_stock_list\u001b[0m:\u001b[36m134\u001b[0m | \u001b[1mFetching stock list from https://www.set.or.th/api/set/stock/list\u001b[0m\n",
      "\u001b[32m2025-10-05 21:07:30\u001b[0m | \u001b[1mINFO    \u001b[0m | \u001b[36msettfex.utils.data_fetcher\u001b[0m:\u001b[36m__init__\u001b[0m:\u001b[36m113\u001b[0m | \u001b[1mAsyncDataFetcher initialized with browser=chrome120, timeout=30s, rate_limit=0.0s\u001b[0m\n",
      "\u001b[32m2025-10-05 21:07:30\u001b[0m | \u001b[1mINFO    \u001b[0m | \u001b[36msettfex.utils.data_fetcher\u001b[0m:\u001b[36mfetch\u001b[0m:\u001b[36m303\u001b[0m | \u001b[1mFetch successful: url=https://www.set.or.th/api/set/stock/list, status=200, elapsed=0.03s, size=1006411 bytes\u001b[0m\n",
      "\u001b[32m2025-10-05 21:07:30\u001b[0m | \u001b[1mINFO    \u001b[0m | \u001b[36msettfex.services.set.list\u001b[0m:\u001b[36mfetch_stock_list\u001b[0m:\u001b[36m146\u001b[0m | \u001b[1mSuccessfully fetched 3101 stock symbols from SET API\u001b[0m\n"
     ]
    },
    {
     "name": "stdout",
     "output_type": "stream",
     "text": [
      "✓ Successfully fetched 3101 stocks\n",
      "Data is ready for processing\n"
     ]
    }
   ],
   "source": [
    "async def safe_fetch_stock_list():\n",
    "    \"\"\"\n",
    "    Safely fetch stock list with error handling.\n",
    "    \"\"\"\n",
    "    try:\n",
    "        stock_list = await get_stock_list()\n",
    "        print(f\"✓ Successfully fetched {stock_list.count} stocks\")\n",
    "        return stock_list\n",
    "    except Exception as e:\n",
    "        print(f\"✗ Failed to fetch stock list: {e}\")\n",
    "        return None\n",
    "\n",
    "# Test\n",
    "result = await safe_fetch_stock_list()\n",
    "if result:\n",
    "    print(\"Data is ready for processing\")\n",
    "else:\n",
    "    print(\"Fetch failed - check your internet connection\")"
   ]
  },
  {
   "cell_type": "markdown",
   "metadata": {},
   "source": [
    "### Custom Configuration with Retry\n",
    "\n",
    "Configure longer timeouts and more retries for unreliable networks."
   ]
  },
  {
   "cell_type": "code",
   "execution_count": 15,
   "metadata": {},
   "outputs": [
    {
     "name": "stderr",
     "output_type": "stream",
     "text": [
      "\u001b[32m2025-10-05 21:07:30\u001b[0m | \u001b[1mINFO    \u001b[0m | \u001b[36msettfex.services.set.list\u001b[0m:\u001b[36m__init__\u001b[0m:\u001b[36m114\u001b[0m | \u001b[1mStockListService initialized with base_url=https://www.set.or.th\u001b[0m\n",
      "\u001b[32m2025-10-05 21:07:30\u001b[0m | \u001b[1mINFO    \u001b[0m | \u001b[36msettfex.services.set.list\u001b[0m:\u001b[36mfetch_stock_list\u001b[0m:\u001b[36m134\u001b[0m | \u001b[1mFetching stock list from https://www.set.or.th/api/set/stock/list\u001b[0m\n",
      "\u001b[32m2025-10-05 21:07:30\u001b[0m | \u001b[1mINFO    \u001b[0m | \u001b[36msettfex.utils.data_fetcher\u001b[0m:\u001b[36m__init__\u001b[0m:\u001b[36m113\u001b[0m | \u001b[1mAsyncDataFetcher initialized with browser=chrome120, timeout=60s, rate_limit=0.0s\u001b[0m\n",
      "\u001b[32m2025-10-05 21:07:30\u001b[0m | \u001b[1mINFO    \u001b[0m | \u001b[36msettfex.utils.data_fetcher\u001b[0m:\u001b[36mfetch\u001b[0m:\u001b[36m303\u001b[0m | \u001b[1mFetch successful: url=https://www.set.or.th/api/set/stock/list, status=200, elapsed=0.01s, size=1006411 bytes\u001b[0m\n",
      "\u001b[32m2025-10-05 21:07:30\u001b[0m | \u001b[1mINFO    \u001b[0m | \u001b[36msettfex.services.set.list\u001b[0m:\u001b[36mfetch_stock_list\u001b[0m:\u001b[36m146\u001b[0m | \u001b[1mSuccessfully fetched 3101 stock symbols from SET API\u001b[0m\n"
     ]
    },
    {
     "name": "stdout",
     "output_type": "stream",
     "text": [
      "✓ Fetched 3101 stocks with custom config\n"
     ]
    }
   ],
   "source": [
    "# Configure with aggressive retry for production systems\n",
    "config = FetcherConfig(\n",
    "    timeout=60,          # 60 second timeout\n",
    "    max_retries=5,       # Retry up to 5 times\n",
    "    retry_delay=2.0      # 2 second delay between retries\n",
    ")\n",
    "\n",
    "try:\n",
    "    stock_list = await get_stock_list(config=config)\n",
    "    print(f\"✓ Fetched {stock_list.count} stocks with custom config\")\n",
    "except Exception as e:\n",
    "    print(f\"✗ All {config.max_retries} retry attempts failed: {e}\")"
   ]
  },
  {
   "cell_type": "markdown",
   "metadata": {},
   "source": [
    "## Next Steps\n",
    "\n",
    "Now that you can fetch and analyze the stock list, explore other services:\n",
    "\n",
    "1. **[Highlight Data](02_highlight_data.ipynb)** - Get market metrics (P/E, P/B, market cap) for individual stocks\n",
    "2. **[Stock Profile](03_stock_profile.ipynb)** - Fetch detailed listing information and IPO data\n",
    "3. **[Company Profile](04_company_profile.ipynb)** - Get company details, governance scores, and ESG ratings\n",
    "4. **[Shareholder](06_shareholder.ipynb)** - Track major shareholders and ownership distribution\n",
    "5. **[Financial](11_financial.ipynb)** - Analyze balance sheets, income statements, and cash flows\n",
    "\n",
    "### Additional Resources\n",
    "\n",
    "- **Documentation**: `/docs/settfex/services/set/list.md`\n",
    "- **Source Code**: `/settfex/services/set/list.py`\n",
    "- **Test Examples**: `/tests/services/set/test_list.py`\n",
    "\n",
    "### Pro Tips\n",
    "\n",
    "1. **Cache the stock list** - It doesn't change frequently, cache for 1+ hours\n",
    "2. **Use filters efficiently** - Built-in filters are optimized\n",
    "3. **Export to pandas** - Leverage pandas for advanced analysis\n",
    "4. **Validate symbols early** - Catch invalid symbols before trading\n",
    "5. **Monitor industry composition** - Track changes in market structure over time"
   ]
  }
 ],
 "metadata": {
  "kernelspec": {
   "display_name": "settfex",
   "language": "python",
   "name": "python3"
  },
  "language_info": {
   "codemirror_mode": {
    "name": "ipython",
    "version": 3
   },
   "file_extension": ".py",
   "mimetype": "text/x-python",
   "name": "python",
   "nbconvert_exporter": "python",
   "pygments_lexer": "ipython3",
   "version": "3.13.5"
  }
 },
 "nbformat": 4,
 "nbformat_minor": 4
}
