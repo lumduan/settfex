{
 "cells": [
  {
   "cell_type": "markdown",
   "metadata": {},
   "source": [
    "# Financial Service - Balance Sheet, Income, Cash Flow\n",
    "\n",
    "Access comprehensive financial statements for fundamental analysis and valuation."
   ]
  },
  {
   "cell_type": "markdown",
   "metadata": {},
   "source": [
    "## Overview\n",
    "\n",
    "The **Financial Service** provides three types of financial statements:\n",
    "\n",
    "- **Balance Sheet**: Assets, liabilities, equity\n",
    "- **Income Statement**: Revenue, expenses, profit/loss\n",
    "- **Cash Flow Statement**: Operating, investing, financing activities\n",
    "\n",
    "### Features\n",
    "\n",
    "- **Multi-Period Data**: Multiple quarters/years for trend analysis\n",
    "- **Hierarchical Structure**: Account hierarchy with levels (-1 for totals, 0+ for details)\n",
    "- **Audit Status**: Audited, Reviewed, or Unaudited flags\n",
    "- **Thai/English Support**: Financial data in both languages\n",
    "- **Quarter Codes**: Q1-Q4, 6M (half-year), Q9 (full-year)\n",
    "\n",
    "### When to Use\n",
    "\n",
    "- Fundamental analysis and valuation\n",
    "- Financial ratio calculations\n",
    "- Trend analysis (revenue growth, margin improvement)\n",
    "- Credit analysis (debt levels, coverage ratios)\n",
    "- DCF modeling and forecasting"
   ]
  },
  {
   "cell_type": "code",
   "execution_count": 1,
   "metadata": {},
   "outputs": [
    {
     "name": "stdout",
     "output_type": "stream",
     "text": [
      "zsh:1: command not found: pip\n"
     ]
    }
   ],
   "source": [
    "!pip install settfex"
   ]
  },
  {
   "cell_type": "code",
   "execution_count": 2,
   "metadata": {},
   "outputs": [
    {
     "name": "stdout",
     "output_type": "stream",
     "text": [
      "Libraries imported!\n"
     ]
    }
   ],
   "source": [
    "import asyncio\n",
    "from settfex.services.set import get_balance_sheet, get_income_statement, get_cash_flow\n",
    "import pandas as pd\n",
    "\n",
    "print(\"Libraries imported!\")"
   ]
  },
  {
   "cell_type": "markdown",
   "metadata": {},
   "source": [
    "## Basic Usage - Balance Sheet"
   ]
  },
  {
   "cell_type": "code",
   "execution_count": 3,
   "metadata": {},
   "outputs": [
    {
     "name": "stderr",
     "output_type": "stream",
     "text": [
      "\u001b[32m2025-10-05 21:11:26\u001b[0m | \u001b[1mINFO    \u001b[0m | \u001b[36msettfex.services.set.stock.financial.financial\u001b[0m:\u001b[36m__init__\u001b[0m:\u001b[36m109\u001b[0m | \u001b[1mFinancialService initialized with base_url=https://www.set.or.th\u001b[0m\n",
      "\u001b[32m2025-10-05 21:11:26\u001b[0m | \u001b[1mINFO    \u001b[0m | \u001b[36msettfex.services.set.stock.financial.financial\u001b[0m:\u001b[36m_fetch_financial_data\u001b[0m:\u001b[36m150\u001b[0m | \u001b[1mFetching balance_sheet for symbol 'CPALL' (lang=en) from https://www.set.or.th/api/set/factsheet/CPALL/financialstatement?accountType=balance_sheet&lang=en\u001b[0m\n",
      "\u001b[32m2025-10-05 21:11:26\u001b[0m | \u001b[1mINFO    \u001b[0m | \u001b[36msettfex.utils.data_fetcher\u001b[0m:\u001b[36m__init__\u001b[0m:\u001b[36m113\u001b[0m | \u001b[1mAsyncDataFetcher initialized with browser=chrome120, timeout=30s, rate_limit=0.0s\u001b[0m\n",
      "\u001b[32m2025-10-05 21:11:26\u001b[0m | \u001b[1mINFO    \u001b[0m | \u001b[36msettfex.utils.session_manager\u001b[0m:\u001b[36m__init__\u001b[0m:\u001b[36m98\u001b[0m | \u001b[1mSessionManager created with browser=chrome120, warmup_site=set, cache=enabled\u001b[0m\n",
      "\u001b[32m2025-10-05 21:11:26\u001b[0m | \u001b[1mINFO    \u001b[0m | \u001b[36msettfex.utils.session_cache\u001b[0m:\u001b[36m__init__\u001b[0m:\u001b[36m76\u001b[0m | \u001b[1mSessionCache initialized at /Users/sarat/.settfex/cache (ttl=3600s, size_limit=100MB)\u001b[0m\n",
      "\u001b[32m2025-10-05 21:11:26\u001b[0m | \u001b[32m\u001b[1mSUCCESS \u001b[0m | \u001b[36msettfex.utils.session_manager\u001b[0m:\u001b[36m_try_load_from_cache\u001b[0m:\u001b[36m202\u001b[0m | \u001b[32m\u001b[1m✓ Loaded session from cache: 4 cookies (age=1511s, browser=chrome120)\u001b[0m\n",
      "\u001b[32m2025-10-05 21:11:26\u001b[0m | \u001b[1mINFO    \u001b[0m | \u001b[36msettfex.utils.data_fetcher\u001b[0m:\u001b[36mfetch\u001b[0m:\u001b[36m303\u001b[0m | \u001b[1mFetch successful: url=https://www.set.or.th/api/set/factsheet/CPALL/financialstatement?accountType=balance_sheet&lang=en, status=200, elapsed=0.12s, size=17325 bytes\u001b[0m\n",
      "\u001b[32m2025-10-05 21:11:26\u001b[0m | \u001b[1mINFO    \u001b[0m | \u001b[36msettfex.services.set.stock.financial.financial\u001b[0m:\u001b[36m_fetch_financial_data\u001b[0m:\u001b[36m184\u001b[0m | \u001b[1mSuccessfully fetched 5 balance_sheet statements for CPALL\u001b[0m\n",
      "\u001b[32m2025-10-05 21:11:26\u001b[0m | \u001b[1mINFO    \u001b[0m | \u001b[36msettfex.services.set.stock.financial.financial\u001b[0m:\u001b[36mfetch_balance_sheet\u001b[0m:\u001b[36m217\u001b[0m | \u001b[1mParsed 5 balance sheet statements for CPALL\u001b[0m\n"
     ]
    },
    {
     "name": "stdout",
     "output_type": "stream",
     "text": [
      "Balance Sheets for CPALL: 5 periods\n",
      "\n",
      "Latest Period: 6M 2025\n",
      "Status: Reviewed\n",
      "Period: 2025-01-01 00:00:00+07:00 to 2025-06-30 00:00:00+07:00\n",
      "\n",
      "Key Line Items (in thousands THB):\n",
      "\n",
      "Total Assets                                 931,772,208\n",
      "Total Liabilities                            612,276,869\n",
      "Shareholders' Equity                         127,021,163\n"
     ]
    }
   ],
   "source": [
    "# Fetch balance sheet\n",
    "balance_sheets = await get_balance_sheet(\"CPALL\")\n",
    "\n",
    "print(f\"Balance Sheets for CPALL: {len(balance_sheets)} periods\\n\")\n",
    "\n",
    "# Get latest period\n",
    "latest = balance_sheets[0]\n",
    "print(f\"Latest Period: {latest.quarter} {latest.year}\")\n",
    "print(f\"Status: {latest.status}\")\n",
    "print(f\"Period: {latest.begin_date} to {latest.end_date}\")\n",
    "print(f\"\\nKey Line Items (in thousands THB):\\n\")\n",
    "\n",
    "# Find key accounts (level -1 are totals)\n",
    "key_accounts = [acc for acc in latest.accounts if acc.level == -1]\n",
    "for acc in key_accounts:\n",
    "    print(f\"{acc.account_name:40} {acc.amount:>15,.0f}\")"
   ]
  },
  {
   "cell_type": "markdown",
   "metadata": {},
   "source": [
    "## Basic Usage - Income Statement"
   ]
  },
  {
   "cell_type": "code",
   "execution_count": 4,
   "metadata": {},
   "outputs": [
    {
     "name": "stderr",
     "output_type": "stream",
     "text": [
      "\u001b[32m2025-10-05 21:11:26\u001b[0m | \u001b[1mINFO    \u001b[0m | \u001b[36msettfex.services.set.stock.financial.financial\u001b[0m:\u001b[36m__init__\u001b[0m:\u001b[36m109\u001b[0m | \u001b[1mFinancialService initialized with base_url=https://www.set.or.th\u001b[0m\n",
      "\u001b[32m2025-10-05 21:11:26\u001b[0m | \u001b[1mINFO    \u001b[0m | \u001b[36msettfex.services.set.stock.financial.financial\u001b[0m:\u001b[36m_fetch_financial_data\u001b[0m:\u001b[36m150\u001b[0m | \u001b[1mFetching income_statement for symbol 'CPALL' (lang=en) from https://www.set.or.th/api/set/factsheet/CPALL/financialstatement?accountType=income_statement&lang=en\u001b[0m\n",
      "\u001b[32m2025-10-05 21:11:26\u001b[0m | \u001b[1mINFO    \u001b[0m | \u001b[36msettfex.utils.data_fetcher\u001b[0m:\u001b[36m__init__\u001b[0m:\u001b[36m113\u001b[0m | \u001b[1mAsyncDataFetcher initialized with browser=chrome120, timeout=30s, rate_limit=0.0s\u001b[0m\n",
      "\u001b[32m2025-10-05 21:11:26\u001b[0m | \u001b[1mINFO    \u001b[0m | \u001b[36msettfex.utils.data_fetcher\u001b[0m:\u001b[36mfetch\u001b[0m:\u001b[36m303\u001b[0m | \u001b[1mFetch successful: url=https://www.set.or.th/api/set/factsheet/CPALL/financialstatement?accountType=income_statement&lang=en, status=200, elapsed=0.01s, size=9257 bytes\u001b[0m\n",
      "\u001b[32m2025-10-05 21:11:26\u001b[0m | \u001b[1mINFO    \u001b[0m | \u001b[36msettfex.services.set.stock.financial.financial\u001b[0m:\u001b[36m_fetch_financial_data\u001b[0m:\u001b[36m184\u001b[0m | \u001b[1mSuccessfully fetched 5 income_statement statements for CPALL\u001b[0m\n",
      "\u001b[32m2025-10-05 21:11:26\u001b[0m | \u001b[1mINFO    \u001b[0m | \u001b[36msettfex.services.set.stock.financial.financial\u001b[0m:\u001b[36mfetch_income_statement\u001b[0m:\u001b[36m275\u001b[0m | \u001b[1mParsed 5 income statement statements for CPALL\u001b[0m\n"
     ]
    },
    {
     "name": "stdout",
     "output_type": "stream",
     "text": [
      "Income Statement: 6M 2025\n",
      "\n",
      "Total Revenues                               509,430,223\n",
      "Total Cost And Expenses                      481,920,917\n",
      "Net Profit  : Owners Of The Parent            14,353,693\n"
     ]
    }
   ],
   "source": [
    "# Fetch income statement\n",
    "income_statements = await get_income_statement(\"CPALL\")\n",
    "\n",
    "latest_income = income_statements[0]\n",
    "print(f\"Income Statement: {latest_income.quarter} {latest_income.year}\\n\")\n",
    "\n",
    "# Find key metrics\n",
    "key_items = [acc for acc in latest_income.accounts if acc.level == -1]\n",
    "for item in key_items:\n",
    "    print(f\"{item.account_name:40} {item.amount:>15,.0f}\")"
   ]
  },
  {
   "cell_type": "markdown",
   "metadata": {},
   "source": [
    "## Basic Usage - Cash Flow"
   ]
  },
  {
   "cell_type": "code",
   "execution_count": 5,
   "metadata": {},
   "outputs": [
    {
     "name": "stderr",
     "output_type": "stream",
     "text": [
      "\u001b[32m2025-10-05 21:11:26\u001b[0m | \u001b[1mINFO    \u001b[0m | \u001b[36msettfex.services.set.stock.financial.financial\u001b[0m:\u001b[36m__init__\u001b[0m:\u001b[36m109\u001b[0m | \u001b[1mFinancialService initialized with base_url=https://www.set.or.th\u001b[0m\n",
      "\u001b[32m2025-10-05 21:11:26\u001b[0m | \u001b[1mINFO    \u001b[0m | \u001b[36msettfex.services.set.stock.financial.financial\u001b[0m:\u001b[36m_fetch_financial_data\u001b[0m:\u001b[36m150\u001b[0m | \u001b[1mFetching cash_flow for symbol 'CPALL' (lang=en) from https://www.set.or.th/api/set/factsheet/CPALL/financialstatement?accountType=cash_flow&lang=en\u001b[0m\n",
      "\u001b[32m2025-10-05 21:11:26\u001b[0m | \u001b[1mINFO    \u001b[0m | \u001b[36msettfex.utils.data_fetcher\u001b[0m:\u001b[36m__init__\u001b[0m:\u001b[36m113\u001b[0m | \u001b[1mAsyncDataFetcher initialized with browser=chrome120, timeout=30s, rate_limit=0.0s\u001b[0m\n",
      "\u001b[32m2025-10-05 21:11:26\u001b[0m | \u001b[1mINFO    \u001b[0m | \u001b[36msettfex.utils.data_fetcher\u001b[0m:\u001b[36mfetch\u001b[0m:\u001b[36m303\u001b[0m | \u001b[1mFetch successful: url=https://www.set.or.th/api/set/factsheet/CPALL/financialstatement?accountType=cash_flow&lang=en, status=200, elapsed=0.01s, size=4685 bytes\u001b[0m\n",
      "\u001b[32m2025-10-05 21:11:26\u001b[0m | \u001b[1mINFO    \u001b[0m | \u001b[36msettfex.services.set.stock.financial.financial\u001b[0m:\u001b[36m_fetch_financial_data\u001b[0m:\u001b[36m184\u001b[0m | \u001b[1mSuccessfully fetched 5 cash_flow statements for CPALL\u001b[0m\n",
      "\u001b[32m2025-10-05 21:11:26\u001b[0m | \u001b[1mINFO    \u001b[0m | \u001b[36msettfex.services.set.stock.financial.financial\u001b[0m:\u001b[36mfetch_cash_flow\u001b[0m:\u001b[36m331\u001b[0m | \u001b[1mParsed 5 cash flow statements for CPALL\u001b[0m\n"
     ]
    },
    {
     "name": "stdout",
     "output_type": "stream",
     "text": [
      "Cash Flow Statement: 6M 2025\n",
      "\n",
      "Net Cash Flow                                -16,774,118\n"
     ]
    }
   ],
   "source": [
    "# Fetch cash flow\n",
    "cash_flows = await get_cash_flow(\"CPALL\")\n",
    "\n",
    "latest_cf = cash_flows[0]\n",
    "print(f\"Cash Flow Statement: {latest_cf.quarter} {latest_cf.year}\\n\")\n",
    "\n",
    "# Find operating, investing, financing cash flows\n",
    "key_cf = [acc for acc in latest_cf.accounts if acc.level == -1]\n",
    "for item in key_cf:\n",
    "    print(f\"{item.account_name:40} {item.amount:>15,.0f}\")"
   ]
  },
  {
   "cell_type": "markdown",
   "metadata": {},
   "source": [
    "## Advanced Usage - Financial Ratio Analysis"
   ]
  },
  {
   "cell_type": "code",
   "execution_count": 6,
   "metadata": {},
   "outputs": [
    {
     "name": "stdout",
     "output_type": "stream",
     "text": [
      "Financial Ratios for CPALL (6M 2025):\n",
      "\n",
      "debt_to_assets               65.71%\n",
      "equity_ratio                 13.63%\n",
      "debt_to_equity              482.03%\n",
      "net_profit_margin             2.82%\n",
      "roa                           1.54%\n",
      "roe                          11.30%\n"
     ]
    }
   ],
   "source": [
    "def calculate_financial_ratios(balance_sheet, income_statement):\n",
    "    \"\"\"\n",
    "    Calculate key financial ratios from statements.\n",
    "    \"\"\"\n",
    "    # Helper to find account by name\n",
    "    def find_account(accounts, keywords):\n",
    "        for acc in accounts:\n",
    "            if any(kw.lower() in acc.account_name.lower() for kw in keywords):\n",
    "                return acc.amount\n",
    "        return None\n",
    "    \n",
    "    # Extract key figures\n",
    "    total_assets = find_account(balance_sheet.accounts, [\"Total Assets\"])\n",
    "    total_liabilities = find_account(balance_sheet.accounts, [\"Total Liabilities\"])\n",
    "    total_equity = find_account(balance_sheet.accounts, [\"Total Equity\", \"Shareholders\"])\n",
    "    \n",
    "    net_income = find_account(income_statement.accounts, [\"Net Income\", \"Net Profit\"])\n",
    "    total_revenue = find_account(income_statement.accounts, [\"Total Revenue\", \"Total Income\"])\n",
    "    \n",
    "    ratios = {}\n",
    "    \n",
    "    # Calculate ratios\n",
    "    if total_assets and total_liabilities:\n",
    "        ratios['debt_to_assets'] = (total_liabilities / total_assets) * 100\n",
    "    \n",
    "    if total_assets and total_equity:\n",
    "        ratios['equity_ratio'] = (total_equity / total_assets) * 100\n",
    "    \n",
    "    if total_equity and total_liabilities:\n",
    "        ratios['debt_to_equity'] = (total_liabilities / total_equity) * 100\n",
    "    \n",
    "    if total_revenue and net_income:\n",
    "        ratios['net_profit_margin'] = (net_income / total_revenue) * 100\n",
    "    \n",
    "    if total_assets and net_income:\n",
    "        ratios['roa'] = (net_income / total_assets) * 100\n",
    "    \n",
    "    if total_equity and net_income:\n",
    "        ratios['roe'] = (net_income / total_equity) * 100\n",
    "    \n",
    "    return ratios\n",
    "\n",
    "# Calculate ratios\n",
    "ratios = calculate_financial_ratios(latest, latest_income)\n",
    "\n",
    "print(f\"Financial Ratios for CPALL ({latest.quarter} {latest.year}):\\n\")\n",
    "for ratio_name, value in ratios.items():\n",
    "    print(f\"{ratio_name:25} {value:>8.2f}%\")"
   ]
  },
  {
   "cell_type": "markdown",
   "metadata": {},
   "source": [
    "## Use Case: Trend Analysis"
   ]
  },
  {
   "cell_type": "code",
   "execution_count": 7,
   "metadata": {},
   "outputs": [
    {
     "name": "stdout",
     "output_type": "stream",
     "text": [
      "Revenue Trend (in millions THB):\n",
      "\n",
      " period    revenue  year quarter\n",
      "6M 2025 509.430223  2025      6M\n",
      "6M 2024 488.950851  2024      6M\n",
      "Q9 2024 987.734483  2024      Q9\n",
      "Q9 2023 920.841354  2023      Q9\n",
      "Q9 2022 852.605219  2022      Q9\n",
      "\n",
      "Revenue Growth (QoQ): +4.19%\n"
     ]
    }
   ],
   "source": [
    "# Analyze revenue trend\n",
    "def extract_revenue_trend(income_statements):\n",
    "    \"\"\"\n",
    "    Extract revenue across periods.\n",
    "    \"\"\"\n",
    "    trend = []\n",
    "    for stmt in income_statements:\n",
    "        for acc in stmt.accounts:\n",
    "            if \"Total Revenue\" in acc.account_name or \"Total Income\" in acc.account_name:\n",
    "                trend.append({\n",
    "                    \"period\": f\"{stmt.quarter} {stmt.year}\",\n",
    "                    \"revenue\": acc.amount / 1_000_000,  # Convert to millions\n",
    "                    \"year\": stmt.year,\n",
    "                    \"quarter\": stmt.quarter\n",
    "                })\n",
    "                break\n",
    "    return pd.DataFrame(trend)\n",
    "\n",
    "revenue_trend = extract_revenue_trend(income_statements)\n",
    "print(\"Revenue Trend (in millions THB):\\n\")\n",
    "print(revenue_trend.to_string(index=False))\n",
    "\n",
    "# Calculate growth\n",
    "if len(revenue_trend) >= 2:\n",
    "    latest_rev = revenue_trend.iloc[0]['revenue']\n",
    "    prev_rev = revenue_trend.iloc[1]['revenue']\n",
    "    growth = ((latest_rev - prev_rev) / prev_rev) * 100\n",
    "    print(f\"\\nRevenue Growth (QoQ): {growth:+.2f}%\")"
   ]
  },
  {
   "cell_type": "markdown",
   "metadata": {},
   "source": [
    "## Use Case: Comparative Company Analysis"
   ]
  },
  {
   "cell_type": "code",
   "execution_count": 8,
   "metadata": {},
   "outputs": [
    {
     "name": "stderr",
     "output_type": "stream",
     "text": [
      "\u001b[32m2025-10-05 21:11:26\u001b[0m | \u001b[1mINFO    \u001b[0m | \u001b[36msettfex.services.set.stock.financial.financial\u001b[0m:\u001b[36m__init__\u001b[0m:\u001b[36m109\u001b[0m | \u001b[1mFinancialService initialized with base_url=https://www.set.or.th\u001b[0m\n",
      "\u001b[32m2025-10-05 21:11:26\u001b[0m | \u001b[1mINFO    \u001b[0m | \u001b[36msettfex.services.set.stock.financial.financial\u001b[0m:\u001b[36m_fetch_financial_data\u001b[0m:\u001b[36m150\u001b[0m | \u001b[1mFetching balance_sheet for symbol 'CPALL' (lang=en) from https://www.set.or.th/api/set/factsheet/CPALL/financialstatement?accountType=balance_sheet&lang=en\u001b[0m\n",
      "\u001b[32m2025-10-05 21:11:26\u001b[0m | \u001b[1mINFO    \u001b[0m | \u001b[36msettfex.utils.data_fetcher\u001b[0m:\u001b[36m__init__\u001b[0m:\u001b[36m113\u001b[0m | \u001b[1mAsyncDataFetcher initialized with browser=chrome120, timeout=30s, rate_limit=0.0s\u001b[0m\n",
      "\u001b[32m2025-10-05 21:11:26\u001b[0m | \u001b[1mINFO    \u001b[0m | \u001b[36msettfex.services.set.stock.financial.financial\u001b[0m:\u001b[36m__init__\u001b[0m:\u001b[36m109\u001b[0m | \u001b[1mFinancialService initialized with base_url=https://www.set.or.th\u001b[0m\n",
      "\u001b[32m2025-10-05 21:11:26\u001b[0m | \u001b[1mINFO    \u001b[0m | \u001b[36msettfex.services.set.stock.financial.financial\u001b[0m:\u001b[36m_fetch_financial_data\u001b[0m:\u001b[36m150\u001b[0m | \u001b[1mFetching balance_sheet for symbol 'MAKRO' (lang=en) from https://www.set.or.th/api/set/factsheet/MAKRO/financialstatement?accountType=balance_sheet&lang=en\u001b[0m\n",
      "\u001b[32m2025-10-05 21:11:26\u001b[0m | \u001b[1mINFO    \u001b[0m | \u001b[36msettfex.utils.data_fetcher\u001b[0m:\u001b[36m__init__\u001b[0m:\u001b[36m113\u001b[0m | \u001b[1mAsyncDataFetcher initialized with browser=chrome120, timeout=30s, rate_limit=0.0s\u001b[0m\n",
      "\u001b[32m2025-10-05 21:11:26\u001b[0m | \u001b[1mINFO    \u001b[0m | \u001b[36msettfex.services.set.stock.financial.financial\u001b[0m:\u001b[36m__init__\u001b[0m:\u001b[36m109\u001b[0m | \u001b[1mFinancialService initialized with base_url=https://www.set.or.th\u001b[0m\n",
      "\u001b[32m2025-10-05 21:11:26\u001b[0m | \u001b[1mINFO    \u001b[0m | \u001b[36msettfex.services.set.stock.financial.financial\u001b[0m:\u001b[36m_fetch_financial_data\u001b[0m:\u001b[36m150\u001b[0m | \u001b[1mFetching balance_sheet for symbol 'HMPRO' (lang=en) from https://www.set.or.th/api/set/factsheet/HMPRO/financialstatement?accountType=balance_sheet&lang=en\u001b[0m\n",
      "\u001b[32m2025-10-05 21:11:26\u001b[0m | \u001b[1mINFO    \u001b[0m | \u001b[36msettfex.utils.data_fetcher\u001b[0m:\u001b[36m__init__\u001b[0m:\u001b[36m113\u001b[0m | \u001b[1mAsyncDataFetcher initialized with browser=chrome120, timeout=30s, rate_limit=0.0s\u001b[0m\n",
      "\u001b[32m2025-10-05 21:11:26\u001b[0m | \u001b[1mINFO    \u001b[0m | \u001b[36msettfex.utils.data_fetcher\u001b[0m:\u001b[36mfetch\u001b[0m:\u001b[36m303\u001b[0m | \u001b[1mFetch successful: url=https://www.set.or.th/api/set/factsheet/CPALL/financialstatement?accountType=balance_sheet&lang=en, status=200, elapsed=0.02s, size=17325 bytes\u001b[0m\n",
      "\u001b[32m2025-10-05 21:11:26\u001b[0m | \u001b[1mINFO    \u001b[0m | \u001b[36msettfex.services.set.stock.financial.financial\u001b[0m:\u001b[36m_fetch_financial_data\u001b[0m:\u001b[36m184\u001b[0m | \u001b[1mSuccessfully fetched 5 balance_sheet statements for CPALL\u001b[0m\n",
      "\u001b[32m2025-10-05 21:11:26\u001b[0m | \u001b[1mINFO    \u001b[0m | \u001b[36msettfex.services.set.stock.financial.financial\u001b[0m:\u001b[36mfetch_balance_sheet\u001b[0m:\u001b[36m217\u001b[0m | \u001b[1mParsed 5 balance sheet statements for CPALL\u001b[0m\n",
      "\u001b[32m2025-10-05 21:11:26\u001b[0m | \u001b[1mINFO    \u001b[0m | \u001b[36msettfex.utils.data_fetcher\u001b[0m:\u001b[36mfetch\u001b[0m:\u001b[36m303\u001b[0m | \u001b[1mFetch successful: url=https://www.set.or.th/api/set/factsheet/HMPRO/financialstatement?accountType=balance_sheet&lang=en, status=200, elapsed=0.04s, size=17173 bytes\u001b[0m\n",
      "\u001b[32m2025-10-05 21:11:26\u001b[0m | \u001b[1mINFO    \u001b[0m | \u001b[36msettfex.services.set.stock.financial.financial\u001b[0m:\u001b[36m_fetch_financial_data\u001b[0m:\u001b[36m184\u001b[0m | \u001b[1mSuccessfully fetched 5 balance_sheet statements for HMPRO\u001b[0m\n",
      "\u001b[32m2025-10-05 21:11:26\u001b[0m | \u001b[1mINFO    \u001b[0m | \u001b[36msettfex.services.set.stock.financial.financial\u001b[0m:\u001b[36mfetch_balance_sheet\u001b[0m:\u001b[36m217\u001b[0m | \u001b[1mParsed 5 balance sheet statements for HMPRO\u001b[0m\n",
      "\u001b[32m2025-10-05 21:11:27\u001b[0m | \u001b[1mINFO    \u001b[0m | \u001b[36msettfex.utils.data_fetcher\u001b[0m:\u001b[36mfetch\u001b[0m:\u001b[36m303\u001b[0m | \u001b[1mFetch successful: url=https://www.set.or.th/api/set/factsheet/MAKRO/financialstatement?accountType=balance_sheet&lang=en, status=404, elapsed=0.10s, size=28 bytes\u001b[0m\n",
      "\u001b[32m2025-10-05 21:11:27\u001b[0m | \u001b[31m\u001b[1mERROR   \u001b[0m | \u001b[36msettfex.services.set.stock.financial.financial\u001b[0m:\u001b[36m_fetch_financial_data\u001b[0m:\u001b[36m165\u001b[0m | \u001b[31m\u001b[1mFailed to fetch balance_sheet for MAKRO: HTTP 404\u001b[0m\n",
      "\u001b[32m2025-10-05 21:11:27\u001b[0m | \u001b[1mINFO    \u001b[0m | \u001b[36msettfex.services.set.stock.financial.financial\u001b[0m:\u001b[36m__init__\u001b[0m:\u001b[36m109\u001b[0m | \u001b[1mFinancialService initialized with base_url=https://www.set.or.th\u001b[0m\n",
      "\u001b[32m2025-10-05 21:11:27\u001b[0m | \u001b[1mINFO    \u001b[0m | \u001b[36msettfex.services.set.stock.financial.financial\u001b[0m:\u001b[36m_fetch_financial_data\u001b[0m:\u001b[36m150\u001b[0m | \u001b[1mFetching income_statement for symbol 'CPALL' (lang=en) from https://www.set.or.th/api/set/factsheet/CPALL/financialstatement?accountType=income_statement&lang=en\u001b[0m\n",
      "\u001b[32m2025-10-05 21:11:27\u001b[0m | \u001b[1mINFO    \u001b[0m | \u001b[36msettfex.utils.data_fetcher\u001b[0m:\u001b[36m__init__\u001b[0m:\u001b[36m113\u001b[0m | \u001b[1mAsyncDataFetcher initialized with browser=chrome120, timeout=30s, rate_limit=0.0s\u001b[0m\n",
      "\u001b[32m2025-10-05 21:11:27\u001b[0m | \u001b[1mINFO    \u001b[0m | \u001b[36msettfex.services.set.stock.financial.financial\u001b[0m:\u001b[36m__init__\u001b[0m:\u001b[36m109\u001b[0m | \u001b[1mFinancialService initialized with base_url=https://www.set.or.th\u001b[0m\n",
      "\u001b[32m2025-10-05 21:11:27\u001b[0m | \u001b[1mINFO    \u001b[0m | \u001b[36msettfex.services.set.stock.financial.financial\u001b[0m:\u001b[36m_fetch_financial_data\u001b[0m:\u001b[36m150\u001b[0m | \u001b[1mFetching income_statement for symbol 'MAKRO' (lang=en) from https://www.set.or.th/api/set/factsheet/MAKRO/financialstatement?accountType=income_statement&lang=en\u001b[0m\n",
      "\u001b[32m2025-10-05 21:11:27\u001b[0m | \u001b[1mINFO    \u001b[0m | \u001b[36msettfex.utils.data_fetcher\u001b[0m:\u001b[36m__init__\u001b[0m:\u001b[36m113\u001b[0m | \u001b[1mAsyncDataFetcher initialized with browser=chrome120, timeout=30s, rate_limit=0.0s\u001b[0m\n",
      "\u001b[32m2025-10-05 21:11:27\u001b[0m | \u001b[1mINFO    \u001b[0m | \u001b[36msettfex.services.set.stock.financial.financial\u001b[0m:\u001b[36m__init__\u001b[0m:\u001b[36m109\u001b[0m | \u001b[1mFinancialService initialized with base_url=https://www.set.or.th\u001b[0m\n",
      "\u001b[32m2025-10-05 21:11:27\u001b[0m | \u001b[1mINFO    \u001b[0m | \u001b[36msettfex.services.set.stock.financial.financial\u001b[0m:\u001b[36m_fetch_financial_data\u001b[0m:\u001b[36m150\u001b[0m | \u001b[1mFetching income_statement for symbol 'HMPRO' (lang=en) from https://www.set.or.th/api/set/factsheet/HMPRO/financialstatement?accountType=income_statement&lang=en\u001b[0m\n",
      "\u001b[32m2025-10-05 21:11:27\u001b[0m | \u001b[1mINFO    \u001b[0m | \u001b[36msettfex.utils.data_fetcher\u001b[0m:\u001b[36m__init__\u001b[0m:\u001b[36m113\u001b[0m | \u001b[1mAsyncDataFetcher initialized with browser=chrome120, timeout=30s, rate_limit=0.0s\u001b[0m\n",
      "\u001b[32m2025-10-05 21:11:27\u001b[0m | \u001b[1mINFO    \u001b[0m | \u001b[36msettfex.utils.data_fetcher\u001b[0m:\u001b[36mfetch\u001b[0m:\u001b[36m303\u001b[0m | \u001b[1mFetch successful: url=https://www.set.or.th/api/set/factsheet/HMPRO/financialstatement?accountType=income_statement&lang=en, status=200, elapsed=0.01s, size=9181 bytes\u001b[0m\n",
      "\u001b[32m2025-10-05 21:11:27\u001b[0m | \u001b[1mINFO    \u001b[0m | \u001b[36msettfex.services.set.stock.financial.financial\u001b[0m:\u001b[36m_fetch_financial_data\u001b[0m:\u001b[36m184\u001b[0m | \u001b[1mSuccessfully fetched 5 income_statement statements for HMPRO\u001b[0m\n",
      "\u001b[32m2025-10-05 21:11:27\u001b[0m | \u001b[1mINFO    \u001b[0m | \u001b[36msettfex.services.set.stock.financial.financial\u001b[0m:\u001b[36mfetch_income_statement\u001b[0m:\u001b[36m275\u001b[0m | \u001b[1mParsed 5 income statement statements for HMPRO\u001b[0m\n",
      "\u001b[32m2025-10-05 21:11:27\u001b[0m | \u001b[1mINFO    \u001b[0m | \u001b[36msettfex.utils.data_fetcher\u001b[0m:\u001b[36mfetch\u001b[0m:\u001b[36m303\u001b[0m | \u001b[1mFetch successful: url=https://www.set.or.th/api/set/factsheet/MAKRO/financialstatement?accountType=income_statement&lang=en, status=404, elapsed=0.03s, size=28 bytes\u001b[0m\n",
      "\u001b[32m2025-10-05 21:11:27\u001b[0m | \u001b[31m\u001b[1mERROR   \u001b[0m | \u001b[36msettfex.services.set.stock.financial.financial\u001b[0m:\u001b[36m_fetch_financial_data\u001b[0m:\u001b[36m165\u001b[0m | \u001b[31m\u001b[1mFailed to fetch income_statement for MAKRO: HTTP 404\u001b[0m\n",
      "\u001b[32m2025-10-05 21:11:27\u001b[0m | \u001b[1mINFO    \u001b[0m | \u001b[36msettfex.utils.data_fetcher\u001b[0m:\u001b[36mfetch\u001b[0m:\u001b[36m303\u001b[0m | \u001b[1mFetch successful: url=https://www.set.or.th/api/set/factsheet/CPALL/financialstatement?accountType=income_statement&lang=en, status=200, elapsed=0.07s, size=9257 bytes\u001b[0m\n",
      "\u001b[32m2025-10-05 21:11:27\u001b[0m | \u001b[1mINFO    \u001b[0m | \u001b[36msettfex.services.set.stock.financial.financial\u001b[0m:\u001b[36m_fetch_financial_data\u001b[0m:\u001b[36m184\u001b[0m | \u001b[1mSuccessfully fetched 5 income_statement statements for CPALL\u001b[0m\n",
      "\u001b[32m2025-10-05 21:11:27\u001b[0m | \u001b[1mINFO    \u001b[0m | \u001b[36msettfex.services.set.stock.financial.financial\u001b[0m:\u001b[36mfetch_income_statement\u001b[0m:\u001b[36m275\u001b[0m | \u001b[1mParsed 5 income statement statements for CPALL\u001b[0m\n"
     ]
    },
    {
     "name": "stdout",
     "output_type": "stream",
     "text": [
      "Retail Sector Financial Comparison:\n",
      "\n",
      "symbol  period  net_profit_margin       roe  debt_to_equity\n",
      " CPALL 6M 2025           2.817597 11.300237      482.027447\n",
      " HMPRO 6M 2025           8.594247 12.178537      154.369429\n"
     ]
    }
   ],
   "source": [
    "async def compare_companies(symbols: list[str]):\n",
    "    \"\"\"\n",
    "    Compare financial metrics across companies.\n",
    "    \"\"\"\n",
    "    # Fetch balance sheets and income statements\n",
    "    bs_tasks = [get_balance_sheet(symbol) for symbol in symbols]\n",
    "    is_tasks = [get_income_statement(symbol) for symbol in symbols]\n",
    "    \n",
    "    balance_sheets = await asyncio.gather(*bs_tasks, return_exceptions=True)\n",
    "    income_stmts = await asyncio.gather(*is_tasks, return_exceptions=True)\n",
    "    \n",
    "    comparison = []\n",
    "    for symbol, bs_list, is_list in zip(symbols, balance_sheets, income_stmts):\n",
    "        if isinstance(bs_list, Exception) or isinstance(is_list, Exception):\n",
    "            continue\n",
    "        \n",
    "        if bs_list and is_list:\n",
    "            ratios = calculate_financial_ratios(bs_list[0], is_list[0])\n",
    "            ratios['symbol'] = symbol\n",
    "            ratios['period'] = f\"{bs_list[0].quarter} {bs_list[0].year}\"\n",
    "            comparison.append(ratios)\n",
    "    \n",
    "    df = pd.DataFrame(comparison)\n",
    "    return df\n",
    "\n",
    "# Compare retail companies\n",
    "retail_stocks = [\"CPALL\", \"MAKRO\", \"HMPRO\"]\n",
    "comparison = await compare_companies(retail_stocks)\n",
    "\n",
    "print(\"Retail Sector Financial Comparison:\\n\")\n",
    "if not comparison.empty:\n",
    "    print(comparison[['symbol', 'period', 'net_profit_margin', 'roe', 'debt_to_equity']].to_string(index=False))"
   ]
  },
  {
   "cell_type": "markdown",
   "metadata": {},
   "source": [
    "## Use Case: Export to Excel"
   ]
  },
  {
   "cell_type": "code",
   "execution_count": 9,
   "metadata": {},
   "outputs": [
    {
     "name": "stdout",
     "output_type": "stream",
     "text": [
      "Exported 115 line items to cpall_balance_sheet.csv\n"
     ]
    }
   ],
   "source": [
    "# Export financial statements to CSV\n",
    "def export_balance_sheet_to_csv(balance_sheets, filename=\"balance_sheet.csv\"):\n",
    "    \"\"\"\n",
    "    Export balance sheet data to CSV.\n",
    "    \"\"\"\n",
    "    data = []\n",
    "    for bs in balance_sheets:\n",
    "        for acc in bs.accounts:\n",
    "            data.append({\n",
    "                \"period\": f\"{bs.quarter} {bs.year}\",\n",
    "                \"year\": bs.year,\n",
    "                \"quarter\": bs.quarter,\n",
    "                \"account_code\": acc.account_code,\n",
    "                \"account_name\": acc.account_name,\n",
    "                \"amount\": acc.amount,\n",
    "                \"level\": acc.level,\n",
    "                \"status\": bs.status\n",
    "            })\n",
    "    \n",
    "    df = pd.DataFrame(data)\n",
    "    df.to_csv(filename, index=False, encoding=\"utf-8\")\n",
    "    return df\n",
    "\n",
    "# Export CPALL balance sheets\n",
    "bs_df = export_balance_sheet_to_csv(balance_sheets, \"cpall_balance_sheet.csv\")\n",
    "print(f\"Exported {len(bs_df)} line items to cpall_balance_sheet.csv\")"
   ]
  },
  {
   "cell_type": "markdown",
   "metadata": {},
   "source": [
    "## Error Handling"
   ]
  },
  {
   "cell_type": "code",
   "execution_count": 10,
   "metadata": {},
   "outputs": [
    {
     "name": "stderr",
     "output_type": "stream",
     "text": [
      "\u001b[32m2025-10-05 21:11:27\u001b[0m | \u001b[1mINFO    \u001b[0m | \u001b[36msettfex.services.set.stock.financial.financial\u001b[0m:\u001b[36m__init__\u001b[0m:\u001b[36m109\u001b[0m | \u001b[1mFinancialService initialized with base_url=https://www.set.or.th\u001b[0m\n",
      "\u001b[32m2025-10-05 21:11:27\u001b[0m | \u001b[1mINFO    \u001b[0m | \u001b[36msettfex.services.set.stock.financial.financial\u001b[0m:\u001b[36m_fetch_financial_data\u001b[0m:\u001b[36m150\u001b[0m | \u001b[1mFetching balance_sheet for symbol 'PTT' (lang=en) from https://www.set.or.th/api/set/factsheet/PTT/financialstatement?accountType=balance_sheet&lang=en\u001b[0m\n",
      "\u001b[32m2025-10-05 21:11:27\u001b[0m | \u001b[1mINFO    \u001b[0m | \u001b[36msettfex.utils.data_fetcher\u001b[0m:\u001b[36m__init__\u001b[0m:\u001b[36m113\u001b[0m | \u001b[1mAsyncDataFetcher initialized with browser=chrome120, timeout=30s, rate_limit=0.0s\u001b[0m\n",
      "\u001b[32m2025-10-05 21:11:27\u001b[0m | \u001b[1mINFO    \u001b[0m | \u001b[36msettfex.utils.data_fetcher\u001b[0m:\u001b[36mfetch\u001b[0m:\u001b[36m303\u001b[0m | \u001b[1mFetch successful: url=https://www.set.or.th/api/set/factsheet/PTT/financialstatement?accountType=balance_sheet&lang=en, status=200, elapsed=0.01s, size=17569 bytes\u001b[0m\n",
      "\u001b[32m2025-10-05 21:11:27\u001b[0m | \u001b[1mINFO    \u001b[0m | \u001b[36msettfex.services.set.stock.financial.financial\u001b[0m:\u001b[36m_fetch_financial_data\u001b[0m:\u001b[36m184\u001b[0m | \u001b[1mSuccessfully fetched 5 balance_sheet statements for PTT\u001b[0m\n",
      "\u001b[32m2025-10-05 21:11:27\u001b[0m | \u001b[1mINFO    \u001b[0m | \u001b[36msettfex.services.set.stock.financial.financial\u001b[0m:\u001b[36mfetch_balance_sheet\u001b[0m:\u001b[36m217\u001b[0m | \u001b[1mParsed 5 balance sheet statements for PTT\u001b[0m\n",
      "\u001b[32m2025-10-05 21:11:27\u001b[0m | \u001b[1mINFO    \u001b[0m | \u001b[36msettfex.services.set.stock.financial.financial\u001b[0m:\u001b[36m__init__\u001b[0m:\u001b[36m109\u001b[0m | \u001b[1mFinancialService initialized with base_url=https://www.set.or.th\u001b[0m\n",
      "\u001b[32m2025-10-05 21:11:27\u001b[0m | \u001b[1mINFO    \u001b[0m | \u001b[36msettfex.services.set.stock.financial.financial\u001b[0m:\u001b[36m_fetch_financial_data\u001b[0m:\u001b[36m150\u001b[0m | \u001b[1mFetching income_statement for symbol 'PTT' (lang=en) from https://www.set.or.th/api/set/factsheet/PTT/financialstatement?accountType=income_statement&lang=en\u001b[0m\n",
      "\u001b[32m2025-10-05 21:11:27\u001b[0m | \u001b[1mINFO    \u001b[0m | \u001b[36msettfex.utils.data_fetcher\u001b[0m:\u001b[36m__init__\u001b[0m:\u001b[36m113\u001b[0m | \u001b[1mAsyncDataFetcher initialized with browser=chrome120, timeout=30s, rate_limit=0.0s\u001b[0m\n",
      "\u001b[32m2025-10-05 21:11:27\u001b[0m | \u001b[1mINFO    \u001b[0m | \u001b[36msettfex.utils.data_fetcher\u001b[0m:\u001b[36mfetch\u001b[0m:\u001b[36m303\u001b[0m | \u001b[1mFetch successful: url=https://www.set.or.th/api/set/factsheet/PTT/financialstatement?accountType=income_statement&lang=en, status=200, elapsed=0.08s, size=9340 bytes\u001b[0m\n",
      "\u001b[32m2025-10-05 21:11:27\u001b[0m | \u001b[1mINFO    \u001b[0m | \u001b[36msettfex.services.set.stock.financial.financial\u001b[0m:\u001b[36m_fetch_financial_data\u001b[0m:\u001b[36m184\u001b[0m | \u001b[1mSuccessfully fetched 5 income_statement statements for PTT\u001b[0m\n",
      "\u001b[32m2025-10-05 21:11:27\u001b[0m | \u001b[1mINFO    \u001b[0m | \u001b[36msettfex.services.set.stock.financial.financial\u001b[0m:\u001b[36mfetch_income_statement\u001b[0m:\u001b[36m275\u001b[0m | \u001b[1mParsed 5 income statement statements for PTT\u001b[0m\n",
      "\u001b[32m2025-10-05 21:11:27\u001b[0m | \u001b[1mINFO    \u001b[0m | \u001b[36msettfex.services.set.stock.financial.financial\u001b[0m:\u001b[36m__init__\u001b[0m:\u001b[36m109\u001b[0m | \u001b[1mFinancialService initialized with base_url=https://www.set.or.th\u001b[0m\n",
      "\u001b[32m2025-10-05 21:11:27\u001b[0m | \u001b[1mINFO    \u001b[0m | \u001b[36msettfex.services.set.stock.financial.financial\u001b[0m:\u001b[36m_fetch_financial_data\u001b[0m:\u001b[36m150\u001b[0m | \u001b[1mFetching cash_flow for symbol 'PTT' (lang=en) from https://www.set.or.th/api/set/factsheet/PTT/financialstatement?accountType=cash_flow&lang=en\u001b[0m\n",
      "\u001b[32m2025-10-05 21:11:27\u001b[0m | \u001b[1mINFO    \u001b[0m | \u001b[36msettfex.utils.data_fetcher\u001b[0m:\u001b[36m__init__\u001b[0m:\u001b[36m113\u001b[0m | \u001b[1mAsyncDataFetcher initialized with browser=chrome120, timeout=30s, rate_limit=0.0s\u001b[0m\n",
      "\u001b[32m2025-10-05 21:11:27\u001b[0m | \u001b[1mINFO    \u001b[0m | \u001b[36msettfex.utils.data_fetcher\u001b[0m:\u001b[36mfetch\u001b[0m:\u001b[36m303\u001b[0m | \u001b[1mFetch successful: url=https://www.set.or.th/api/set/factsheet/PTT/financialstatement?accountType=cash_flow&lang=en, status=200, elapsed=0.01s, size=4701 bytes\u001b[0m\n",
      "\u001b[32m2025-10-05 21:11:27\u001b[0m | \u001b[1mINFO    \u001b[0m | \u001b[36msettfex.services.set.stock.financial.financial\u001b[0m:\u001b[36m_fetch_financial_data\u001b[0m:\u001b[36m184\u001b[0m | \u001b[1mSuccessfully fetched 5 cash_flow statements for PTT\u001b[0m\n",
      "\u001b[32m2025-10-05 21:11:27\u001b[0m | \u001b[1mINFO    \u001b[0m | \u001b[36msettfex.services.set.stock.financial.financial\u001b[0m:\u001b[36mfetch_cash_flow\u001b[0m:\u001b[36m331\u001b[0m | \u001b[1mParsed 5 cash flow statements for PTT\u001b[0m\n"
     ]
    },
    {
     "name": "stdout",
     "output_type": "stream",
     "text": [
      "✓ PTT: 5 balance sheets, 5 income statements, 5 cash flows\n"
     ]
    },
    {
     "data": {
      "text/plain": [
       "([BalanceSheet(symbol='PTT', quarter='6M', year=2025, begin_date=datetime.datetime(2025, 1, 1, 0, 0, tzinfo=TzInfo(+07:00)), end_date=datetime.datetime(2025, 6, 30, 0, 0, tzinfo=TzInfo(+07:00)), fs_type='C', account_form_id='6', download_url='https://weblink.set.or.th/dat/news/202508/0646FIN130820251700560793E.zip', fs_type_description='Consolidate', status='Reviewed', is_fs_comp=False, has_adjusted_account=False, accounts=[Account(account_code='601', account_name='Cash And Cash Equivalents', amount=364342523.702, adjusted=False, level=0, divider=1000, format=''), Account(account_code='602', account_name='A/R Net', amount=284969544.256, adjusted=False, level=0, divider=1000, format=''), Account(account_code='603', account_name='Inventories', amount=224078240.167, adjusted=False, level=0, divider=1000, format=''), Account(account_code='604', account_name='Current Assets', amount=949285773.132, adjusted=False, level=0, divider=1000, format=''), Account(account_code='605', account_name='PP&E Net', amount=1514845204.893, adjusted=False, level=0, divider=1000, format=''), Account(account_code='606', account_name='Non-Current Assets', amount=2362733283.099, adjusted=False, level=0, divider=1000, format=''), Account(account_code='607', account_name='Total Assets', amount=3312019056.231, adjusted=False, level=-1, divider=1000, format='BU'), Account(account_code='608', account_name='OD', amount=113790072.68, adjusted=False, level=0, divider=1000, format=''), Account(account_code='609', account_name='A/P Net', amount=261324484.633, adjusted=False, level=0, divider=1000, format=''), Account(account_code='610', account_name='Current portion of LT', amount=56936137.186, adjusted=False, level=0, divider=1000, format=''), Account(account_code='611', account_name='Current Liabilities', amount=506883076.712, adjusted=False, level=0, divider=1000, format=''), Account(account_code='612', account_name='Non-Current Liabilities', amount=1166928216.74, adjusted=False, level=0, divider=1000, format=''), Account(account_code='613', account_name='Total Liabilities', amount=1673811293.452, adjusted=False, level=-1, divider=1000, format='BU'), Account(account_code='614', account_name='Authorized Capital', amount=28562996.25, adjusted=False, level=0, divider=1000, format=''), Account(account_code='615', account_name='Paid-Up Capital', amount=28562996.25, adjusted=False, level=0, divider=1000, format=''), Account(account_code='616', account_name='Premium (Discount) on Share Capital', amount=29211131.966, adjusted=False, level=0, divider=1000, format=''), Account(account_code='617', account_name='Retained Earnings (Deficit)', amount=1047276289.013, adjusted=False, level=0, divider=1000, format=''), Account(account_code='618', account_name='Treasury Stock', amount=6289616.904, adjusted=False, level=0, divider=1000, format=''), Account(account_code='619', account_name='Shares Of The Company Held By Subsidiaries', amount=None, adjusted=False, level=0, divider=1000, format=''), Account(account_code='620', account_name='Other Components Of Equity', amount=34049560.394, adjusted=False, level=0, divider=1000, format=''), Account(account_code='621', account_name='- Surplus (Deficits)', amount=40385119.952, adjusted=False, level=1, divider=1000, format=''), Account(account_code='622', account_name=\"Shareholders' Equity\", amount=1132810360.719, adjusted=False, level=-1, divider=1000, format='BU'), Account(account_code='623', account_name='Minority Interest', amount=505397402.06, adjusted=False, level=0, divider=1000, format='')], is_restatement=False, restatement_date=None),\n",
       "  BalanceSheet(symbol='PTT', quarter='6M', year=2024, begin_date=datetime.datetime(2024, 1, 1, 0, 0, tzinfo=TzInfo(+07:00)), end_date=datetime.datetime(2024, 6, 30, 0, 0, tzinfo=TzInfo(+07:00)), fs_type='C', account_form_id='6', download_url='https://weblink.set.or.th/dat/news/202408/0646FIN090820241558500497E.zip', fs_type_description='Consolidate', status='Reviewed', is_fs_comp=False, has_adjusted_account=False, accounts=[Account(account_code='601', account_name='Cash And Cash Equivalents', amount=423017658.149, adjusted=False, level=0, divider=1000, format=''), Account(account_code='602', account_name='A/R Net', amount=361282125.177, adjusted=False, level=0, divider=1000, format=''), Account(account_code='603', account_name='Inventories', amount=297798593.406, adjusted=False, level=0, divider=1000, format=''), Account(account_code='604', account_name='Current Assets', amount=1133446399.17, adjusted=False, level=0, divider=1000, format=''), Account(account_code='605', account_name='PP&E Net', amount=1561002418.624, adjusted=False, level=0, divider=1000, format=''), Account(account_code='606', account_name='Non-Current Assets', amount=2484970360.621, adjusted=False, level=0, divider=1000, format=''), Account(account_code='607', account_name='Total Assets', amount=3618416759.791, adjusted=False, level=-1, divider=1000, format='BU'), Account(account_code='608', account_name='OD', amount=115437980.482, adjusted=False, level=0, divider=1000, format=''), Account(account_code='609', account_name='A/P Net', amount=355981457.367, adjusted=False, level=0, divider=1000, format=''), Account(account_code='610', account_name='Current portion of LT', amount=99180291.55, adjusted=False, level=0, divider=1000, format=''), Account(account_code='611', account_name='Current Liabilities', amount=644559438.528, adjusted=False, level=0, divider=1000, format=''), Account(account_code='612', account_name='Non-Current Liabilities', amount=1256766639.695, adjusted=False, level=0, divider=1000, format=''), Account(account_code='613', account_name='Total Liabilities', amount=1901326078.223, adjusted=False, level=-1, divider=1000, format='BU'), Account(account_code='614', account_name='Authorized Capital', amount=28562996.25, adjusted=False, level=0, divider=1000, format=''), Account(account_code='615', account_name='Paid-Up Capital', amount=28562996.25, adjusted=False, level=0, divider=1000, format=''), Account(account_code='616', account_name='Premium (Discount) on Share Capital', amount=29211131.966, adjusted=False, level=0, divider=1000, format=''), Account(account_code='617', account_name='Retained Earnings (Deficit)', amount=1037759121.38, adjusted=False, level=0, divider=1000, format=''), Account(account_code='618', account_name='Treasury Stock', amount=None, adjusted=False, level=0, divider=1000, format=''), Account(account_code='619', account_name='Shares Of The Company Held By Subsidiaries', amount=None, adjusted=False, level=0, divider=1000, format=''), Account(account_code='620', account_name='Other Components Of Equity', amount=87464928.567, adjusted=False, level=0, divider=1000, format=''), Account(account_code='621', account_name='- Surplus (Deficits)', amount=36144619.474, adjusted=False, level=1, divider=1000, format=''), Account(account_code='622', account_name=\"Shareholders' Equity\", amount=1182998178.163, adjusted=False, level=-1, divider=1000, format='BU'), Account(account_code='623', account_name='Minority Interest', amount=534092503.405, adjusted=False, level=0, divider=1000, format='')], is_restatement=False, restatement_date=None),\n",
       "  BalanceSheet(symbol='PTT', quarter='Q9', year=2024, begin_date=datetime.datetime(2024, 1, 1, 0, 0, tzinfo=TzInfo(+07:00)), end_date=datetime.datetime(2024, 12, 31, 0, 0, tzinfo=TzInfo(+07:00)), fs_type='C', account_form_id='6', download_url='https://weblink.set.or.th/dat/news/202502/0646FIN200220251847550883E.zip', fs_type_description='Consolidate', status='Audited', is_fs_comp=False, has_adjusted_account=False, accounts=[Account(account_code='601', account_name='Cash And Cash Equivalents', amount=405138726.787, adjusted=False, level=0, divider=1000, format=''), Account(account_code='602', account_name='A/R Net', amount=314159372.793, adjusted=False, level=0, divider=1000, format=''), Account(account_code='603', account_name='Inventories', amount=241538815.334, adjusted=False, level=0, divider=1000, format=''), Account(account_code='604', account_name='Current Assets', amount=1029735751.311, adjusted=False, level=0, divider=1000, format=''), Account(account_code='605', account_name='PP&E Net', amount=1534657527.441, adjusted=False, level=0, divider=1000, format=''), Account(account_code='606', account_name='Non-Current Assets', amount=2409048525.026, adjusted=False, level=0, divider=1000, format=''), Account(account_code='607', account_name='Total Assets', amount=3438784276.337, adjusted=False, level=-1, divider=1000, format='BU'), Account(account_code='608', account_name='OD', amount=102774110.123, adjusted=False, level=0, divider=1000, format=''), Account(account_code='609', account_name='A/P Net', amount=307659618.512, adjusted=False, level=0, divider=1000, format=''), Account(account_code='610', account_name='Current portion of LT', amount=77280763.479, adjusted=False, level=0, divider=1000, format=''), Account(account_code='611', account_name='Current Liabilities', amount=569088232.429, adjusted=False, level=0, divider=1000, format=''), Account(account_code='612', account_name='Non-Current Liabilities', amount=1212818959.249, adjusted=False, level=0, divider=1000, format=''), Account(account_code='613', account_name='Total Liabilities', amount=1781907191.678, adjusted=False, level=-1, divider=1000, format='BU'), Account(account_code='614', account_name='Authorized Capital', amount=28562996.25, adjusted=False, level=0, divider=1000, format=''), Account(account_code='615', account_name='Paid-Up Capital', amount=28562996.25, adjusted=False, level=0, divider=1000, format=''), Account(account_code='616', account_name='Premium (Discount) on Share Capital', amount=29211131.966, adjusted=False, level=0, divider=1000, format=''), Account(account_code='617', account_name='Retained Earnings (Deficit)', amount=1039837795.744, adjusted=False, level=0, divider=1000, format=''), Account(account_code='618', account_name='Treasury Stock', amount=None, adjusted=False, level=0, divider=1000, format=''), Account(account_code='619', account_name='Shares Of The Company Held By Subsidiaries', amount=None, adjusted=False, level=0, divider=1000, format=''), Account(account_code='620', account_name='Other Components Of Equity', amount=52040247.291, adjusted=False, level=0, divider=1000, format=''), Account(account_code='621', account_name='- Surplus (Deficits)', amount=41009841.135, adjusted=False, level=1, divider=1000, format=''), Account(account_code='622', account_name=\"Shareholders' Equity\", amount=1149652171.251, adjusted=False, level=-1, divider=1000, format='BU'), Account(account_code='623', account_name='Minority Interest', amount=507224913.408, adjusted=False, level=0, divider=1000, format='')], is_restatement=False, restatement_date=None),\n",
       "  BalanceSheet(symbol='PTT', quarter='Q9', year=2023, begin_date=datetime.datetime(2023, 1, 1, 0, 0, tzinfo=TzInfo(+07:00)), end_date=datetime.datetime(2023, 12, 31, 0, 0, tzinfo=TzInfo(+07:00)), fs_type='C', account_form_id='6', download_url='https://weblink.set.or.th/dat/news/202402/0646FIN150220241928510276E.zip', fs_type_description='Consolidate', status='Audited', is_fs_comp=False, has_adjusted_account=False, accounts=[Account(account_code='601', account_name='Cash And Cash Equivalents', amount=417133806.03, adjusted=False, level=0, divider=1000, format=''), Account(account_code='602', account_name='A/R Net', amount=337238029.645, adjusted=False, level=0, divider=1000, format=''), Account(account_code='603', account_name='Inventories', amount=263498628.446, adjusted=False, level=0, divider=1000, format=''), Account(account_code='604', account_name='Current Assets', amount=1081738737.733, adjusted=False, level=0, divider=1000, format=''), Account(account_code='605', account_name='PP&E Net', amount=1541209163.515, adjusted=False, level=0, divider=1000, format=''), Account(account_code='606', account_name='Non-Current Assets', amount=2378723158.627, adjusted=False, level=0, divider=1000, format=''), Account(account_code='607', account_name='Total Assets', amount=3460461896.36, adjusted=False, level=-1, divider=1000, format='BU'), Account(account_code='608', account_name='OD', amount=96511469.339, adjusted=False, level=0, divider=1000, format=''), Account(account_code='609', account_name='A/P Net', amount=323481883.774, adjusted=False, level=0, divider=1000, format=''), Account(account_code='610', account_name='Current portion of LT', amount=97399050.676, adjusted=False, level=0, divider=1000, format=''), Account(account_code='611', account_name='Current Liabilities', amount=588709757.976, adjusted=False, level=0, divider=1000, format=''), Account(account_code='612', account_name='Non-Current Liabilities', amount=1246776733.315, adjusted=False, level=0, divider=1000, format=''), Account(account_code='613', account_name='Total Liabilities', amount=1835486491.291, adjusted=False, level=-1, divider=1000, format='BU'), Account(account_code='614', account_name='Authorized Capital', amount=28562996.25, adjusted=False, level=0, divider=1000, format=''), Account(account_code='615', account_name='Paid-Up Capital', amount=28562996.25, adjusted=False, level=0, divider=1000, format=''), Account(account_code='616', account_name='Premium (Discount) on Share Capital', amount=29211131.966, adjusted=False, level=0, divider=1000, format=''), Account(account_code='617', account_name='Retained Earnings (Deficit)', amount=1007565983.581, adjusted=False, level=0, divider=1000, format=''), Account(account_code='618', account_name='Treasury Stock', amount=None, adjusted=False, level=0, divider=1000, format=''), Account(account_code='619', account_name='Shares Of The Company Held By Subsidiaries', amount=None, adjusted=False, level=0, divider=1000, format=''), Account(account_code='620', account_name='Other Components Of Equity', amount=55857773.013, adjusted=False, level=0, divider=1000, format=''), Account(account_code='621', account_name='- Surplus (Deficits)', amount=39461080.386, adjusted=False, level=1, divider=1000, format=''), Account(account_code='622', account_name=\"Shareholders' Equity\", amount=1121197884.81, adjusted=False, level=-1, divider=1000, format='BU'), Account(account_code='623', account_name='Minority Interest', amount=503777520.259, adjusted=False, level=0, divider=1000, format='')], is_restatement=False, restatement_date=None),\n",
       "  BalanceSheet(symbol='PTT', quarter='Q9', year=2022, begin_date=datetime.datetime(2022, 1, 1, 0, 0, tzinfo=TzInfo(+07:00)), end_date=datetime.datetime(2022, 12, 31, 0, 0, tzinfo=TzInfo(+07:00)), fs_type='C', account_form_id='6', download_url='https://weblink.set.or.th/dat/news/202302/23016208.zip', fs_type_description='Consolidate', status='Audited', is_fs_comp=False, has_adjusted_account=False, accounts=[Account(account_code='601', account_name='Cash And Cash Equivalents', amount=340054258.218, adjusted=False, level=0, divider=1000, format=''), Account(account_code='602', account_name='A/R Net', amount=361320227.943, adjusted=False, level=0, divider=1000, format=''), Account(account_code='603', account_name='Inventories', amount=271854134.983, adjusted=False, level=0, divider=1000, format=''), Account(account_code='604', account_name='Current Assets', amount=1040862831.828, adjusted=False, level=0, divider=1000, format=''), Account(account_code='605', account_name='PP&E Net', amount=1499329679.429, adjusted=False, level=0, divider=1000, format=''), Account(account_code='606', account_name='Non-Current Assets', amount=2374769460.078, adjusted=False, level=0, divider=1000, format=''), Account(account_code='607', account_name='Total Assets', amount=3415632291.906, adjusted=False, level=-1, divider=1000, format='BU'), Account(account_code='608', account_name='OD', amount=90757365.238, adjusted=False, level=0, divider=1000, format=''), Account(account_code='609', account_name='A/P Net', amount=318688362.955, adjusted=False, level=0, divider=1000, format=''), Account(account_code='610', account_name='Current portion of LT', amount=73237306.068, adjusted=False, level=0, divider=1000, format=''), Account(account_code='611', account_name='Current Liabilities', amount=592540400.174, adjusted=False, level=0, divider=1000, format=''), Account(account_code='612', account_name='Non-Current Liabilities', amount=1289399126.799, adjusted=False, level=0, divider=1000, format=''), Account(account_code='613', account_name='Total Liabilities', amount=1881939526.973, adjusted=False, level=-1, divider=1000, format='BU'), Account(account_code='614', account_name='Authorized Capital', amount=28562996.25, adjusted=False, level=0, divider=1000, format=''), Account(account_code='615', account_name='Paid-Up Capital', amount=28562996.25, adjusted=False, level=0, divider=1000, format=''), Account(account_code='616', account_name='Premium (Discount) on Share Capital', amount=29211131.966, adjusted=False, level=0, divider=1000, format=''), Account(account_code='617', account_name='Retained Earnings (Deficit)', amount=961317645.604, adjusted=False, level=0, divider=1000, format=''), Account(account_code='618', account_name='Treasury Stock', amount=None, adjusted=False, level=0, divider=1000, format=''), Account(account_code='619', account_name='Shares Of The Company Held By Subsidiaries', amount=None, adjusted=False, level=0, divider=1000, format=''), Account(account_code='620', account_name='Other Components Of Equity', amount=33499103.965, adjusted=False, level=0, divider=1000, format=''), Account(account_code='621', account_name='- Surplus (Deficits)', amount=10068142.437, adjusted=False, level=1, divider=1000, format=''), Account(account_code='622', account_name=\"Shareholders' Equity\", amount=1052590877.785, adjusted=False, level=-1, divider=1000, format='BU'), Account(account_code='623', account_name='Minority Interest', amount=481101887.148, adjusted=False, level=0, divider=1000, format='')], is_restatement=False, restatement_date=None)],\n",
       " [IncomeStatement(symbol='PTT', quarter='6M', year=2025, begin_date=datetime.datetime(2025, 1, 1, 0, 0, tzinfo=TzInfo(+07:00)), end_date=datetime.datetime(2025, 6, 30, 0, 0, tzinfo=TzInfo(+07:00)), fs_type='C', account_form_id='6', download_url='https://weblink.set.or.th/dat/news/202508/0646FIN130820251700560793E.zip', fs_type_description='Consolidate', status='Reviewed', is_fs_comp=False, has_adjusted_account=False, accounts=[Account(account_code='624', account_name='Revenue From Operations', amount=1376977161.492, adjusted=False, level=0, divider=1000, format=''), Account(account_code='625', account_name='Other Income', amount=20312613.731, adjusted=False, level=0, divider=1000, format=''), Account(account_code='626', account_name='Total Revenues', amount=1397289775.223, adjusted=False, level=-1, divider=1000, format='BU'), Account(account_code='627', account_name='Costs', amount=1239479303.049, adjusted=False, level=0, divider=1000, format=''), Account(account_code='628', account_name='Selling And Administrative Expenses', amount=57820531.656, adjusted=False, level=0, divider=1000, format=''), Account(account_code='629', account_name='Total Cost And Expenses', amount=1303463979.788, adjusted=False, level=-1, divider=1000, format='BU'), Account(account_code='630', account_name='EBITDA', amount=206712235.862, adjusted=False, level=0, divider=1000, format=''), Account(account_code='631', account_name='Depre. & Amor.', amount=93148972.444, adjusted=False, level=0, divider=1000, format=''), Account(account_code='632', account_name='EBIT', amount=113563263.418, adjusted=False, level=0, divider=1000, format=''), Account(account_code='633', account_name='Net Profit  : Owners Of The Parent', amount=44848370.516, adjusted=False, level=-1, divider=1000, format='BU'), Account(account_code='634', account_name='EPS (B.)', amount=1.57, adjusted=False, level=0, divider=1, format='')], is_restatement=False, restatement_date=None),\n",
       "  IncomeStatement(symbol='PTT', quarter='6M', year=2024, begin_date=datetime.datetime(2024, 1, 1, 0, 0, tzinfo=TzInfo(+07:00)), end_date=datetime.datetime(2024, 6, 30, 0, 0, tzinfo=TzInfo(+07:00)), fs_type='C', account_form_id='6', download_url='https://weblink.set.or.th/dat/news/202408/0646FIN090820241558500497E.zip', fs_type_description='Consolidate', status='Reviewed', is_fs_comp=False, has_adjusted_account=False, accounts=[Account(account_code='624', account_name='Revenue From Operations', amount=1604221603.222, adjusted=False, level=0, divider=1000, format=''), Account(account_code='625', account_name='Other Income', amount=29938756.556, adjusted=False, level=0, divider=1000, format=''), Account(account_code='626', account_name='Total Revenues', amount=1634160359.778, adjusted=False, level=-1, divider=1000, format='BU'), Account(account_code='627', account_name='Costs', amount=1402202947.301, adjusted=False, level=0, divider=1000, format=''), Account(account_code='628', account_name='Selling And Administrative Expenses', amount=60719109.439, adjusted=False, level=0, divider=1000, format=''), Account(account_code='629', account_name='Total Cost And Expenses', amount=1470453441.613, adjusted=False, level=-1, divider=1000, format='BU'), Account(account_code='630', account_name='EBITDA', amount=248819752.168, adjusted=False, level=0, divider=1000, format=''), Account(account_code='631', account_name='Depre. & Amor.', amount=95998224.873, adjusted=False, level=0, divider=1000, format=''), Account(account_code='632', account_name='EBIT', amount=152821527.295, adjusted=False, level=0, divider=1000, format=''), Account(account_code='633', account_name='Net Profit  : Owners Of The Parent', amount=64436892.186, adjusted=False, level=-1, divider=1000, format='BU'), Account(account_code='634', account_name='EPS (B.)', amount=2.26, adjusted=False, level=0, divider=1, format='')], is_restatement=False, restatement_date=None),\n",
       "  IncomeStatement(symbol='PTT', quarter='Q9', year=2024, begin_date=datetime.datetime(2024, 1, 1, 0, 0, tzinfo=TzInfo(+07:00)), end_date=datetime.datetime(2024, 12, 31, 0, 0, tzinfo=TzInfo(+07:00)), fs_type='C', account_form_id='6', download_url='https://weblink.set.or.th/dat/news/202502/0646FIN200220251847550883E.zip', fs_type_description='Consolidate', status='Audited', is_fs_comp=False, has_adjusted_account=False, accounts=[Account(account_code='624', account_name='Revenue From Operations', amount=3090453391.18, adjusted=False, level=0, divider=1000, format=''), Account(account_code='625', account_name='Other Income', amount=47924622.893, adjusted=False, level=0, divider=1000, format=''), Account(account_code='626', account_name='Total Revenues', amount=3138378014.073, adjusted=False, level=-1, divider=1000, format='BU'), Account(account_code='627', account_name='Costs', amount=2755319565.107, adjusted=False, level=0, divider=1000, format=''), Account(account_code='628', account_name='Selling And Administrative Expenses', amount=143181715.327, adjusted=False, level=0, divider=1000, format=''), Account(account_code='629', account_name='Total Cost And Expenses', amount=2912513842.136, adjusted=False, level=-1, divider=1000, format='BU'), Account(account_code='630', account_name='EBITDA', amount=416778807.072, adjusted=False, level=0, divider=1000, format=''), Account(account_code='631', account_name='Depre. & Amor.', amount=189280323.212, adjusted=False, level=0, divider=1000, format=''), Account(account_code='632', account_name='EBIT', amount=227498483.86, adjusted=False, level=0, divider=1000, format=''), Account(account_code='633', account_name='Net Profit  : Owners Of The Parent', amount=90072026.202, adjusted=False, level=-1, divider=1000, format='BU'), Account(account_code='634', account_name='EPS (B.)', amount=3.15345, adjusted=False, level=0, divider=1, format='')], is_restatement=False, restatement_date=None),\n",
       "  IncomeStatement(symbol='PTT', quarter='Q9', year=2023, begin_date=datetime.datetime(2023, 1, 1, 0, 0, tzinfo=TzInfo(+07:00)), end_date=datetime.datetime(2023, 12, 31, 0, 0, tzinfo=TzInfo(+07:00)), fs_type='C', account_form_id='6', download_url='https://weblink.set.or.th/dat/news/202402/0646FIN150220241928510276E.zip', fs_type_description='Consolidate', status='Audited', is_fs_comp=False, has_adjusted_account=False, accounts=[Account(account_code='624', account_name='Revenue From Operations', amount=3144550828.528, adjusted=False, level=0, divider=1000, format=''), Account(account_code='625', account_name='Other Income', amount=40705246.648, adjusted=False, level=0, divider=1000, format=''), Account(account_code='626', account_name='Total Revenues', amount=3185256075.176, adjusted=False, level=-1, divider=1000, format='BU'), Account(account_code='627', account_name='Costs', amount=2767102233.563, adjusted=False, level=0, divider=1000, format=''), Account(account_code='628', account_name='Selling And Administrative Expenses', amount=132293156.76, adjusted=False, level=0, divider=1000, format=''), Account(account_code='629', account_name='Total Cost And Expenses', amount=2915382691.237, adjusted=False, level=-1, divider=1000, format='BU'), Account(account_code='630', account_name='EBITDA', amount=457112359.342, adjusted=False, level=0, divider=1000, format=''), Account(account_code='631', account_name='Depre. & Amor.', amount=175135567.355, adjusted=False, level=0, divider=1000, format=''), Account(account_code='632', account_name='EBIT', amount=281976791.987, adjusted=False, level=0, divider=1000, format=''), Account(account_code='633', account_name='Net Profit  : Owners Of The Parent', amount=112023880.947, adjusted=False, level=-1, divider=1000, format='BU'), Account(account_code='634', account_name='EPS (B.)', amount=3.92, adjusted=False, level=0, divider=1, format='')], is_restatement=False, restatement_date=None),\n",
       "  IncomeStatement(symbol='PTT', quarter='Q9', year=2022, begin_date=datetime.datetime(2022, 1, 1, 0, 0, tzinfo=TzInfo(+07:00)), end_date=datetime.datetime(2022, 12, 31, 0, 0, tzinfo=TzInfo(+07:00)), fs_type='C', account_form_id='6', download_url='https://weblink.set.or.th/dat/news/202302/23016208.zip', fs_type_description='Consolidate', status='Audited', is_fs_comp=False, has_adjusted_account=False, accounts=[Account(account_code='624', account_name='Revenue From Operations', amount=3367202701.454, adjusted=False, level=0, divider=1000, format=''), Account(account_code='625', account_name='Other Income', amount=24420164.771, adjusted=False, level=0, divider=1000, format=''), Account(account_code='626', account_name='Total Revenues', amount=3391622866.225, adjusted=False, level=-1, divider=1000, format='BU'), Account(account_code='627', account_name='Costs', amount=2906725865.808, adjusted=False, level=0, divider=1000, format=''), Account(account_code='628', account_name='Selling And Administrative Expenses', amount=144227229.66, adjusted=False, level=0, divider=1000, format=''), Account(account_code='629', account_name='Total Cost And Expenses', amount=3078457512.984, adjusted=False, level=-1, divider=1000, format='BU'), Account(account_code='630', account_name='EBITDA', amount=418160764.653, adjusted=False, level=0, divider=1000, format=''), Account(account_code='631', account_name='Depre. & Amor.', amount=168507875.459, adjusted=False, level=0, divider=1000, format=''), Account(account_code='632', account_name='EBIT', amount=249652889.194, adjusted=False, level=0, divider=1000, format=''), Account(account_code='633', account_name='Net Profit  : Owners Of The Parent', amount=91174857.528, adjusted=False, level=-1, divider=1000, format='BU'), Account(account_code='634', account_name='EPS (B.)', amount=3.2, adjusted=False, level=0, divider=1, format='')], is_restatement=False, restatement_date=None)],\n",
       " [CashFlow(symbol='PTT', quarter='6M', year=2025, begin_date=datetime.datetime(2025, 1, 1, 0, 0, tzinfo=TzInfo(+07:00)), end_date=datetime.datetime(2025, 6, 30, 0, 0, tzinfo=TzInfo(+07:00)), fs_type='C', account_form_id='6', download_url='https://weblink.set.or.th/dat/news/202508/0646FIN130820251700560793E.zip', fs_type_description='Consolidate', status='Reviewed', is_fs_comp=False, has_adjusted_account=False, accounts=[Account(account_code='635', account_name='Operating Cash Flow', amount=131291423.098, adjusted=False, level=0, divider=1000, format=''), Account(account_code='636', account_name='Investing Cash Flow', amount=-37420948.66, adjusted=False, level=0, divider=1000, format=''), Account(account_code='637', account_name='Financing Cash Flow', amount=-134735182.791, adjusted=False, level=0, divider=1000, format=''), Account(account_code='638', account_name='Net Cash Flow', amount=-40864708.353, adjusted=False, level=-1, divider=1000, format='BU')], is_restatement=False, restatement_date=None),\n",
       "  CashFlow(symbol='PTT', quarter='6M', year=2024, begin_date=datetime.datetime(2024, 1, 1, 0, 0, tzinfo=TzInfo(+07:00)), end_date=datetime.datetime(2024, 6, 30, 0, 0, tzinfo=TzInfo(+07:00)), fs_type='C', account_form_id='6', download_url='https://weblink.set.or.th/dat/news/202408/0646FIN090820241558500497E.zip', fs_type_description='Consolidate', status='Reviewed', is_fs_comp=False, has_adjusted_account=False, accounts=[Account(account_code='635', account_name='Operating Cash Flow', amount=172197692.012, adjusted=False, level=0, divider=1000, format=''), Account(account_code='636', account_name='Investing Cash Flow', amount=-89823277.37, adjusted=False, level=0, divider=1000, format=''), Account(account_code='637', account_name='Financing Cash Flow', amount=-95456773.06, adjusted=False, level=0, divider=1000, format=''), Account(account_code='638', account_name='Net Cash Flow', amount=-13082358.418, adjusted=False, level=-1, divider=1000, format='BU')], is_restatement=False, restatement_date=None),\n",
       "  CashFlow(symbol='PTT', quarter='Q9', year=2024, begin_date=datetime.datetime(2024, 1, 1, 0, 0, tzinfo=TzInfo(+07:00)), end_date=datetime.datetime(2024, 12, 31, 0, 0, tzinfo=TzInfo(+07:00)), fs_type='C', account_form_id='6', download_url='https://weblink.set.or.th/dat/news/202502/0646FIN200220251847550883E.zip', fs_type_description='Consolidate', status='Audited', is_fs_comp=False, has_adjusted_account=False, accounts=[Account(account_code='635', account_name='Operating Cash Flow', amount=373239907.059, adjusted=False, level=0, divider=1000, format=''), Account(account_code='636', account_name='Investing Cash Flow', amount=-188763244.52, adjusted=False, level=0, divider=1000, format=''), Account(account_code='637', account_name='Financing Cash Flow', amount=-186410630.347, adjusted=False, level=0, divider=1000, format=''), Account(account_code='638', account_name='Net Cash Flow', amount=-1933967.808, adjusted=False, level=-1, divider=1000, format='BU')], is_restatement=False, restatement_date=None),\n",
       "  CashFlow(symbol='PTT', quarter='Q9', year=2023, begin_date=datetime.datetime(2023, 1, 1, 0, 0, tzinfo=TzInfo(+07:00)), end_date=datetime.datetime(2023, 12, 31, 0, 0, tzinfo=TzInfo(+07:00)), fs_type='C', account_form_id='6', download_url='https://weblink.set.or.th/dat/news/202402/0646FIN150220241928510276E.zip', fs_type_description='Consolidate', status='Audited', is_fs_comp=False, has_adjusted_account=False, accounts=[Account(account_code='635', account_name='Operating Cash Flow', amount=382045163.072, adjusted=False, level=0, divider=1000, format=''), Account(account_code='636', account_name='Investing Cash Flow', amount=-161244755.396, adjusted=False, level=0, divider=1000, format=''), Account(account_code='637', account_name='Financing Cash Flow', amount=-142159218.465, adjusted=False, level=0, divider=1000, format=''), Account(account_code='638', account_name='Net Cash Flow', amount=78641189.211, adjusted=False, level=-1, divider=1000, format='BU')], is_restatement=False, restatement_date=None),\n",
       "  CashFlow(symbol='PTT', quarter='Q9', year=2022, begin_date=datetime.datetime(2022, 1, 1, 0, 0, tzinfo=TzInfo(+07:00)), end_date=datetime.datetime(2022, 12, 31, 0, 0, tzinfo=TzInfo(+07:00)), fs_type='C', account_form_id='6', download_url='https://weblink.set.or.th/dat/news/202302/23016208.zip', fs_type_description='Consolidate', status='Audited', is_fs_comp=False, has_adjusted_account=False, accounts=[Account(account_code='635', account_name='Operating Cash Flow', amount=191699697.886, adjusted=False, level=0, divider=1000, format=''), Account(account_code='636', account_name='Investing Cash Flow', amount=-186690337.652, adjusted=False, level=0, divider=1000, format=''), Account(account_code='637', account_name='Financing Cash Flow', amount=50668471.432, adjusted=False, level=0, divider=1000, format=''), Account(account_code='638', account_name='Net Cash Flow', amount=55677831.666, adjusted=False, level=-1, divider=1000, format='BU')], is_restatement=False, restatement_date=None)])"
      ]
     },
     "execution_count": 10,
     "metadata": {},
     "output_type": "execute_result"
    }
   ],
   "source": [
    "async def safe_get_financials(symbol: str):\n",
    "    try:\n",
    "        bs = await get_balance_sheet(symbol)\n",
    "        income = await get_income_statement(symbol)\n",
    "        cf = await get_cash_flow(symbol)\n",
    "        \n",
    "        print(f\"✓ {symbol}: {len(bs)} balance sheets, {len(income)} income statements, {len(cf)} cash flows\")\n",
    "        return bs, income, cf\n",
    "    except Exception as e:\n",
    "        print(f\"✗ {symbol}: {e}\")\n",
    "        return None, None, None\n",
    "\n",
    "await safe_get_financials(\"PTT\")"
   ]
  },
  {
   "cell_type": "markdown",
   "metadata": {},
   "source": [
    "## Next Steps\n",
    "\n",
    "Now you have mastered all SET services! Consider:\n",
    "\n",
    "1. **Build a complete stock analysis system** combining all services\n",
    "2. **Create automated screening systems** for value/growth stocks\n",
    "3. **Develop portfolio management tools** with real-time data\n",
    "4. **Build financial models** using historical financial data\n",
    "5. **Create dashboards** with matplotlib, plotly, or streamlit\n",
    "\n",
    "### Related Notebooks\n",
    "\n",
    "- **[Stock List](01_stock_list.ipynb)** - Universe definition\n",
    "- **[Highlight Data](02_highlight_data.ipynb)** - Current valuation\n",
    "- **[Price Performance](10_price_performance.ipynb)** - Relative performance\n",
    "- **[Trading Statistics](09_trading_statistics.ipynb)** - Historical trends\n",
    "\n",
    "**Documentation**: `/docs/settfex/services/set/financial.md`"
   ]
  }
 ],
 "metadata": {
  "kernelspec": {
   "display_name": "settfex",
   "language": "python",
   "name": "python3"
  },
  "language_info": {
   "codemirror_mode": {
    "name": "ipython",
    "version": 3
   },
   "file_extension": ".py",
   "mimetype": "text/x-python",
   "name": "python",
   "nbconvert_exporter": "python",
   "pygments_lexer": "ipython3",
   "version": "3.13.5"
  }
 },
 "nbformat": 4,
 "nbformat_minor": 4
}
