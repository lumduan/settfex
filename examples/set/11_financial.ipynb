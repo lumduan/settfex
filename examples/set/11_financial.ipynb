{
 "cells": [
  {
   "cell_type": "markdown",
   "metadata": {},
   "source": [
    "# Financial Service - Balance Sheet, Income, Cash Flow\n",
    "\n",
    "Access comprehensive financial statements for fundamental analysis and valuation."
   ]
  },
  {
   "cell_type": "markdown",
   "metadata": {},
   "source": [
    "## Overview\n",
    "\n",
    "The **Financial Service** provides three types of financial statements:\n",
    "\n",
    "- **Balance Sheet**: Assets, liabilities, equity\n",
    "- **Income Statement**: Revenue, expenses, profit/loss\n",
    "- **Cash Flow Statement**: Operating, investing, financing activities\n",
    "\n",
    "### Features\n",
    "\n",
    "- **Multi-Period Data**: Multiple quarters/years for trend analysis\n",
    "- **Hierarchical Structure**: Account hierarchy with levels (-1 for totals, 0+ for details)\n",
    "- **Audit Status**: Audited, Reviewed, or Unaudited flags\n",
    "- **Thai/English Support**: Financial data in both languages\n",
    "- **Quarter Codes**: Q1-Q4, 6M (half-year), Q9 (full-year)\n",
    "\n",
    "### When to Use\n",
    "\n",
    "- Fundamental analysis and valuation\n",
    "- Financial ratio calculations\n",
    "- Trend analysis (revenue growth, margin improvement)\n",
    "- Credit analysis (debt levels, coverage ratios)\n",
    "- DCF modeling and forecasting"
   ]
  },
  {
   "cell_type": "code",
   "execution_count": null,
   "metadata": {},
   "outputs": [],
   "source": [
    "!pip install settfex"
   ]
  },
  {
   "cell_type": "code",
   "execution_count": null,
   "metadata": {},
   "outputs": [],
   "source": [
    "import asyncio\n",
    "from settfex.services.set import get_balance_sheet, get_income_statement, get_cash_flow\n",
    "import pandas as pd\n",
    "\n",
    "print(\"Libraries imported!\")"
   ]
  },
  {
   "cell_type": "markdown",
   "metadata": {},
   "source": [
    "## Basic Usage - Balance Sheet"
   ]
  },
  {
   "cell_type": "code",
   "execution_count": null,
   "metadata": {},
   "outputs": [],
   "source": [
    "# Fetch balance sheet\n",
    "balance_sheets = await get_balance_sheet(\"CPALL\")\n",
    "\n",
    "print(f\"Balance Sheets for CPALL: {len(balance_sheets)} periods\\n\")\n",
    "\n",
    "# Get latest period\n",
    "latest = balance_sheets[0]\n",
    "print(f\"Latest Period: {latest.quarter} {latest.year}\")\n",
    "print(f\"Status: {latest.status}\")\n",
    "print(f\"Period: {latest.begin_date} to {latest.end_date}\")\n",
    "print(f\"\\nKey Line Items (in thousands THB):\\n\")\n",
    "\n",
    "# Find key accounts (level -1 are totals)\n",
    "key_accounts = [acc for acc in latest.accounts if acc.level == -1]\n",
    "for acc in key_accounts:\n",
    "    print(f\"{acc.account_name:40} {acc.amount:>15,.0f}\")"
   ]
  },
  {
   "cell_type": "markdown",
   "metadata": {},
   "source": [
    "## Basic Usage - Income Statement"
   ]
  },
  {
   "cell_type": "code",
   "execution_count": null,
   "metadata": {},
   "outputs": [],
   "source": [
    "# Fetch income statement\n",
    "income_statements = await get_income_statement(\"CPALL\")\n",
    "\n",
    "latest_income = income_statements[0]\n",
    "print(f\"Income Statement: {latest_income.quarter} {latest_income.year}\\n\")\n",
    "\n",
    "# Find key metrics\n",
    "key_items = [acc for acc in latest_income.accounts if acc.level == -1]\n",
    "for item in key_items:\n",
    "    print(f\"{item.account_name:40} {item.amount:>15,.0f}\")"
   ]
  },
  {
   "cell_type": "markdown",
   "metadata": {},
   "source": [
    "## Basic Usage - Cash Flow"
   ]
  },
  {
   "cell_type": "code",
   "execution_count": null,
   "metadata": {},
   "outputs": [],
   "source": [
    "# Fetch cash flow\n",
    "cash_flows = await get_cash_flow(\"CPALL\")\n",
    "\n",
    "latest_cf = cash_flows[0]\n",
    "print(f\"Cash Flow Statement: {latest_cf.quarter} {latest_cf.year}\\n\")\n",
    "\n",
    "# Find operating, investing, financing cash flows\n",
    "key_cf = [acc for acc in latest_cf.accounts if acc.level == -1]\n",
    "for item in key_cf:\n",
    "    print(f\"{item.account_name:40} {item.amount:>15,.0f}\")"
   ]
  },
  {
   "cell_type": "markdown",
   "metadata": {},
   "source": [
    "## Advanced Usage - Financial Ratio Analysis"
   ]
  },
  {
   "cell_type": "code",
   "execution_count": null,
   "metadata": {},
   "outputs": [],
   "source": [
    "def calculate_financial_ratios(balance_sheet, income_statement):\n",
    "    \"\"\"\n",
    "    Calculate key financial ratios from statements.\n",
    "    \"\"\"\n",
    "    # Helper to find account by name\n",
    "    def find_account(accounts, keywords):\n",
    "        for acc in accounts:\n",
    "            if any(kw.lower() in acc.account_name.lower() for kw in keywords):\n",
    "                return acc.amount\n",
    "        return None\n",
    "    \n",
    "    # Extract key figures\n",
    "    total_assets = find_account(balance_sheet.accounts, [\"Total Assets\"])\n",
    "    total_liabilities = find_account(balance_sheet.accounts, [\"Total Liabilities\"])\n",
    "    total_equity = find_account(balance_sheet.accounts, [\"Total Equity\", \"Shareholders\"])\n",
    "    \n",
    "    net_income = find_account(income_statement.accounts, [\"Net Income\", \"Net Profit\"])\n",
    "    total_revenue = find_account(income_statement.accounts, [\"Total Revenue\", \"Total Income\"])\n",
    "    \n",
    "    ratios = {}\n",
    "    \n",
    "    # Calculate ratios\n",
    "    if total_assets and total_liabilities:\n",
    "        ratios['debt_to_assets'] = (total_liabilities / total_assets) * 100\n",
    "    \n",
    "    if total_assets and total_equity:\n",
    "        ratios['equity_ratio'] = (total_equity / total_assets) * 100\n",
    "    \n",
    "    if total_equity and total_liabilities:\n",
    "        ratios['debt_to_equity'] = (total_liabilities / total_equity) * 100\n",
    "    \n",
    "    if total_revenue and net_income:\n",
    "        ratios['net_profit_margin'] = (net_income / total_revenue) * 100\n",
    "    \n",
    "    if total_assets and net_income:\n",
    "        ratios['roa'] = (net_income / total_assets) * 100\n",
    "    \n",
    "    if total_equity and net_income:\n",
    "        ratios['roe'] = (net_income / total_equity) * 100\n",
    "    \n",
    "    return ratios\n",
    "\n",
    "# Calculate ratios\n",
    "ratios = calculate_financial_ratios(latest, latest_income)\n",
    "\n",
    "print(f\"Financial Ratios for CPALL ({latest.quarter} {latest.year}):\\n\")\n",
    "for ratio_name, value in ratios.items():\n",
    "    print(f\"{ratio_name:25} {value:>8.2f}%\")"
   ]
  },
  {
   "cell_type": "markdown",
   "metadata": {},
   "source": [
    "## Use Case: Trend Analysis"
   ]
  },
  {
   "cell_type": "code",
   "execution_count": null,
   "metadata": {},
   "outputs": [],
   "source": [
    "# Analyze revenue trend\n",
    "def extract_revenue_trend(income_statements):\n",
    "    \"\"\"\n",
    "    Extract revenue across periods.\n",
    "    \"\"\"\n",
    "    trend = []\n",
    "    for stmt in income_statements:\n",
    "        for acc in stmt.accounts:\n",
    "            if \"Total Revenue\" in acc.account_name or \"Total Income\" in acc.account_name:\n",
    "                trend.append({\n",
    "                    \"period\": f\"{stmt.quarter} {stmt.year}\",\n",
    "                    \"revenue\": acc.amount / 1_000_000,  # Convert to millions\n",
    "                    \"year\": stmt.year,\n",
    "                    \"quarter\": stmt.quarter\n",
    "                })\n",
    "                break\n",
    "    return pd.DataFrame(trend)\n",
    "\n",
    "revenue_trend = extract_revenue_trend(income_statements)\n",
    "print(\"Revenue Trend (in millions THB):\\n\")\n",
    "print(revenue_trend.to_string(index=False))\n",
    "\n",
    "# Calculate growth\n",
    "if len(revenue_trend) >= 2:\n",
    "    latest_rev = revenue_trend.iloc[0]['revenue']\n",
    "    prev_rev = revenue_trend.iloc[1]['revenue']\n",
    "    growth = ((latest_rev - prev_rev) / prev_rev) * 100\n",
    "    print(f\"\\nRevenue Growth (QoQ): {growth:+.2f}%\")"
   ]
  },
  {
   "cell_type": "markdown",
   "metadata": {},
   "source": [
    "## Use Case: Comparative Company Analysis"
   ]
  },
  {
   "cell_type": "code",
   "execution_count": null,
   "metadata": {},
   "outputs": [],
   "source": [
    "async def compare_companies(symbols: list[str]):\n",
    "    \"\"\"\n",
    "    Compare financial metrics across companies.\n",
    "    \"\"\"\n",
    "    # Fetch balance sheets and income statements\n",
    "    bs_tasks = [get_balance_sheet(symbol) for symbol in symbols]\n",
    "    is_tasks = [get_income_statement(symbol) for symbol in symbols]\n",
    "    \n",
    "    balance_sheets = await asyncio.gather(*bs_tasks, return_exceptions=True)\n",
    "    income_stmts = await asyncio.gather(*is_tasks, return_exceptions=True)\n",
    "    \n",
    "    comparison = []\n",
    "    for symbol, bs_list, is_list in zip(symbols, balance_sheets, income_stmts):\n",
    "        if isinstance(bs_list, Exception) or isinstance(is_list, Exception):\n",
    "            continue\n",
    "        \n",
    "        if bs_list and is_list:\n",
    "            ratios = calculate_financial_ratios(bs_list[0], is_list[0])\n",
    "            ratios['symbol'] = symbol\n",
    "            ratios['period'] = f\"{bs_list[0].quarter} {bs_list[0].year}\"\n",
    "            comparison.append(ratios)\n",
    "    \n",
    "    df = pd.DataFrame(comparison)\n",
    "    return df\n",
    "\n",
    "# Compare retail companies\n",
    "retail_stocks = [\"CPALL\", \"MAKRO\", \"HMPRO\"]\n",
    "comparison = await compare_companies(retail_stocks)\n",
    "\n",
    "print(\"Retail Sector Financial Comparison:\\n\")\n",
    "if not comparison.empty:\n",
    "    print(comparison[['symbol', 'period', 'net_profit_margin', 'roe', 'debt_to_equity']].to_string(index=False))"
   ]
  },
  {
   "cell_type": "markdown",
   "metadata": {},
   "source": [
    "## Use Case: Export to Excel"
   ]
  },
  {
   "cell_type": "code",
   "execution_count": null,
   "metadata": {},
   "outputs": [],
   "source": [
    "# Export financial statements to CSV\n",
    "def export_balance_sheet_to_csv(balance_sheets, filename=\"balance_sheet.csv\"):\n",
    "    \"\"\"\n",
    "    Export balance sheet data to CSV.\n",
    "    \"\"\"\n",
    "    data = []\n",
    "    for bs in balance_sheets:\n",
    "        for acc in bs.accounts:\n",
    "            data.append({\n",
    "                \"period\": f\"{bs.quarter} {bs.year}\",\n",
    "                \"year\": bs.year,\n",
    "                \"quarter\": bs.quarter,\n",
    "                \"account_code\": acc.account_code,\n",
    "                \"account_name\": acc.account_name,\n",
    "                \"amount\": acc.amount,\n",
    "                \"level\": acc.level,\n",
    "                \"status\": bs.status\n",
    "            })\n",
    "    \n",
    "    df = pd.DataFrame(data)\n",
    "    df.to_csv(filename, index=False, encoding=\"utf-8\")\n",
    "    return df\n",
    "\n",
    "# Export CPALL balance sheets\n",
    "bs_df = export_balance_sheet_to_csv(balance_sheets, \"cpall_balance_sheet.csv\")\n",
    "print(f\"Exported {len(bs_df)} line items to cpall_balance_sheet.csv\")"
   ]
  },
  {
   "cell_type": "markdown",
   "metadata": {},
   "source": [
    "## Error Handling"
   ]
  },
  {
   "cell_type": "code",
   "execution_count": null,
   "metadata": {},
   "outputs": [],
   "source": [
    "async def safe_get_financials(symbol: str):\n",
    "    try:\n",
    "        bs = await get_balance_sheet(symbol)\n",
    "        income = await get_income_statement(symbol)\n",
    "        cf = await get_cash_flow(symbol)\n",
    "        \n",
    "        print(f\"✓ {symbol}: {len(bs)} balance sheets, {len(income)} income statements, {len(cf)} cash flows\")\n",
    "        return bs, income, cf\n",
    "    except Exception as e:\n",
    "        print(f\"✗ {symbol}: {e}\")\n",
    "        return None, None, None\n",
    "\n",
    "await safe_get_financials(\"PTT\")"
   ]
  },
  {
   "cell_type": "markdown",
   "metadata": {},
   "source": [
    "## Next Steps\n",
    "\n",
    "Now you have mastered all SET services! Consider:\n",
    "\n",
    "1. **Build a complete stock analysis system** combining all services\n",
    "2. **Create automated screening systems** for value/growth stocks\n",
    "3. **Develop portfolio management tools** with real-time data\n",
    "4. **Build financial models** using historical financial data\n",
    "5. **Create dashboards** with matplotlib, plotly, or streamlit\n",
    "\n",
    "### Related Notebooks\n",
    "\n",
    "- **[Stock List](01_stock_list.ipynb)** - Universe definition\n",
    "- **[Highlight Data](02_highlight_data.ipynb)** - Current valuation\n",
    "- **[Price Performance](10_price_performance.ipynb)** - Relative performance\n",
    "- **[Trading Statistics](09_trading_statistics.ipynb)** - Historical trends\n",
    "\n",
    "**Documentation**: `/docs/settfex/services/set/financial.md`"
   ]
  }
 ],
 "metadata": {
  "kernelspec": {
   "display_name": "Python 3",
   "language": "python",
   "name": "python3"
  },
  "language_info": {
   "name": "python",
   "version": "3.11.0"
  }
 },
 "nbformat": 4,
 "nbformat_minor": 4
}
