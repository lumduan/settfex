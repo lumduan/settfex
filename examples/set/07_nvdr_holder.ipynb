{
 "cells": [
  {
   "cell_type": "markdown",
   "metadata": {},
   "source": [
    "# NVDR Holder Service - Non-Voting Depositary Receipt Analysis\n",
    "\n",
    "Track NVDR (Non-Voting Depositary Receipt) holders and understand this unique Thai market instrument."
   ]
  },
  {
   "cell_type": "markdown",
   "metadata": {},
   "source": [
    "## Overview\n",
    "\n",
    "**What are NVDRs?**\n",
    "- Non-Voting Depositary Receipts created by Thai NVDR Company Limited\n",
    "- Carry same rights as ordinary shares **except voting rights**\n",
    "- Commonly used by foreign investors to bypass foreign ownership limits\n",
    "- Identified by \"-R\" suffix (e.g., PTT-R)\n",
    "\n",
    "**Use Cases:**\n",
    "- Track NVDR holder distribution\n",
    "- Monitor Thai vs foreign NVDR ownership\n",
    "- Analyze liquidity and free float\n",
    "- Compare with ordinary shareholders"
   ]
  },
  {
   "cell_type": "code",
   "execution_count": 1,
   "metadata": {},
   "outputs": [
    {
     "name": "stdout",
     "output_type": "stream",
     "text": [
      "zsh:1: command not found: pip\n"
     ]
    }
   ],
   "source": [
    "!pip install settfex"
   ]
  },
  {
   "cell_type": "code",
   "execution_count": 2,
   "metadata": {},
   "outputs": [
    {
     "name": "stdout",
     "output_type": "stream",
     "text": [
      "Libraries imported!\n"
     ]
    }
   ],
   "source": [
    "import asyncio\n",
    "from settfex.services.set import get_nvdr_holder_data\n",
    "import pandas as pd\n",
    "\n",
    "print(\"Libraries imported!\")"
   ]
  },
  {
   "cell_type": "markdown",
   "metadata": {},
   "source": [
    "## Basic Usage"
   ]
  },
  {
   "cell_type": "code",
   "execution_count": 3,
   "metadata": {},
   "outputs": [
    {
     "name": "stderr",
     "output_type": "stream",
     "text": [
      "\u001b[32m2025-10-05 21:09:50\u001b[0m | \u001b[1mINFO    \u001b[0m | \u001b[36msettfex.services.set.stock.nvdr_holder\u001b[0m:\u001b[36m__init__\u001b[0m:\u001b[36m88\u001b[0m | \u001b[1mNVDRHolderService initialized with base_url=https://www.set.or.th\u001b[0m\n",
      "\u001b[32m2025-10-05 21:09:50\u001b[0m | \u001b[1mINFO    \u001b[0m | \u001b[36msettfex.services.set.stock.nvdr_holder\u001b[0m:\u001b[36mfetch_nvdr_holder_data\u001b[0m:\u001b[36m128\u001b[0m | \u001b[1mFetching NVDR holder data for symbol 'MINT' (lang=en) from https://www.set.or.th/api/set/stock/MINT/nvdr-holder?lang=en\u001b[0m\n",
      "\u001b[32m2025-10-05 21:09:50\u001b[0m | \u001b[1mINFO    \u001b[0m | \u001b[36msettfex.utils.data_fetcher\u001b[0m:\u001b[36m__init__\u001b[0m:\u001b[36m113\u001b[0m | \u001b[1mAsyncDataFetcher initialized with browser=chrome120, timeout=30s, rate_limit=0.0s\u001b[0m\n",
      "\u001b[32m2025-10-05 21:09:50\u001b[0m | \u001b[1mINFO    \u001b[0m | \u001b[36msettfex.utils.session_manager\u001b[0m:\u001b[36m__init__\u001b[0m:\u001b[36m98\u001b[0m | \u001b[1mSessionManager created with browser=chrome120, warmup_site=set, cache=enabled\u001b[0m\n",
      "\u001b[32m2025-10-05 21:09:50\u001b[0m | \u001b[1mINFO    \u001b[0m | \u001b[36msettfex.utils.session_cache\u001b[0m:\u001b[36m__init__\u001b[0m:\u001b[36m76\u001b[0m | \u001b[1mSessionCache initialized at /Users/sarat/.settfex/cache (ttl=3600s, size_limit=100MB)\u001b[0m\n",
      "\u001b[32m2025-10-05 21:09:50\u001b[0m | \u001b[32m\u001b[1mSUCCESS \u001b[0m | \u001b[36msettfex.utils.session_manager\u001b[0m:\u001b[36m_try_load_from_cache\u001b[0m:\u001b[36m202\u001b[0m | \u001b[32m\u001b[1m✓ Loaded session from cache: 4 cookies (age=1415s, browser=chrome120)\u001b[0m\n",
      "\u001b[32m2025-10-05 21:09:50\u001b[0m | \u001b[1mINFO    \u001b[0m | \u001b[36msettfex.utils.data_fetcher\u001b[0m:\u001b[36mfetch\u001b[0m:\u001b[36m303\u001b[0m | \u001b[1mFetch successful: url=https://www.set.or.th/api/set/stock/MINT/nvdr-holder?lang=en, status=200, elapsed=0.12s, size=1683 bytes\u001b[0m\n",
      "\u001b[32m2025-10-05 21:09:50\u001b[0m | \u001b[1mINFO    \u001b[0m | \u001b[36msettfex.services.set.stock.nvdr_holder\u001b[0m:\u001b[36mfetch_nvdr_holder_data\u001b[0m:\u001b[36m159\u001b[0m | \u001b[1mSuccessfully fetched NVDR holder data for MINT: 10 major NVDR holders, Total holders=1,106\u001b[0m\n"
     ]
    },
    {
     "name": "stdout",
     "output_type": "stream",
     "text": [
      "Symbol: MINT-R\n",
      "Total NVDR Holders: 1,106\n",
      "Book Close Date: 2025-09-02 00:00:00+07:00\n",
      "Percent Scriptless: 100.0%\n",
      "\n",
      "Top 10 NVDR Holders:\n",
      "\n",
      "1. STATE STREET EUROPE LIMITED\n",
      "   Nationality: None\n",
      "   Shares: 62,827,213 (1.11%)\n",
      "\n",
      "2. STATE STREET BANK AND TRUST COMPANY\n",
      "   Nationality: None\n",
      "   Shares: 58,885,122 (1.04%)\n",
      "\n",
      "3. N.C.B.TRUST LIMITED-NORGES BANK 32\n",
      "   Nationality: None\n",
      "   Shares: 48,152,425 (0.85%)\n",
      "\n",
      "4. SOUTH EAST ASIA UK (TYPE C) NOMINEES LIMITED\n",
      "   Nationality: None\n",
      "   Shares: 38,929,382 (0.69%)\n",
      "\n",
      "5. N.C.B.TRUST LIMITED-CBNA LDN STICHTING PENSIOENFONDS ZORG EN WELZIJN- FUND MANAGER NUMERIC INVESTORS LLC\n",
      "   Nationality: None\n",
      "   Shares: 28,325,400 (0.50%)\n",
      "\n",
      "6. N.C.B.TRUST LIMITED-NORGES BANK 5\n",
      "   Nationality: None\n",
      "   Shares: 18,646,016 (0.33%)\n",
      "\n",
      "7. CITIBANK NOMINEES SINGAPORE PTE LTD-A/C GIC C\n",
      "   Nationality: None\n",
      "   Shares: 9,917,475 (0.17%)\n",
      "\n",
      "8. N.C.B.TRUST LIMITED-NORGES BANK 30\n",
      "   Nationality: None\n",
      "   Shares: 8,063,011 (0.14%)\n",
      "\n",
      "9. J.P. MORGAN SECURITIES PLC\n",
      "   Nationality: None\n",
      "   Shares: 7,855,423 (0.14%)\n",
      "\n",
      "10. THE BANK OF NEW YORK (NOMINEES) LIMITED\n",
      "   Nationality: None\n",
      "   Shares: 6,982,663 (0.12%)\n",
      "\n"
     ]
    }
   ],
   "source": [
    "# Fetch NVDR holder data (note: automatically adds -R suffix)\n",
    "data = await get_nvdr_holder_data(\"MINT\")\n",
    "\n",
    "print(f\"Symbol: {data.symbol}\")  # Will show MINT-R\n",
    "print(f\"Total NVDR Holders: {data.total_shareholder:,}\")\n",
    "print(f\"Book Close Date: {data.book_close_date}\")\n",
    "print(f\"Percent Scriptless: {data.percent_scriptless}%\")\n",
    "print(f\"\\nTop 10 NVDR Holders:\\n\")\n",
    "\n",
    "for holder in data.major_shareholders[:10]:\n",
    "    thai_flag = \" [Thai NVDR]\" if holder.is_thai_nvdr else \"\"\n",
    "    print(f\"{holder.sequence}. {holder.name}{thai_flag}\")\n",
    "    print(f\"   Nationality: {holder.nationality}\")\n",
    "    print(f\"   Shares: {holder.number_of_share:,} ({holder.percent_of_share:.2f}%)\")\n",
    "    print()"
   ]
  },
  {
   "cell_type": "markdown",
   "metadata": {},
   "source": [
    "## Advanced Usage - NVDR vs Ordinary Share Comparison"
   ]
  },
  {
   "cell_type": "code",
   "execution_count": 4,
   "metadata": {},
   "outputs": [
    {
     "name": "stderr",
     "output_type": "stream",
     "text": [
      "\u001b[32m2025-10-05 21:09:50\u001b[0m | \u001b[1mINFO    \u001b[0m | \u001b[36msettfex.services.set.stock.shareholder\u001b[0m:\u001b[36m__init__\u001b[0m:\u001b[36m104\u001b[0m | \u001b[1mShareholderService initialized with base_url=https://www.set.or.th\u001b[0m\n",
      "\u001b[32m2025-10-05 21:09:50\u001b[0m | \u001b[1mINFO    \u001b[0m | \u001b[36msettfex.services.set.stock.shareholder\u001b[0m:\u001b[36mfetch_shareholder_data\u001b[0m:\u001b[36m144\u001b[0m | \u001b[1mFetching shareholder data for symbol 'CPALL' (lang=en) from https://www.set.or.th/api/set/stock/CPALL/shareholder?lang=en\u001b[0m\n",
      "\u001b[32m2025-10-05 21:09:50\u001b[0m | \u001b[1mINFO    \u001b[0m | \u001b[36msettfex.utils.data_fetcher\u001b[0m:\u001b[36m__init__\u001b[0m:\u001b[36m113\u001b[0m | \u001b[1mAsyncDataFetcher initialized with browser=chrome120, timeout=30s, rate_limit=0.0s\u001b[0m\n",
      "\u001b[32m2025-10-05 21:09:50\u001b[0m | \u001b[1mINFO    \u001b[0m | \u001b[36msettfex.services.set.stock.nvdr_holder\u001b[0m:\u001b[36m__init__\u001b[0m:\u001b[36m88\u001b[0m | \u001b[1mNVDRHolderService initialized with base_url=https://www.set.or.th\u001b[0m\n",
      "\u001b[32m2025-10-05 21:09:50\u001b[0m | \u001b[1mINFO    \u001b[0m | \u001b[36msettfex.services.set.stock.nvdr_holder\u001b[0m:\u001b[36mfetch_nvdr_holder_data\u001b[0m:\u001b[36m128\u001b[0m | \u001b[1mFetching NVDR holder data for symbol 'CPALL' (lang=en) from https://www.set.or.th/api/set/stock/CPALL/nvdr-holder?lang=en\u001b[0m\n",
      "\u001b[32m2025-10-05 21:09:50\u001b[0m | \u001b[1mINFO    \u001b[0m | \u001b[36msettfex.utils.data_fetcher\u001b[0m:\u001b[36m__init__\u001b[0m:\u001b[36m113\u001b[0m | \u001b[1mAsyncDataFetcher initialized with browser=chrome120, timeout=30s, rate_limit=0.0s\u001b[0m\n",
      "\u001b[32m2025-10-05 21:09:50\u001b[0m | \u001b[1mINFO    \u001b[0m | \u001b[36msettfex.utils.data_fetcher\u001b[0m:\u001b[36mfetch\u001b[0m:\u001b[36m303\u001b[0m | \u001b[1mFetch successful: url=https://www.set.or.th/api/set/stock/CPALL/shareholder?lang=en, status=200, elapsed=0.02s, size=2948 bytes\u001b[0m\n",
      "\u001b[32m2025-10-05 21:09:50\u001b[0m | \u001b[1mINFO    \u001b[0m | \u001b[36msettfex.services.set.stock.shareholder\u001b[0m:\u001b[36mfetch_shareholder_data\u001b[0m:\u001b[36m175\u001b[0m | \u001b[1mSuccessfully fetched shareholder data for CPALL: 17 major shareholders, Free Float=63.94%\u001b[0m\n",
      "\u001b[32m2025-10-05 21:09:50\u001b[0m | \u001b[1mINFO    \u001b[0m | \u001b[36msettfex.utils.data_fetcher\u001b[0m:\u001b[36mfetch\u001b[0m:\u001b[36m303\u001b[0m | \u001b[1mFetch successful: url=https://www.set.or.th/api/set/stock/CPALL/nvdr-holder?lang=en, status=200, elapsed=0.08s, size=1591 bytes\u001b[0m\n",
      "\u001b[32m2025-10-05 21:09:50\u001b[0m | \u001b[1mINFO    \u001b[0m | \u001b[36msettfex.services.set.stock.nvdr_holder\u001b[0m:\u001b[36mfetch_nvdr_holder_data\u001b[0m:\u001b[36m159\u001b[0m | \u001b[1mSuccessfully fetched NVDR holder data for CPALL: 10 major NVDR holders, Total holders=1,770\u001b[0m\n"
     ]
    },
    {
     "name": "stdout",
     "output_type": "stream",
     "text": [
      "Comparison for CPALL:\n",
      "\n",
      "Metric                         Ordinary        NVDR\n",
      "------------------------------------------------------------\n",
      "Total Holders                  136,961         1,770\n",
      "Major Shareholders Listed      17              10\n",
      "Free Float %                   63.94           N/A\n",
      "\n",
      "Top Holder Ordinary: บริษัท  ซี.พี.เมอร์แชนไดซิ่ง จำกัด (30.78%)\n",
      "Top Holder NVDR: STATE STREET EUROPE LIMITED (1.67%)\n"
     ]
    }
   ],
   "source": [
    "from settfex.services.set import get_shareholder_data\n",
    "\n",
    "async def compare_nvdr_vs_ordinary(symbol: str):\n",
    "    \"\"\"\n",
    "    Compare NVDR holders vs ordinary shareholders.\n",
    "    \"\"\"\n",
    "    # Fetch both\n",
    "    ordinary, nvdr = await asyncio.gather(\n",
    "        get_shareholder_data(symbol),\n",
    "        get_nvdr_holder_data(symbol)\n",
    "    )\n",
    "    \n",
    "    print(f\"Comparison for {symbol}:\\n\")\n",
    "    print(f\"{'Metric':<30} {'Ordinary':<15} {'NVDR'}\")\n",
    "    print(\"-\" * 60)\n",
    "    print(f\"{'Total Holders':<30} {ordinary.total_shareholder:<15,} {nvdr.total_shareholder:,}\")\n",
    "    print(f\"{'Major Shareholders Listed':<30} {len(ordinary.major_shareholders):<15} {len(nvdr.major_shareholders)}\")\n",
    "    \n",
    "    if ordinary.free_float:\n",
    "        print(f\"{'Free Float %':<30} {ordinary.free_float.percent_free_float:<15.2f} N/A\")\n",
    "    \n",
    "    # Top holder comparison\n",
    "    print(f\"\\nTop Holder Ordinary: {ordinary.major_shareholders[0].name} ({ordinary.major_shareholders[0].percent_of_share:.2f}%)\")\n",
    "    print(f\"Top Holder NVDR: {nvdr.major_shareholders[0].name} ({nvdr.major_shareholders[0].percent_of_share:.2f}%)\")\n",
    "\n",
    "await compare_nvdr_vs_ordinary(\"CPALL\")"
   ]
  },
  {
   "cell_type": "markdown",
   "metadata": {},
   "source": [
    "## Use Case: Thai vs Foreign NVDR Analysis"
   ]
  },
  {
   "cell_type": "code",
   "execution_count": 5,
   "metadata": {},
   "outputs": [
    {
     "name": "stderr",
     "output_type": "stream",
     "text": [
      "\u001b[32m2025-10-05 21:09:50\u001b[0m | \u001b[1mINFO    \u001b[0m | \u001b[36msettfex.services.set.stock.nvdr_holder\u001b[0m:\u001b[36m__init__\u001b[0m:\u001b[36m88\u001b[0m | \u001b[1mNVDRHolderService initialized with base_url=https://www.set.or.th\u001b[0m\n",
      "\u001b[32m2025-10-05 21:09:50\u001b[0m | \u001b[1mINFO    \u001b[0m | \u001b[36msettfex.services.set.stock.nvdr_holder\u001b[0m:\u001b[36mfetch_nvdr_holder_data\u001b[0m:\u001b[36m128\u001b[0m | \u001b[1mFetching NVDR holder data for symbol 'PTT' (lang=en) from https://www.set.or.th/api/set/stock/PTT/nvdr-holder?lang=en\u001b[0m\n",
      "\u001b[32m2025-10-05 21:09:50\u001b[0m | \u001b[1mINFO    \u001b[0m | \u001b[36msettfex.utils.data_fetcher\u001b[0m:\u001b[36m__init__\u001b[0m:\u001b[36m113\u001b[0m | \u001b[1mAsyncDataFetcher initialized with browser=chrome120, timeout=30s, rate_limit=0.0s\u001b[0m\n",
      "\u001b[32m2025-10-05 21:09:50\u001b[0m | \u001b[1mINFO    \u001b[0m | \u001b[36msettfex.utils.data_fetcher\u001b[0m:\u001b[36mfetch\u001b[0m:\u001b[36m303\u001b[0m | \u001b[1mFetch successful: url=https://www.set.or.th/api/set/stock/PTT/nvdr-holder?lang=en, status=200, elapsed=0.05s, size=1619 bytes\u001b[0m\n",
      "\u001b[32m2025-10-05 21:09:50\u001b[0m | \u001b[1mINFO    \u001b[0m | \u001b[36msettfex.services.set.stock.nvdr_holder\u001b[0m:\u001b[36mfetch_nvdr_holder_data\u001b[0m:\u001b[36m159\u001b[0m | \u001b[1mSuccessfully fetched NVDR holder data for PTT: 10 major NVDR holders, Total holders=2,633\u001b[0m\n"
     ]
    },
    {
     "name": "stdout",
     "output_type": "stream",
     "text": [
      "NVDR Ownership Breakdown for PTT-R:\n",
      "\n",
      "Thai NVDR Holders: 0 (0.00%)\n",
      "Foreign NVDR Holders: 10 (2.53%)\n",
      "\n",
      "Top Thai NVDR Holders:\n"
     ]
    }
   ],
   "source": [
    "# Analyze Thai NVDR vs Foreign NVDR\n",
    "data = await get_nvdr_holder_data(\"PTT\")\n",
    "\n",
    "thai_nvdr = [h for h in data.major_shareholders if h.is_thai_nvdr]\n",
    "foreign_nvdr = [h for h in data.major_shareholders if not h.is_thai_nvdr]\n",
    "\n",
    "thai_pct = sum(h.percent_of_share for h in thai_nvdr)\n",
    "foreign_pct = sum(h.percent_of_share for h in foreign_nvdr)\n",
    "\n",
    "print(f\"NVDR Ownership Breakdown for {data.symbol}:\\n\")\n",
    "print(f\"Thai NVDR Holders: {len(thai_nvdr)} ({thai_pct:.2f}%)\")\n",
    "print(f\"Foreign NVDR Holders: {len(foreign_nvdr)} ({foreign_pct:.2f}%)\")\n",
    "print(f\"\\nTop Thai NVDR Holders:\")\n",
    "for h in thai_nvdr[:3]:\n",
    "    print(f\"  {h.name}: {h.percent_of_share:.2f}%\")"
   ]
  },
  {
   "cell_type": "markdown",
   "metadata": {},
   "source": [
    "## Next Steps\n",
    "\n",
    "- **[Shareholder](06_shareholder.ipynb)** - Ordinary shareholder analysis\n",
    "- **[Stock Profile](03_stock_profile.ipynb)** - Foreign ownership limits\n",
    "\n",
    "**Documentation**: `/docs/settfex/services/set/nvdr_holder.md`"
   ]
  }
 ],
 "metadata": {
  "kernelspec": {
   "display_name": "settfex",
   "language": "python",
   "name": "python3"
  },
  "language_info": {
   "codemirror_mode": {
    "name": "ipython",
    "version": 3
   },
   "file_extension": ".py",
   "mimetype": "text/x-python",
   "name": "python",
   "nbconvert_exporter": "python",
   "pygments_lexer": "ipython3",
   "version": "3.13.5"
  }
 },
 "nbformat": 4,
 "nbformat_minor": 4
}
