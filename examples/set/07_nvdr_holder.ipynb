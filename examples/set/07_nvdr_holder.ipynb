{
 "cells": [
  {
   "cell_type": "markdown",
   "metadata": {},
   "source": [
    "# NVDR Holder Service - Non-Voting Depositary Receipt Analysis\n",
    "\n",
    "Track NVDR (Non-Voting Depositary Receipt) holders and understand this unique Thai market instrument."
   ]
  },
  {
   "cell_type": "markdown",
   "metadata": {},
   "source": [
    "## Overview\n",
    "\n",
    "**What are NVDRs?**\n",
    "- Non-Voting Depositary Receipts created by Thai NVDR Company Limited\n",
    "- Carry same rights as ordinary shares **except voting rights**\n",
    "- Commonly used by foreign investors to bypass foreign ownership limits\n",
    "- Identified by \"-R\" suffix (e.g., PTT-R)\n",
    "\n",
    "**Use Cases:**\n",
    "- Track NVDR holder distribution\n",
    "- Monitor Thai vs foreign NVDR ownership\n",
    "- Analyze liquidity and free float\n",
    "- Compare with ordinary shareholders"
   ]
  },
  {
   "cell_type": "code",
   "execution_count": 1,
   "metadata": {},
   "outputs": [
    {
     "name": "stdout",
     "output_type": "stream",
     "text": [
      "zsh:1: command not found: pip\n"
     ]
    }
   ],
   "source": [
    "!pip install settfex"
   ]
  },
  {
   "cell_type": "code",
   "execution_count": 2,
   "metadata": {},
   "outputs": [
    {
     "name": "stdout",
     "output_type": "stream",
     "text": [
      "Libraries imported!\n"
     ]
    }
   ],
   "source": [
    "import asyncio\n",
    "from settfex.services.set import get_nvdr_holder_data\n",
    "import pandas as pd\n",
    "\n",
    "print(\"Libraries imported!\")"
   ]
  },
  {
   "cell_type": "markdown",
   "metadata": {},
   "source": [
    "## Basic Usage"
   ]
  },
  {
   "cell_type": "code",
   "execution_count": null,
   "metadata": {},
   "outputs": [],
   "source": "# Fetch NVDR holder data (note: automatically adds -R suffix)\ndata = await get_nvdr_holder_data(\"MINT\")\n\nprint(f\"Symbol: {data.symbol}\")  # Will show MINT-R\nprint(f\"Total NVDR Holders: {data.total_shareholder:,}\")\nprint(f\"Book Close Date: {data.book_close_date}\")\nprint(f\"Percent Scriptless: {data.percent_scriptless}%\")\nprint(f\"\\nTop 10 NVDR Holders:\\n\")\n\nfor holder in data.major_shareholders[:10]:\n    thai_flag = \" [Thai NVDR]\" if holder.is_thai_nvdr else \"\"\n    print(f\"{holder.sequence}. {holder.name}{thai_flag}\")\n    print(f\"   Nationality: {holder.nationality}\")\n    print(f\"   Shares: {holder.number_of_share:,} ({holder.percent_of_share:.2f}%)\")\n    print()"
  },
  {
   "cell_type": "markdown",
   "metadata": {},
   "source": [
    "## Advanced Usage - NVDR vs Ordinary Share Comparison"
   ]
  },
  {
   "cell_type": "code",
   "execution_count": null,
   "metadata": {},
   "outputs": [],
   "source": [
    "from settfex.services.set import get_shareholder_data\n",
    "\n",
    "async def compare_nvdr_vs_ordinary(symbol: str):\n",
    "    \"\"\"\n",
    "    Compare NVDR holders vs ordinary shareholders.\n",
    "    \"\"\"\n",
    "    # Fetch both\n",
    "    ordinary, nvdr = await asyncio.gather(\n",
    "        get_shareholder_data(symbol),\n",
    "        get_nvdr_holder_data(symbol)\n",
    "    )\n",
    "    \n",
    "    print(f\"Comparison for {symbol}:\\n\")\n",
    "    print(f\"{'Metric':<30} {'Ordinary':<15} {'NVDR'}\")\n",
    "    print(\"-\" * 60)\n",
    "    print(f\"{'Total Holders':<30} {ordinary.total_shareholder:<15,} {nvdr.total_shareholder:,}\")\n",
    "    print(f\"{'Major Shareholders Listed':<30} {len(ordinary.major_shareholders):<15} {len(nvdr.major_shareholders)}\")\n",
    "    \n",
    "    if ordinary.free_float:\n",
    "        print(f\"{'Free Float %':<30} {ordinary.free_float.percent_free_float:<15.2f} N/A\")\n",
    "    \n",
    "    # Top holder comparison\n",
    "    print(f\"\\nTop Holder Ordinary: {ordinary.major_shareholders[0].name} ({ordinary.major_shareholders[0].percent_of_share:.2f}%)\")\n",
    "    print(f\"Top Holder NVDR: {nvdr.major_shareholders[0].name} ({nvdr.major_shareholders[0].percent_of_share:.2f}%)\")\n",
    "\n",
    "await compare_nvdr_vs_ordinary(\"CPALL\")"
   ]
  },
  {
   "cell_type": "markdown",
   "metadata": {},
   "source": [
    "## Use Case: Thai vs Foreign NVDR Analysis"
   ]
  },
  {
   "cell_type": "code",
   "execution_count": null,
   "metadata": {},
   "outputs": [],
   "source": [
    "# Analyze Thai NVDR vs Foreign NVDR\n",
    "data = await get_nvdr_holder_data(\"PTT\")\n",
    "\n",
    "thai_nvdr = [h for h in data.major_shareholders if h.is_thai_nvdr]\n",
    "foreign_nvdr = [h for h in data.major_shareholders if not h.is_thai_nvdr]\n",
    "\n",
    "thai_pct = sum(h.percent_of_share for h in thai_nvdr)\n",
    "foreign_pct = sum(h.percent_of_share for h in foreign_nvdr)\n",
    "\n",
    "print(f\"NVDR Ownership Breakdown for {data.symbol}:\\n\")\n",
    "print(f\"Thai NVDR Holders: {len(thai_nvdr)} ({thai_pct:.2f}%)\")\n",
    "print(f\"Foreign NVDR Holders: {len(foreign_nvdr)} ({foreign_pct:.2f}%)\")\n",
    "print(f\"\\nTop Thai NVDR Holders:\")\n",
    "for h in thai_nvdr[:3]:\n",
    "    print(f\"  {h.name}: {h.percent_of_share:.2f}%\")"
   ]
  },
  {
   "cell_type": "markdown",
   "metadata": {},
   "source": [
    "## Next Steps\n",
    "\n",
    "- **[Shareholder](06_shareholder.ipynb)** - Ordinary shareholder analysis\n",
    "- **[Stock Profile](03_stock_profile.ipynb)** - Foreign ownership limits\n",
    "\n",
    "**Documentation**: `/docs/settfex/services/set/nvdr_holder.md`"
   ]
  }
 ],
 "metadata": {
  "kernelspec": {
   "display_name": "settfex",
   "language": "python",
   "name": "python3"
  },
  "language_info": {
   "codemirror_mode": {
    "name": "ipython",
    "version": 3
   },
   "file_extension": ".py",
   "mimetype": "text/x-python",
   "name": "python",
   "nbconvert_exporter": "python",
   "pygments_lexer": "ipython3",
   "version": "3.13.5"
  }
 },
 "nbformat": 4,
 "nbformat_minor": 4
}