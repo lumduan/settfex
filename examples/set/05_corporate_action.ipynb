{
 "cells": [
  {
   "cell_type": "markdown",
   "metadata": {},
   "source": [
    "# Corporate Action Service - Dividends & Events\n",
    "\n",
    "Track corporate actions including dividend announcements, shareholder meetings (AGM/EGM), and other corporate events."
   ]
  },
  {
   "cell_type": "markdown",
   "metadata": {},
   "source": [
    "## Overview\n",
    "\n",
    "The **Corporate Action Service** tracks important corporate events:\n",
    "\n",
    "- **Dividend Tracking**: XD dates, payment dates, dividend amounts\n",
    "- **Shareholder Meetings**: AGM (Annual General Meeting) and EGM (Extraordinary General Meeting)\n",
    "- **Meeting Details**: Agenda, venue, meeting dates\n",
    "- **Dividend Capture**: Plan dividend capture strategies\n",
    "- **Calendar Management**: Track upcoming corporate events\n",
    "\n",
    "### When to Use This Service\n",
    "\n",
    "- Dividend income strategies\n",
    "- Shareholder rights management\n",
    "- Corporate event calendars\n",
    "- Ex-dividend date tracking\n",
    "- Meeting participation planning"
   ]
  },
  {
   "cell_type": "code",
   "execution_count": 1,
   "metadata": {},
   "outputs": [
    {
     "name": "stdout",
     "output_type": "stream",
     "text": [
      "zsh:1: command not found: pip\n"
     ]
    }
   ],
   "source": [
    "!pip install settfex"
   ]
  },
  {
   "cell_type": "code",
   "execution_count": 2,
   "metadata": {},
   "outputs": [
    {
     "name": "stdout",
     "output_type": "stream",
     "text": [
      "Libraries imported!\n"
     ]
    }
   ],
   "source": [
    "import asyncio\n",
    "from settfex.services.set import get_corporate_actions\n",
    "import pandas as pd\n",
    "from datetime import datetime\n",
    "\n",
    "print(\"Libraries imported!\")"
   ]
  },
  {
   "cell_type": "markdown",
   "metadata": {},
   "source": [
    "## Basic Usage"
   ]
  },
  {
   "cell_type": "code",
   "execution_count": 3,
   "metadata": {},
   "outputs": [
    {
     "name": "stderr",
     "output_type": "stream",
     "text": [
      "\u001b[32m2025-10-05 21:08:51\u001b[0m | \u001b[1mINFO    \u001b[0m | \u001b[36msettfex.services.set.stock.corporate_action\u001b[0m:\u001b[36m__init__\u001b[0m:\u001b[36m108\u001b[0m | \u001b[1mCorporateActionService initialized with base_url=https://www.set.or.th\u001b[0m\n",
      "\u001b[32m2025-10-05 21:08:51\u001b[0m | \u001b[1mINFO    \u001b[0m | \u001b[36msettfex.services.set.stock.corporate_action\u001b[0m:\u001b[36mfetch_corporate_actions\u001b[0m:\u001b[36m151\u001b[0m | \u001b[1mFetching corporate actions for symbol 'AOT' (lang=en) from https://www.set.or.th/api/set/stock/AOT/corporate-action?lang=en\u001b[0m\n",
      "\u001b[32m2025-10-05 21:08:51\u001b[0m | \u001b[1mINFO    \u001b[0m | \u001b[36msettfex.utils.data_fetcher\u001b[0m:\u001b[36m__init__\u001b[0m:\u001b[36m113\u001b[0m | \u001b[1mAsyncDataFetcher initialized with browser=chrome120, timeout=30s, rate_limit=0.0s\u001b[0m\n",
      "\u001b[32m2025-10-05 21:08:51\u001b[0m | \u001b[1mINFO    \u001b[0m | \u001b[36msettfex.utils.session_manager\u001b[0m:\u001b[36m__init__\u001b[0m:\u001b[36m98\u001b[0m | \u001b[1mSessionManager created with browser=chrome120, warmup_site=set, cache=enabled\u001b[0m\n",
      "\u001b[32m2025-10-05 21:08:51\u001b[0m | \u001b[1mINFO    \u001b[0m | \u001b[36msettfex.utils.session_cache\u001b[0m:\u001b[36m__init__\u001b[0m:\u001b[36m76\u001b[0m | \u001b[1mSessionCache initialized at /Users/sarat/.settfex/cache (ttl=3600s, size_limit=100MB)\u001b[0m\n",
      "\u001b[32m2025-10-05 21:08:51\u001b[0m | \u001b[32m\u001b[1mSUCCESS \u001b[0m | \u001b[36msettfex.utils.session_manager\u001b[0m:\u001b[36m_try_load_from_cache\u001b[0m:\u001b[36m202\u001b[0m | \u001b[32m\u001b[1m✓ Loaded session from cache: 4 cookies (age=1355s, browser=chrome120)\u001b[0m\n",
      "\u001b[32m2025-10-05 21:08:51\u001b[0m | \u001b[1mINFO    \u001b[0m | \u001b[36msettfex.utils.data_fetcher\u001b[0m:\u001b[36mfetch\u001b[0m:\u001b[36m303\u001b[0m | \u001b[1mFetch successful: url=https://www.set.or.th/api/set/stock/AOT/corporate-action?lang=en, status=200, elapsed=0.12s, size=3981 bytes\u001b[0m\n",
      "\u001b[32m2025-10-05 21:08:51\u001b[0m | \u001b[1mINFO    \u001b[0m | \u001b[36msettfex.services.set.stock.corporate_action\u001b[0m:\u001b[36mfetch_corporate_actions\u001b[0m:\u001b[36m190\u001b[0m | \u001b[1mSuccessfully fetched 8 corporate action(s) for AOT\u001b[0m\n"
     ]
    },
    {
     "name": "stdout",
     "output_type": "stream",
     "text": [
      "Found 8 corporate actions for AOT\n",
      "\n",
      "Type: XD\n",
      "XD Date: 2024-12-04 00:00:00+07:00\n",
      "Dividend: 0.79 Baht\n",
      "Payment Date: 2025-02-06 00:00:00+07:00\n",
      "Source: Net Profit\n",
      "------------------------------------------------------------\n",
      "Type: XM\n",
      "XD Date: 2024-12-04 00:00:00+07:00\n",
      "Meeting: AGM\n",
      "Date: 2025-01-24 14:00:00+07:00\n",
      "Agenda: Cash dividend payment,Changing The director(s)\n",
      "------------------------------------------------------------\n",
      "Type: XD\n",
      "XD Date: 2023-12-08 00:00:00+07:00\n",
      "Dividend: 0.36 Baht\n",
      "Payment Date: 2024-02-14 00:00:00+07:00\n",
      "Source: Net Profit\n",
      "------------------------------------------------------------\n",
      "Type: XM\n",
      "XD Date: 2023-12-08 00:00:00+07:00\n",
      "Meeting: AGM\n",
      "Date: 2024-01-30 14:00:00+07:00\n",
      "Agenda: Cash dividend payment,Changing the director(s)\n",
      "------------------------------------------------------------\n",
      "Type: XM\n",
      "XD Date: 2022-12-09 00:00:00+07:00\n",
      "Meeting: AGM\n",
      "Date: 2023-01-20 14:00:00+07:00\n",
      "Agenda: Omitted dividend payment,Changing the director(s)\n",
      "------------------------------------------------------------\n"
     ]
    }
   ],
   "source": [
    "# Fetch corporate actions\n",
    "actions = await get_corporate_actions(\"AOT\")\n",
    "\n",
    "print(f\"Found {len(actions)} corporate actions for AOT\\n\")\n",
    "\n",
    "for action in actions[:5]:  # Show first 5\n",
    "    print(f\"Type: {action.ca_type}\")\n",
    "    print(f\"XD Date: {action.x_date}\")\n",
    "    \n",
    "    if action.ca_type == \"XD\":  # Dividend\n",
    "        print(f\"Dividend: {action.dividend} {action.currency}\")\n",
    "        print(f\"Payment Date: {action.payment_date}\")\n",
    "        print(f\"Source: {action.source_of_dividend}\")\n",
    "    elif action.ca_type == \"XM\":  # Meeting\n",
    "        print(f\"Meeting: {action.meeting_type}\")\n",
    "        print(f\"Date: {action.meeting_date}\")\n",
    "        print(f\"Agenda: {action.agenda}\")\n",
    "    \n",
    "    print(\"-\" * 60)"
   ]
  },
  {
   "cell_type": "markdown",
   "metadata": {},
   "source": [
    "## Advanced Usage - Dividend Calendar"
   ]
  },
  {
   "cell_type": "code",
   "execution_count": 4,
   "metadata": {},
   "outputs": [
    {
     "name": "stderr",
     "output_type": "stream",
     "text": [
      "\u001b[32m2025-10-05 21:08:51\u001b[0m | \u001b[1mINFO    \u001b[0m | \u001b[36msettfex.services.set.stock.corporate_action\u001b[0m:\u001b[36m__init__\u001b[0m:\u001b[36m108\u001b[0m | \u001b[1mCorporateActionService initialized with base_url=https://www.set.or.th\u001b[0m\n",
      "\u001b[32m2025-10-05 21:08:51\u001b[0m | \u001b[1mINFO    \u001b[0m | \u001b[36msettfex.services.set.stock.corporate_action\u001b[0m:\u001b[36mfetch_corporate_actions\u001b[0m:\u001b[36m151\u001b[0m | \u001b[1mFetching corporate actions for symbol 'PTT' (lang=en) from https://www.set.or.th/api/set/stock/PTT/corporate-action?lang=en\u001b[0m\n",
      "\u001b[32m2025-10-05 21:08:51\u001b[0m | \u001b[1mINFO    \u001b[0m | \u001b[36msettfex.utils.data_fetcher\u001b[0m:\u001b[36m__init__\u001b[0m:\u001b[36m113\u001b[0m | \u001b[1mAsyncDataFetcher initialized with browser=chrome120, timeout=30s, rate_limit=0.0s\u001b[0m\n",
      "\u001b[32m2025-10-05 21:08:51\u001b[0m | \u001b[1mINFO    \u001b[0m | \u001b[36msettfex.services.set.stock.corporate_action\u001b[0m:\u001b[36m__init__\u001b[0m:\u001b[36m108\u001b[0m | \u001b[1mCorporateActionService initialized with base_url=https://www.set.or.th\u001b[0m\n",
      "\u001b[32m2025-10-05 21:08:51\u001b[0m | \u001b[1mINFO    \u001b[0m | \u001b[36msettfex.services.set.stock.corporate_action\u001b[0m:\u001b[36mfetch_corporate_actions\u001b[0m:\u001b[36m151\u001b[0m | \u001b[1mFetching corporate actions for symbol 'KBANK' (lang=en) from https://www.set.or.th/api/set/stock/KBANK/corporate-action?lang=en\u001b[0m\n",
      "\u001b[32m2025-10-05 21:08:51\u001b[0m | \u001b[1mINFO    \u001b[0m | \u001b[36msettfex.utils.data_fetcher\u001b[0m:\u001b[36m__init__\u001b[0m:\u001b[36m113\u001b[0m | \u001b[1mAsyncDataFetcher initialized with browser=chrome120, timeout=30s, rate_limit=0.0s\u001b[0m\n",
      "\u001b[32m2025-10-05 21:08:51\u001b[0m | \u001b[1mINFO    \u001b[0m | \u001b[36msettfex.services.set.stock.corporate_action\u001b[0m:\u001b[36m__init__\u001b[0m:\u001b[36m108\u001b[0m | \u001b[1mCorporateActionService initialized with base_url=https://www.set.or.th\u001b[0m\n",
      "\u001b[32m2025-10-05 21:08:51\u001b[0m | \u001b[1mINFO    \u001b[0m | \u001b[36msettfex.services.set.stock.corporate_action\u001b[0m:\u001b[36mfetch_corporate_actions\u001b[0m:\u001b[36m151\u001b[0m | \u001b[1mFetching corporate actions for symbol 'CPALL' (lang=en) from https://www.set.or.th/api/set/stock/CPALL/corporate-action?lang=en\u001b[0m\n",
      "\u001b[32m2025-10-05 21:08:51\u001b[0m | \u001b[1mINFO    \u001b[0m | \u001b[36msettfex.utils.data_fetcher\u001b[0m:\u001b[36m__init__\u001b[0m:\u001b[36m113\u001b[0m | \u001b[1mAsyncDataFetcher initialized with browser=chrome120, timeout=30s, rate_limit=0.0s\u001b[0m\n",
      "\u001b[32m2025-10-05 21:08:51\u001b[0m | \u001b[1mINFO    \u001b[0m | \u001b[36msettfex.services.set.stock.corporate_action\u001b[0m:\u001b[36m__init__\u001b[0m:\u001b[36m108\u001b[0m | \u001b[1mCorporateActionService initialized with base_url=https://www.set.or.th\u001b[0m\n",
      "\u001b[32m2025-10-05 21:08:51\u001b[0m | \u001b[1mINFO    \u001b[0m | \u001b[36msettfex.services.set.stock.corporate_action\u001b[0m:\u001b[36mfetch_corporate_actions\u001b[0m:\u001b[36m151\u001b[0m | \u001b[1mFetching corporate actions for symbol 'AOT' (lang=en) from https://www.set.or.th/api/set/stock/AOT/corporate-action?lang=en\u001b[0m\n",
      "\u001b[32m2025-10-05 21:08:51\u001b[0m | \u001b[1mINFO    \u001b[0m | \u001b[36msettfex.utils.data_fetcher\u001b[0m:\u001b[36m__init__\u001b[0m:\u001b[36m113\u001b[0m | \u001b[1mAsyncDataFetcher initialized with browser=chrome120, timeout=30s, rate_limit=0.0s\u001b[0m\n",
      "\u001b[32m2025-10-05 21:08:51\u001b[0m | \u001b[1mINFO    \u001b[0m | \u001b[36msettfex.services.set.stock.corporate_action\u001b[0m:\u001b[36m__init__\u001b[0m:\u001b[36m108\u001b[0m | \u001b[1mCorporateActionService initialized with base_url=https://www.set.or.th\u001b[0m\n",
      "\u001b[32m2025-10-05 21:08:51\u001b[0m | \u001b[1mINFO    \u001b[0m | \u001b[36msettfex.services.set.stock.corporate_action\u001b[0m:\u001b[36mfetch_corporate_actions\u001b[0m:\u001b[36m151\u001b[0m | \u001b[1mFetching corporate actions for symbol 'BBL' (lang=en) from https://www.set.or.th/api/set/stock/BBL/corporate-action?lang=en\u001b[0m\n",
      "\u001b[32m2025-10-05 21:08:51\u001b[0m | \u001b[1mINFO    \u001b[0m | \u001b[36msettfex.utils.data_fetcher\u001b[0m:\u001b[36m__init__\u001b[0m:\u001b[36m113\u001b[0m | \u001b[1mAsyncDataFetcher initialized with browser=chrome120, timeout=30s, rate_limit=0.0s\u001b[0m\n",
      "\u001b[32m2025-10-05 21:08:51\u001b[0m | \u001b[1mINFO    \u001b[0m | \u001b[36msettfex.utils.data_fetcher\u001b[0m:\u001b[36mfetch\u001b[0m:\u001b[36m303\u001b[0m | \u001b[1mFetch successful: url=https://www.set.or.th/api/set/stock/PTT/corporate-action?lang=en, status=200, elapsed=0.01s, size=8913 bytes\u001b[0m\n",
      "\u001b[32m2025-10-05 21:08:51\u001b[0m | \u001b[1mINFO    \u001b[0m | \u001b[36msettfex.services.set.stock.corporate_action\u001b[0m:\u001b[36mfetch_corporate_actions\u001b[0m:\u001b[36m190\u001b[0m | \u001b[1mSuccessfully fetched 19 corporate action(s) for PTT\u001b[0m\n",
      "\u001b[32m2025-10-05 21:08:51\u001b[0m | \u001b[1mINFO    \u001b[0m | \u001b[36msettfex.utils.data_fetcher\u001b[0m:\u001b[36mfetch\u001b[0m:\u001b[36m303\u001b[0m | \u001b[1mFetch successful: url=https://www.set.or.th/api/set/stock/KBANK/corporate-action?lang=en, status=200, elapsed=0.05s, size=9048 bytes\u001b[0m\n",
      "\u001b[32m2025-10-05 21:08:51\u001b[0m | \u001b[1mINFO    \u001b[0m | \u001b[36msettfex.services.set.stock.corporate_action\u001b[0m:\u001b[36mfetch_corporate_actions\u001b[0m:\u001b[36m190\u001b[0m | \u001b[1mSuccessfully fetched 20 corporate action(s) for KBANK\u001b[0m\n",
      "\u001b[32m2025-10-05 21:08:51\u001b[0m | \u001b[1mINFO    \u001b[0m | \u001b[36msettfex.utils.data_fetcher\u001b[0m:\u001b[36mfetch\u001b[0m:\u001b[36m303\u001b[0m | \u001b[1mFetch successful: url=https://www.set.or.th/api/set/stock/CPALL/corporate-action?lang=en, status=200, elapsed=0.05s, size=6408 bytes\u001b[0m\n",
      "\u001b[32m2025-10-05 21:08:51\u001b[0m | \u001b[1mINFO    \u001b[0m | \u001b[36msettfex.services.set.stock.corporate_action\u001b[0m:\u001b[36mfetch_corporate_actions\u001b[0m:\u001b[36m190\u001b[0m | \u001b[1mSuccessfully fetched 14 corporate action(s) for CPALL\u001b[0m\n",
      "\u001b[32m2025-10-05 21:08:51\u001b[0m | \u001b[1mINFO    \u001b[0m | \u001b[36msettfex.utils.data_fetcher\u001b[0m:\u001b[36mfetch\u001b[0m:\u001b[36m303\u001b[0m | \u001b[1mFetch successful: url=https://www.set.or.th/api/set/stock/AOT/corporate-action?lang=en, status=200, elapsed=0.05s, size=3981 bytes\u001b[0m\n",
      "\u001b[32m2025-10-05 21:08:51\u001b[0m | \u001b[1mINFO    \u001b[0m | \u001b[36msettfex.services.set.stock.corporate_action\u001b[0m:\u001b[36mfetch_corporate_actions\u001b[0m:\u001b[36m190\u001b[0m | \u001b[1mSuccessfully fetched 8 corporate action(s) for AOT\u001b[0m\n",
      "\u001b[32m2025-10-05 21:08:51\u001b[0m | \u001b[1mINFO    \u001b[0m | \u001b[36msettfex.utils.data_fetcher\u001b[0m:\u001b[36mfetch\u001b[0m:\u001b[36m303\u001b[0m | \u001b[1mFetch successful: url=https://www.set.or.th/api/set/stock/BBL/corporate-action?lang=en, status=200, elapsed=0.06s, size=8376 bytes\u001b[0m\n",
      "\u001b[32m2025-10-05 21:08:51\u001b[0m | \u001b[1mINFO    \u001b[0m | \u001b[36msettfex.services.set.stock.corporate_action\u001b[0m:\u001b[36mfetch_corporate_actions\u001b[0m:\u001b[36m190\u001b[0m | \u001b[1mSuccessfully fetched 18 corporate action(s) for BBL\u001b[0m\n"
     ]
    },
    {
     "name": "stdout",
     "output_type": "stream",
     "text": [
      "Dividend Calendar (44 events):\n",
      "\n",
      "symbol                   xd_date              payment_date  dividend currency                           source          type\n",
      "   PTT 2025-10-01 00:00:00+07:00 2025-10-17 00:00:00+07:00      0.90     Baht Net profit and retained earnings Cash Dividend\n",
      " KBANK 2025-09-10 00:00:00+07:00 2025-09-26 00:00:00+07:00      2.00     Baht                Retained Earnings Cash Dividend\n",
      "   BBL 2025-09-10 00:00:00+07:00 2025-09-26 00:00:00+07:00      2.00     Baht                Retained Earnings Cash Dividend\n",
      " KBANK 2025-05-15 00:00:00+07:00 2025-06-06 00:00:00+07:00      2.50     Baht                       Net Profit Cash Dividend\n",
      " CPALL 2025-05-06 00:00:00+07:00 2025-05-23 00:00:00+07:00      1.35     Baht                       Net Profit Cash Dividend\n",
      "   BBL 2025-04-23 00:00:00+07:00 2025-05-09 00:00:00+07:00      6.50     Baht                Retained Earnings Cash Dividend\n",
      " KBANK 2025-04-17 00:00:00+07:00 2025-05-09 00:00:00+07:00      8.00     Baht                Retained Earnings Cash Dividend\n",
      "   PTT 2025-03-06 00:00:00+07:00 2025-04-29 00:00:00+07:00      1.30     Baht                Retained Earnings Cash Dividend\n",
      "   AOT 2024-12-04 00:00:00+07:00 2025-02-06 00:00:00+07:00      0.79     Baht                       Net Profit Cash Dividend\n",
      " KBANK 2024-09-11 00:00:00+07:00 2024-09-27 00:00:00+07:00      1.50     Baht                Retained Earnings Cash Dividend\n",
      "   BBL 2024-09-04 00:00:00+07:00 2024-09-20 00:00:00+07:00      2.00     Baht                Retained Earnings Cash Dividend\n",
      "   PTT 2024-08-28 00:00:00+07:00 2024-09-13 00:00:00+07:00      0.80     Baht Net profit and retained earnings Cash Dividend\n",
      " CPALL 2024-05-07 00:00:00+07:00 2024-05-24 00:00:00+07:00      1.00     Baht                       Net Profit Cash Dividend\n",
      "   BBL 2024-04-23 00:00:00+07:00 2024-05-10 00:00:00+07:00      5.00     Baht                Retained Earnings Cash Dividend\n",
      " KBANK 2024-04-22 00:00:00+07:00 2024-05-10 00:00:00+07:00      6.00     Baht                Retained Earnings Cash Dividend\n",
      "   PTT 2024-02-29 00:00:00+07:00 2024-04-30 00:00:00+07:00      1.20     Baht                Retained Earnings Cash Dividend\n",
      "   AOT 2023-12-08 00:00:00+07:00 2024-02-14 00:00:00+07:00      0.36     Baht                       Net Profit Cash Dividend\n",
      "   PTT 2023-10-04 00:00:00+07:00 2023-10-20 00:00:00+07:00      0.80     Baht Net profit and retained earnings Cash Dividend\n",
      " KBANK 2023-09-13 00:00:00+07:00 2023-09-29 00:00:00+07:00      0.50     Baht                Retained Earnings Cash Dividend\n",
      "   BBL 2023-09-06 00:00:00+07:00 2023-09-22 00:00:00+07:00      2.00     Baht                Retained Earnings Cash Dividend\n"
     ]
    }
   ],
   "source": [
    "async def build_dividend_calendar(symbols: list[str]):\n",
    "    \"\"\"\n",
    "    Build a dividend calendar for multiple stocks.\n",
    "    \"\"\"\n",
    "    tasks = [get_corporate_actions(symbol) for symbol in symbols]\n",
    "    results = await asyncio.gather(*tasks, return_exceptions=True)\n",
    "    \n",
    "    dividends = []\n",
    "    for symbol, actions in zip(symbols, results):\n",
    "        if isinstance(actions, Exception):\n",
    "            continue\n",
    "        \n",
    "        for action in actions:\n",
    "            if action.ca_type == \"XD\" and action.dividend:\n",
    "                dividends.append({\n",
    "                    \"symbol\": symbol,\n",
    "                    \"xd_date\": action.x_date,\n",
    "                    \"payment_date\": action.payment_date,\n",
    "                    \"dividend\": action.dividend,\n",
    "                    \"currency\": action.currency,\n",
    "                    \"source\": action.source_of_dividend,\n",
    "                    \"type\": action.dividend_type\n",
    "                })\n",
    "    \n",
    "    df = pd.DataFrame(dividends)\n",
    "    if not df.empty:\n",
    "        df = df.sort_values('xd_date', ascending=False)\n",
    "    return df\n",
    "\n",
    "# Build calendar\n",
    "symbols = [\"PTT\", \"KBANK\", \"CPALL\", \"AOT\", \"BBL\"]\n",
    "div_calendar = await build_dividend_calendar(symbols)\n",
    "\n",
    "print(f\"Dividend Calendar ({len(div_calendar)} events):\\n\")\n",
    "print(div_calendar.head(20).to_string(index=False))"
   ]
  },
  {
   "cell_type": "markdown",
   "metadata": {},
   "source": [
    "## Use Case: Upcoming Dividends"
   ]
  },
  {
   "cell_type": "code",
   "execution_count": null,
   "metadata": {},
   "outputs": [],
   "source": "def find_upcoming_dividends(div_calendar, days_ahead: int = 30):\n    \"\"\"\n    Find dividends with XD dates in the next N days.\n    \"\"\"\n    today = pd.Timestamp(datetime.now().date())  # Timezone-naive\n    \n    # Filter upcoming\n    df = div_calendar.copy()\n    df['xd_date'] = pd.to_datetime(df['xd_date']).dt.tz_localize(None)  # Remove timezone\n    df['days_until'] = (df['xd_date'] - today).dt.days\n    \n    upcoming = df[df['days_until'].between(0, days_ahead)].sort_values('days_until')\n    return upcoming\n\n# Find upcoming dividends\nupcoming = find_upcoming_dividends(div_calendar, days_ahead=60)\nprint(f\"Upcoming Dividends (next 60 days):\\n\")\nif not upcoming.empty:\n    print(upcoming[['symbol', 'xd_date', 'dividend', 'payment_date', 'days_until']].to_string(index=False))\nelse:\n    print(\"No upcoming dividends found\")"
  },
  {
   "cell_type": "markdown",
   "metadata": {},
   "source": [
    "## Use Case: Meeting Tracker"
   ]
  },
  {
   "cell_type": "code",
   "execution_count": 6,
   "metadata": {},
   "outputs": [
    {
     "name": "stderr",
     "output_type": "stream",
     "text": [
      "\u001b[32m2025-10-05 21:13:05\u001b[0m | \u001b[1mINFO    \u001b[0m | \u001b[36msettfex.services.set.stock.corporate_action\u001b[0m:\u001b[36m__init__\u001b[0m:\u001b[36m108\u001b[0m | \u001b[1mCorporateActionService initialized with base_url=https://www.set.or.th\u001b[0m\n",
      "\u001b[32m2025-10-05 21:13:05\u001b[0m | \u001b[1mINFO    \u001b[0m | \u001b[36msettfex.services.set.stock.corporate_action\u001b[0m:\u001b[36mfetch_corporate_actions\u001b[0m:\u001b[36m151\u001b[0m | \u001b[1mFetching corporate actions for symbol 'PTT' (lang=en) from https://www.set.or.th/api/set/stock/PTT/corporate-action?lang=en\u001b[0m\n",
      "\u001b[32m2025-10-05 21:13:05\u001b[0m | \u001b[1mINFO    \u001b[0m | \u001b[36msettfex.utils.data_fetcher\u001b[0m:\u001b[36m__init__\u001b[0m:\u001b[36m113\u001b[0m | \u001b[1mAsyncDataFetcher initialized with browser=chrome120, timeout=30s, rate_limit=0.0s\u001b[0m\n",
      "\u001b[32m2025-10-05 21:13:05\u001b[0m | \u001b[1mINFO    \u001b[0m | \u001b[36msettfex.services.set.stock.corporate_action\u001b[0m:\u001b[36m__init__\u001b[0m:\u001b[36m108\u001b[0m | \u001b[1mCorporateActionService initialized with base_url=https://www.set.or.th\u001b[0m\n",
      "\u001b[32m2025-10-05 21:13:05\u001b[0m | \u001b[1mINFO    \u001b[0m | \u001b[36msettfex.services.set.stock.corporate_action\u001b[0m:\u001b[36mfetch_corporate_actions\u001b[0m:\u001b[36m151\u001b[0m | \u001b[1mFetching corporate actions for symbol 'KBANK' (lang=en) from https://www.set.or.th/api/set/stock/KBANK/corporate-action?lang=en\u001b[0m\n",
      "\u001b[32m2025-10-05 21:13:05\u001b[0m | \u001b[1mINFO    \u001b[0m | \u001b[36msettfex.utils.data_fetcher\u001b[0m:\u001b[36m__init__\u001b[0m:\u001b[36m113\u001b[0m | \u001b[1mAsyncDataFetcher initialized with browser=chrome120, timeout=30s, rate_limit=0.0s\u001b[0m\n",
      "\u001b[32m2025-10-05 21:13:05\u001b[0m | \u001b[1mINFO    \u001b[0m | \u001b[36msettfex.services.set.stock.corporate_action\u001b[0m:\u001b[36m__init__\u001b[0m:\u001b[36m108\u001b[0m | \u001b[1mCorporateActionService initialized with base_url=https://www.set.or.th\u001b[0m\n",
      "\u001b[32m2025-10-05 21:13:05\u001b[0m | \u001b[1mINFO    \u001b[0m | \u001b[36msettfex.services.set.stock.corporate_action\u001b[0m:\u001b[36mfetch_corporate_actions\u001b[0m:\u001b[36m151\u001b[0m | \u001b[1mFetching corporate actions for symbol 'CPALL' (lang=en) from https://www.set.or.th/api/set/stock/CPALL/corporate-action?lang=en\u001b[0m\n",
      "\u001b[32m2025-10-05 21:13:05\u001b[0m | \u001b[1mINFO    \u001b[0m | \u001b[36msettfex.utils.data_fetcher\u001b[0m:\u001b[36m__init__\u001b[0m:\u001b[36m113\u001b[0m | \u001b[1mAsyncDataFetcher initialized with browser=chrome120, timeout=30s, rate_limit=0.0s\u001b[0m\n",
      "\u001b[32m2025-10-05 21:13:05\u001b[0m | \u001b[1mINFO    \u001b[0m | \u001b[36msettfex.services.set.stock.corporate_action\u001b[0m:\u001b[36m__init__\u001b[0m:\u001b[36m108\u001b[0m | \u001b[1mCorporateActionService initialized with base_url=https://www.set.or.th\u001b[0m\n",
      "\u001b[32m2025-10-05 21:13:05\u001b[0m | \u001b[1mINFO    \u001b[0m | \u001b[36msettfex.services.set.stock.corporate_action\u001b[0m:\u001b[36mfetch_corporate_actions\u001b[0m:\u001b[36m151\u001b[0m | \u001b[1mFetching corporate actions for symbol 'AOT' (lang=en) from https://www.set.or.th/api/set/stock/AOT/corporate-action?lang=en\u001b[0m\n",
      "\u001b[32m2025-10-05 21:13:05\u001b[0m | \u001b[1mINFO    \u001b[0m | \u001b[36msettfex.utils.data_fetcher\u001b[0m:\u001b[36m__init__\u001b[0m:\u001b[36m113\u001b[0m | \u001b[1mAsyncDataFetcher initialized with browser=chrome120, timeout=30s, rate_limit=0.0s\u001b[0m\n",
      "\u001b[32m2025-10-05 21:13:05\u001b[0m | \u001b[1mINFO    \u001b[0m | \u001b[36msettfex.services.set.stock.corporate_action\u001b[0m:\u001b[36m__init__\u001b[0m:\u001b[36m108\u001b[0m | \u001b[1mCorporateActionService initialized with base_url=https://www.set.or.th\u001b[0m\n",
      "\u001b[32m2025-10-05 21:13:05\u001b[0m | \u001b[1mINFO    \u001b[0m | \u001b[36msettfex.services.set.stock.corporate_action\u001b[0m:\u001b[36mfetch_corporate_actions\u001b[0m:\u001b[36m151\u001b[0m | \u001b[1mFetching corporate actions for symbol 'BBL' (lang=en) from https://www.set.or.th/api/set/stock/BBL/corporate-action?lang=en\u001b[0m\n",
      "\u001b[32m2025-10-05 21:13:05\u001b[0m | \u001b[1mINFO    \u001b[0m | \u001b[36msettfex.utils.data_fetcher\u001b[0m:\u001b[36m__init__\u001b[0m:\u001b[36m113\u001b[0m | \u001b[1mAsyncDataFetcher initialized with browser=chrome120, timeout=30s, rate_limit=0.0s\u001b[0m\n",
      "\u001b[32m2025-10-05 21:13:05\u001b[0m | \u001b[1mINFO    \u001b[0m | \u001b[36msettfex.utils.data_fetcher\u001b[0m:\u001b[36mfetch\u001b[0m:\u001b[36m303\u001b[0m | \u001b[1mFetch successful: url=https://www.set.or.th/api/set/stock/AOT/corporate-action?lang=en, status=200, elapsed=0.13s, size=3981 bytes\u001b[0m\n",
      "\u001b[32m2025-10-05 21:13:05\u001b[0m | \u001b[1mINFO    \u001b[0m | \u001b[36msettfex.services.set.stock.corporate_action\u001b[0m:\u001b[36mfetch_corporate_actions\u001b[0m:\u001b[36m190\u001b[0m | \u001b[1mSuccessfully fetched 8 corporate action(s) for AOT\u001b[0m\n",
      "\u001b[32m2025-10-05 21:13:05\u001b[0m | \u001b[1mINFO    \u001b[0m | \u001b[36msettfex.utils.data_fetcher\u001b[0m:\u001b[36mfetch\u001b[0m:\u001b[36m303\u001b[0m | \u001b[1mFetch successful: url=https://www.set.or.th/api/set/stock/BBL/corporate-action?lang=en, status=200, elapsed=0.13s, size=8376 bytes\u001b[0m\n",
      "\u001b[32m2025-10-05 21:13:05\u001b[0m | \u001b[1mINFO    \u001b[0m | \u001b[36msettfex.services.set.stock.corporate_action\u001b[0m:\u001b[36mfetch_corporate_actions\u001b[0m:\u001b[36m190\u001b[0m | \u001b[1mSuccessfully fetched 18 corporate action(s) for BBL\u001b[0m\n",
      "\u001b[32m2025-10-05 21:13:05\u001b[0m | \u001b[1mINFO    \u001b[0m | \u001b[36msettfex.utils.data_fetcher\u001b[0m:\u001b[36mfetch\u001b[0m:\u001b[36m303\u001b[0m | \u001b[1mFetch successful: url=https://www.set.or.th/api/set/stock/KBANK/corporate-action?lang=en, status=200, elapsed=0.14s, size=9048 bytes\u001b[0m\n",
      "\u001b[32m2025-10-05 21:13:05\u001b[0m | \u001b[1mINFO    \u001b[0m | \u001b[36msettfex.services.set.stock.corporate_action\u001b[0m:\u001b[36mfetch_corporate_actions\u001b[0m:\u001b[36m190\u001b[0m | \u001b[1mSuccessfully fetched 20 corporate action(s) for KBANK\u001b[0m\n",
      "\u001b[32m2025-10-05 21:13:05\u001b[0m | \u001b[1mINFO    \u001b[0m | \u001b[36msettfex.utils.data_fetcher\u001b[0m:\u001b[36mfetch\u001b[0m:\u001b[36m303\u001b[0m | \u001b[1mFetch successful: url=https://www.set.or.th/api/set/stock/PTT/corporate-action?lang=en, status=200, elapsed=0.14s, size=8913 bytes\u001b[0m\n",
      "\u001b[32m2025-10-05 21:13:05\u001b[0m | \u001b[1mINFO    \u001b[0m | \u001b[36msettfex.services.set.stock.corporate_action\u001b[0m:\u001b[36mfetch_corporate_actions\u001b[0m:\u001b[36m190\u001b[0m | \u001b[1mSuccessfully fetched 19 corporate action(s) for PTT\u001b[0m\n",
      "\u001b[32m2025-10-05 21:13:05\u001b[0m | \u001b[1mINFO    \u001b[0m | \u001b[36msettfex.utils.data_fetcher\u001b[0m:\u001b[36mfetch\u001b[0m:\u001b[36m303\u001b[0m | \u001b[1mFetch successful: url=https://www.set.or.th/api/set/stock/CPALL/corporate-action?lang=en, status=200, elapsed=0.14s, size=6408 bytes\u001b[0m\n",
      "\u001b[32m2025-10-05 21:13:05\u001b[0m | \u001b[1mINFO    \u001b[0m | \u001b[36msettfex.services.set.stock.corporate_action\u001b[0m:\u001b[36mfetch_corporate_actions\u001b[0m:\u001b[36m190\u001b[0m | \u001b[1mSuccessfully fetched 14 corporate action(s) for CPALL\u001b[0m\n"
     ]
    },
    {
     "name": "stdout",
     "output_type": "stream",
     "text": [
      "Shareholder Meetings (33):\n",
      "\n",
      "symbol meeting_type              meeting_date book_close                                             agenda\n",
      " KBANK          EGM 2025-05-07 14:00:00+07:00       None Cash dividend payment,To consider approving the am\n",
      " CPALL          AGM 2025-04-25 14:00:00+07:00       None     Cash dividend payment,Changing The director(s)\n",
      "   BBL          AGM 2025-04-11 15:00:00+07:00       None Cash dividend payment,The issuance of debentures,C\n",
      "   PTT          AGM 2025-04-11 13:30:00+07:00       None     Cash dividend payment,Changing The director(s)\n",
      " KBANK          AGM 2025-04-09 14:00:00+07:00       None Cash dividend payment,Changing The director(s),To \n",
      "   AOT          AGM 2025-01-24 14:00:00+07:00       None     Cash dividend payment,Changing The director(s)\n",
      " CPALL          AGM 2024-04-26 14:00:00+07:00       None                              Cash dividend payment\n",
      "   PTT          AGM 2024-04-12 13:30:00+07:00       None     Cash dividend payment,Changing The director(s)\n",
      "   BBL          AGM 2024-04-11 15:00:00+07:00       None     Cash dividend payment,Changing The director(s)\n",
      " KBANK          AGM 2024-04-11 15:00:00+07:00       None     Cash dividend payment,Changing The director(s)\n"
     ]
    }
   ],
   "source": [
    "async def track_shareholder_meetings(symbols: list[str]):\n",
    "    \"\"\"\n",
    "    Track upcoming shareholder meetings (AGM/EGM).\n",
    "    \"\"\"\n",
    "    tasks = [get_corporate_actions(symbol) for symbol in symbols]\n",
    "    results = await asyncio.gather(*tasks, return_exceptions=True)\n",
    "    \n",
    "    meetings = []\n",
    "    for symbol, actions in zip(symbols, results):\n",
    "        if isinstance(actions, Exception):\n",
    "            continue\n",
    "        \n",
    "        for action in actions:\n",
    "            if action.ca_type == \"XM\":  # Meeting\n",
    "                meetings.append({\n",
    "                    \"symbol\": symbol,\n",
    "                    \"meeting_type\": action.meeting_type,\n",
    "                    \"meeting_date\": action.meeting_date,\n",
    "                    \"book_close\": action.book_close_date,\n",
    "                    \"agenda\": action.agenda[:50] if action.agenda else \"N/A\"  # Truncate\n",
    "                })\n",
    "    \n",
    "    return pd.DataFrame(meetings).sort_values('meeting_date', ascending=False)\n",
    "\n",
    "meetings = await track_shareholder_meetings(symbols)\n",
    "print(f\"Shareholder Meetings ({len(meetings)}):\\n\")\n",
    "print(meetings.head(10).to_string(index=False))"
   ]
  },
  {
   "cell_type": "markdown",
   "metadata": {},
   "source": [
    "## Use Case: Dividend Yield Analysis"
   ]
  },
  {
   "cell_type": "code",
   "execution_count": 7,
   "metadata": {},
   "outputs": [
    {
     "name": "stdout",
     "output_type": "stream",
     "text": [
      "Total Dividends by Stock (historical):\n",
      "symbol  total_dividend\n",
      " KBANK           34.75\n",
      "   BBL           33.00\n",
      "   PTT           11.10\n",
      " CPALL            5.85\n",
      "   AOT            1.34\n"
     ]
    }
   ],
   "source": [
    "# Calculate annual dividend totals\n",
    "annual_divs = div_calendar.groupby('symbol')['dividend'].sum().reset_index()\n",
    "annual_divs.columns = ['symbol', 'total_dividend']\n",
    "annual_divs = annual_divs.sort_values('total_dividend', ascending=False)\n",
    "\n",
    "print(\"Total Dividends by Stock (historical):\")\n",
    "print(annual_divs.to_string(index=False))"
   ]
  },
  {
   "cell_type": "markdown",
   "metadata": {},
   "source": [
    "## Error Handling"
   ]
  },
  {
   "cell_type": "code",
   "execution_count": 8,
   "metadata": {},
   "outputs": [
    {
     "name": "stderr",
     "output_type": "stream",
     "text": [
      "\u001b[32m2025-10-05 21:13:12\u001b[0m | \u001b[1mINFO    \u001b[0m | \u001b[36msettfex.services.set.stock.corporate_action\u001b[0m:\u001b[36m__init__\u001b[0m:\u001b[36m108\u001b[0m | \u001b[1mCorporateActionService initialized with base_url=https://www.set.or.th\u001b[0m\n",
      "\u001b[32m2025-10-05 21:13:12\u001b[0m | \u001b[1mINFO    \u001b[0m | \u001b[36msettfex.services.set.stock.corporate_action\u001b[0m:\u001b[36mfetch_corporate_actions\u001b[0m:\u001b[36m151\u001b[0m | \u001b[1mFetching corporate actions for symbol 'PTT' (lang=en) from https://www.set.or.th/api/set/stock/PTT/corporate-action?lang=en\u001b[0m\n",
      "\u001b[32m2025-10-05 21:13:12\u001b[0m | \u001b[1mINFO    \u001b[0m | \u001b[36msettfex.utils.data_fetcher\u001b[0m:\u001b[36m__init__\u001b[0m:\u001b[36m113\u001b[0m | \u001b[1mAsyncDataFetcher initialized with browser=chrome120, timeout=30s, rate_limit=0.0s\u001b[0m\n",
      "\u001b[32m2025-10-05 21:13:12\u001b[0m | \u001b[1mINFO    \u001b[0m | \u001b[36msettfex.utils.data_fetcher\u001b[0m:\u001b[36mfetch\u001b[0m:\u001b[36m303\u001b[0m | \u001b[1mFetch successful: url=https://www.set.or.th/api/set/stock/PTT/corporate-action?lang=en, status=200, elapsed=0.01s, size=8913 bytes\u001b[0m\n",
      "\u001b[32m2025-10-05 21:13:12\u001b[0m | \u001b[1mINFO    \u001b[0m | \u001b[36msettfex.services.set.stock.corporate_action\u001b[0m:\u001b[36mfetch_corporate_actions\u001b[0m:\u001b[36m190\u001b[0m | \u001b[1mSuccessfully fetched 19 corporate action(s) for PTT\u001b[0m\n"
     ]
    },
    {
     "name": "stdout",
     "output_type": "stream",
     "text": [
      "✓ PTT: 19 actions\n"
     ]
    },
    {
     "data": {
      "text/plain": [
       "[CorporateAction(symbol='PTT', name='', ca_type='XD', type='XD', book_close_date=None, record_date=datetime.datetime(2025, 10, 2, 0, 0, tzinfo=TzInfo(+07:00)), remark=None, x_date=datetime.datetime(2025, 10, 1, 0, 0, tzinfo=TzInfo(+07:00)), x_session='', payment_date=datetime.datetime(2025, 10, 17, 0, 0, tzinfo=TzInfo(+07:00)), begin_operation=datetime.datetime(2025, 1, 1, 0, 0, tzinfo=TzInfo(+07:00)), end_operation=datetime.datetime(2025, 6, 30, 0, 0, tzinfo=TzInfo(+07:00)), source_of_dividend='Net profit and retained earnings', dividend=0.9, currency='Baht', ratio=None, dividend_type='Cash Dividend', approximate_payment_date=None, tentative_dividend_flag=None, tentative_dividend=None, dividend_payment='0.90', meeting_date=None, agenda=None, venue=None, meeting_type=None, inquiry_date=None),\n",
       " CorporateAction(symbol='PTT', name='', ca_type='XD', type='XD', book_close_date=None, record_date=datetime.datetime(2025, 3, 7, 0, 0, tzinfo=TzInfo(+07:00)), remark=None, x_date=datetime.datetime(2025, 3, 6, 0, 0, tzinfo=TzInfo(+07:00)), x_session='', payment_date=datetime.datetime(2025, 4, 29, 0, 0, tzinfo=TzInfo(+07:00)), begin_operation=None, end_operation=None, source_of_dividend='Retained Earnings', dividend=1.3, currency='Baht', ratio=None, dividend_type='Cash Dividend', approximate_payment_date=None, tentative_dividend_flag=None, tentative_dividend=None, dividend_payment='1.30', meeting_date=None, agenda=None, venue=None, meeting_type=None, inquiry_date=None),\n",
       " CorporateAction(symbol='PTT', name='', ca_type='XM', type='XM', book_close_date=None, record_date=datetime.datetime(2025, 3, 7, 0, 0, tzinfo=TzInfo(+07:00)), remark='', x_date=datetime.datetime(2025, 3, 6, 0, 0, tzinfo=TzInfo(+07:00)), x_session='', payment_date=None, begin_operation=None, end_operation=None, source_of_dividend=None, dividend=None, currency=None, ratio=None, dividend_type=None, approximate_payment_date=None, tentative_dividend_flag=None, tentative_dividend=None, dividend_payment=None, meeting_date=datetime.datetime(2025, 4, 11, 13, 30, tzinfo=TzInfo(+07:00)), agenda='Cash dividend payment,Changing The director(s)', venue='Electronic Meetings', meeting_type='AGM', inquiry_date=None),\n",
       " CorporateAction(symbol='PTT', name='', ca_type='XD', type='XD', book_close_date=None, record_date=datetime.datetime(2024, 8, 29, 0, 0, tzinfo=TzInfo(+07:00)), remark=None, x_date=datetime.datetime(2024, 8, 28, 0, 0, tzinfo=TzInfo(+07:00)), x_session='', payment_date=datetime.datetime(2024, 9, 13, 0, 0, tzinfo=TzInfo(+07:00)), begin_operation=datetime.datetime(2024, 1, 1, 0, 0, tzinfo=TzInfo(+07:00)), end_operation=datetime.datetime(2024, 6, 30, 0, 0, tzinfo=TzInfo(+07:00)), source_of_dividend='Net profit and retained earnings', dividend=0.8, currency='Baht', ratio=None, dividend_type='Cash Dividend', approximate_payment_date=None, tentative_dividend_flag=None, tentative_dividend=None, dividend_payment='0.80', meeting_date=None, agenda=None, venue=None, meeting_type=None, inquiry_date=None),\n",
       " CorporateAction(symbol='PTT', name='', ca_type='XD', type='XD', book_close_date=None, record_date=datetime.datetime(2024, 3, 1, 0, 0, tzinfo=TzInfo(+07:00)), remark=None, x_date=datetime.datetime(2024, 2, 29, 0, 0, tzinfo=TzInfo(+07:00)), x_session='', payment_date=datetime.datetime(2024, 4, 30, 0, 0, tzinfo=TzInfo(+07:00)), begin_operation=None, end_operation=None, source_of_dividend='Retained Earnings', dividend=1.2, currency='Baht', ratio=None, dividend_type='Cash Dividend', approximate_payment_date=None, tentative_dividend_flag=None, tentative_dividend=None, dividend_payment='1.20', meeting_date=None, agenda=None, venue=None, meeting_type=None, inquiry_date=None),\n",
       " CorporateAction(symbol='PTT', name='', ca_type='XM', type='XM', book_close_date=None, record_date=datetime.datetime(2024, 3, 1, 0, 0, tzinfo=TzInfo(+07:00)), remark='', x_date=datetime.datetime(2024, 2, 29, 0, 0, tzinfo=TzInfo(+07:00)), x_session='', payment_date=None, begin_operation=None, end_operation=None, source_of_dividend=None, dividend=None, currency=None, ratio=None, dividend_type=None, approximate_payment_date=None, tentative_dividend_flag=None, tentative_dividend=None, dividend_payment=None, meeting_date=datetime.datetime(2024, 4, 12, 13, 30, tzinfo=TzInfo(+07:00)), agenda='Cash dividend payment,Changing The director(s)', venue='Electronic Meeting (E-Meeting)', meeting_type='AGM', inquiry_date=None),\n",
       " CorporateAction(symbol='PTT', name='', ca_type='XD', type='XD', book_close_date=None, record_date=datetime.datetime(2023, 10, 5, 0, 0, tzinfo=TzInfo(+07:00)), remark=None, x_date=datetime.datetime(2023, 10, 4, 0, 0, tzinfo=TzInfo(+07:00)), x_session='', payment_date=datetime.datetime(2023, 10, 20, 0, 0, tzinfo=TzInfo(+07:00)), begin_operation=datetime.datetime(2023, 1, 1, 0, 0, tzinfo=TzInfo(+07:00)), end_operation=datetime.datetime(2023, 6, 30, 0, 0, tzinfo=TzInfo(+07:00)), source_of_dividend='Net profit and retained earnings', dividend=0.8, currency='Baht', ratio=None, dividend_type='Cash Dividend', approximate_payment_date=None, tentative_dividend_flag=None, tentative_dividend=None, dividend_payment='0.80', meeting_date=None, agenda=None, venue=None, meeting_type=None, inquiry_date=None),\n",
       " CorporateAction(symbol='PTT', name='', ca_type='XD', type='XD', book_close_date=None, record_date=datetime.datetime(2023, 3, 3, 0, 0, tzinfo=TzInfo(+07:00)), remark=None, x_date=datetime.datetime(2023, 3, 2, 0, 0, tzinfo=TzInfo(+07:00)), x_session='', payment_date=datetime.datetime(2023, 4, 28, 0, 0, tzinfo=TzInfo(+07:00)), begin_operation=None, end_operation=None, source_of_dividend='Retained Earnings', dividend=0.7, currency='Baht', ratio=None, dividend_type='Cash Dividend', approximate_payment_date=None, tentative_dividend_flag=None, tentative_dividend=None, dividend_payment='0.70', meeting_date=None, agenda=None, venue=None, meeting_type=None, inquiry_date=None),\n",
       " CorporateAction(symbol='PTT', name='', ca_type='XM', type='XM', book_close_date=None, record_date=datetime.datetime(2023, 3, 3, 0, 0, tzinfo=TzInfo(+07:00)), remark='', x_date=datetime.datetime(2023, 3, 2, 0, 0, tzinfo=TzInfo(+07:00)), x_session='', payment_date=None, begin_operation=None, end_operation=None, source_of_dividend=None, dividend=None, currency=None, ratio=None, dividend_type=None, approximate_payment_date=None, tentative_dividend_flag=None, tentative_dividend=None, dividend_payment=None, meeting_date=datetime.datetime(2023, 4, 12, 13, 30, tzinfo=TzInfo(+07:00)), agenda='Cash dividend payment,Changing the director(s)', venue='E-Meeting', meeting_type='AGM', inquiry_date=None),\n",
       " CorporateAction(symbol='PTT', name='', ca_type='XD', type='XD', book_close_date=None, record_date=datetime.datetime(2022, 9, 29, 0, 0, tzinfo=TzInfo(+07:00)), remark=None, x_date=datetime.datetime(2022, 9, 28, 0, 0, tzinfo=TzInfo(+07:00)), x_session='', payment_date=datetime.datetime(2022, 10, 12, 0, 0, tzinfo=TzInfo(+07:00)), begin_operation=None, end_operation=None, source_of_dividend='Retained Earnings', dividend=1.3, currency='Baht', ratio=None, dividend_type='Cash Dividend', approximate_payment_date=None, tentative_dividend_flag=None, tentative_dividend=None, dividend_payment='1.30', meeting_date=None, agenda=None, venue=None, meeting_type=None, inquiry_date=None),\n",
       " CorporateAction(symbol='PTT', name='', ca_type='XD', type='XD', book_close_date=None, record_date=datetime.datetime(2022, 3, 4, 0, 0, tzinfo=TzInfo(+07:00)), remark=None, x_date=datetime.datetime(2022, 3, 3, 0, 0, tzinfo=TzInfo(+07:00)), x_session='', payment_date=datetime.datetime(2022, 4, 29, 0, 0, tzinfo=TzInfo(+07:00)), begin_operation=None, end_operation=None, source_of_dividend='Retained Earnings', dividend=0.8, currency='Baht', ratio=None, dividend_type='Cash Dividend', approximate_payment_date=None, tentative_dividend_flag=None, tentative_dividend=None, dividend_payment='0.80', meeting_date=None, agenda=None, venue=None, meeting_type=None, inquiry_date=None),\n",
       " CorporateAction(symbol='PTT', name='', ca_type='XM', type='XM', book_close_date=None, record_date=datetime.datetime(2022, 3, 4, 0, 0, tzinfo=TzInfo(+07:00)), remark='', x_date=datetime.datetime(2022, 3, 3, 0, 0, tzinfo=TzInfo(+07:00)), x_session='', payment_date=None, begin_operation=None, end_operation=None, source_of_dividend=None, dividend=None, currency=None, ratio=None, dividend_type=None, approximate_payment_date=None, tentative_dividend_flag=None, tentative_dividend=None, dividend_payment=None, meeting_date=datetime.datetime(2022, 4, 8, 13, 30, tzinfo=TzInfo(+07:00)), agenda='Cash dividend payment,Changing the director(s)', venue='PTT Auditorium, PTT Public Company Limited, Vibhavadi Rangsit Road, Chatuchak, Bangkok 10900, Thailand.', meeting_type='AGM', inquiry_date=None),\n",
       " CorporateAction(symbol='PTT', name='', ca_type='XD', type='XD', book_close_date=None, record_date=datetime.datetime(2021, 9, 30, 0, 0, tzinfo=TzInfo(+07:00)), remark=None, x_date=datetime.datetime(2021, 9, 29, 0, 0, tzinfo=TzInfo(+07:00)), x_session='', payment_date=datetime.datetime(2021, 10, 15, 0, 0, tzinfo=TzInfo(+07:00)), begin_operation=None, end_operation=None, source_of_dividend='Retained Earnings', dividend=1.2, currency='Baht', ratio=None, dividend_type='Cash Dividend', approximate_payment_date=None, tentative_dividend_flag=None, tentative_dividend=None, dividend_payment='1.20', meeting_date=None, agenda=None, venue=None, meeting_type=None, inquiry_date=None),\n",
       " CorporateAction(symbol='PTT', name='', ca_type='XD', type='XD', book_close_date=None, record_date=datetime.datetime(2021, 3, 5, 0, 0, tzinfo=TzInfo(+07:00)), remark=None, x_date=datetime.datetime(2021, 3, 4, 0, 0, tzinfo=TzInfo(+07:00)), x_session='', payment_date=datetime.datetime(2021, 4, 30, 0, 0, tzinfo=TzInfo(+07:00)), begin_operation=None, end_operation=None, source_of_dividend='Retained Earnings', dividend=0.82, currency='Baht', ratio=None, dividend_type='Cash Dividend', approximate_payment_date=None, tentative_dividend_flag=None, tentative_dividend=None, dividend_payment='0.82', meeting_date=None, agenda=None, venue=None, meeting_type=None, inquiry_date=None),\n",
       " CorporateAction(symbol='PTT', name='', ca_type='XM', type='XM', book_close_date=None, record_date=datetime.datetime(2021, 3, 5, 0, 0, tzinfo=TzInfo(+07:00)), remark='', x_date=datetime.datetime(2021, 3, 4, 0, 0, tzinfo=TzInfo(+07:00)), x_session='', payment_date=None, begin_operation=None, end_operation=None, source_of_dividend=None, dividend=None, currency=None, ratio=None, dividend_type=None, approximate_payment_date=None, tentative_dividend_flag=None, tentative_dividend=None, dividend_payment=None, meeting_date=datetime.datetime(2021, 4, 9, 13, 30, tzinfo=TzInfo(+07:00)), agenda='Cash dividend payment,Changing the director(s)', venue='Bangkok Convention Center, 5th Floor, Central Plaza Ladprao (Plaza Zone), 1695 Phaholyothin Road, Chatuchak, Bangkok 10900', meeting_type='AGM', inquiry_date=None),\n",
       " CorporateAction(symbol='PTT', name='', ca_type='XB', type='XB', book_close_date=None, record_date=datetime.datetime(2021, 1, 5, 0, 0, tzinfo=TzInfo(+07:00)), remark=None, x_date=datetime.datetime(2021, 1, 4, 0, 0, tzinfo=TzInfo(+07:00)), x_session='', payment_date=None, begin_operation=None, end_operation=None, source_of_dividend=None, dividend=None, currency='Baht', ratio='95.1997 : 1', dividend_type=None, approximate_payment_date=None, tentative_dividend_flag=None, tentative_dividend=None, dividend_payment=None, meeting_date=None, agenda=None, venue=None, meeting_type=None, inquiry_date=None),\n",
       " CorporateAction(symbol='PTT', name='', ca_type='XD', type='XD', book_close_date=None, record_date=datetime.datetime(2020, 10, 1, 0, 0, tzinfo=TzInfo(+07:00)), remark=None, x_date=datetime.datetime(2020, 9, 30, 0, 0, tzinfo=TzInfo(+07:00)), x_session='', payment_date=datetime.datetime(2020, 10, 16, 0, 0, tzinfo=TzInfo(+07:00)), begin_operation=None, end_operation=None, source_of_dividend='Retained Earnings', dividend=0.18, currency='Baht', ratio=None, dividend_type='Cash Dividend', approximate_payment_date=None, tentative_dividend_flag=None, tentative_dividend=None, dividend_payment='0.18', meeting_date=None, agenda=None, venue=None, meeting_type=None, inquiry_date=None),\n",
       " CorporateAction(symbol='PTT', name='', ca_type='XM', type='XM', book_close_date=None, record_date=datetime.datetime(2020, 5, 29, 0, 0, tzinfo=TzInfo(+07:00)), remark='', x_date=datetime.datetime(2020, 5, 28, 0, 0, tzinfo=TzInfo(+07:00)), x_session='', payment_date=None, begin_operation=None, end_operation=None, source_of_dividend=None, dividend=None, currency=None, ratio=None, dividend_type=None, approximate_payment_date=None, tentative_dividend_flag=None, tentative_dividend=None, dividend_payment=None, meeting_date=datetime.datetime(2020, 7, 3, 13, 30, tzinfo=TzInfo(+07:00)), agenda='Omitted dividend payment,Changing the director(s)', venue='PTT Auditorium, 2nd Floor, PTT Public Company Limited, Vibhavadi Rangsit Road , Chatuchak, Bangkok 10900', meeting_type='AGM', inquiry_date=None),\n",
       " CorporateAction(symbol='PTT', name='', ca_type='XD', type='XD', book_close_date=None, record_date=datetime.datetime(2020, 3, 5, 0, 0, tzinfo=TzInfo(+07:00)), remark=None, x_date=datetime.datetime(2020, 3, 4, 0, 0, tzinfo=TzInfo(+07:00)), x_session='', payment_date=datetime.datetime(2020, 4, 24, 0, 0, tzinfo=TzInfo(+07:00)), begin_operation=None, end_operation=None, source_of_dividend='Retained Earnings', dividend=1.1, currency='Baht', ratio=None, dividend_type='Cash Dividend', approximate_payment_date=None, tentative_dividend_flag=None, tentative_dividend=None, dividend_payment='1.10', meeting_date=None, agenda=None, venue=None, meeting_type=None, inquiry_date=None)]"
      ]
     },
     "execution_count": 8,
     "metadata": {},
     "output_type": "execute_result"
    }
   ],
   "source": [
    "async def safe_get_corporate_actions(symbol: str):\n",
    "    try:\n",
    "        actions = await get_corporate_actions(symbol)\n",
    "        print(f\"✓ {symbol}: {len(actions)} actions\")\n",
    "        return actions\n",
    "    except Exception as e:\n",
    "        print(f\"✗ {symbol}: {e}\")\n",
    "        return []\n",
    "\n",
    "await safe_get_corporate_actions(\"PTT\")"
   ]
  },
  {
   "cell_type": "markdown",
   "metadata": {},
   "source": [
    "## Next Steps\n",
    "\n",
    "- **[Highlight Data](02_highlight_data.ipynb)** - Current dividend yield\n",
    "- **[Shareholder](06_shareholder.ipynb)** - Ownership structure\n",
    "- **[Financial](11_financial.ipynb)** - Financial statements\n",
    "\n",
    "**Documentation**: `/docs/settfex/services/set/corporate_action.md`"
   ]
  }
 ],
 "metadata": {
  "kernelspec": {
   "display_name": "settfex",
   "language": "python",
   "name": "python3"
  },
  "language_info": {
   "codemirror_mode": {
    "name": "ipython",
    "version": 3
   },
   "file_extension": ".py",
   "mimetype": "text/x-python",
   "name": "python",
   "nbconvert_exporter": "python",
   "pygments_lexer": "ipython3",
   "version": "3.13.5"
  }
 },
 "nbformat": 4,
 "nbformat_minor": 4
}