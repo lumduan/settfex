{
 "cells": [
  {
   "cell_type": "markdown",
   "metadata": {},
   "source": [
    "# Corporate Action Service - Dividends & Events\n",
    "\n",
    "Track corporate actions including dividend announcements, shareholder meetings (AGM/EGM), and other corporate events."
   ]
  },
  {
   "cell_type": "markdown",
   "metadata": {},
   "source": [
    "## Overview\n",
    "\n",
    "The **Corporate Action Service** tracks important corporate events:\n",
    "\n",
    "- **Dividend Tracking**: XD dates, payment dates, dividend amounts\n",
    "- **Shareholder Meetings**: AGM (Annual General Meeting) and EGM (Extraordinary General Meeting)\n",
    "- **Meeting Details**: Agenda, venue, meeting dates\n",
    "- **Dividend Capture**: Plan dividend capture strategies\n",
    "- **Calendar Management**: Track upcoming corporate events\n",
    "\n",
    "### When to Use This Service\n",
    "\n",
    "- Dividend income strategies\n",
    "- Shareholder rights management\n",
    "- Corporate event calendars\n",
    "- Ex-dividend date tracking\n",
    "- Meeting participation planning"
   ]
  },
  {
   "cell_type": "code",
   "execution_count": 1,
   "metadata": {},
   "outputs": [
    {
     "name": "stdout",
     "output_type": "stream",
     "text": [
      "zsh:1: command not found: pip\n"
     ]
    }
   ],
   "source": [
    "!pip install settfex"
   ]
  },
  {
   "cell_type": "code",
   "execution_count": 2,
   "metadata": {},
   "outputs": [
    {
     "name": "stdout",
     "output_type": "stream",
     "text": [
      "Libraries imported!\n"
     ]
    }
   ],
   "source": [
    "import asyncio\n",
    "from settfex.services.set import get_corporate_actions\n",
    "import pandas as pd\n",
    "from datetime import datetime\n",
    "\n",
    "print(\"Libraries imported!\")"
   ]
  },
  {
   "cell_type": "markdown",
   "metadata": {},
   "source": [
    "## Basic Usage"
   ]
  },
  {
   "cell_type": "code",
   "execution_count": 3,
   "metadata": {},
   "outputs": [
    {
     "name": "stderr",
     "output_type": "stream",
     "text": [
      "\u001b[32m2025-10-05 20:51:06\u001b[0m | \u001b[1mINFO    \u001b[0m | \u001b[36msettfex.services.set.stock.corporate_action\u001b[0m:\u001b[36m__init__\u001b[0m:\u001b[36m108\u001b[0m | \u001b[1mCorporateActionService initialized with base_url=https://www.set.or.th\u001b[0m\n",
      "\u001b[32m2025-10-05 20:51:06\u001b[0m | \u001b[1mINFO    \u001b[0m | \u001b[36msettfex.services.set.stock.corporate_action\u001b[0m:\u001b[36mfetch_corporate_actions\u001b[0m:\u001b[36m151\u001b[0m | \u001b[1mFetching corporate actions for symbol 'AOT' (lang=en) from https://www.set.or.th/api/set/stock/AOT/corporate-action?lang=en\u001b[0m\n",
      "\u001b[32m2025-10-05 20:51:06\u001b[0m | \u001b[1mINFO    \u001b[0m | \u001b[36msettfex.utils.data_fetcher\u001b[0m:\u001b[36m__init__\u001b[0m:\u001b[36m113\u001b[0m | \u001b[1mAsyncDataFetcher initialized with browser=chrome120, timeout=30s, rate_limit=0.0s\u001b[0m\n",
      "\u001b[32m2025-10-05 20:51:06\u001b[0m | \u001b[1mINFO    \u001b[0m | \u001b[36msettfex.utils.session_manager\u001b[0m:\u001b[36m__init__\u001b[0m:\u001b[36m98\u001b[0m | \u001b[1mSessionManager created with browser=chrome120, warmup_site=set, cache=enabled\u001b[0m\n",
      "\u001b[32m2025-10-05 20:51:06\u001b[0m | \u001b[1mINFO    \u001b[0m | \u001b[36msettfex.utils.session_cache\u001b[0m:\u001b[36m__init__\u001b[0m:\u001b[36m76\u001b[0m | \u001b[1mSessionCache initialized at /Users/sarat/.settfex/cache (ttl=3600s, size_limit=100MB)\u001b[0m\n",
      "\u001b[32m2025-10-05 20:51:06\u001b[0m | \u001b[32m\u001b[1mSUCCESS \u001b[0m | \u001b[36msettfex.utils.session_manager\u001b[0m:\u001b[36m_try_load_from_cache\u001b[0m:\u001b[36m202\u001b[0m | \u001b[32m\u001b[1m✓ Loaded session from cache: 4 cookies (age=291s, browser=chrome120)\u001b[0m\n",
      "\u001b[32m2025-10-05 20:51:06\u001b[0m | \u001b[1mINFO    \u001b[0m | \u001b[36msettfex.utils.data_fetcher\u001b[0m:\u001b[36mfetch\u001b[0m:\u001b[36m303\u001b[0m | \u001b[1mFetch successful: url=https://www.set.or.th/api/set/stock/AOT/corporate-action?lang=en, status=200, elapsed=0.09s, size=3981 bytes\u001b[0m\n",
      "\u001b[32m2025-10-05 20:51:06\u001b[0m | \u001b[1mINFO    \u001b[0m | \u001b[36msettfex.services.set.stock.corporate_action\u001b[0m:\u001b[36mfetch_corporate_actions\u001b[0m:\u001b[36m190\u001b[0m | \u001b[1mSuccessfully fetched 8 corporate action(s) for AOT\u001b[0m\n"
     ]
    },
    {
     "name": "stdout",
     "output_type": "stream",
     "text": [
      "Found 8 corporate actions for AOT\n",
      "\n",
      "Type: XD\n",
      "XD Date: 2024-12-04 00:00:00+07:00\n",
      "Dividend: 0.79 Baht\n",
      "Payment Date: 2025-02-06 00:00:00+07:00\n",
      "Source: Net Profit\n",
      "------------------------------------------------------------\n",
      "Type: XM\n",
      "XD Date: 2024-12-04 00:00:00+07:00\n",
      "Meeting: AGM\n",
      "Date: 2025-01-24 14:00:00+07:00\n",
      "Agenda: Cash dividend payment,Changing The director(s)\n",
      "------------------------------------------------------------\n",
      "Type: XD\n",
      "XD Date: 2023-12-08 00:00:00+07:00\n",
      "Dividend: 0.36 Baht\n",
      "Payment Date: 2024-02-14 00:00:00+07:00\n",
      "Source: Net Profit\n",
      "------------------------------------------------------------\n",
      "Type: XM\n",
      "XD Date: 2023-12-08 00:00:00+07:00\n",
      "Meeting: AGM\n",
      "Date: 2024-01-30 14:00:00+07:00\n",
      "Agenda: Cash dividend payment,Changing the director(s)\n",
      "------------------------------------------------------------\n",
      "Type: XM\n",
      "XD Date: 2022-12-09 00:00:00+07:00\n",
      "Meeting: AGM\n",
      "Date: 2023-01-20 14:00:00+07:00\n",
      "Agenda: Omitted dividend payment,Changing the director(s)\n",
      "------------------------------------------------------------\n"
     ]
    }
   ],
   "source": [
    "# Fetch corporate actions\n",
    "actions = await get_corporate_actions(\"AOT\")\n",
    "\n",
    "print(f\"Found {len(actions)} corporate actions for AOT\\n\")\n",
    "\n",
    "for action in actions[:5]:  # Show first 5\n",
    "    print(f\"Type: {action.ca_type}\")\n",
    "    print(f\"XD Date: {action.x_date}\")\n",
    "    \n",
    "    if action.ca_type == \"XD\":  # Dividend\n",
    "        print(f\"Dividend: {action.dividend} {action.currency}\")\n",
    "        print(f\"Payment Date: {action.payment_date}\")\n",
    "        print(f\"Source: {action.source_of_dividend}\")\n",
    "    elif action.ca_type == \"XM\":  # Meeting\n",
    "        print(f\"Meeting: {action.meeting_type}\")\n",
    "        print(f\"Date: {action.meeting_date}\")\n",
    "        print(f\"Agenda: {action.agenda}\")\n",
    "    \n",
    "    print(\"-\" * 60)"
   ]
  },
  {
   "cell_type": "markdown",
   "metadata": {},
   "source": [
    "## Advanced Usage - Dividend Calendar"
   ]
  },
  {
   "cell_type": "code",
   "execution_count": null,
   "metadata": {},
   "outputs": [],
   "source": "async def build_dividend_calendar(symbols: list[str]):\n    \"\"\"\n    Build a dividend calendar for multiple stocks.\n    \"\"\"\n    tasks = [get_corporate_actions(symbol) for symbol in symbols]\n    results = await asyncio.gather(*tasks, return_exceptions=True)\n    \n    dividends = []\n    for symbol, actions in zip(symbols, results):\n        if isinstance(actions, Exception):\n            continue\n        \n        for action in actions:\n            if action.ca_type == \"XD\" and action.dividend:\n                dividends.append({\n                    \"symbol\": symbol,\n                    \"xd_date\": action.x_date,\n                    \"payment_date\": action.payment_date,\n                    \"dividend\": action.dividend,\n                    \"currency\": action.currency,\n                    \"source\": action.source_of_dividend,\n                    \"type\": action.dividend_type\n                })\n    \n    df = pd.DataFrame(dividends)\n    if not df.empty:\n        df = df.sort_values('xd_date', ascending=False)\n    return df\n\n# Build calendar\nsymbols = [\"PTT\", \"KBANK\", \"CPALL\", \"AOT\", \"BBL\"]\ndiv_calendar = await build_dividend_calendar(symbols)\n\nprint(f\"Dividend Calendar ({len(div_calendar)} events):\\n\")\nprint(div_calendar.head(20).to_string(index=False))"
  },
  {
   "cell_type": "markdown",
   "metadata": {},
   "source": [
    "## Use Case: Upcoming Dividends"
   ]
  },
  {
   "cell_type": "code",
   "execution_count": 5,
   "metadata": {},
   "outputs": [
    {
     "ename": "AttributeError",
     "evalue": "Can only use .dt accessor with datetimelike values",
     "output_type": "error",
     "traceback": [
      "\u001b[31m---------------------------------------------------------------------------\u001b[39m",
      "\u001b[31mAttributeError\u001b[39m                            Traceback (most recent call last)",
      "\u001b[36mCell\u001b[39m\u001b[36m \u001b[39m\u001b[32mIn[5]\u001b[39m\u001b[32m, line 16\u001b[39m\n\u001b[32m     13\u001b[39m     \u001b[38;5;28;01mreturn\u001b[39;00m upcoming\n\u001b[32m     15\u001b[39m \u001b[38;5;66;03m# Find upcoming dividends\u001b[39;00m\n\u001b[32m---> \u001b[39m\u001b[32m16\u001b[39m upcoming = \u001b[43mfind_upcoming_dividends\u001b[49m\u001b[43m(\u001b[49m\u001b[43mdiv_calendar\u001b[49m\u001b[43m,\u001b[49m\u001b[43m \u001b[49m\u001b[43mdays_ahead\u001b[49m\u001b[43m=\u001b[49m\u001b[32;43m60\u001b[39;49m\u001b[43m)\u001b[49m\n\u001b[32m     17\u001b[39m \u001b[38;5;28mprint\u001b[39m(\u001b[33mf\u001b[39m\u001b[33m\"\u001b[39m\u001b[33mUpcoming Dividends (next 60 days):\u001b[39m\u001b[38;5;130;01m\\n\u001b[39;00m\u001b[33m\"\u001b[39m)\n\u001b[32m     18\u001b[39m \u001b[38;5;28;01mif\u001b[39;00m \u001b[38;5;129;01mnot\u001b[39;00m upcoming.empty:\n",
      "\u001b[36mCell\u001b[39m\u001b[36m \u001b[39m\u001b[32mIn[5]\u001b[39m\u001b[32m, line 10\u001b[39m, in \u001b[36mfind_upcoming_dividends\u001b[39m\u001b[34m(div_calendar, days_ahead)\u001b[39m\n\u001b[32m      8\u001b[39m df = div_calendar.copy()\n\u001b[32m      9\u001b[39m df[\u001b[33m'\u001b[39m\u001b[33mxd_date\u001b[39m\u001b[33m'\u001b[39m] = pd.to_datetime(df[\u001b[33m'\u001b[39m\u001b[33mxd_date\u001b[39m\u001b[33m'\u001b[39m]).dt.date\n\u001b[32m---> \u001b[39m\u001b[32m10\u001b[39m df[\u001b[33m'\u001b[39m\u001b[33mdays_until\u001b[39m\u001b[33m'\u001b[39m] = \u001b[43m(\u001b[49m\u001b[43mdf\u001b[49m\u001b[43m[\u001b[49m\u001b[33;43m'\u001b[39;49m\u001b[33;43mxd_date\u001b[39;49m\u001b[33;43m'\u001b[39;49m\u001b[43m]\u001b[49m\u001b[43m \u001b[49m\u001b[43m-\u001b[49m\u001b[43m \u001b[49m\u001b[43mtoday\u001b[49m\u001b[43m)\u001b[49m\u001b[43m.\u001b[49m\u001b[43mdt\u001b[49m.days\n\u001b[32m     12\u001b[39m upcoming = df[df[\u001b[33m'\u001b[39m\u001b[33mdays_until\u001b[39m\u001b[33m'\u001b[39m].between(\u001b[32m0\u001b[39m, days_ahead)].sort_values(\u001b[33m'\u001b[39m\u001b[33mdays_until\u001b[39m\u001b[33m'\u001b[39m)\n\u001b[32m     13\u001b[39m \u001b[38;5;28;01mreturn\u001b[39;00m upcoming\n",
      "\u001b[36mFile \u001b[39m\u001b[32m~/Code/python-lib/settfex/.venv/lib/python3.13/site-packages/pandas/core/generic.py:6321\u001b[39m, in \u001b[36mNDFrame.__getattr__\u001b[39m\u001b[34m(self, name)\u001b[39m\n\u001b[32m   6314\u001b[39m \u001b[38;5;28;01mif\u001b[39;00m (\n\u001b[32m   6315\u001b[39m     name \u001b[38;5;129;01mnot\u001b[39;00m \u001b[38;5;129;01min\u001b[39;00m \u001b[38;5;28mself\u001b[39m._internal_names_set\n\u001b[32m   6316\u001b[39m     \u001b[38;5;129;01mand\u001b[39;00m name \u001b[38;5;129;01mnot\u001b[39;00m \u001b[38;5;129;01min\u001b[39;00m \u001b[38;5;28mself\u001b[39m._metadata\n\u001b[32m   6317\u001b[39m     \u001b[38;5;129;01mand\u001b[39;00m name \u001b[38;5;129;01mnot\u001b[39;00m \u001b[38;5;129;01min\u001b[39;00m \u001b[38;5;28mself\u001b[39m._accessors\n\u001b[32m   6318\u001b[39m     \u001b[38;5;129;01mand\u001b[39;00m \u001b[38;5;28mself\u001b[39m._info_axis._can_hold_identifiers_and_holds_name(name)\n\u001b[32m   6319\u001b[39m ):\n\u001b[32m   6320\u001b[39m     \u001b[38;5;28;01mreturn\u001b[39;00m \u001b[38;5;28mself\u001b[39m[name]\n\u001b[32m-> \u001b[39m\u001b[32m6321\u001b[39m \u001b[38;5;28;01mreturn\u001b[39;00m \u001b[38;5;28;43mobject\u001b[39;49m\u001b[43m.\u001b[49m\u001b[34;43m__getattribute__\u001b[39;49m\u001b[43m(\u001b[49m\u001b[38;5;28;43mself\u001b[39;49m\u001b[43m,\u001b[49m\u001b[43m \u001b[49m\u001b[43mname\u001b[49m\u001b[43m)\u001b[49m\n",
      "\u001b[36mFile \u001b[39m\u001b[32m~/Code/python-lib/settfex/.venv/lib/python3.13/site-packages/pandas/core/accessor.py:224\u001b[39m, in \u001b[36mCachedAccessor.__get__\u001b[39m\u001b[34m(self, obj, cls)\u001b[39m\n\u001b[32m    221\u001b[39m \u001b[38;5;28;01mif\u001b[39;00m obj \u001b[38;5;129;01mis\u001b[39;00m \u001b[38;5;28;01mNone\u001b[39;00m:\n\u001b[32m    222\u001b[39m     \u001b[38;5;66;03m# we're accessing the attribute of the class, i.e., Dataset.geo\u001b[39;00m\n\u001b[32m    223\u001b[39m     \u001b[38;5;28;01mreturn\u001b[39;00m \u001b[38;5;28mself\u001b[39m._accessor\n\u001b[32m--> \u001b[39m\u001b[32m224\u001b[39m accessor_obj = \u001b[38;5;28;43mself\u001b[39;49m\u001b[43m.\u001b[49m\u001b[43m_accessor\u001b[49m\u001b[43m(\u001b[49m\u001b[43mobj\u001b[49m\u001b[43m)\u001b[49m\n\u001b[32m    225\u001b[39m \u001b[38;5;66;03m# Replace the property with the accessor object. Inspired by:\u001b[39;00m\n\u001b[32m    226\u001b[39m \u001b[38;5;66;03m# https://www.pydanny.com/cached-property.html\u001b[39;00m\n\u001b[32m    227\u001b[39m \u001b[38;5;66;03m# We need to use object.__setattr__ because we overwrite __setattr__ on\u001b[39;00m\n\u001b[32m    228\u001b[39m \u001b[38;5;66;03m# NDFrame\u001b[39;00m\n\u001b[32m    229\u001b[39m \u001b[38;5;28mobject\u001b[39m.\u001b[34m__setattr__\u001b[39m(obj, \u001b[38;5;28mself\u001b[39m._name, accessor_obj)\n",
      "\u001b[36mFile \u001b[39m\u001b[32m~/Code/python-lib/settfex/.venv/lib/python3.13/site-packages/pandas/core/indexes/accessors.py:643\u001b[39m, in \u001b[36mCombinedDatetimelikeProperties.__new__\u001b[39m\u001b[34m(cls, data)\u001b[39m\n\u001b[32m    640\u001b[39m \u001b[38;5;28;01melif\u001b[39;00m \u001b[38;5;28misinstance\u001b[39m(data.dtype, PeriodDtype):\n\u001b[32m    641\u001b[39m     \u001b[38;5;28;01mreturn\u001b[39;00m PeriodProperties(data, orig)\n\u001b[32m--> \u001b[39m\u001b[32m643\u001b[39m \u001b[38;5;28;01mraise\u001b[39;00m \u001b[38;5;167;01mAttributeError\u001b[39;00m(\u001b[33m\"\u001b[39m\u001b[33mCan only use .dt accessor with datetimelike values\u001b[39m\u001b[33m\"\u001b[39m)\n",
      "\u001b[31mAttributeError\u001b[39m: Can only use .dt accessor with datetimelike values"
     ]
    }
   ],
   "source": [
    "def find_upcoming_dividends(div_calendar, days_ahead: int = 30):\n",
    "    \"\"\"\n",
    "    Find dividends with XD dates in the next N days.\n",
    "    \"\"\"\n",
    "    today = datetime.now().date()\n",
    "    \n",
    "    # Filter upcoming\n",
    "    df = div_calendar.copy()\n",
    "    df['xd_date'] = pd.to_datetime(df['xd_date']).dt.date\n",
    "    df['days_until'] = (df['xd_date'] - today).dt.days\n",
    "    \n",
    "    upcoming = df[df['days_until'].between(0, days_ahead)].sort_values('days_until')\n",
    "    return upcoming\n",
    "\n",
    "# Find upcoming dividends\n",
    "upcoming = find_upcoming_dividends(div_calendar, days_ahead=60)\n",
    "print(f\"Upcoming Dividends (next 60 days):\\n\")\n",
    "if not upcoming.empty:\n",
    "    print(upcoming[['symbol', 'xd_date', 'dividend', 'payment_date', 'days_until']].to_string(index=False))\n",
    "else:\n",
    "    print(\"No upcoming dividends found\")"
   ]
  },
  {
   "cell_type": "markdown",
   "metadata": {},
   "source": [
    "## Use Case: Meeting Tracker"
   ]
  },
  {
   "cell_type": "code",
   "execution_count": null,
   "metadata": {},
   "outputs": [],
   "source": [
    "async def track_shareholder_meetings(symbols: list[str]):\n",
    "    \"\"\"\n",
    "    Track upcoming shareholder meetings (AGM/EGM).\n",
    "    \"\"\"\n",
    "    tasks = [get_corporate_actions(symbol) for symbol in symbols]\n",
    "    results = await asyncio.gather(*tasks, return_exceptions=True)\n",
    "    \n",
    "    meetings = []\n",
    "    for symbol, actions in zip(symbols, results):\n",
    "        if isinstance(actions, Exception):\n",
    "            continue\n",
    "        \n",
    "        for action in actions:\n",
    "            if action.ca_type == \"XM\":  # Meeting\n",
    "                meetings.append({\n",
    "                    \"symbol\": symbol,\n",
    "                    \"meeting_type\": action.meeting_type,\n",
    "                    \"meeting_date\": action.meeting_date,\n",
    "                    \"book_close\": action.book_close_date,\n",
    "                    \"agenda\": action.agenda[:50] if action.agenda else \"N/A\"  # Truncate\n",
    "                })\n",
    "    \n",
    "    return pd.DataFrame(meetings).sort_values('meeting_date', ascending=False)\n",
    "\n",
    "meetings = await track_shareholder_meetings(symbols)\n",
    "print(f\"Shareholder Meetings ({len(meetings)}):\\n\")\n",
    "print(meetings.head(10).to_string(index=False))"
   ]
  },
  {
   "cell_type": "markdown",
   "metadata": {},
   "source": [
    "## Use Case: Dividend Yield Analysis"
   ]
  },
  {
   "cell_type": "code",
   "execution_count": null,
   "metadata": {},
   "outputs": [],
   "source": [
    "# Calculate annual dividend totals\n",
    "annual_divs = div_calendar.groupby('symbol')['dividend'].sum().reset_index()\n",
    "annual_divs.columns = ['symbol', 'total_dividend']\n",
    "annual_divs = annual_divs.sort_values('total_dividend', ascending=False)\n",
    "\n",
    "print(\"Total Dividends by Stock (historical):\")\n",
    "print(annual_divs.to_string(index=False))"
   ]
  },
  {
   "cell_type": "markdown",
   "metadata": {},
   "source": [
    "## Error Handling"
   ]
  },
  {
   "cell_type": "code",
   "execution_count": null,
   "metadata": {},
   "outputs": [],
   "source": [
    "async def safe_get_corporate_actions(symbol: str):\n",
    "    try:\n",
    "        actions = await get_corporate_actions(symbol)\n",
    "        print(f\"✓ {symbol}: {len(actions)} actions\")\n",
    "        return actions\n",
    "    except Exception as e:\n",
    "        print(f\"✗ {symbol}: {e}\")\n",
    "        return []\n",
    "\n",
    "await safe_get_corporate_actions(\"PTT\")"
   ]
  },
  {
   "cell_type": "markdown",
   "metadata": {},
   "source": [
    "## Next Steps\n",
    "\n",
    "- **[Highlight Data](02_highlight_data.ipynb)** - Current dividend yield\n",
    "- **[Shareholder](06_shareholder.ipynb)** - Ownership structure\n",
    "- **[Financial](11_financial.ipynb)** - Financial statements\n",
    "\n",
    "**Documentation**: `/docs/settfex/services/set/corporate_action.md`"
   ]
  }
 ],
 "metadata": {
  "kernelspec": {
   "display_name": "settfex",
   "language": "python",
   "name": "python3"
  },
  "language_info": {
   "codemirror_mode": {
    "name": "ipython",
    "version": 3
   },
   "file_extension": ".py",
   "mimetype": "text/x-python",
   "name": "python",
   "nbconvert_exporter": "python",
   "pygments_lexer": "ipython3",
   "version": "3.13.5"
  }
 },
 "nbformat": 4,
 "nbformat_minor": 4
}