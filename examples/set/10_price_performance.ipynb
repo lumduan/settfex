{
 "cells": [
  {
   "cell_type": "markdown",
   "metadata": {},
   "source": [
    "# Price Performance Service - Stock vs Sector vs Market\n",
    "\n",
    "Compare stock performance against sector and market benchmarks across multiple time periods."
   ]
  },
  {
   "cell_type": "markdown",
   "metadata": {},
   "source": [
    "## Overview\n",
    "\n",
    "The **Price Performance Service** enables relative performance analysis:\n",
    "\n",
    "- **Three-Way Comparison**: Stock vs Sector vs Market (SET)\n",
    "- **Time Periods**: 5-day, 1-month, 3-month, 6-month, YTD\n",
    "- **Valuation Metrics**: P/E, P/B, turnover ratio for each entity\n",
    "- **Relative Performance**: Calculate outperformance/underperformance\n",
    "\n",
    "### When to Use\n",
    "\n",
    "- Sector rotation strategies\n",
    "- Relative strength analysis\n",
    "- Performance attribution\n",
    "- Alpha calculation (stock vs benchmark)\n",
    "- Market timing decisions"
   ]
  },
  {
   "cell_type": "code",
   "execution_count": null,
   "metadata": {},
   "outputs": [],
   "source": [
    "!pip install settfex"
   ]
  },
  {
   "cell_type": "code",
   "execution_count": null,
   "metadata": {},
   "outputs": [],
   "source": [
    "import asyncio\n",
    "from settfex.services.set import get_price_performance\n",
    "import pandas as pd\n",
    "\n",
    "print(\"Libraries imported!\")"
   ]
  },
  {
   "cell_type": "markdown",
   "metadata": {},
   "source": [
    "## Basic Usage"
   ]
  },
  {
   "cell_type": "code",
   "execution_count": null,
   "metadata": {},
   "outputs": [],
   "source": [
    "# Fetch price performance\n",
    "perf = await get_price_performance(\"MINT\")\n",
    "\n",
    "print(f\"Price Performance Analysis for {perf.stock.symbol}\\n\")\n",
    "\n",
    "print(\"Stock Performance:\")\n",
    "print(f\"  5-Day: {perf.stock.five_day_percent_change:+.2f}%\")\n",
    "print(f\"  1-Month: {perf.stock.one_month_percent_change:+.2f}%\")\n",
    "print(f\"  3-Month: {perf.stock.three_month_percent_change:+.2f}%\")\n",
    "print(f\"  6-Month: {perf.stock.six_month_percent_change:+.2f}%\")\n",
    "print(f\"  YTD: {perf.stock.ytd_percent_change:+.2f}%\")\n",
    "print(f\"  P/E: {perf.stock.pe_ratio}, P/B: {perf.stock.pb_ratio}\")\n",
    "\n",
    "print(f\"\\nSector ({perf.sector.symbol}) Performance:\")\n",
    "print(f\"  YTD: {perf.sector.ytd_percent_change:+.2f}%\")\n",
    "\n",
    "print(f\"\\nMarket ({perf.market.symbol}) Performance:\")\n",
    "print(f\"  YTD: {perf.market.ytd_percent_change:+.2f}%\")\n",
    "\n",
    "# Calculate relative performance\n",
    "vs_sector = perf.stock.ytd_percent_change - perf.sector.ytd_percent_change\n",
    "vs_market = perf.stock.ytd_percent_change - perf.market.ytd_percent_change\n",
    "\n",
    "print(f\"\\nRelative Performance (YTD):\")\n",
    "print(f\"  vs Sector: {vs_sector:+.2f}%\")\n",
    "print(f\"  vs Market: {vs_market:+.2f}%\")"
   ]
  },
  {
   "cell_type": "markdown",
   "metadata": {},
   "source": [
    "## Advanced Usage - Multi-Stock Comparison"
   ]
  },
  {
   "cell_type": "code",
   "execution_count": null,
   "metadata": {},
   "outputs": [],
   "source": [
    "async def relative_performance_analysis(symbols: list[str]):\n",
    "    \"\"\"\n",
    "    Analyze relative performance for multiple stocks.\n",
    "    \"\"\"\n",
    "    tasks = [get_price_performance(symbol) for symbol in symbols]\n",
    "    results = await asyncio.gather(*tasks, return_exceptions=True)\n",
    "    \n",
    "    analysis = []\n",
    "    for perf in results:\n",
    "        if isinstance(perf, Exception):\n",
    "            continue\n",
    "        \n",
    "        vs_sector = perf.stock.ytd_percent_change - perf.sector.ytd_percent_change\n",
    "        vs_market = perf.stock.ytd_percent_change - perf.market.ytd_percent_change\n",
    "        \n",
    "        analysis.append({\n",
    "            \"symbol\": perf.stock.symbol,\n",
    "            \"stock_ytd\": perf.stock.ytd_percent_change,\n",
    "            \"sector_ytd\": perf.sector.ytd_percent_change,\n",
    "            \"market_ytd\": perf.market.ytd_percent_change,\n",
    "            \"vs_sector\": vs_sector,\n",
    "            \"vs_market\": vs_market,\n",
    "            \"pe_ratio\": perf.stock.pe_ratio\n",
    "        })\n",
    "    \n",
    "    df = pd.DataFrame(analysis).sort_values('vs_market', ascending=False)\n",
    "    return df\n",
    "\n",
    "# Analyze blue chips\n",
    "symbols = [\"PTT\", \"KBANK\", \"CPALL\", \"AOT\", \"BBL\", \"SCB\", \"MINT\"]\n",
    "rel_perf = await relative_performance_analysis(symbols)\n",
    "\n",
    "print(\"Relative Performance Analysis (YTD):\\n\")\n",
    "print(rel_perf.to_string(index=False))"
   ]
  },
  {
   "cell_type": "markdown",
   "metadata": {},
   "source": [
    "## Use Case: Sector Leaders Identification"
   ]
  },
  {
   "cell_type": "code",
   "execution_count": null,
   "metadata": {},
   "outputs": [],
   "source": [
    "# Find stocks outperforming their sector\n",
    "sector_leaders = rel_perf[rel_perf['vs_sector'] > 0].copy()\n",
    "sector_leaders = sector_leaders.sort_values('vs_sector', ascending=False)\n",
    "\n",
    "print(f\"Sector Leaders (Outperforming Sector): {len(sector_leaders)} stocks\\n\")\n",
    "print(sector_leaders[['symbol', 'stock_ytd', 'sector_ytd', 'vs_sector']].to_string(index=False))"
   ]
  },
  {
   "cell_type": "markdown",
   "metadata": {},
   "source": [
    "## Use Case: Alpha Calculation"
   ]
  },
  {
   "cell_type": "code",
   "execution_count": null,
   "metadata": {},
   "outputs": [],
   "source": [
    "# Calculate alpha (excess return over market)\n",
    "print(\"Alpha Analysis (Stock Return - Market Return):\\n\")\n",
    "\n",
    "alpha_df = rel_perf[['symbol', 'stock_ytd', 'market_ytd', 'vs_market']].copy()\n",
    "alpha_df.columns = ['Symbol', 'Stock YTD', 'Market YTD', 'Alpha']\n",
    "alpha_df = alpha_df.sort_values('Alpha', ascending=False)\n",
    "\n",
    "print(alpha_df.to_string(index=False))\n",
    "\n",
    "positive_alpha = len(alpha_df[alpha_df['Alpha'] > 0])\n",
    "print(f\"\\nStocks with Positive Alpha: {positive_alpha}/{len(alpha_df)}\")"
   ]
  },
  {
   "cell_type": "markdown",
   "metadata": {},
   "source": [
    "## Use Case: Multi-Period Momentum"
   ]
  },
  {
   "cell_type": "code",
   "execution_count": null,
   "metadata": {},
   "outputs": [],
   "source": [
    "# Analyze momentum across periods\n",
    "perf = await get_price_performance(\"CPALL\")\n",
    "\n",
    "momentum_data = {\n",
    "    \"5-Day\": perf.stock.five_day_percent_change,\n",
    "    \"1-Month\": perf.stock.one_month_percent_change,\n",
    "    \"3-Month\": perf.stock.three_month_percent_change,\n",
    "    \"6-Month\": perf.stock.six_month_percent_change,\n",
    "    \"YTD\": perf.stock.ytd_percent_change\n",
    "}\n",
    "\n",
    "print(f\"Momentum Analysis for {perf.stock.symbol}:\\n\")\n",
    "for period, change in momentum_data.items():\n",
    "    print(f\"{period:10} {change:+7.2f}%\")\n",
    "\n",
    "# Check if trending\n",
    "all_positive = all(v > 0 for v in momentum_data.values() if v is not None)\n",
    "print(f\"\\nConsistent Uptrend: {'Yes' if all_positive else 'No'}\")"
   ]
  },
  {
   "cell_type": "markdown",
   "metadata": {},
   "source": [
    "## Next Steps\n",
    "\n",
    "- **[Trading Statistics](09_trading_statistics.ipynb)** - Detailed period statistics\n",
    "- **[Highlight Data](02_highlight_data.ipynb)** - Current metrics\n",
    "\n",
    "**Documentation**: `/docs/settfex/services/set/price_performance.md`"
   ]
  }
 ],
 "metadata": {
  "kernelspec": {
   "display_name": "Python 3",
   "language": "python",
   "name": "python3"
  },
  "language_info": {
   "name": "python",
   "version": "3.11.0"
  }
 },
 "nbformat": 4,
 "nbformat_minor": 4
}
