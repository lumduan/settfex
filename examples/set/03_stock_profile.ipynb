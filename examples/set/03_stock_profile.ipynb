{
 "cells": [
  {
   "cell_type": "markdown",
   "metadata": {},
   "source": [
    "# Stock Profile Service - Detailed Listing Information\n",
    "\n",
    "Learn how to fetch comprehensive listing details for individual stocks including IPO date, listing status, foreign ownership limits, and ISIN codes."
   ]
  },
  {
   "cell_type": "markdown",
   "metadata": {},
   "source": [
    "## Overview\n",
    "\n",
    "The **Stock Profile Service** provides detailed listing information for stocks. Essential for:\n",
    "\n",
    "- **Compliance & Regulation**: Track foreign ownership limits and restrictions\n",
    "- **Trading Eligibility**: Verify listing status and first trade date\n",
    "- **Corporate Actions**: Monitor par value and listed shares\n",
    "- **ISIN Lookups**: Get international securities identification numbers\n",
    "- **IPO Research**: Access IPO price and listing date information\n",
    "- **Warrant Analysis**: Track exercise price and ratio for warrants\n",
    "\n",
    "### When to Use This Service\n",
    "\n",
    "- Foreign investor compliance (checking foreign limits)\n",
    "- Trading system setup (ISIN codes, market classification)\n",
    "- IPO analysis and new listing monitoring\n",
    "- Free float calculations\n",
    "- Warrant and derivative trading"
   ]
  },
  {
   "cell_type": "markdown",
   "metadata": {},
   "source": [
    "## Installation"
   ]
  },
  {
   "cell_type": "code",
   "execution_count": 1,
   "metadata": {},
   "outputs": [
    {
     "name": "stdout",
     "output_type": "stream",
     "text": [
      "zsh:1: command not found: pip\n"
     ]
    }
   ],
   "source": [
    "!pip install settfex"
   ]
  },
  {
   "cell_type": "markdown",
   "metadata": {},
   "source": [
    "## Import Libraries"
   ]
  },
  {
   "cell_type": "code",
   "execution_count": 2,
   "metadata": {},
   "outputs": [
    {
     "name": "stdout",
     "output_type": "stream",
     "text": [
      "Libraries imported successfully!\n"
     ]
    }
   ],
   "source": [
    "import asyncio\n",
    "from settfex.services.set import get_profile\n",
    "import pandas as pd\n",
    "\n",
    "print(\"Libraries imported successfully!\")"
   ]
  },
  {
   "cell_type": "markdown",
   "metadata": {},
   "source": [
    "## Basic Usage"
   ]
  },
  {
   "cell_type": "code",
   "execution_count": 3,
   "metadata": {},
   "outputs": [
    {
     "name": "stdout",
     "output_type": "stream",
     "text": [
      "Symbol: PTT\n",
      "Company: PTT PUBLIC COMPANY LIMITED\n",
      "\n",
      "Market Classification:\n",
      "  Market: SET\n",
      "  Sector: Energy & Utilities (ENERG)\n",
      "  Industry: Resources (RESOURC)\n",
      "\n",
      "Listing Details:\n",
      "  Listed Date: 2001-12-06 00:00:00+07:00\n",
      "  First Trade: 2001-12-06 00:00:00+07:00\n",
      "  IPO Price: 35.0 THB\n",
      "  Par Value: 1.0 THB\n",
      "\n",
      "Foreign Ownership:\n",
      "  Foreign Limit: 30.0%\n",
      "  Foreign Room: 22.79039%\n",
      "  Available: 6,509,618,652 shares\n"
     ]
    }
   ],
   "source": [
    "# Fetch stock profile\n",
    "profile = await get_profile(\"PTT\")\n",
    "\n",
    "print(f\"Symbol: {profile.symbol}\")\n",
    "print(f\"Company: {profile.name}\")\n",
    "print(f\"\\nMarket Classification:\")\n",
    "print(f\"  Market: {profile.market}\")\n",
    "print(f\"  Sector: {profile.sector_name} ({profile.sector})\")\n",
    "print(f\"  Industry: {profile.industry_name} ({profile.industry})\")\n",
    "print(f\"\\nListing Details:\")\n",
    "print(f\"  Listed Date: {profile.listed_date}\")\n",
    "print(f\"  First Trade: {profile.first_trade_date}\")\n",
    "print(f\"  IPO Price: {profile.ipo} {profile.currency}\")\n",
    "print(f\"  Par Value: {profile.par} {profile.currency}\")\n",
    "print(f\"\\nForeign Ownership:\")\n",
    "print(f\"  Foreign Limit: {profile.percent_foreign_limit}%\")\n",
    "print(f\"  Foreign Room: {profile.percent_foreign_room}%\")\n",
    "print(f\"  Available: {profile.foreign_available:,} shares\")"
   ]
  },
  {
   "cell_type": "markdown",
   "metadata": {},
   "source": [
    "## Advanced Usage - Batch Processing"
   ]
  },
  {
   "cell_type": "code",
   "execution_count": 4,
   "metadata": {},
   "outputs": [
    {
     "name": "stdout",
     "output_type": "stream",
     "text": [
      "\n",
      "Stock Profile Comparison:\n",
      "symbol                                        name market                     sector               listed_date  ipo_price  foreign_limit  free_float\n",
      "   PTT                  PTT PUBLIC COMPANY LIMITED    SET         Energy & Utilities 2001-12-06 00:00:00+07:00       35.0          30.00   48.880001\n",
      " KBANK         KASIKORNBANK PUBLIC COMPANY LIMITED    SET                    Banking 1976-02-09 00:00:00+07:00      320.0          48.98   82.510002\n",
      " CPALL               CP ALL PUBLIC COMPANY LIMITED    SET                   Commerce 2003-10-14 00:00:00+07:00       42.0          49.00   63.939999\n",
      "   AOT AIRPORTS OF THAILAND PUBLIC COMPANY LIMITED    SET Transportation & Logistics 2004-03-11 00:00:00+07:00       42.0          30.00   30.000000\n",
      "   BBL         BANGKOK BANK PUBLIC COMPANY LIMITED    SET                    Banking 1975-04-25 00:00:00+07:00        NaN          30.00   98.589996\n"
     ]
    }
   ],
   "source": [
    "# Fetch multiple stock profiles\n",
    "symbols = [\"PTT\", \"KBANK\", \"CPALL\", \"AOT\", \"BBL\"]\n",
    "tasks = [get_profile(symbol) for symbol in symbols]\n",
    "profiles = await asyncio.gather(*tasks)\n",
    "\n",
    "# Create comparison DataFrame\n",
    "data = [\n",
    "    {\n",
    "        \"symbol\": p.symbol,\n",
    "        \"name\": p.name,\n",
    "        \"market\": p.market,\n",
    "        \"sector\": p.sector_name,\n",
    "        \"listed_date\": p.listed_date,\n",
    "        \"ipo_price\": p.ipo,\n",
    "        \"foreign_limit\": p.percent_foreign_limit,\n",
    "        \"free_float\": p.percent_free_float\n",
    "    }\n",
    "    for p in profiles\n",
    "]\n",
    "\n",
    "df = pd.DataFrame(data)\n",
    "print(\"\\nStock Profile Comparison:\")\n",
    "print(df.to_string(index=False))"
   ]
  },
  {
   "cell_type": "markdown",
   "metadata": {},
   "source": [
    "## Financial Firm Use Case: Foreign Ownership Monitoring"
   ]
  },
  {
   "cell_type": "code",
   "execution_count": 5,
   "metadata": {},
   "outputs": [
    {
     "name": "stdout",
     "output_type": "stream",
     "text": [
      "✓ Available for foreign purchase (6 stocks):\n",
      "symbol                                        name  foreign_limit  available_shares  foreign_room\n",
      "   PTT                  PTT PUBLIC COMPANY LIMITED          30.00        6509618652      22.79039\n",
      " KBANK         KASIKORNBANK PUBLIC COMPANY LIMITED          48.98          72116378       3.04375\n",
      " CPALL               CP ALL PUBLIC COMPANY LIMITED          49.00        2082847788      23.18629\n",
      "   AOT AIRPORTS OF THAILAND PUBLIC COMPANY LIMITED          30.00        3316584160      23.21611\n",
      "   BBL         BANGKOK BANK PUBLIC COMPANY LIMITED          30.00          71548487       3.74826\n",
      "   SCB                SCB X PUBLIC COMPANY LIMITED          25.00         191974532       5.70147\n",
      "\n",
      "✗ Limited/No foreign room (0 stocks):\n"
     ]
    }
   ],
   "source": [
    "async def check_foreign_room(symbols: list[str], min_room_shares: int = 1_000_000):\n",
    "    \"\"\"\n",
    "    Check which stocks have available foreign room for foreign investors.\n",
    "    Critical for foreign fund managers and international investors.\n",
    "    \"\"\"\n",
    "    tasks = [get_profile(symbol) for symbol in symbols]\n",
    "    profiles = await asyncio.gather(*tasks, return_exceptions=True)\n",
    "    \n",
    "    available = []\n",
    "    restricted = []\n",
    "    \n",
    "    for profile in profiles:\n",
    "        if isinstance(profile, Exception):\n",
    "            continue\n",
    "        \n",
    "        if profile.foreign_available and profile.foreign_available >= min_room_shares:\n",
    "            available.append({\n",
    "                \"symbol\": profile.symbol,\n",
    "                \"name\": profile.name,\n",
    "                \"foreign_limit\": profile.percent_foreign_limit,\n",
    "                \"available_shares\": profile.foreign_available,\n",
    "                \"foreign_room\": profile.percent_foreign_room\n",
    "            })\n",
    "        else:\n",
    "            restricted.append({\n",
    "                \"symbol\": profile.symbol,\n",
    "                \"name\": profile.name,\n",
    "                \"available_shares\": profile.foreign_available or 0\n",
    "            })\n",
    "    \n",
    "    print(f\"✓ Available for foreign purchase ({len(available)} stocks):\")\n",
    "    if available:\n",
    "        av_df = pd.DataFrame(available)\n",
    "        print(av_df.to_string(index=False))\n",
    "    \n",
    "    print(f\"\\n✗ Limited/No foreign room ({len(restricted)} stocks):\")\n",
    "    if restricted:\n",
    "        res_df = pd.DataFrame(restricted)\n",
    "        print(res_df.to_string(index=False))\n",
    "\n",
    "# Check foreign room for blue chips\n",
    "await check_foreign_room([\"PTT\", \"KBANK\", \"CPALL\", \"AOT\", \"BBL\", \"SCB\"], min_room_shares=1_000_000)"
   ]
  },
  {
   "cell_type": "markdown",
   "metadata": {},
   "source": [
    "## Use Case: IPO Analysis"
   ]
  },
  {
   "cell_type": "code",
   "execution_count": 6,
   "metadata": {},
   "outputs": [
    {
     "name": "stdout",
     "output_type": "stream",
     "text": [
      "IPO Analysis for CP ALL PUBLIC COMPANY LIMITED:\n",
      "  Symbol: CPALL\n",
      "  Listed Date: 2003-10-14 00:00:00+07:00\n",
      "  IPO Price: 42.0 THB\n",
      "  Par Value: 1.0 THB\n",
      "\n",
      "Current Valuation:\n",
      "  Market Cap: 431,188,864,704 THB\n",
      "  P/E Ratio: 15.78\n",
      "  P/B Ratio: 3.37\n"
     ]
    }
   ],
   "source": [
    "# Analyze IPO pricing vs current market\n",
    "from settfex.services.set import get_highlight_data\n",
    "\n",
    "async def ipo_performance_analysis(symbol: str):\n",
    "    \"\"\"\n",
    "    Compare IPO price to current market metrics.\n",
    "    \"\"\"\n",
    "    # Fetch both profile and current data\n",
    "    profile, highlight = await asyncio.gather(\n",
    "        get_profile(symbol),\n",
    "        get_highlight_data(symbol)\n",
    "    )\n",
    "    \n",
    "    # Calculate returns since IPO (simplified - would need current price)\n",
    "    print(f\"IPO Analysis for {profile.name}:\")\n",
    "    print(f\"  Symbol: {profile.symbol}\")\n",
    "    print(f\"  Listed Date: {profile.listed_date}\")\n",
    "    print(f\"  IPO Price: {profile.ipo} {profile.currency}\")\n",
    "    print(f\"  Par Value: {profile.par} {profile.currency}\")\n",
    "    print(f\"\\nCurrent Valuation:\")\n",
    "    print(f\"  Market Cap: {highlight.market_cap:,.0f} THB\")\n",
    "    print(f\"  P/E Ratio: {highlight.pe_ratio}\")\n",
    "    print(f\"  P/B Ratio: {highlight.pb_ratio}\")\n",
    "\n",
    "await ipo_performance_analysis(\"CPALL\")"
   ]
  },
  {
   "cell_type": "markdown",
   "metadata": {},
   "source": [
    "## Error Handling"
   ]
  },
  {
   "cell_type": "code",
   "execution_count": 7,
   "metadata": {},
   "outputs": [
    {
     "name": "stdout",
     "output_type": "stream",
     "text": [
      "✓ PTT: PTT PUBLIC COMPANY LIMITED\n"
     ]
    },
    {
     "name": "stderr",
     "output_type": "stream",
     "text": [
      "\u001b[32m2025-10-06 09:14:52\u001b[0m | \u001b[31m\u001b[1mERROR   \u001b[0m | \u001b[36msettfex.services.set.stock.profile_stock\u001b[0m:\u001b[36mfetch_profile\u001b[0m:\u001b[36m180\u001b[0m | \u001b[31m\u001b[1mFailed to fetch profile for INVALID: HTTP 404\u001b[0m\n"
     ]
    },
    {
     "name": "stdout",
     "output_type": "stream",
     "text": [
      "✗ INVALID: Failed to fetch profile for INVALID: HTTP 404\n"
     ]
    }
   ],
   "source": [
    "async def safe_get_profile(symbol: str):\n",
    "    try:\n",
    "        profile = await get_profile(symbol)\n",
    "        print(f\"✓ {symbol}: {profile.name}\")\n",
    "        return profile\n",
    "    except Exception as e:\n",
    "        print(f\"✗ {symbol}: {e}\")\n",
    "        return None\n",
    "\n",
    "await safe_get_profile(\"PTT\")\n",
    "await safe_get_profile(\"INVALID\")"
   ]
  },
  {
   "cell_type": "markdown",
   "metadata": {},
   "source": [
    "## Next Steps\n",
    "\n",
    "- **[Stock List](01_stock_list.ipynb)** - Get all stock symbols\n",
    "- **[Highlight Data](02_highlight_data.ipynb)** - Market metrics\n",
    "- **[Company Profile](04_company_profile.ipynb)** - Company details and governance\n",
    "- **[Shareholder](06_shareholder.ipynb)** - Ownership structure\n",
    "\n",
    "**Documentation**: `/docs/settfex/services/set/profile_stock.md`"
   ]
  }
 ],
 "metadata": {
  "kernelspec": {
   "display_name": "settfex",
   "language": "python",
   "name": "python3"
  },
  "language_info": {
   "codemirror_mode": {
    "name": "ipython",
    "version": 3
   },
   "file_extension": ".py",
   "mimetype": "text/x-python",
   "name": "python",
   "nbconvert_exporter": "python",
   "pygments_lexer": "ipython3",
   "version": "3.13.5"
  }
 },
 "nbformat": 4,
 "nbformat_minor": 4
}
