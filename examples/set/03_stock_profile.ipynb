{
 "cells": [
  {
   "cell_type": "markdown",
   "metadata": {},
   "source": [
    "# Stock Profile Service - Detailed Listing Information\n",
    "\n",
    "Learn how to fetch comprehensive listing details for individual stocks including IPO date, listing status, foreign ownership limits, and ISIN codes."
   ]
  },
  {
   "cell_type": "markdown",
   "metadata": {},
   "source": [
    "## Overview\n",
    "\n",
    "The **Stock Profile Service** provides detailed listing information for stocks. Essential for:\n",
    "\n",
    "- **Compliance & Regulation**: Track foreign ownership limits and restrictions\n",
    "- **Trading Eligibility**: Verify listing status and first trade date\n",
    "- **Corporate Actions**: Monitor par value and listed shares\n",
    "- **ISIN Lookups**: Get international securities identification numbers\n",
    "- **IPO Research**: Access IPO price and listing date information\n",
    "- **Warrant Analysis**: Track exercise price and ratio for warrants\n",
    "\n",
    "### When to Use This Service\n",
    "\n",
    "- Foreign investor compliance (checking foreign limits)\n",
    "- Trading system setup (ISIN codes, market classification)\n",
    "- IPO analysis and new listing monitoring\n",
    "- Free float calculations\n",
    "- Warrant and derivative trading"
   ]
  },
  {
   "cell_type": "markdown",
   "metadata": {},
   "source": [
    "## Installation"
   ]
  },
  {
   "cell_type": "code",
   "execution_count": 1,
   "metadata": {},
   "outputs": [
    {
     "name": "stdout",
     "output_type": "stream",
     "text": [
      "zsh:1: command not found: pip\n"
     ]
    }
   ],
   "source": [
    "!pip install settfex"
   ]
  },
  {
   "cell_type": "markdown",
   "metadata": {},
   "source": [
    "## Import Libraries"
   ]
  },
  {
   "cell_type": "code",
   "execution_count": 2,
   "metadata": {},
   "outputs": [
    {
     "name": "stdout",
     "output_type": "stream",
     "text": [
      "Libraries imported successfully!\n"
     ]
    }
   ],
   "source": [
    "import asyncio\n",
    "from settfex.services.set import get_profile\n",
    "import pandas as pd\n",
    "\n",
    "print(\"Libraries imported successfully!\")"
   ]
  },
  {
   "cell_type": "markdown",
   "metadata": {},
   "source": [
    "## Basic Usage"
   ]
  },
  {
   "cell_type": "code",
   "execution_count": null,
   "metadata": {},
   "outputs": [],
   "source": "# Fetch stock profile\nprofile = await get_profile(\"PTT\")\n\nprint(f\"Symbol: {profile.symbol}\")\nprint(f\"Company: {profile.name}\")\nprint(f\"\\nMarket Classification:\")\nprint(f\"  Market: {profile.market}\")\nprint(f\"  Sector: {profile.sector_name} ({profile.sector})\")\nprint(f\"  Industry: {profile.industry_name} ({profile.industry})\")\nprint(f\"\\nListing Details:\")\nprint(f\"  Listed Date: {profile.listed_date}\")\nprint(f\"  First Trade: {profile.first_trade_date}\")\nprint(f\"  IPO Price: {profile.ipo} {profile.currency}\")\nprint(f\"  Par Value: {profile.par} {profile.currency}\")\nprint(f\"\\nForeign Ownership:\")\nprint(f\"  Foreign Limit: {profile.percent_foreign_limit}%\")\nprint(f\"  Foreign Room: {profile.percent_foreign_room}%\")\nprint(f\"  Available: {profile.foreign_available:,} shares\")"
  },
  {
   "cell_type": "markdown",
   "metadata": {},
   "source": [
    "## Advanced Usage - Batch Processing"
   ]
  },
  {
   "cell_type": "code",
   "execution_count": null,
   "metadata": {},
   "outputs": [],
   "source": "# Fetch multiple stock profiles\nsymbols = [\"PTT\", \"KBANK\", \"CPALL\", \"AOT\", \"BBL\"]\ntasks = [get_profile(symbol) for symbol in symbols]\nprofiles = await asyncio.gather(*tasks)\n\n# Create comparison DataFrame\ndata = [\n    {\n        \"symbol\": p.symbol,\n        \"name\": p.name,\n        \"market\": p.market,\n        \"sector\": p.sector_name,\n        \"listed_date\": p.listed_date,\n        \"ipo_price\": p.ipo,\n        \"foreign_limit\": p.percent_foreign_limit,\n        \"free_float\": p.percent_free_float\n    }\n    for p in profiles\n]\n\ndf = pd.DataFrame(data)\nprint(\"\\nStock Profile Comparison:\")\nprint(df.to_string(index=False))"
  },
  {
   "cell_type": "markdown",
   "metadata": {},
   "source": [
    "## Financial Firm Use Case: Foreign Ownership Monitoring"
   ]
  },
  {
   "cell_type": "code",
   "execution_count": null,
   "metadata": {},
   "outputs": [],
   "source": "async def check_foreign_room(symbols: list[str], min_room_shares: int = 1_000_000):\n    \"\"\"\n    Check which stocks have available foreign room for foreign investors.\n    Critical for foreign fund managers and international investors.\n    \"\"\"\n    tasks = [get_profile(symbol) for symbol in symbols]\n    profiles = await asyncio.gather(*tasks, return_exceptions=True)\n    \n    available = []\n    restricted = []\n    \n    for profile in profiles:\n        if isinstance(profile, Exception):\n            continue\n        \n        if profile.foreign_available and profile.foreign_available >= min_room_shares:\n            available.append({\n                \"symbol\": profile.symbol,\n                \"name\": profile.name,\n                \"foreign_limit\": profile.percent_foreign_limit,\n                \"available_shares\": profile.foreign_available,\n                \"foreign_room\": profile.percent_foreign_room\n            })\n        else:\n            restricted.append({\n                \"symbol\": profile.symbol,\n                \"name\": profile.name,\n                \"available_shares\": profile.foreign_available or 0\n            })\n    \n    print(f\"✓ Available for foreign purchase ({len(available)} stocks):\")\n    if available:\n        av_df = pd.DataFrame(available)\n        print(av_df.to_string(index=False))\n    \n    print(f\"\\n✗ Limited/No foreign room ({len(restricted)} stocks):\")\n    if restricted:\n        res_df = pd.DataFrame(restricted)\n        print(res_df.to_string(index=False))\n\n# Check foreign room for blue chips\nawait check_foreign_room([\"PTT\", \"KBANK\", \"CPALL\", \"AOT\", \"BBL\", \"SCB\"], min_room_shares=1_000_000)"
  },
  {
   "cell_type": "markdown",
   "metadata": {},
   "source": [
    "## Use Case: IPO Analysis"
   ]
  },
  {
   "cell_type": "code",
   "execution_count": null,
   "metadata": {},
   "outputs": [],
   "source": "# Analyze IPO pricing vs current market\nfrom settfex.services.set import get_highlight_data\n\nasync def ipo_performance_analysis(symbol: str):\n    \"\"\"\n    Compare IPO price to current market metrics.\n    \"\"\"\n    # Fetch both profile and current data\n    profile, highlight = await asyncio.gather(\n        get_profile(symbol),\n        get_highlight_data(symbol)\n    )\n    \n    # Calculate returns since IPO (simplified - would need current price)\n    print(f\"IPO Analysis for {profile.name}:\")\n    print(f\"  Symbol: {profile.symbol}\")\n    print(f\"  Listed Date: {profile.listed_date}\")\n    print(f\"  IPO Price: {profile.ipo} {profile.currency}\")\n    print(f\"  Par Value: {profile.par} {profile.currency}\")\n    print(f\"\\nCurrent Valuation:\")\n    print(f\"  Market Cap: {highlight.market_cap:,.0f} THB\")\n    print(f\"  P/E Ratio: {highlight.pe_ratio}\")\n    print(f\"  P/B Ratio: {highlight.pb_ratio}\")\n\nawait ipo_performance_analysis(\"CPALL\")"
  },
  {
   "cell_type": "markdown",
   "metadata": {},
   "source": [
    "## Error Handling"
   ]
  },
  {
   "cell_type": "code",
   "execution_count": null,
   "metadata": {},
   "outputs": [],
   "source": "async def safe_get_profile(symbol: str):\n    try:\n        profile = await get_profile(symbol)\n        print(f\"✓ {symbol}: {profile.name}\")\n        return profile\n    except Exception as e:\n        print(f\"✗ {symbol}: {e}\")\n        return None\n\nawait safe_get_profile(\"PTT\")\nawait safe_get_profile(\"INVALID\")"
  },
  {
   "cell_type": "markdown",
   "metadata": {},
   "source": [
    "## Next Steps\n",
    "\n",
    "- **[Stock List](01_stock_list.ipynb)** - Get all stock symbols\n",
    "- **[Highlight Data](02_highlight_data.ipynb)** - Market metrics\n",
    "- **[Company Profile](04_company_profile.ipynb)** - Company details and governance\n",
    "- **[Shareholder](06_shareholder.ipynb)** - Ownership structure\n",
    "\n",
    "**Documentation**: `/docs/settfex/services/set/profile_stock.md`"
   ]
  }
 ],
 "metadata": {
  "kernelspec": {
   "display_name": "settfex",
   "language": "python",
   "name": "python3"
  },
  "language_info": {
   "codemirror_mode": {
    "name": "ipython",
    "version": 3
   },
   "file_extension": ".py",
   "mimetype": "text/x-python",
   "name": "python",
   "nbconvert_exporter": "python",
   "pygments_lexer": "ipython3",
   "version": "3.13.5"
  }
 },
 "nbformat": 4,
 "nbformat_minor": 4
}