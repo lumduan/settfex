{
 "cells": [
  {
   "cell_type": "markdown",
   "metadata": {},
   "source": [
    "# Stock Profile Service - Detailed Listing Information\n",
    "\n",
    "Learn how to fetch comprehensive listing details for individual stocks including IPO date, listing status, foreign ownership limits, and ISIN codes."
   ]
  },
  {
   "cell_type": "markdown",
   "metadata": {},
   "source": [
    "## Overview\n",
    "\n",
    "The **Stock Profile Service** provides detailed listing information for stocks. Essential for:\n",
    "\n",
    "- **Compliance & Regulation**: Track foreign ownership limits and restrictions\n",
    "- **Trading Eligibility**: Verify listing status and first trade date\n",
    "- **Corporate Actions**: Monitor par value and listed shares\n",
    "- **ISIN Lookups**: Get international securities identification numbers\n",
    "- **IPO Research**: Access IPO price and listing date information\n",
    "- **Warrant Analysis**: Track exercise price and ratio for warrants\n",
    "\n",
    "### When to Use This Service\n",
    "\n",
    "- Foreign investor compliance (checking foreign limits)\n",
    "- Trading system setup (ISIN codes, market classification)\n",
    "- IPO analysis and new listing monitoring\n",
    "- Free float calculations\n",
    "- Warrant and derivative trading"
   ]
  },
  {
   "cell_type": "markdown",
   "metadata": {},
   "source": [
    "## Installation"
   ]
  },
  {
   "cell_type": "code",
   "execution_count": 1,
   "metadata": {},
   "outputs": [
    {
     "name": "stdout",
     "output_type": "stream",
     "text": [
      "zsh:1: command not found: pip\n"
     ]
    }
   ],
   "source": [
    "!pip install settfex"
   ]
  },
  {
   "cell_type": "markdown",
   "metadata": {},
   "source": [
    "## Import Libraries"
   ]
  },
  {
   "cell_type": "code",
   "execution_count": 2,
   "metadata": {},
   "outputs": [
    {
     "name": "stdout",
     "output_type": "stream",
     "text": [
      "Libraries imported successfully!\n"
     ]
    }
   ],
   "source": [
    "import asyncio\n",
    "from settfex.services.set import get_profile\n",
    "import pandas as pd\n",
    "\n",
    "print(\"Libraries imported successfully!\")"
   ]
  },
  {
   "cell_type": "markdown",
   "metadata": {},
   "source": [
    "## Basic Usage"
   ]
  },
  {
   "cell_type": "code",
   "execution_count": 3,
   "metadata": {},
   "outputs": [
    {
     "name": "stderr",
     "output_type": "stream",
     "text": [
      "\u001b[32m2025-10-05 17:37:40\u001b[0m | \u001b[1mINFO    \u001b[0m | \u001b[36msettfex.services.set.stock.profile_stock\u001b[0m:\u001b[36m__init__\u001b[0m:\u001b[36m126\u001b[0m | \u001b[1mStockProfileService initialized with base_url=https://www.set.or.th\u001b[0m\n",
      "\u001b[32m2025-10-05 17:37:40\u001b[0m | \u001b[1mINFO    \u001b[0m | \u001b[36msettfex.services.set.stock.profile_stock\u001b[0m:\u001b[36mfetch_profile\u001b[0m:\u001b[36m166\u001b[0m | \u001b[1mFetching profile data for symbol 'PTT' (lang=en) from https://www.set.or.th/api/set/stock/PTT/profile?lang=en\u001b[0m\n",
      "\u001b[32m2025-10-05 17:37:40\u001b[0m | \u001b[1mINFO    \u001b[0m | \u001b[36msettfex.utils.data_fetcher\u001b[0m:\u001b[36m__init__\u001b[0m:\u001b[36m113\u001b[0m | \u001b[1mAsyncDataFetcher initialized with browser=chrome120, timeout=30s, rate_limit=0.0s\u001b[0m\n",
      "\u001b[32m2025-10-05 17:37:40\u001b[0m | \u001b[1mINFO    \u001b[0m | \u001b[36msettfex.utils.session_manager\u001b[0m:\u001b[36m__init__\u001b[0m:\u001b[36m98\u001b[0m | \u001b[1mSessionManager created with browser=chrome120, warmup_site=set, cache=enabled\u001b[0m\n",
      "\u001b[32m2025-10-05 17:37:40\u001b[0m | \u001b[1mINFO    \u001b[0m | \u001b[36msettfex.utils.session_cache\u001b[0m:\u001b[36m__init__\u001b[0m:\u001b[36m76\u001b[0m | \u001b[1mSessionCache initialized at /Users/sarat/.settfex/cache (ttl=3600s, size_limit=100MB)\u001b[0m\n",
      "\u001b[32m2025-10-05 17:37:40\u001b[0m | \u001b[32m\u001b[1mSUCCESS \u001b[0m | \u001b[36msettfex.utils.session_manager\u001b[0m:\u001b[36m_try_load_from_cache\u001b[0m:\u001b[36m202\u001b[0m | \u001b[32m\u001b[1m✓ Loaded session from cache: 4 cookies (age=398s, browser=chrome120)\u001b[0m\n",
      "\u001b[32m2025-10-05 17:37:41\u001b[0m | \u001b[1mINFO    \u001b[0m | \u001b[36msettfex.utils.data_fetcher\u001b[0m:\u001b[36mfetch\u001b[0m:\u001b[36m303\u001b[0m | \u001b[1mFetch successful: url=https://www.set.or.th/api/set/stock/PTT/profile?lang=en, status=200, elapsed=0.13s, size=930 bytes\u001b[0m\n",
      "\u001b[32m2025-10-05 17:37:41\u001b[0m | \u001b[1mINFO    \u001b[0m | \u001b[36msettfex.services.set.stock.profile_stock\u001b[0m:\u001b[36mfetch_profile\u001b[0m:\u001b[36m195\u001b[0m | \u001b[1mSuccessfully fetched profile for PTT: Name=PTT PUBLIC COMPANY LIMITED, Market=SET, Sector=Energy & Utilities, Status=Listed\u001b[0m\n"
     ]
    },
    {
     "name": "stdout",
     "output_type": "stream",
     "text": [
      "Symbol: PTT\n"
     ]
    },
    {
     "ename": "AttributeError",
     "evalue": "'StockProfile' object has no attribute 'name_en'",
     "output_type": "error",
     "traceback": [
      "\u001b[31m---------------------------------------------------------------------------\u001b[39m",
      "\u001b[31mAttributeError\u001b[39m                            Traceback (most recent call last)",
      "\u001b[36mCell\u001b[39m\u001b[36m \u001b[39m\u001b[32mIn[3]\u001b[39m\u001b[32m, line 5\u001b[39m\n\u001b[32m      2\u001b[39m profile = \u001b[38;5;28;01mawait\u001b[39;00m get_profile(\u001b[33m\"\u001b[39m\u001b[33mPTT\u001b[39m\u001b[33m\"\u001b[39m)\n\u001b[32m      4\u001b[39m \u001b[38;5;28mprint\u001b[39m(\u001b[33mf\u001b[39m\u001b[33m\"\u001b[39m\u001b[33mSymbol: \u001b[39m\u001b[38;5;132;01m{\u001b[39;00mprofile.symbol\u001b[38;5;132;01m}\u001b[39;00m\u001b[33m\"\u001b[39m)\n\u001b[32m----> \u001b[39m\u001b[32m5\u001b[39m \u001b[38;5;28mprint\u001b[39m(\u001b[33mf\u001b[39m\u001b[33m\"\u001b[39m\u001b[33mCompany: \u001b[39m\u001b[38;5;132;01m{\u001b[39;00m\u001b[43mprofile\u001b[49m\u001b[43m.\u001b[49m\u001b[43mname_en\u001b[49m\u001b[38;5;132;01m}\u001b[39;00m\u001b[33m\"\u001b[39m)\n\u001b[32m      6\u001b[39m \u001b[38;5;28mprint\u001b[39m(\u001b[33mf\u001b[39m\u001b[33m\"\u001b[39m\u001b[33mThai Name: \u001b[39m\u001b[38;5;132;01m{\u001b[39;00mprofile.name_th\u001b[38;5;132;01m}\u001b[39;00m\u001b[33m\"\u001b[39m)\n\u001b[32m      7\u001b[39m \u001b[38;5;28mprint\u001b[39m(\u001b[33mf\u001b[39m\u001b[33m\"\u001b[39m\u001b[38;5;130;01m\\n\u001b[39;00m\u001b[33mMarket Classification:\u001b[39m\u001b[33m\"\u001b[39m)\n",
      "\u001b[36mFile \u001b[39m\u001b[32m~/Code/python-lib/settfex/.venv/lib/python3.13/site-packages/pydantic/main.py:991\u001b[39m, in \u001b[36mBaseModel.__getattr__\u001b[39m\u001b[34m(self, item)\u001b[39m\n\u001b[32m    988\u001b[39m     \u001b[38;5;28;01mreturn\u001b[39;00m \u001b[38;5;28msuper\u001b[39m().\u001b[34m__getattribute__\u001b[39m(item)  \u001b[38;5;66;03m# Raises AttributeError if appropriate\u001b[39;00m\n\u001b[32m    989\u001b[39m \u001b[38;5;28;01melse\u001b[39;00m:\n\u001b[32m    990\u001b[39m     \u001b[38;5;66;03m# this is the current error\u001b[39;00m\n\u001b[32m--> \u001b[39m\u001b[32m991\u001b[39m     \u001b[38;5;28;01mraise\u001b[39;00m \u001b[38;5;167;01mAttributeError\u001b[39;00m(\u001b[33mf\u001b[39m\u001b[33m'\u001b[39m\u001b[38;5;132;01m{\u001b[39;00m\u001b[38;5;28mtype\u001b[39m(\u001b[38;5;28mself\u001b[39m).\u001b[34m__name__\u001b[39m\u001b[38;5;132;01m!r}\u001b[39;00m\u001b[33m object has no attribute \u001b[39m\u001b[38;5;132;01m{\u001b[39;00mitem\u001b[38;5;132;01m!r}\u001b[39;00m\u001b[33m'\u001b[39m)\n",
      "\u001b[31mAttributeError\u001b[39m: 'StockProfile' object has no attribute 'name_en'"
     ]
    }
   ],
   "source": [
    "# Fetch stock profile\n",
    "profile = await get_profile(\"PTT\")\n",
    "\n",
    "print(f\"Symbol: {profile.symbol}\")\n",
    "print(f\"Company: {profile.name_en}\")\n",
    "print(f\"Thai Name: {profile.name_th}\")\n",
    "print(f\"\\nMarket Classification:\")\n",
    "print(f\"  Market: {profile.market}\")\n",
    "print(f\"  Sector: {profile.sector_name} ({profile.sector_code})\")\n",
    "print(f\"  Industry: {profile.industry_name} ({profile.industry_code})\")\n",
    "print(f\"\\nListing Details:\")\n",
    "print(f\"  Listed Date: {profile.listed_date}\")\n",
    "print(f\"  First Trade: {profile.first_trade_date}\")\n",
    "print(f\"  IPO Price: {profile.ipo} {profile.currency}\")\n",
    "print(f\"  Par Value: {profile.par_value} {profile.currency}\")\n",
    "print(f\"\\nForeign Ownership:\")\n",
    "print(f\"  Foreign Limit: {profile.foreign_limit}%\")\n",
    "print(f\"  Foreign Room: {profile.foreign_room:,} shares\")\n",
    "print(f\"  Available: {profile.available_foreign:,} shares\")"
   ]
  },
  {
   "cell_type": "markdown",
   "metadata": {},
   "source": [
    "## Advanced Usage - Batch Processing"
   ]
  },
  {
   "cell_type": "code",
   "execution_count": 4,
   "metadata": {},
   "outputs": [
    {
     "name": "stderr",
     "output_type": "stream",
     "text": [
      "\u001b[32m2025-10-05 17:38:06\u001b[0m | \u001b[1mINFO    \u001b[0m | \u001b[36msettfex.services.set.stock.profile_stock\u001b[0m:\u001b[36m__init__\u001b[0m:\u001b[36m126\u001b[0m | \u001b[1mStockProfileService initialized with base_url=https://www.set.or.th\u001b[0m\n",
      "\u001b[32m2025-10-05 17:38:06\u001b[0m | \u001b[1mINFO    \u001b[0m | \u001b[36msettfex.services.set.stock.profile_stock\u001b[0m:\u001b[36mfetch_profile\u001b[0m:\u001b[36m166\u001b[0m | \u001b[1mFetching profile data for symbol 'PTT' (lang=en) from https://www.set.or.th/api/set/stock/PTT/profile?lang=en\u001b[0m\n",
      "\u001b[32m2025-10-05 17:38:06\u001b[0m | \u001b[1mINFO    \u001b[0m | \u001b[36msettfex.utils.data_fetcher\u001b[0m:\u001b[36m__init__\u001b[0m:\u001b[36m113\u001b[0m | \u001b[1mAsyncDataFetcher initialized with browser=chrome120, timeout=30s, rate_limit=0.0s\u001b[0m\n",
      "\u001b[32m2025-10-05 17:38:06\u001b[0m | \u001b[1mINFO    \u001b[0m | \u001b[36msettfex.services.set.stock.profile_stock\u001b[0m:\u001b[36m__init__\u001b[0m:\u001b[36m126\u001b[0m | \u001b[1mStockProfileService initialized with base_url=https://www.set.or.th\u001b[0m\n",
      "\u001b[32m2025-10-05 17:38:06\u001b[0m | \u001b[1mINFO    \u001b[0m | \u001b[36msettfex.services.set.stock.profile_stock\u001b[0m:\u001b[36mfetch_profile\u001b[0m:\u001b[36m166\u001b[0m | \u001b[1mFetching profile data for symbol 'KBANK' (lang=en) from https://www.set.or.th/api/set/stock/KBANK/profile?lang=en\u001b[0m\n",
      "\u001b[32m2025-10-05 17:38:06\u001b[0m | \u001b[1mINFO    \u001b[0m | \u001b[36msettfex.utils.data_fetcher\u001b[0m:\u001b[36m__init__\u001b[0m:\u001b[36m113\u001b[0m | \u001b[1mAsyncDataFetcher initialized with browser=chrome120, timeout=30s, rate_limit=0.0s\u001b[0m\n",
      "\u001b[32m2025-10-05 17:38:06\u001b[0m | \u001b[1mINFO    \u001b[0m | \u001b[36msettfex.services.set.stock.profile_stock\u001b[0m:\u001b[36m__init__\u001b[0m:\u001b[36m126\u001b[0m | \u001b[1mStockProfileService initialized with base_url=https://www.set.or.th\u001b[0m\n",
      "\u001b[32m2025-10-05 17:38:06\u001b[0m | \u001b[1mINFO    \u001b[0m | \u001b[36msettfex.services.set.stock.profile_stock\u001b[0m:\u001b[36mfetch_profile\u001b[0m:\u001b[36m166\u001b[0m | \u001b[1mFetching profile data for symbol 'CPALL' (lang=en) from https://www.set.or.th/api/set/stock/CPALL/profile?lang=en\u001b[0m\n",
      "\u001b[32m2025-10-05 17:38:06\u001b[0m | \u001b[1mINFO    \u001b[0m | \u001b[36msettfex.utils.data_fetcher\u001b[0m:\u001b[36m__init__\u001b[0m:\u001b[36m113\u001b[0m | \u001b[1mAsyncDataFetcher initialized with browser=chrome120, timeout=30s, rate_limit=0.0s\u001b[0m\n",
      "\u001b[32m2025-10-05 17:38:06\u001b[0m | \u001b[1mINFO    \u001b[0m | \u001b[36msettfex.services.set.stock.profile_stock\u001b[0m:\u001b[36m__init__\u001b[0m:\u001b[36m126\u001b[0m | \u001b[1mStockProfileService initialized with base_url=https://www.set.or.th\u001b[0m\n",
      "\u001b[32m2025-10-05 17:38:06\u001b[0m | \u001b[1mINFO    \u001b[0m | \u001b[36msettfex.services.set.stock.profile_stock\u001b[0m:\u001b[36mfetch_profile\u001b[0m:\u001b[36m166\u001b[0m | \u001b[1mFetching profile data for symbol 'AOT' (lang=en) from https://www.set.or.th/api/set/stock/AOT/profile?lang=en\u001b[0m\n",
      "\u001b[32m2025-10-05 17:38:06\u001b[0m | \u001b[1mINFO    \u001b[0m | \u001b[36msettfex.utils.data_fetcher\u001b[0m:\u001b[36m__init__\u001b[0m:\u001b[36m113\u001b[0m | \u001b[1mAsyncDataFetcher initialized with browser=chrome120, timeout=30s, rate_limit=0.0s\u001b[0m\n",
      "\u001b[32m2025-10-05 17:38:06\u001b[0m | \u001b[1mINFO    \u001b[0m | \u001b[36msettfex.services.set.stock.profile_stock\u001b[0m:\u001b[36m__init__\u001b[0m:\u001b[36m126\u001b[0m | \u001b[1mStockProfileService initialized with base_url=https://www.set.or.th\u001b[0m\n",
      "\u001b[32m2025-10-05 17:38:06\u001b[0m | \u001b[1mINFO    \u001b[0m | \u001b[36msettfex.services.set.stock.profile_stock\u001b[0m:\u001b[36mfetch_profile\u001b[0m:\u001b[36m166\u001b[0m | \u001b[1mFetching profile data for symbol 'BBL' (lang=en) from https://www.set.or.th/api/set/stock/BBL/profile?lang=en\u001b[0m\n",
      "\u001b[32m2025-10-05 17:38:06\u001b[0m | \u001b[1mINFO    \u001b[0m | \u001b[36msettfex.utils.data_fetcher\u001b[0m:\u001b[36m__init__\u001b[0m:\u001b[36m113\u001b[0m | \u001b[1mAsyncDataFetcher initialized with browser=chrome120, timeout=30s, rate_limit=0.0s\u001b[0m\n",
      "\u001b[32m2025-10-05 17:38:06\u001b[0m | \u001b[1mINFO    \u001b[0m | \u001b[36msettfex.utils.data_fetcher\u001b[0m:\u001b[36mfetch\u001b[0m:\u001b[36m303\u001b[0m | \u001b[1mFetch successful: url=https://www.set.or.th/api/set/stock/PTT/profile?lang=en, status=200, elapsed=0.01s, size=930 bytes\u001b[0m\n",
      "\u001b[32m2025-10-05 17:38:06\u001b[0m | \u001b[1mINFO    \u001b[0m | \u001b[36msettfex.services.set.stock.profile_stock\u001b[0m:\u001b[36mfetch_profile\u001b[0m:\u001b[36m195\u001b[0m | \u001b[1mSuccessfully fetched profile for PTT: Name=PTT PUBLIC COMPANY LIMITED, Market=SET, Sector=Energy & Utilities, Status=Listed\u001b[0m\n",
      "\u001b[32m2025-10-05 17:38:06\u001b[0m | \u001b[1mINFO    \u001b[0m | \u001b[36msettfex.utils.data_fetcher\u001b[0m:\u001b[36mfetch\u001b[0m:\u001b[36m303\u001b[0m | \u001b[1mFetch successful: url=https://www.set.or.th/api/set/stock/CPALL/profile?lang=en, status=200, elapsed=0.13s, size=922 bytes\u001b[0m\n",
      "\u001b[32m2025-10-05 17:38:06\u001b[0m | \u001b[1mINFO    \u001b[0m | \u001b[36msettfex.services.set.stock.profile_stock\u001b[0m:\u001b[36mfetch_profile\u001b[0m:\u001b[36m195\u001b[0m | \u001b[1mSuccessfully fetched profile for CPALL: Name=CP ALL PUBLIC COMPANY LIMITED, Market=SET, Sector=Commerce, Status=Listed\u001b[0m\n",
      "\u001b[32m2025-10-05 17:38:06\u001b[0m | \u001b[1mINFO    \u001b[0m | \u001b[36msettfex.utils.data_fetcher\u001b[0m:\u001b[36mfetch\u001b[0m:\u001b[36m303\u001b[0m | \u001b[1mFetch successful: url=https://www.set.or.th/api/set/stock/AOT/profile?lang=en, status=200, elapsed=0.13s, size=940 bytes\u001b[0m\n",
      "\u001b[32m2025-10-05 17:38:06\u001b[0m | \u001b[1mINFO    \u001b[0m | \u001b[36msettfex.services.set.stock.profile_stock\u001b[0m:\u001b[36mfetch_profile\u001b[0m:\u001b[36m195\u001b[0m | \u001b[1mSuccessfully fetched profile for AOT: Name=AIRPORTS OF THAILAND PUBLIC COMPANY LIMITED, Market=SET, Sector=Transportation & Logistics, Status=Listed\u001b[0m\n",
      "\u001b[32m2025-10-05 17:38:06\u001b[0m | \u001b[1mINFO    \u001b[0m | \u001b[36msettfex.utils.data_fetcher\u001b[0m:\u001b[36mfetch\u001b[0m:\u001b[36m303\u001b[0m | \u001b[1mFetch successful: url=https://www.set.or.th/api/set/stock/BBL/profile?lang=en, status=200, elapsed=0.13s, size=906 bytes\u001b[0m\n",
      "\u001b[32m2025-10-05 17:38:06\u001b[0m | \u001b[1mINFO    \u001b[0m | \u001b[36msettfex.services.set.stock.profile_stock\u001b[0m:\u001b[36mfetch_profile\u001b[0m:\u001b[36m195\u001b[0m | \u001b[1mSuccessfully fetched profile for BBL: Name=BANGKOK BANK PUBLIC COMPANY LIMITED, Market=SET, Sector=Banking, Status=Listed\u001b[0m\n",
      "\u001b[32m2025-10-05 17:38:06\u001b[0m | \u001b[1mINFO    \u001b[0m | \u001b[36msettfex.utils.data_fetcher\u001b[0m:\u001b[36mfetch\u001b[0m:\u001b[36m303\u001b[0m | \u001b[1mFetch successful: url=https://www.set.or.th/api/set/stock/KBANK/profile?lang=en, status=200, elapsed=0.13s, size=908 bytes\u001b[0m\n",
      "\u001b[32m2025-10-05 17:38:06\u001b[0m | \u001b[1mINFO    \u001b[0m | \u001b[36msettfex.services.set.stock.profile_stock\u001b[0m:\u001b[36mfetch_profile\u001b[0m:\u001b[36m195\u001b[0m | \u001b[1mSuccessfully fetched profile for KBANK: Name=KASIKORNBANK PUBLIC COMPANY LIMITED, Market=SET, Sector=Banking, Status=Listed\u001b[0m\n"
     ]
    },
    {
     "ename": "AttributeError",
     "evalue": "'StockProfile' object has no attribute 'name_en'",
     "output_type": "error",
     "traceback": [
      "\u001b[31m---------------------------------------------------------------------------\u001b[39m",
      "\u001b[31mAttributeError\u001b[39m                            Traceback (most recent call last)",
      "\u001b[36mCell\u001b[39m\u001b[36m \u001b[39m\u001b[32mIn[4]\u001b[39m\u001b[32m, line 10\u001b[39m\n\u001b[32m      4\u001b[39m profiles = \u001b[38;5;28;01mawait\u001b[39;00m asyncio.gather(*tasks)\n\u001b[32m      6\u001b[39m \u001b[38;5;66;03m# Create comparison DataFrame\u001b[39;00m\n\u001b[32m      7\u001b[39m data = [\n\u001b[32m      8\u001b[39m     {\n\u001b[32m      9\u001b[39m         \u001b[33m\"\u001b[39m\u001b[33msymbol\u001b[39m\u001b[33m\"\u001b[39m: p.symbol,\n\u001b[32m---> \u001b[39m\u001b[32m10\u001b[39m         \u001b[33m\"\u001b[39m\u001b[33mname\u001b[39m\u001b[33m\"\u001b[39m: \u001b[43mp\u001b[49m\u001b[43m.\u001b[49m\u001b[43mname_en\u001b[49m,\n\u001b[32m     11\u001b[39m         \u001b[33m\"\u001b[39m\u001b[33mmarket\u001b[39m\u001b[33m\"\u001b[39m: p.market,\n\u001b[32m     12\u001b[39m         \u001b[33m\"\u001b[39m\u001b[33msector\u001b[39m\u001b[33m\"\u001b[39m: p.sector_name,\n\u001b[32m     13\u001b[39m         \u001b[33m\"\u001b[39m\u001b[33mlisted_date\u001b[39m\u001b[33m\"\u001b[39m: p.listed_date,\n\u001b[32m     14\u001b[39m         \u001b[33m\"\u001b[39m\u001b[33mipo_price\u001b[39m\u001b[33m\"\u001b[39m: p.ipo,\n\u001b[32m     15\u001b[39m         \u001b[33m\"\u001b[39m\u001b[33mforeign_limit\u001b[39m\u001b[33m\"\u001b[39m: p.foreign_limit,\n\u001b[32m     16\u001b[39m         \u001b[33m\"\u001b[39m\u001b[33mfree_float\u001b[39m\u001b[33m\"\u001b[39m: p.free_float_percent\n\u001b[32m     17\u001b[39m     }\n\u001b[32m     18\u001b[39m     \u001b[38;5;28;01mfor\u001b[39;00m p \u001b[38;5;129;01min\u001b[39;00m profiles\n\u001b[32m     19\u001b[39m ]\n\u001b[32m     21\u001b[39m df = pd.DataFrame(data)\n\u001b[32m     22\u001b[39m \u001b[38;5;28mprint\u001b[39m(\u001b[33m\"\u001b[39m\u001b[38;5;130;01m\\n\u001b[39;00m\u001b[33mStock Profile Comparison:\u001b[39m\u001b[33m\"\u001b[39m)\n",
      "\u001b[36mFile \u001b[39m\u001b[32m~/Code/python-lib/settfex/.venv/lib/python3.13/site-packages/pydantic/main.py:991\u001b[39m, in \u001b[36mBaseModel.__getattr__\u001b[39m\u001b[34m(self, item)\u001b[39m\n\u001b[32m    988\u001b[39m     \u001b[38;5;28;01mreturn\u001b[39;00m \u001b[38;5;28msuper\u001b[39m().\u001b[34m__getattribute__\u001b[39m(item)  \u001b[38;5;66;03m# Raises AttributeError if appropriate\u001b[39;00m\n\u001b[32m    989\u001b[39m \u001b[38;5;28;01melse\u001b[39;00m:\n\u001b[32m    990\u001b[39m     \u001b[38;5;66;03m# this is the current error\u001b[39;00m\n\u001b[32m--> \u001b[39m\u001b[32m991\u001b[39m     \u001b[38;5;28;01mraise\u001b[39;00m \u001b[38;5;167;01mAttributeError\u001b[39;00m(\u001b[33mf\u001b[39m\u001b[33m'\u001b[39m\u001b[38;5;132;01m{\u001b[39;00m\u001b[38;5;28mtype\u001b[39m(\u001b[38;5;28mself\u001b[39m).\u001b[34m__name__\u001b[39m\u001b[38;5;132;01m!r}\u001b[39;00m\u001b[33m object has no attribute \u001b[39m\u001b[38;5;132;01m{\u001b[39;00mitem\u001b[38;5;132;01m!r}\u001b[39;00m\u001b[33m'\u001b[39m)\n",
      "\u001b[31mAttributeError\u001b[39m: 'StockProfile' object has no attribute 'name_en'"
     ]
    }
   ],
   "source": [
    "# Fetch multiple stock profiles\n",
    "symbols = [\"PTT\", \"KBANK\", \"CPALL\", \"AOT\", \"BBL\"]\n",
    "tasks = [get_profile(symbol) for symbol in symbols]\n",
    "profiles = await asyncio.gather(*tasks)\n",
    "\n",
    "# Create comparison DataFrame\n",
    "data = [\n",
    "    {\n",
    "        \"symbol\": p.symbol,\n",
    "        \"name\": p.name_en,\n",
    "        \"market\": p.market,\n",
    "        \"sector\": p.sector_name,\n",
    "        \"listed_date\": p.listed_date,\n",
    "        \"ipo_price\": p.ipo,\n",
    "        \"foreign_limit\": p.foreign_limit,\n",
    "        \"free_float\": p.free_float_percent\n",
    "    }\n",
    "    for p in profiles\n",
    "]\n",
    "\n",
    "df = pd.DataFrame(data)\n",
    "print(\"\\nStock Profile Comparison:\")\n",
    "print(df.to_string(index=False))"
   ]
  },
  {
   "cell_type": "markdown",
   "metadata": {},
   "source": [
    "## Financial Firm Use Case: Foreign Ownership Monitoring"
   ]
  },
  {
   "cell_type": "code",
   "execution_count": null,
   "metadata": {},
   "outputs": [],
   "source": [
    "async def check_foreign_room(symbols: list[str], min_room_shares: int = 1_000_000):\n",
    "    \"\"\"\n",
    "    Check which stocks have available foreign room for foreign investors.\n",
    "    Critical for foreign fund managers and international investors.\n",
    "    \"\"\"\n",
    "    tasks = [get_profile(symbol) for symbol in symbols]\n",
    "    profiles = await asyncio.gather(*tasks, return_exceptions=True)\n",
    "    \n",
    "    available = []\n",
    "    restricted = []\n",
    "    \n",
    "    for profile in profiles:\n",
    "        if isinstance(profile, Exception):\n",
    "            continue\n",
    "        \n",
    "        if profile.available_foreign >= min_room_shares:\n",
    "            available.append({\n",
    "                \"symbol\": profile.symbol,\n",
    "                \"name\": profile.name_en,\n",
    "                \"foreign_limit\": profile.foreign_limit,\n",
    "                \"available_shares\": profile.available_foreign,\n",
    "                \"foreign_room\": profile.foreign_room\n",
    "            })\n",
    "        else:\n",
    "            restricted.append({\n",
    "                \"symbol\": profile.symbol,\n",
    "                \"name\": profile.name_en,\n",
    "                \"available_shares\": profile.available_foreign\n",
    "            })\n",
    "    \n",
    "    print(f\"✓ Available for foreign purchase ({len(available)} stocks):\")\n",
    "    if available:\n",
    "        av_df = pd.DataFrame(available)\n",
    "        print(av_df.to_string(index=False))\n",
    "    \n",
    "    print(f\"\\n✗ Limited/No foreign room ({len(restricted)} stocks):\")\n",
    "    if restricted:\n",
    "        res_df = pd.DataFrame(restricted)\n",
    "        print(res_df.to_string(index=False))\n",
    "\n",
    "# Check foreign room for blue chips\n",
    "await check_foreign_room([\"PTT\", \"KBANK\", \"CPALL\", \"AOT\", \"BBL\", \"SCB\"], min_room_shares=1_000_000)"
   ]
  },
  {
   "cell_type": "markdown",
   "metadata": {},
   "source": [
    "## Use Case: IPO Analysis"
   ]
  },
  {
   "cell_type": "code",
   "execution_count": null,
   "metadata": {},
   "outputs": [],
   "source": [
    "# Analyze IPO pricing vs current market\n",
    "from settfex.services.set import get_highlight_data\n",
    "\n",
    "async def ipo_performance_analysis(symbol: str):\n",
    "    \"\"\"\n",
    "    Compare IPO price to current market metrics.\n",
    "    \"\"\"\n",
    "    # Fetch both profile and current data\n",
    "    profile, highlight = await asyncio.gather(\n",
    "        get_profile(symbol),\n",
    "        get_highlight_data(symbol)\n",
    "    )\n",
    "    \n",
    "    # Calculate returns since IPO (simplified - would need current price)\n",
    "    print(f\"IPO Analysis for {profile.name_en}:\")\n",
    "    print(f\"  Symbol: {profile.symbol}\")\n",
    "    print(f\"  Listed Date: {profile.listed_date}\")\n",
    "    print(f\"  IPO Price: {profile.ipo} {profile.currency}\")\n",
    "    print(f\"  Par Value: {profile.par_value} {profile.currency}\")\n",
    "    print(f\"\\nCurrent Valuation:\")\n",
    "    print(f\"  Market Cap: {highlight.market_cap:,.0f} THB\")\n",
    "    print(f\"  P/E Ratio: {highlight.pe_ratio}\")\n",
    "    print(f\"  P/B Ratio: {highlight.pb_ratio}\")\n",
    "\n",
    "await ipo_performance_analysis(\"CPALL\")"
   ]
  },
  {
   "cell_type": "markdown",
   "metadata": {},
   "source": [
    "## Error Handling"
   ]
  },
  {
   "cell_type": "code",
   "execution_count": null,
   "metadata": {},
   "outputs": [],
   "source": [
    "async def safe_get_profile(symbol: str):\n",
    "    try:\n",
    "        profile = await get_profile(symbol)\n",
    "        print(f\"✓ {symbol}: {profile.name_en}\")\n",
    "        return profile\n",
    "    except Exception as e:\n",
    "        print(f\"✗ {symbol}: {e}\")\n",
    "        return None\n",
    "\n",
    "await safe_get_profile(\"PTT\")\n",
    "await safe_get_profile(\"INVALID\")"
   ]
  },
  {
   "cell_type": "markdown",
   "metadata": {},
   "source": [
    "## Next Steps\n",
    "\n",
    "- **[Stock List](01_stock_list.ipynb)** - Get all stock symbols\n",
    "- **[Highlight Data](02_highlight_data.ipynb)** - Market metrics\n",
    "- **[Company Profile](04_company_profile.ipynb)** - Company details and governance\n",
    "- **[Shareholder](06_shareholder.ipynb)** - Ownership structure\n",
    "\n",
    "**Documentation**: `/docs/settfex/services/set/profile_stock.md`"
   ]
  }
 ],
 "metadata": {
  "kernelspec": {
   "display_name": "settfex",
   "language": "python",
   "name": "python3"
  },
  "language_info": {
   "codemirror_mode": {
    "name": "ipython",
    "version": 3
   },
   "file_extension": ".py",
   "mimetype": "text/x-python",
   "name": "python",
   "nbconvert_exporter": "python",
   "pygments_lexer": "ipython3",
   "version": "3.13.5"
  }
 },
 "nbformat": 4,
 "nbformat_minor": 4
}
