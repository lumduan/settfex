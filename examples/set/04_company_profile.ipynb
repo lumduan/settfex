{
 "cells": [
  {
   "cell_type": "markdown",
   "metadata": {},
   "source": [
    "# Company Profile Service - Governance & ESG Data\n",
    "\n",
    "Access comprehensive company information including governance scores, ESG ratings, management, auditors, and capital structure."
   ]
  },
  {
   "cell_type": "markdown",
   "metadata": {},
   "source": [
    "## Overview\n",
    "\n",
    "The **Company Profile Service** provides corporate information essential for:\n",
    "\n",
    "- **ESG Investment**: Access SET ESG ratings (AAA to CCC)\n",
    "- **Corporate Governance**: Monitor CG scores (0-5 scale)\n",
    "- **Due Diligence**: Track management, auditors, and audit opinions\n",
    "- **Compliance**: CAC (Collective Action Coalition) certification status\n",
    "- **Contact Information**: Company addresses, websites, emails\n",
    "- **Capital Structure**: Authorized and paid-up capital for common and preferred shares\n",
    "\n",
    "### When to Use This Service\n",
    "\n",
    "- ESG portfolio construction\n",
    "- Governance screening and analysis\n",
    "- Management continuity tracking\n",
    "- Audit quality assessment\n",
    "- Anti-corruption compliance (CAC certification)"
   ]
  },
  {
   "cell_type": "markdown",
   "metadata": {},
   "source": [
    "## Installation"
   ]
  },
  {
   "cell_type": "code",
   "execution_count": 1,
   "metadata": {},
   "outputs": [
    {
     "name": "stdout",
     "output_type": "stream",
     "text": [
      "zsh:1: command not found: pip\n"
     ]
    }
   ],
   "source": [
    "!pip install settfex"
   ]
  },
  {
   "cell_type": "markdown",
   "metadata": {},
   "source": [
    "## Import Libraries"
   ]
  },
  {
   "cell_type": "code",
   "execution_count": 2,
   "metadata": {},
   "outputs": [
    {
     "name": "stdout",
     "output_type": "stream",
     "text": [
      "Libraries imported successfully!\n"
     ]
    }
   ],
   "source": [
    "import asyncio\n",
    "from settfex.services.set import get_company_profile\n",
    "import pandas as pd\n",
    "\n",
    "print(\"Libraries imported successfully!\")"
   ]
  },
  {
   "cell_type": "markdown",
   "metadata": {},
   "source": [
    "## Basic Usage"
   ]
  },
  {
   "cell_type": "code",
   "execution_count": 3,
   "metadata": {},
   "outputs": [
    {
     "name": "stderr",
     "output_type": "stream",
     "text": [
      "\u001b[32m2025-10-05 17:38:19\u001b[0m | \u001b[1mINFO    \u001b[0m | \u001b[36msettfex.services.set.stock.profile_company\u001b[0m:\u001b[36m__init__\u001b[0m:\u001b[36m165\u001b[0m | \u001b[1mCompanyProfileService initialized with base_url=https://www.set.or.th\u001b[0m\n",
      "\u001b[32m2025-10-05 17:38:19\u001b[0m | \u001b[1mINFO    \u001b[0m | \u001b[36msettfex.services.set.stock.profile_company\u001b[0m:\u001b[36mfetch_company_profile\u001b[0m:\u001b[36m206\u001b[0m | \u001b[1mFetching company profile for symbol 'CPN' (lang=en) from https://www.set.or.th/api/set/company/CPN/profile?lang=en\u001b[0m\n",
      "\u001b[32m2025-10-05 17:38:19\u001b[0m | \u001b[1mINFO    \u001b[0m | \u001b[36msettfex.utils.data_fetcher\u001b[0m:\u001b[36m__init__\u001b[0m:\u001b[36m113\u001b[0m | \u001b[1mAsyncDataFetcher initialized with browser=chrome120, timeout=30s, rate_limit=0.0s\u001b[0m\n",
      "\u001b[32m2025-10-05 17:38:19\u001b[0m | \u001b[1mINFO    \u001b[0m | \u001b[36msettfex.utils.session_manager\u001b[0m:\u001b[36m__init__\u001b[0m:\u001b[36m98\u001b[0m | \u001b[1mSessionManager created with browser=chrome120, warmup_site=set, cache=enabled\u001b[0m\n",
      "\u001b[32m2025-10-05 17:38:19\u001b[0m | \u001b[1mINFO    \u001b[0m | \u001b[36msettfex.utils.session_cache\u001b[0m:\u001b[36m__init__\u001b[0m:\u001b[36m76\u001b[0m | \u001b[1mSessionCache initialized at /Users/sarat/.settfex/cache (ttl=3600s, size_limit=100MB)\u001b[0m\n",
      "\u001b[32m2025-10-05 17:38:19\u001b[0m | \u001b[32m\u001b[1mSUCCESS \u001b[0m | \u001b[36msettfex.utils.session_manager\u001b[0m:\u001b[36m_try_load_from_cache\u001b[0m:\u001b[36m202\u001b[0m | \u001b[32m\u001b[1m✓ Loaded session from cache: 4 cookies (age=437s, browser=chrome120)\u001b[0m\n",
      "\u001b[32m2025-10-05 17:38:19\u001b[0m | \u001b[1mINFO    \u001b[0m | \u001b[36msettfex.utils.data_fetcher\u001b[0m:\u001b[36mfetch\u001b[0m:\u001b[36m303\u001b[0m | \u001b[1mFetch successful: url=https://www.set.or.th/api/set/company/CPN/profile?lang=en, status=200, elapsed=0.11s, size=2768 bytes\u001b[0m\n",
      "\u001b[32m2025-10-05 17:38:19\u001b[0m | \u001b[1mINFO    \u001b[0m | \u001b[36msettfex.services.set.stock.profile_company\u001b[0m:\u001b[36mfetch_company_profile\u001b[0m:\u001b[36m235\u001b[0m | \u001b[1mSuccessfully fetched company profile for CPN: Name=CENTRAL PATTANA PUBLIC COMPANY LIMITED, Sector=Property Development, CG Score=5, ESG Rating=AAA\u001b[0m\n"
     ]
    },
    {
     "name": "stdout",
     "output_type": "stream",
     "text": [
      "Company: CENTRAL PATTANA PUBLIC COMPANY LIMITED\n",
      "Symbol: CPN\n",
      "Sector: Property Development\n",
      "Industry: Property & Construction\n",
      "\n",
      "Governance & ESG:\n",
      "  CG Score: 5/5\n",
      "  ESG Rating: AAA\n",
      "  CAC Certified: Yes\n",
      "\n",
      "Contact:\n",
      "  Website: http://www.centralpattana.co.th\n",
      "  Email: \n",
      "  Phone: 0-2667-5555\n",
      "\n",
      "Corporate Info:\n",
      "  Established: 17/06/1980\n",
      "  Business Type: Develop and invest in retail property for rent comprising large-scale shopping complexes and other related and supportive businesses, such as office buildings, hotels, residential development and food court.  In addition, the Company invests in CPN Commercial Growth Leasehold Property Fund (CPNCG) and CPN Retail Growth Leasehold REIT (CPNREIT), and is the property manager and REIT manager.\n",
      "  Management: 2 executives\n",
      "  Auditors: 5 firms\n"
     ]
    }
   ],
   "source": [
    "# Fetch company profile\n",
    "profile = await get_company_profile(\"CPN\")\n",
    "\n",
    "print(f\"Company: {profile.name}\")\n",
    "print(f\"Symbol: {profile.symbol}\")\n",
    "print(f\"Sector: {profile.sector_name}\")\n",
    "print(f\"Industry: {profile.industry_name}\")\n",
    "print(f\"\\nGovernance & ESG:\")\n",
    "print(f\"  CG Score: {profile.cg_score}/5\")\n",
    "print(f\"  ESG Rating: {profile.setesg_rating}\")\n",
    "print(f\"  CAC Certified: {'Yes' if profile.cac_flag else 'No'}\")\n",
    "print(f\"\\nContact:\")\n",
    "print(f\"  Website: {profile.url}\")\n",
    "print(f\"  Email: {profile.email}\")\n",
    "print(f\"  Phone: {profile.telephone}\")\n",
    "print(f\"\\nCorporate Info:\")\n",
    "print(f\"  Established: {profile.established_date}\")\n",
    "print(f\"  Business Type: {profile.business_type}\")\n",
    "print(f\"  Management: {len(profile.managements)} executives\")\n",
    "print(f\"  Auditors: {len(profile.auditors)} firms\")"
   ]
  },
  {
   "cell_type": "markdown",
   "metadata": {},
   "source": [
    "## Advanced Usage - ESG Portfolio Screening"
   ]
  },
  {
   "cell_type": "code",
   "execution_count": 4,
   "metadata": {},
   "outputs": [
    {
     "name": "stderr",
     "output_type": "stream",
     "text": [
      "\u001b[32m2025-10-05 17:38:19\u001b[0m | \u001b[1mINFO    \u001b[0m | \u001b[36msettfex.services.set.stock.profile_company\u001b[0m:\u001b[36m__init__\u001b[0m:\u001b[36m165\u001b[0m | \u001b[1mCompanyProfileService initialized with base_url=https://www.set.or.th\u001b[0m\n",
      "\u001b[32m2025-10-05 17:38:19\u001b[0m | \u001b[1mINFO    \u001b[0m | \u001b[36msettfex.services.set.stock.profile_company\u001b[0m:\u001b[36mfetch_company_profile\u001b[0m:\u001b[36m206\u001b[0m | \u001b[1mFetching company profile for symbol 'PTT' (lang=en) from https://www.set.or.th/api/set/company/PTT/profile?lang=en\u001b[0m\n",
      "\u001b[32m2025-10-05 17:38:19\u001b[0m | \u001b[1mINFO    \u001b[0m | \u001b[36msettfex.utils.data_fetcher\u001b[0m:\u001b[36m__init__\u001b[0m:\u001b[36m113\u001b[0m | \u001b[1mAsyncDataFetcher initialized with browser=chrome120, timeout=30s, rate_limit=0.0s\u001b[0m\n",
      "\u001b[32m2025-10-05 17:38:19\u001b[0m | \u001b[1mINFO    \u001b[0m | \u001b[36msettfex.services.set.stock.profile_company\u001b[0m:\u001b[36m__init__\u001b[0m:\u001b[36m165\u001b[0m | \u001b[1mCompanyProfileService initialized with base_url=https://www.set.or.th\u001b[0m\n",
      "\u001b[32m2025-10-05 17:38:19\u001b[0m | \u001b[1mINFO    \u001b[0m | \u001b[36msettfex.services.set.stock.profile_company\u001b[0m:\u001b[36mfetch_company_profile\u001b[0m:\u001b[36m206\u001b[0m | \u001b[1mFetching company profile for symbol 'KBANK' (lang=en) from https://www.set.or.th/api/set/company/KBANK/profile?lang=en\u001b[0m\n",
      "\u001b[32m2025-10-05 17:38:19\u001b[0m | \u001b[1mINFO    \u001b[0m | \u001b[36msettfex.utils.data_fetcher\u001b[0m:\u001b[36m__init__\u001b[0m:\u001b[36m113\u001b[0m | \u001b[1mAsyncDataFetcher initialized with browser=chrome120, timeout=30s, rate_limit=0.0s\u001b[0m\n",
      "\u001b[32m2025-10-05 17:38:19\u001b[0m | \u001b[1mINFO    \u001b[0m | \u001b[36msettfex.services.set.stock.profile_company\u001b[0m:\u001b[36m__init__\u001b[0m:\u001b[36m165\u001b[0m | \u001b[1mCompanyProfileService initialized with base_url=https://www.set.or.th\u001b[0m\n",
      "\u001b[32m2025-10-05 17:38:19\u001b[0m | \u001b[1mINFO    \u001b[0m | \u001b[36msettfex.services.set.stock.profile_company\u001b[0m:\u001b[36mfetch_company_profile\u001b[0m:\u001b[36m206\u001b[0m | \u001b[1mFetching company profile for symbol 'CPALL' (lang=en) from https://www.set.or.th/api/set/company/CPALL/profile?lang=en\u001b[0m\n",
      "\u001b[32m2025-10-05 17:38:19\u001b[0m | \u001b[1mINFO    \u001b[0m | \u001b[36msettfex.utils.data_fetcher\u001b[0m:\u001b[36m__init__\u001b[0m:\u001b[36m113\u001b[0m | \u001b[1mAsyncDataFetcher initialized with browser=chrome120, timeout=30s, rate_limit=0.0s\u001b[0m\n",
      "\u001b[32m2025-10-05 17:38:19\u001b[0m | \u001b[1mINFO    \u001b[0m | \u001b[36msettfex.services.set.stock.profile_company\u001b[0m:\u001b[36m__init__\u001b[0m:\u001b[36m165\u001b[0m | \u001b[1mCompanyProfileService initialized with base_url=https://www.set.or.th\u001b[0m\n",
      "\u001b[32m2025-10-05 17:38:19\u001b[0m | \u001b[1mINFO    \u001b[0m | \u001b[36msettfex.services.set.stock.profile_company\u001b[0m:\u001b[36mfetch_company_profile\u001b[0m:\u001b[36m206\u001b[0m | \u001b[1mFetching company profile for symbol 'AOT' (lang=en) from https://www.set.or.th/api/set/company/AOT/profile?lang=en\u001b[0m\n",
      "\u001b[32m2025-10-05 17:38:19\u001b[0m | \u001b[1mINFO    \u001b[0m | \u001b[36msettfex.utils.data_fetcher\u001b[0m:\u001b[36m__init__\u001b[0m:\u001b[36m113\u001b[0m | \u001b[1mAsyncDataFetcher initialized with browser=chrome120, timeout=30s, rate_limit=0.0s\u001b[0m\n",
      "\u001b[32m2025-10-05 17:38:19\u001b[0m | \u001b[1mINFO    \u001b[0m | \u001b[36msettfex.services.set.stock.profile_company\u001b[0m:\u001b[36m__init__\u001b[0m:\u001b[36m165\u001b[0m | \u001b[1mCompanyProfileService initialized with base_url=https://www.set.or.th\u001b[0m\n",
      "\u001b[32m2025-10-05 17:38:19\u001b[0m | \u001b[1mINFO    \u001b[0m | \u001b[36msettfex.services.set.stock.profile_company\u001b[0m:\u001b[36mfetch_company_profile\u001b[0m:\u001b[36m206\u001b[0m | \u001b[1mFetching company profile for symbol 'BBL' (lang=en) from https://www.set.or.th/api/set/company/BBL/profile?lang=en\u001b[0m\n",
      "\u001b[32m2025-10-05 17:38:19\u001b[0m | \u001b[1mINFO    \u001b[0m | \u001b[36msettfex.utils.data_fetcher\u001b[0m:\u001b[36m__init__\u001b[0m:\u001b[36m113\u001b[0m | \u001b[1mAsyncDataFetcher initialized with browser=chrome120, timeout=30s, rate_limit=0.0s\u001b[0m\n",
      "\u001b[32m2025-10-05 17:38:19\u001b[0m | \u001b[1mINFO    \u001b[0m | \u001b[36msettfex.services.set.stock.profile_company\u001b[0m:\u001b[36m__init__\u001b[0m:\u001b[36m165\u001b[0m | \u001b[1mCompanyProfileService initialized with base_url=https://www.set.or.th\u001b[0m\n",
      "\u001b[32m2025-10-05 17:38:19\u001b[0m | \u001b[1mINFO    \u001b[0m | \u001b[36msettfex.services.set.stock.profile_company\u001b[0m:\u001b[36mfetch_company_profile\u001b[0m:\u001b[36m206\u001b[0m | \u001b[1mFetching company profile for symbol 'SCB' (lang=en) from https://www.set.or.th/api/set/company/SCB/profile?lang=en\u001b[0m\n",
      "\u001b[32m2025-10-05 17:38:19\u001b[0m | \u001b[1mINFO    \u001b[0m | \u001b[36msettfex.utils.data_fetcher\u001b[0m:\u001b[36m__init__\u001b[0m:\u001b[36m113\u001b[0m | \u001b[1mAsyncDataFetcher initialized with browser=chrome120, timeout=30s, rate_limit=0.0s\u001b[0m\n",
      "\u001b[32m2025-10-05 17:38:19\u001b[0m | \u001b[1mINFO    \u001b[0m | \u001b[36msettfex.services.set.stock.profile_company\u001b[0m:\u001b[36m__init__\u001b[0m:\u001b[36m165\u001b[0m | \u001b[1mCompanyProfileService initialized with base_url=https://www.set.or.th\u001b[0m\n",
      "\u001b[32m2025-10-05 17:38:19\u001b[0m | \u001b[1mINFO    \u001b[0m | \u001b[36msettfex.services.set.stock.profile_company\u001b[0m:\u001b[36mfetch_company_profile\u001b[0m:\u001b[36m206\u001b[0m | \u001b[1mFetching company profile for symbol 'ADVANC' (lang=en) from https://www.set.or.th/api/set/company/ADVANC/profile?lang=en\u001b[0m\n",
      "\u001b[32m2025-10-05 17:38:19\u001b[0m | \u001b[1mINFO    \u001b[0m | \u001b[36msettfex.utils.data_fetcher\u001b[0m:\u001b[36m__init__\u001b[0m:\u001b[36m113\u001b[0m | \u001b[1mAsyncDataFetcher initialized with browser=chrome120, timeout=30s, rate_limit=0.0s\u001b[0m\n",
      "\u001b[32m2025-10-05 17:38:19\u001b[0m | \u001b[1mINFO    \u001b[0m | \u001b[36msettfex.services.set.stock.profile_company\u001b[0m:\u001b[36m__init__\u001b[0m:\u001b[36m165\u001b[0m | \u001b[1mCompanyProfileService initialized with base_url=https://www.set.or.th\u001b[0m\n",
      "\u001b[32m2025-10-05 17:38:19\u001b[0m | \u001b[1mINFO    \u001b[0m | \u001b[36msettfex.services.set.stock.profile_company\u001b[0m:\u001b[36mfetch_company_profile\u001b[0m:\u001b[36m206\u001b[0m | \u001b[1mFetching company profile for symbol 'CPN' (lang=en) from https://www.set.or.th/api/set/company/CPN/profile?lang=en\u001b[0m\n",
      "\u001b[32m2025-10-05 17:38:19\u001b[0m | \u001b[1mINFO    \u001b[0m | \u001b[36msettfex.utils.data_fetcher\u001b[0m:\u001b[36m__init__\u001b[0m:\u001b[36m113\u001b[0m | \u001b[1mAsyncDataFetcher initialized with browser=chrome120, timeout=30s, rate_limit=0.0s\u001b[0m\n",
      "\u001b[32m2025-10-05 17:38:19\u001b[0m | \u001b[1mINFO    \u001b[0m | \u001b[36msettfex.services.set.stock.profile_company\u001b[0m:\u001b[36m__init__\u001b[0m:\u001b[36m165\u001b[0m | \u001b[1mCompanyProfileService initialized with base_url=https://www.set.or.th\u001b[0m\n",
      "\u001b[32m2025-10-05 17:38:19\u001b[0m | \u001b[1mINFO    \u001b[0m | \u001b[36msettfex.services.set.stock.profile_company\u001b[0m:\u001b[36mfetch_company_profile\u001b[0m:\u001b[36m206\u001b[0m | \u001b[1mFetching company profile for symbol 'MINT' (lang=en) from https://www.set.or.th/api/set/company/MINT/profile?lang=en\u001b[0m\n",
      "\u001b[32m2025-10-05 17:38:19\u001b[0m | \u001b[1mINFO    \u001b[0m | \u001b[36msettfex.utils.data_fetcher\u001b[0m:\u001b[36m__init__\u001b[0m:\u001b[36m113\u001b[0m | \u001b[1mAsyncDataFetcher initialized with browser=chrome120, timeout=30s, rate_limit=0.0s\u001b[0m\n",
      "\u001b[32m2025-10-05 17:38:19\u001b[0m | \u001b[1mINFO    \u001b[0m | \u001b[36msettfex.services.set.stock.profile_company\u001b[0m:\u001b[36m__init__\u001b[0m:\u001b[36m165\u001b[0m | \u001b[1mCompanyProfileService initialized with base_url=https://www.set.or.th\u001b[0m\n",
      "\u001b[32m2025-10-05 17:38:19\u001b[0m | \u001b[1mINFO    \u001b[0m | \u001b[36msettfex.services.set.stock.profile_company\u001b[0m:\u001b[36mfetch_company_profile\u001b[0m:\u001b[36m206\u001b[0m | \u001b[1mFetching company profile for symbol 'GULF' (lang=en) from https://www.set.or.th/api/set/company/GULF/profile?lang=en\u001b[0m\n",
      "\u001b[32m2025-10-05 17:38:19\u001b[0m | \u001b[1mINFO    \u001b[0m | \u001b[36msettfex.utils.data_fetcher\u001b[0m:\u001b[36m__init__\u001b[0m:\u001b[36m113\u001b[0m | \u001b[1mAsyncDataFetcher initialized with browser=chrome120, timeout=30s, rate_limit=0.0s\u001b[0m\n",
      "\u001b[32m2025-10-05 17:38:19\u001b[0m | \u001b[1mINFO    \u001b[0m | \u001b[36msettfex.utils.data_fetcher\u001b[0m:\u001b[36mfetch\u001b[0m:\u001b[36m303\u001b[0m | \u001b[1mFetch successful: url=https://www.set.or.th/api/set/company/PTT/profile?lang=en, status=200, elapsed=0.02s, size=2364 bytes\u001b[0m\n",
      "\u001b[32m2025-10-05 17:38:19\u001b[0m | \u001b[1mINFO    \u001b[0m | \u001b[36msettfex.services.set.stock.profile_company\u001b[0m:\u001b[36mfetch_company_profile\u001b[0m:\u001b[36m235\u001b[0m | \u001b[1mSuccessfully fetched company profile for PTT: Name=PTT PUBLIC COMPANY LIMITED, Sector=Energy & Utilities, CG Score=5, ESG Rating=AAA\u001b[0m\n",
      "\u001b[32m2025-10-05 17:38:19\u001b[0m | \u001b[1mINFO    \u001b[0m | \u001b[36msettfex.utils.data_fetcher\u001b[0m:\u001b[36mfetch\u001b[0m:\u001b[36m303\u001b[0m | \u001b[1mFetch successful: url=https://www.set.or.th/api/set/company/MINT/profile?lang=en, status=200, elapsed=0.02s, size=2597 bytes\u001b[0m\n",
      "\u001b[32m2025-10-05 17:38:19\u001b[0m | \u001b[1mINFO    \u001b[0m | \u001b[36msettfex.services.set.stock.profile_company\u001b[0m:\u001b[36mfetch_company_profile\u001b[0m:\u001b[36m235\u001b[0m | \u001b[1mSuccessfully fetched company profile for MINT: Name=MINOR INTERNATIONAL PUBLIC COMPANY LIMITED, Sector=Tourism & Leisure, CG Score=5, ESG Rating=AA\u001b[0m\n",
      "\u001b[32m2025-10-05 17:38:19\u001b[0m | \u001b[1mINFO    \u001b[0m | \u001b[36msettfex.utils.data_fetcher\u001b[0m:\u001b[36mfetch\u001b[0m:\u001b[36m303\u001b[0m | \u001b[1mFetch successful: url=https://www.set.or.th/api/set/company/KBANK/profile?lang=en, status=200, elapsed=0.05s, size=2972 bytes\u001b[0m\n",
      "\u001b[32m2025-10-05 17:38:19\u001b[0m | \u001b[1mINFO    \u001b[0m | \u001b[36msettfex.services.set.stock.profile_company\u001b[0m:\u001b[36mfetch_company_profile\u001b[0m:\u001b[36m235\u001b[0m | \u001b[1mSuccessfully fetched company profile for KBANK: Name=KASIKORNBANK PUBLIC COMPANY LIMITED, Sector=Banking, CG Score=5, ESG Rating=AAA\u001b[0m\n",
      "\u001b[32m2025-10-05 17:38:19\u001b[0m | \u001b[1mINFO    \u001b[0m | \u001b[36msettfex.utils.data_fetcher\u001b[0m:\u001b[36mfetch\u001b[0m:\u001b[36m303\u001b[0m | \u001b[1mFetch successful: url=https://www.set.or.th/api/set/company/CPALL/profile?lang=en, status=200, elapsed=0.06s, size=2645 bytes\u001b[0m\n",
      "\u001b[32m2025-10-05 17:38:19\u001b[0m | \u001b[1mINFO    \u001b[0m | \u001b[36msettfex.services.set.stock.profile_company\u001b[0m:\u001b[36mfetch_company_profile\u001b[0m:\u001b[36m235\u001b[0m | \u001b[1mSuccessfully fetched company profile for CPALL: Name=CP ALL PUBLIC COMPANY LIMITED, Sector=Commerce, CG Score=5, ESG Rating=AAA\u001b[0m\n",
      "\u001b[32m2025-10-05 17:38:19\u001b[0m | \u001b[1mINFO    \u001b[0m | \u001b[36msettfex.utils.data_fetcher\u001b[0m:\u001b[36mfetch\u001b[0m:\u001b[36m303\u001b[0m | \u001b[1mFetch successful: url=https://www.set.or.th/api/set/company/BBL/profile?lang=en, status=200, elapsed=0.06s, size=2445 bytes\u001b[0m\n",
      "\u001b[32m2025-10-05 17:38:19\u001b[0m | \u001b[1mINFO    \u001b[0m | \u001b[36msettfex.services.set.stock.profile_company\u001b[0m:\u001b[36mfetch_company_profile\u001b[0m:\u001b[36m235\u001b[0m | \u001b[1mSuccessfully fetched company profile for BBL: Name=BANGKOK BANK PUBLIC COMPANY LIMITED, Sector=Banking, CG Score=5, ESG Rating=AAA\u001b[0m\n",
      "\u001b[32m2025-10-05 17:38:19\u001b[0m | \u001b[1mINFO    \u001b[0m | \u001b[36msettfex.utils.data_fetcher\u001b[0m:\u001b[36mfetch\u001b[0m:\u001b[36m303\u001b[0m | \u001b[1mFetch successful: url=https://www.set.or.th/api/set/company/AOT/profile?lang=en, status=200, elapsed=0.06s, size=2321 bytes\u001b[0m\n",
      "\u001b[32m2025-10-05 17:38:19\u001b[0m | \u001b[1mINFO    \u001b[0m | \u001b[36msettfex.services.set.stock.profile_company\u001b[0m:\u001b[36mfetch_company_profile\u001b[0m:\u001b[36m235\u001b[0m | \u001b[1mSuccessfully fetched company profile for AOT: Name=AIRPORTS OF THAILAND PUBLIC COMPANY LIMITED, Sector=Transportation & Logistics, CG Score=5, ESG Rating=A\u001b[0m\n",
      "\u001b[32m2025-10-05 17:38:19\u001b[0m | \u001b[1mINFO    \u001b[0m | \u001b[36msettfex.utils.data_fetcher\u001b[0m:\u001b[36mfetch\u001b[0m:\u001b[36m303\u001b[0m | \u001b[1mFetch successful: url=https://www.set.or.th/api/set/company/GULF/profile?lang=en, status=200, elapsed=0.05s, size=3288 bytes\u001b[0m\n",
      "\u001b[32m2025-10-05 17:38:19\u001b[0m | \u001b[1mINFO    \u001b[0m | \u001b[36msettfex.services.set.stock.profile_company\u001b[0m:\u001b[36mfetch_company_profile\u001b[0m:\u001b[36m235\u001b[0m | \u001b[1mSuccessfully fetched company profile for GULF: Name=GULF DEVELOPMENT PUBLIC COMPANY LIMITED, Sector=Energy & Utilities, CG Score=5, ESG Rating=AAA\u001b[0m\n",
      "\u001b[32m2025-10-05 17:38:19\u001b[0m | \u001b[1mINFO    \u001b[0m | \u001b[36msettfex.utils.data_fetcher\u001b[0m:\u001b[36mfetch\u001b[0m:\u001b[36m303\u001b[0m | \u001b[1mFetch successful: url=https://www.set.or.th/api/set/company/CPN/profile?lang=en, status=200, elapsed=0.07s, size=2768 bytes\u001b[0m\n",
      "\u001b[32m2025-10-05 17:38:19\u001b[0m | \u001b[1mINFO    \u001b[0m | \u001b[36msettfex.services.set.stock.profile_company\u001b[0m:\u001b[36mfetch_company_profile\u001b[0m:\u001b[36m235\u001b[0m | \u001b[1mSuccessfully fetched company profile for CPN: Name=CENTRAL PATTANA PUBLIC COMPANY LIMITED, Sector=Property Development, CG Score=5, ESG Rating=AAA\u001b[0m\n",
      "\u001b[32m2025-10-05 17:38:19\u001b[0m | \u001b[1mINFO    \u001b[0m | \u001b[36msettfex.utils.data_fetcher\u001b[0m:\u001b[36mfetch\u001b[0m:\u001b[36m303\u001b[0m | \u001b[1mFetch successful: url=https://www.set.or.th/api/set/company/ADVANC/profile?lang=en, status=200, elapsed=0.07s, size=2133 bytes\u001b[0m\n",
      "\u001b[32m2025-10-05 17:38:19\u001b[0m | \u001b[1mINFO    \u001b[0m | \u001b[36msettfex.services.set.stock.profile_company\u001b[0m:\u001b[36mfetch_company_profile\u001b[0m:\u001b[36m235\u001b[0m | \u001b[1mSuccessfully fetched company profile for ADVANC: Name=ADVANCED INFO SERVICE PUBLIC COMPANY LIMITED, Sector=Information & Communication Technology, CG Score=5, ESG Rating=AA\u001b[0m\n",
      "\u001b[32m2025-10-05 17:38:19\u001b[0m | \u001b[1mINFO    \u001b[0m | \u001b[36msettfex.utils.data_fetcher\u001b[0m:\u001b[36mfetch\u001b[0m:\u001b[36m303\u001b[0m | \u001b[1mFetch successful: url=https://www.set.or.th/api/set/company/SCB/profile?lang=en, status=200, elapsed=0.17s, size=2730 bytes\u001b[0m\n",
      "\u001b[32m2025-10-05 17:38:19\u001b[0m | \u001b[1mINFO    \u001b[0m | \u001b[36msettfex.services.set.stock.profile_company\u001b[0m:\u001b[36mfetch_company_profile\u001b[0m:\u001b[36m235\u001b[0m | \u001b[1mSuccessfully fetched company profile for SCB: Name=SCB X PUBLIC COMPANY LIMITED, Sector=Banking, CG Score=5, ESG Rating=AA\u001b[0m\n"
     ]
    },
    {
     "name": "stdout",
     "output_type": "stream",
     "text": [
      "High-Quality ESG Stocks (10 qualified):\n",
      "\n",
      "symbol                                      company  cg_score esg_rating cac_certified                                 sector\n",
      "   PTT                   PTT PUBLIC COMPANY LIMITED         5        AAA           Yes                     Energy & Utilities\n",
      " KBANK          KASIKORNBANK PUBLIC COMPANY LIMITED         5        AAA           Yes                                Banking\n",
      " CPALL                CP ALL PUBLIC COMPANY LIMITED         5        AAA           Yes                               Commerce\n",
      "   AOT  AIRPORTS OF THAILAND PUBLIC COMPANY LIMITED         5          A            No             Transportation & Logistics\n",
      "   BBL          BANGKOK BANK PUBLIC COMPANY LIMITED         5        AAA           Yes                                Banking\n",
      "   SCB                 SCB X PUBLIC COMPANY LIMITED         5         AA           Yes                                Banking\n",
      "ADVANC ADVANCED INFO SERVICE PUBLIC COMPANY LIMITED         5         AA           Yes Information & Communication Technology\n",
      "   CPN       CENTRAL PATTANA PUBLIC COMPANY LIMITED         5        AAA           Yes                   Property Development\n",
      "  MINT   MINOR INTERNATIONAL PUBLIC COMPANY LIMITED         5         AA           Yes                      Tourism & Leisure\n",
      "  GULF      GULF DEVELOPMENT PUBLIC COMPANY LIMITED         5        AAA            No                     Energy & Utilities\n"
     ]
    }
   ],
   "source": [
    "async def esg_portfolio_screener(symbols: list[str], min_cg_score: float = 4.0, min_esg_rating: str = \"A\"):\n",
    "    \"\"\"\n",
    "    Screen companies for ESG and governance quality.\n",
    "    \n",
    "    ESG Rating Scale: AAA, AA, A, BBB, BB, B, CCC\n",
    "    CG Score Scale: 0-5 (5 is excellent)\n",
    "    \"\"\"\n",
    "    esg_order = {\"AAA\": 7, \"AA\": 6, \"A\": 5, \"BBB\": 4, \"BB\": 3, \"B\": 2, \"CCC\": 1, None: 0}\n",
    "    min_esg_rank = esg_order.get(min_esg_rating, 0)\n",
    "    \n",
    "    tasks = [get_company_profile(symbol) for symbol in symbols]\n",
    "    profiles = await asyncio.gather(*tasks, return_exceptions=True)\n",
    "    \n",
    "    qualified = []\n",
    "    for profile in profiles:\n",
    "        if isinstance(profile, Exception):\n",
    "            continue\n",
    "        \n",
    "        esg_rank = esg_order.get(profile.setesg_rating, 0)\n",
    "        \n",
    "        if profile.cg_score and profile.cg_score >= min_cg_score and esg_rank >= min_esg_rank:\n",
    "            qualified.append({\n",
    "                \"symbol\": profile.symbol,\n",
    "                \"company\": profile.name,\n",
    "                \"cg_score\": profile.cg_score,\n",
    "                \"esg_rating\": profile.setesg_rating or \"N/A\",\n",
    "                \"cac_certified\": \"Yes\" if profile.cac_flag else \"No\",\n",
    "                \"sector\": profile.sector_name\n",
    "            })\n",
    "    \n",
    "    df = pd.DataFrame(qualified).sort_values('cg_score', ascending=False)\n",
    "    return df\n",
    "\n",
    "# Screen for high-quality ESG stocks\n",
    "blue_chips = [\"PTT\", \"KBANK\", \"CPALL\", \"AOT\", \"BBL\", \"SCB\", \"ADVANC\", \"CPN\", \"MINT\", \"GULF\"]\n",
    "esg_stocks = await esg_portfolio_screener(blue_chips, min_cg_score=4.0, min_esg_rating=\"A\")\n",
    "\n",
    "print(f\"High-Quality ESG Stocks ({len(esg_stocks)} qualified):\\n\")\n",
    "print(esg_stocks.to_string(index=False))"
   ]
  },
  {
   "cell_type": "markdown",
   "metadata": {},
   "source": [
    "## Use Case: Management Analysis"
   ]
  },
  {
   "cell_type": "code",
   "execution_count": 5,
   "metadata": {},
   "outputs": [
    {
     "name": "stderr",
     "output_type": "stream",
     "text": [
      "\u001b[32m2025-10-05 17:38:19\u001b[0m | \u001b[1mINFO    \u001b[0m | \u001b[36msettfex.services.set.stock.profile_company\u001b[0m:\u001b[36m__init__\u001b[0m:\u001b[36m165\u001b[0m | \u001b[1mCompanyProfileService initialized with base_url=https://www.set.or.th\u001b[0m\n",
      "\u001b[32m2025-10-05 17:38:19\u001b[0m | \u001b[1mINFO    \u001b[0m | \u001b[36msettfex.services.set.stock.profile_company\u001b[0m:\u001b[36mfetch_company_profile\u001b[0m:\u001b[36m206\u001b[0m | \u001b[1mFetching company profile for symbol 'CPALL' (lang=en) from https://www.set.or.th/api/set/company/CPALL/profile?lang=en\u001b[0m\n",
      "\u001b[32m2025-10-05 17:38:19\u001b[0m | \u001b[1mINFO    \u001b[0m | \u001b[36msettfex.utils.data_fetcher\u001b[0m:\u001b[36m__init__\u001b[0m:\u001b[36m113\u001b[0m | \u001b[1mAsyncDataFetcher initialized with browser=chrome120, timeout=30s, rate_limit=0.0s\u001b[0m\n",
      "\u001b[32m2025-10-05 17:38:19\u001b[0m | \u001b[1mINFO    \u001b[0m | \u001b[36msettfex.utils.data_fetcher\u001b[0m:\u001b[36mfetch\u001b[0m:\u001b[36m303\u001b[0m | \u001b[1mFetch successful: url=https://www.set.or.th/api/set/company/CPALL/profile?lang=en, status=200, elapsed=0.01s, size=2645 bytes\u001b[0m\n",
      "\u001b[32m2025-10-05 17:38:20\u001b[0m | \u001b[1mINFO    \u001b[0m | \u001b[36msettfex.services.set.stock.profile_company\u001b[0m:\u001b[36mfetch_company_profile\u001b[0m:\u001b[36m235\u001b[0m | \u001b[1mSuccessfully fetched company profile for CPALL: Name=CP ALL PUBLIC COMPANY LIMITED, Sector=Commerce, CG Score=5, ESG Rating=AAA\u001b[0m\n"
     ]
    },
    {
     "name": "stdout",
     "output_type": "stream",
     "text": [
      "Management Team at CP ALL PUBLIC COMPANY LIMITED:\n",
      "\n",
      "1. The person taking the highest responsibility in finance and accounting\n",
      "   Mr. Kriengchai Boonpoapichart\n",
      "   Start Date: 2021-06-09 00:00:00+07:00\n",
      "\n",
      "2. The person supervising accounting\n",
      "   Miss Aphaporn Wisitkamthorn\n",
      "   Start Date: 2020-01-24 00:00:00+07:00\n",
      "\n"
     ]
    }
   ],
   "source": [
    "# Analyze management structure\n",
    "profile = await get_company_profile(\"CPALL\")\n",
    "\n",
    "print(f\"Management Team at {profile.name}:\\n\")\n",
    "for i, mgmt in enumerate(profile.managements, 1):\n",
    "    print(f\"{i}. {mgmt.position}\")\n",
    "    print(f\"   {mgmt.name}\")\n",
    "    print(f\"   Start Date: {mgmt.start_date}\")\n",
    "    print()"
   ]
  },
  {
   "cell_type": "markdown",
   "metadata": {},
   "source": [
    "## Use Case: Auditor Tracking"
   ]
  },
  {
   "cell_type": "code",
   "execution_count": 6,
   "metadata": {},
   "outputs": [
    {
     "name": "stdout",
     "output_type": "stream",
     "text": [
      "Audit Information for CP ALL PUBLIC COMPANY LIMITED:\n",
      "\n"
     ]
    },
    {
     "ename": "AttributeError",
     "evalue": "'CompanyProfile' object has no attribute 'audit_end_date'",
     "output_type": "error",
     "traceback": [
      "\u001b[31m---------------------------------------------------------------------------\u001b[39m",
      "\u001b[31mAttributeError\u001b[39m                            Traceback (most recent call last)",
      "\u001b[36mCell\u001b[39m\u001b[36m \u001b[39m\u001b[32mIn[6]\u001b[39m\u001b[32m, line 3\u001b[39m\n\u001b[32m      1\u001b[39m \u001b[38;5;66;03m# Track auditors and audit opinions\u001b[39;00m\n\u001b[32m      2\u001b[39m \u001b[38;5;28mprint\u001b[39m(\u001b[33mf\u001b[39m\u001b[33m\"\u001b[39m\u001b[33mAudit Information for \u001b[39m\u001b[38;5;132;01m{\u001b[39;00mprofile.name\u001b[38;5;132;01m}\u001b[39;00m\u001b[33m:\u001b[39m\u001b[38;5;130;01m\\n\u001b[39;00m\u001b[33m\"\u001b[39m)\n\u001b[32m----> \u001b[39m\u001b[32m3\u001b[39m \u001b[38;5;28mprint\u001b[39m(\u001b[33mf\u001b[39m\u001b[33m\"\u001b[39m\u001b[33mAudit Period End: \u001b[39m\u001b[38;5;132;01m{\u001b[39;00m\u001b[43mprofile\u001b[49m\u001b[43m.\u001b[49m\u001b[43maudit_end_date\u001b[49m\u001b[38;5;132;01m}\u001b[39;00m\u001b[33m\"\u001b[39m)\n\u001b[32m      4\u001b[39m \u001b[38;5;28mprint\u001b[39m(\u001b[33mf\u001b[39m\u001b[33m\"\u001b[39m\u001b[33mAudit Opinion: \u001b[39m\u001b[38;5;132;01m{\u001b[39;00mprofile.audit_opinion\u001b[38;5;132;01m}\u001b[39;00m\u001b[33m\"\u001b[39m)\n\u001b[32m      5\u001b[39m \u001b[38;5;28mprint\u001b[39m(\u001b[33mf\u001b[39m\u001b[33m\"\u001b[39m\u001b[38;5;130;01m\\n\u001b[39;00m\u001b[33mAuditors:\u001b[39m\u001b[33m\"\u001b[39m)\n",
      "\u001b[36mFile \u001b[39m\u001b[32m~/Code/python-lib/settfex/.venv/lib/python3.13/site-packages/pydantic/main.py:991\u001b[39m, in \u001b[36mBaseModel.__getattr__\u001b[39m\u001b[34m(self, item)\u001b[39m\n\u001b[32m    988\u001b[39m     \u001b[38;5;28;01mreturn\u001b[39;00m \u001b[38;5;28msuper\u001b[39m().\u001b[34m__getattribute__\u001b[39m(item)  \u001b[38;5;66;03m# Raises AttributeError if appropriate\u001b[39;00m\n\u001b[32m    989\u001b[39m \u001b[38;5;28;01melse\u001b[39;00m:\n\u001b[32m    990\u001b[39m     \u001b[38;5;66;03m# this is the current error\u001b[39;00m\n\u001b[32m--> \u001b[39m\u001b[32m991\u001b[39m     \u001b[38;5;28;01mraise\u001b[39;00m \u001b[38;5;167;01mAttributeError\u001b[39;00m(\u001b[33mf\u001b[39m\u001b[33m'\u001b[39m\u001b[38;5;132;01m{\u001b[39;00m\u001b[38;5;28mtype\u001b[39m(\u001b[38;5;28mself\u001b[39m).\u001b[34m__name__\u001b[39m\u001b[38;5;132;01m!r}\u001b[39;00m\u001b[33m object has no attribute \u001b[39m\u001b[38;5;132;01m{\u001b[39;00mitem\u001b[38;5;132;01m!r}\u001b[39;00m\u001b[33m'\u001b[39m)\n",
      "\u001b[31mAttributeError\u001b[39m: 'CompanyProfile' object has no attribute 'audit_end_date'"
     ]
    }
   ],
   "source": [
    "# Track auditors and audit opinions\n",
    "print(f\"Audit Information for {profile.name}:\\n\")\n",
    "print(f\"Audit Period End: {profile.audit_end_date}\")\n",
    "print(f\"Audit Opinion: {profile.audit_opinion}\")\n",
    "print(f\"\\nAuditors:\")\n",
    "for auditor in profile.auditors:\n",
    "    print(f\"  {auditor.name} - {auditor.company}\")\n",
    "    print(f\"  Audit End: {auditor.audit_end_date}\")"
   ]
  },
  {
   "cell_type": "markdown",
   "metadata": {},
   "source": [
    "## Use Case: CAC Compliance Portfolio"
   ]
  },
  {
   "cell_type": "code",
   "execution_count": null,
   "metadata": {},
   "outputs": [],
   "source": [
    "async def build_cac_portfolio(symbols: list[str]):\n",
    "    \"\"\"\n",
    "    Build portfolio of CAC-certified companies (anti-corruption).\n",
    "    \"\"\"\n",
    "    tasks = [get_company_profile(symbol) for symbol in symbols]\n",
    "    profiles = await asyncio.gather(*tasks, return_exceptions=True)\n",
    "    \n",
    "    cac_companies = []\n",
    "    non_cac = []\n",
    "    \n",
    "    for profile in profiles:\n",
    "        if isinstance(profile, Exception):\n",
    "            continue\n",
    "        \n",
    "        if profile.cac_flag:\n",
    "            cac_companies.append({\n",
    "                \"symbol\": profile.symbol,\n",
    "                \"company\": profile.name,\n",
    "                \"cg_score\": profile.cg_score,\n",
    "                \"esg_rating\": profile.setesg_rating\n",
    "            })\n",
    "        else:\n",
    "            non_cac.append(profile.symbol)\n",
    "    \n",
    "    print(f\"CAC-Certified Companies ({len(cac_companies)}):\")\n",
    "    if cac_companies:\n",
    "        df = pd.DataFrame(cac_companies)\n",
    "        print(df.to_string(index=False))\n",
    "    \n",
    "    print(f\"\\nNot CAC-Certified ({len(non_cac)}): {', '.join(non_cac)}\")\n",
    "\n",
    "await build_cac_portfolio(blue_chips)"
   ]
  },
  {
   "cell_type": "markdown",
   "metadata": {},
   "source": [
    "## Error Handling"
   ]
  },
  {
   "cell_type": "code",
   "execution_count": null,
   "metadata": {},
   "outputs": [],
   "source": [
    "async def safe_get_company_profile(symbol: str):\n",
    "    try:\n",
    "        profile = await get_company_profile(symbol)\n",
    "        print(f\"✓ {symbol}: {profile.name} (CG: {profile.cg_score}, ESG: {profile.setesg_rating})\")\n",
    "        return profile\n",
    "    except Exception as e:\n",
    "        print(f\"✗ {symbol}: {e}\")\n",
    "        return None\n",
    "\n",
    "await safe_get_company_profile(\"PTT\")"
   ]
  },
  {
   "cell_type": "markdown",
   "metadata": {},
   "source": [
    "## Next Steps\n",
    "\n",
    "- **[Board of Directors](08_board_of_director.ipynb)** - Board composition\n",
    "- **[Shareholder](06_shareholder.ipynb)** - Ownership structure  \n",
    "- **[Corporate Actions](05_corporate_action.ipynb)** - Dividends and meetings\n",
    "\n",
    "**Documentation**: `/docs/settfex/services/set/profile_company.md`"
   ]
  }
 ],
 "metadata": {
  "kernelspec": {
   "display_name": "settfex",
   "language": "python",
   "name": "python3"
  },
  "language_info": {
   "codemirror_mode": {
    "name": "ipython",
    "version": 3
   },
   "file_extension": ".py",
   "mimetype": "text/x-python",
   "name": "python",
   "nbconvert_exporter": "python",
   "pygments_lexer": "ipython3",
   "version": "3.13.5"
  }
 },
 "nbformat": 4,
 "nbformat_minor": 4
}
