{
 "cells": [
  {
   "cell_type": "markdown",
   "metadata": {},
   "source": [
    "# Board of Director Service - Management Structure Analysis\n",
    "\n",
    "Track board of directors and management positions for corporate governance analysis."
   ]
  },
  {
   "cell_type": "markdown",
   "metadata": {},
   "source": [
    "## Overview\n",
    "\n",
    "The **Board of Director Service** provides:\n",
    "\n",
    "- **Director Information**: Names and positions\n",
    "- **Position Types**: Chairman, CEO, Independent Directors, etc.\n",
    "- **Management Structure**: Track key personnel\n",
    "- **Governance Analysis**: Monitor board composition\n",
    "- **Thai/English Support**: Names in both languages\n",
    "\n",
    "### When to Use\n",
    "\n",
    "- Corporate governance research\n",
    "- Management continuity tracking\n",
    "- Independent director analysis\n",
    "- ESG compliance monitoring"
   ]
  },
  {
   "cell_type": "code",
   "execution_count": null,
   "metadata": {},
   "outputs": [],
   "source": [
    "!pip install settfex"
   ]
  },
  {
   "cell_type": "code",
   "execution_count": null,
   "metadata": {},
   "outputs": [],
   "source": [
    "import asyncio\n",
    "from settfex.services.set import get_board_of_directors\n",
    "import pandas as pd\n",
    "\n",
    "print(\"Libraries imported!\")"
   ]
  },
  {
   "cell_type": "markdown",
   "metadata": {},
   "source": [
    "## Basic Usage"
   ]
  },
  {
   "cell_type": "code",
   "execution_count": null,
   "metadata": {},
   "outputs": [],
   "source": [
    "# Fetch board of directors\n",
    "directors = await get_board_of_directors(\"MINT\")\n",
    "\n",
    "print(f\"Board of Directors for MINT ({len(directors)} members):\\n\")\n",
    "\n",
    "for i, director in enumerate(directors, 1):\n",
    "    positions = \", \".join(director.positions)\n",
    "    print(f\"{i}. {director.name}\")\n",
    "    print(f\"   Positions: {positions}\")\n",
    "    print()"
   ]
  },
  {
   "cell_type": "markdown",
   "metadata": {},
   "source": [
    "## Advanced Usage - Position Analysis"
   ]
  },
  {
   "cell_type": "code",
   "execution_count": null,
   "metadata": {},
   "outputs": [],
   "source": [
    "# Analyze by position type\n",
    "from collections import Counter\n",
    "\n",
    "all_positions = []\n",
    "for director in directors:\n",
    "    all_positions.extend(director.positions)\n",
    "\n",
    "position_counts = Counter(all_positions)\n",
    "\n",
    "print(\"Position Distribution:\\n\")\n",
    "for position, count in position_counts.most_common():\n",
    "    print(f\"{position}: {count}\")"
   ]
  },
  {
   "cell_type": "markdown",
   "metadata": {},
   "source": [
    "## Use Case: Independent Director Analysis"
   ]
  },
  {
   "cell_type": "code",
   "execution_count": null,
   "metadata": {},
   "outputs": [],
   "source": [
    "# Find independent directors\n",
    "independent_dirs = [\n",
    "    d for d in directors \n",
    "    if any(\"Independent\" in pos for pos in d.positions)\n",
    "]\n",
    "\n",
    "print(f\"Independent Directors ({len(independent_dirs)}):\")\n",
    "for director in independent_dirs:\n",
    "    print(f\"  {director.name}\")\n",
    "    for pos in director.positions:\n",
    "        if \"Independent\" in pos:\n",
    "            print(f\"    - {pos}\")"
   ]
  },
  {
   "cell_type": "markdown",
   "metadata": {},
   "source": [
    "## Use Case: Multi-Company Board Analysis"
   ]
  },
  {
   "cell_type": "code",
   "execution_count": null,
   "metadata": {},
   "outputs": [],
   "source": [
    "async def analyze_board_size(symbols: list[str]):\n",
    "    \"\"\"\n",
    "    Compare board sizes across companies.\n",
    "    \"\"\"\n",
    "    tasks = [get_board_of_directors(symbol) for symbol in symbols]\n",
    "    results = await asyncio.gather(*tasks, return_exceptions=True)\n",
    "    \n",
    "    data = []\n",
    "    for symbol, directors in zip(symbols, results):\n",
    "        if isinstance(directors, Exception):\n",
    "            continue\n",
    "        \n",
    "        independent = sum(1 for d in directors if any(\"Independent\" in p for p in d.positions))\n",
    "        \n",
    "        data.append({\n",
    "            \"symbol\": symbol,\n",
    "            \"total_directors\": len(directors),\n",
    "            \"independent_dirs\": independent,\n",
    "            \"independent_pct\": (independent / len(directors) * 100) if directors else 0\n",
    "        })\n",
    "    \n",
    "    df = pd.DataFrame(data).sort_values('total_directors', ascending=False)\n",
    "    return df\n",
    "\n",
    "symbols = [\"PTT\", \"KBANK\", \"CPALL\", \"AOT\", \"MINT\"]\n",
    "board_analysis = await analyze_board_size(symbols)\n",
    "\n",
    "print(\"Board Size Analysis:\\n\")\n",
    "print(board_analysis.to_string(index=False))"
   ]
  },
  {
   "cell_type": "markdown",
   "metadata": {},
   "source": [
    "## Next Steps\n",
    "\n",
    "- **[Company Profile](04_company_profile.ipynb)** - Management and governance scores\n",
    "- **[Shareholder](06_shareholder.ipynb)** - Ownership structure\n",
    "\n",
    "**Documentation**: `/docs/settfex/services/set/board_of_director.md`"
   ]
  }
 ],
 "metadata": {
  "kernelspec": {
   "display_name": "Python 3",
   "language": "python",
   "name": "python3"
  },
  "language_info": {
   "name": "python",
   "version": "3.11.0"
  }
 },
 "nbformat": 4,
 "nbformat_minor": 4
}
