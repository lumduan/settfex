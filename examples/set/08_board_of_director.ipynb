{
 "cells": [
  {
   "cell_type": "markdown",
   "metadata": {},
   "source": [
    "# Board of Director Service - Management Structure Analysis\n",
    "\n",
    "Track board of directors and management positions for corporate governance analysis."
   ]
  },
  {
   "cell_type": "markdown",
   "metadata": {},
   "source": [
    "## Overview\n",
    "\n",
    "The **Board of Director Service** provides:\n",
    "\n",
    "- **Director Information**: Names and positions\n",
    "- **Position Types**: Chairman, CEO, Independent Directors, etc.\n",
    "- **Management Structure**: Track key personnel\n",
    "- **Governance Analysis**: Monitor board composition\n",
    "- **Thai/English Support**: Names in both languages\n",
    "\n",
    "### When to Use\n",
    "\n",
    "- Corporate governance research\n",
    "- Management continuity tracking\n",
    "- Independent director analysis\n",
    "- ESG compliance monitoring"
   ]
  },
  {
   "cell_type": "code",
   "execution_count": 1,
   "metadata": {},
   "outputs": [
    {
     "name": "stdout",
     "output_type": "stream",
     "text": [
      "zsh:1: command not found: pip\n"
     ]
    }
   ],
   "source": [
    "!pip install settfex"
   ]
  },
  {
   "cell_type": "code",
   "execution_count": 2,
   "metadata": {},
   "outputs": [
    {
     "name": "stdout",
     "output_type": "stream",
     "text": [
      "Libraries imported!\n"
     ]
    }
   ],
   "source": [
    "import asyncio\n",
    "from settfex.services.set import get_board_of_directors\n",
    "import pandas as pd\n",
    "\n",
    "print(\"Libraries imported!\")"
   ]
  },
  {
   "cell_type": "markdown",
   "metadata": {},
   "source": [
    "## Basic Usage"
   ]
  },
  {
   "cell_type": "code",
   "execution_count": 3,
   "metadata": {},
   "outputs": [
    {
     "name": "stderr",
     "output_type": "stream",
     "text": [
      "\u001b[32m2025-10-05 21:10:13\u001b[0m | \u001b[1mINFO    \u001b[0m | \u001b[36msettfex.services.set.stock.board_of_director\u001b[0m:\u001b[36m__init__\u001b[0m:\u001b[36m45\u001b[0m | \u001b[1mBoardOfDirectorService initialized with base_url=https://www.set.or.th\u001b[0m\n",
      "\u001b[32m2025-10-05 21:10:13\u001b[0m | \u001b[1mINFO    \u001b[0m | \u001b[36msettfex.services.set.stock.board_of_director\u001b[0m:\u001b[36mfetch_board_of_directors\u001b[0m:\u001b[36m83\u001b[0m | \u001b[1mFetching board of directors for symbol 'MINT' (lang=en) from https://www.set.or.th/api/set/company/MINT/board-of-director?lang=en\u001b[0m\n",
      "\u001b[32m2025-10-05 21:10:13\u001b[0m | \u001b[1mINFO    \u001b[0m | \u001b[36msettfex.utils.data_fetcher\u001b[0m:\u001b[36m__init__\u001b[0m:\u001b[36m113\u001b[0m | \u001b[1mAsyncDataFetcher initialized with browser=chrome120, timeout=30s, rate_limit=0.0s\u001b[0m\n",
      "\u001b[32m2025-10-05 21:10:13\u001b[0m | \u001b[1mINFO    \u001b[0m | \u001b[36msettfex.utils.session_manager\u001b[0m:\u001b[36m__init__\u001b[0m:\u001b[36m98\u001b[0m | \u001b[1mSessionManager created with browser=chrome120, warmup_site=set, cache=enabled\u001b[0m\n",
      "\u001b[32m2025-10-05 21:10:13\u001b[0m | \u001b[1mINFO    \u001b[0m | \u001b[36msettfex.utils.session_cache\u001b[0m:\u001b[36m__init__\u001b[0m:\u001b[36m76\u001b[0m | \u001b[1mSessionCache initialized at /Users/sarat/.settfex/cache (ttl=3600s, size_limit=100MB)\u001b[0m\n",
      "\u001b[32m2025-10-05 21:10:13\u001b[0m | \u001b[32m\u001b[1mSUCCESS \u001b[0m | \u001b[36msettfex.utils.session_manager\u001b[0m:\u001b[36m_try_load_from_cache\u001b[0m:\u001b[36m202\u001b[0m | \u001b[32m\u001b[1m✓ Loaded session from cache: 4 cookies (age=1437s, browser=chrome120)\u001b[0m\n",
      "\u001b[32m2025-10-05 21:10:13\u001b[0m | \u001b[1mINFO    \u001b[0m | \u001b[36msettfex.utils.data_fetcher\u001b[0m:\u001b[36mfetch\u001b[0m:\u001b[36m303\u001b[0m | \u001b[1mFetch successful: url=https://www.set.or.th/api/set/company/MINT/board-of-director?lang=en, status=200, elapsed=0.05s, size=699 bytes\u001b[0m\n",
      "\u001b[32m2025-10-05 21:10:13\u001b[0m | \u001b[1mINFO    \u001b[0m | \u001b[36msettfex.services.set.stock.board_of_director\u001b[0m:\u001b[36mfetch_board_of_directors\u001b[0m:\u001b[36m127\u001b[0m | \u001b[1mSuccessfully fetched 9 board members for MINT\u001b[0m\n"
     ]
    },
    {
     "name": "stdout",
     "output_type": "stream",
     "text": [
      "Board of Directors for MINT (9 members):\n",
      "\n",
      "1. Mr. WILLIAM ELLWOOD HEINECKE\n",
      "   Positions: CHAIRMAN\n",
      "\n",
      "2. Mr. EMMANUEL JUDE DILLIPRAJ RAJAKARIER\n",
      "   Positions: GROUP CHIEF EXECUTIVE OFFICER, DIRECTOR\n",
      "\n",
      "3. Mr. JOHN SCOTT HEINECKE\n",
      "   Positions: DIRECTOR\n",
      "\n",
      "4. Mr. SOH CHIN HUA\n",
      "   Positions: DIRECTOR\n",
      "\n",
      "5. Mr. NITI OSATHANUGRAH\n",
      "   Positions: DIRECTOR\n",
      "\n",
      "6. Miss CAMILLE MA\n",
      "   Positions: INDEPENDENT DIRECTOR, AUDIT COMMITTEE\n",
      "\n",
      "7. Mr. CHARAMPORN JOTIKASTHIRA\n",
      "   Positions: INDEPENDENT DIRECTOR, AUDIT COMMITTEE\n",
      "\n",
      "8. Mr. MICHAEL DAVID SELBY\n",
      "   Positions: INDEPENDENT DIRECTOR\n",
      "\n",
      "9. Miss SUVABHA CHAROENYING\n",
      "   Positions: INDEPENDENT DIRECTOR, CHAIRMAN OF THE AUDIT COMMITTEE\n",
      "\n"
     ]
    }
   ],
   "source": [
    "# Fetch board of directors\n",
    "directors = await get_board_of_directors(\"MINT\")\n",
    "\n",
    "print(f\"Board of Directors for MINT ({len(directors)} members):\\n\")\n",
    "\n",
    "for i, director in enumerate(directors, 1):\n",
    "    positions = \", \".join(director.positions)\n",
    "    print(f\"{i}. {director.name}\")\n",
    "    print(f\"   Positions: {positions}\")\n",
    "    print()"
   ]
  },
  {
   "cell_type": "markdown",
   "metadata": {},
   "source": [
    "## Advanced Usage - Position Analysis"
   ]
  },
  {
   "cell_type": "code",
   "execution_count": 4,
   "metadata": {},
   "outputs": [
    {
     "name": "stdout",
     "output_type": "stream",
     "text": [
      "Position Distribution:\n",
      "\n",
      "DIRECTOR: 4\n",
      "INDEPENDENT DIRECTOR: 4\n",
      "AUDIT COMMITTEE: 2\n",
      "CHAIRMAN: 1\n",
      "GROUP CHIEF EXECUTIVE OFFICER: 1\n",
      "CHAIRMAN OF THE AUDIT COMMITTEE: 1\n"
     ]
    }
   ],
   "source": [
    "# Analyze by position type\n",
    "from collections import Counter\n",
    "\n",
    "all_positions = []\n",
    "for director in directors:\n",
    "    all_positions.extend(director.positions)\n",
    "\n",
    "position_counts = Counter(all_positions)\n",
    "\n",
    "print(\"Position Distribution:\\n\")\n",
    "for position, count in position_counts.most_common():\n",
    "    print(f\"{position}: {count}\")"
   ]
  },
  {
   "cell_type": "markdown",
   "metadata": {},
   "source": [
    "## Use Case: Independent Director Analysis"
   ]
  },
  {
   "cell_type": "code",
   "execution_count": 5,
   "metadata": {},
   "outputs": [
    {
     "name": "stdout",
     "output_type": "stream",
     "text": [
      "Independent Directors (0):\n"
     ]
    }
   ],
   "source": [
    "# Find independent directors\n",
    "independent_dirs = [\n",
    "    d for d in directors \n",
    "    if any(\"Independent\" in pos for pos in d.positions)\n",
    "]\n",
    "\n",
    "print(f\"Independent Directors ({len(independent_dirs)}):\")\n",
    "for director in independent_dirs:\n",
    "    print(f\"  {director.name}\")\n",
    "    for pos in director.positions:\n",
    "        if \"Independent\" in pos:\n",
    "            print(f\"    - {pos}\")"
   ]
  },
  {
   "cell_type": "markdown",
   "metadata": {},
   "source": [
    "## Use Case: Multi-Company Board Analysis"
   ]
  },
  {
   "cell_type": "code",
   "execution_count": 6,
   "metadata": {},
   "outputs": [
    {
     "name": "stderr",
     "output_type": "stream",
     "text": [
      "\u001b[32m2025-10-05 21:10:13\u001b[0m | \u001b[1mINFO    \u001b[0m | \u001b[36msettfex.services.set.stock.board_of_director\u001b[0m:\u001b[36m__init__\u001b[0m:\u001b[36m45\u001b[0m | \u001b[1mBoardOfDirectorService initialized with base_url=https://www.set.or.th\u001b[0m\n",
      "\u001b[32m2025-10-05 21:10:13\u001b[0m | \u001b[1mINFO    \u001b[0m | \u001b[36msettfex.services.set.stock.board_of_director\u001b[0m:\u001b[36mfetch_board_of_directors\u001b[0m:\u001b[36m83\u001b[0m | \u001b[1mFetching board of directors for symbol 'PTT' (lang=en) from https://www.set.or.th/api/set/company/PTT/board-of-director?lang=en\u001b[0m\n",
      "\u001b[32m2025-10-05 21:10:13\u001b[0m | \u001b[1mINFO    \u001b[0m | \u001b[36msettfex.utils.data_fetcher\u001b[0m:\u001b[36m__init__\u001b[0m:\u001b[36m113\u001b[0m | \u001b[1mAsyncDataFetcher initialized with browser=chrome120, timeout=30s, rate_limit=0.0s\u001b[0m\n",
      "\u001b[32m2025-10-05 21:10:13\u001b[0m | \u001b[1mINFO    \u001b[0m | \u001b[36msettfex.services.set.stock.board_of_director\u001b[0m:\u001b[36m__init__\u001b[0m:\u001b[36m45\u001b[0m | \u001b[1mBoardOfDirectorService initialized with base_url=https://www.set.or.th\u001b[0m\n",
      "\u001b[32m2025-10-05 21:10:13\u001b[0m | \u001b[1mINFO    \u001b[0m | \u001b[36msettfex.services.set.stock.board_of_director\u001b[0m:\u001b[36mfetch_board_of_directors\u001b[0m:\u001b[36m83\u001b[0m | \u001b[1mFetching board of directors for symbol 'KBANK' (lang=en) from https://www.set.or.th/api/set/company/KBANK/board-of-director?lang=en\u001b[0m\n",
      "\u001b[32m2025-10-05 21:10:13\u001b[0m | \u001b[1mINFO    \u001b[0m | \u001b[36msettfex.utils.data_fetcher\u001b[0m:\u001b[36m__init__\u001b[0m:\u001b[36m113\u001b[0m | \u001b[1mAsyncDataFetcher initialized with browser=chrome120, timeout=30s, rate_limit=0.0s\u001b[0m\n",
      "\u001b[32m2025-10-05 21:10:13\u001b[0m | \u001b[1mINFO    \u001b[0m | \u001b[36msettfex.services.set.stock.board_of_director\u001b[0m:\u001b[36m__init__\u001b[0m:\u001b[36m45\u001b[0m | \u001b[1mBoardOfDirectorService initialized with base_url=https://www.set.or.th\u001b[0m\n",
      "\u001b[32m2025-10-05 21:10:13\u001b[0m | \u001b[1mINFO    \u001b[0m | \u001b[36msettfex.services.set.stock.board_of_director\u001b[0m:\u001b[36mfetch_board_of_directors\u001b[0m:\u001b[36m83\u001b[0m | \u001b[1mFetching board of directors for symbol 'CPALL' (lang=en) from https://www.set.or.th/api/set/company/CPALL/board-of-director?lang=en\u001b[0m\n",
      "\u001b[32m2025-10-05 21:10:13\u001b[0m | \u001b[1mINFO    \u001b[0m | \u001b[36msettfex.utils.data_fetcher\u001b[0m:\u001b[36m__init__\u001b[0m:\u001b[36m113\u001b[0m | \u001b[1mAsyncDataFetcher initialized with browser=chrome120, timeout=30s, rate_limit=0.0s\u001b[0m\n",
      "\u001b[32m2025-10-05 21:10:13\u001b[0m | \u001b[1mINFO    \u001b[0m | \u001b[36msettfex.services.set.stock.board_of_director\u001b[0m:\u001b[36m__init__\u001b[0m:\u001b[36m45\u001b[0m | \u001b[1mBoardOfDirectorService initialized with base_url=https://www.set.or.th\u001b[0m\n",
      "\u001b[32m2025-10-05 21:10:13\u001b[0m | \u001b[1mINFO    \u001b[0m | \u001b[36msettfex.services.set.stock.board_of_director\u001b[0m:\u001b[36mfetch_board_of_directors\u001b[0m:\u001b[36m83\u001b[0m | \u001b[1mFetching board of directors for symbol 'AOT' (lang=en) from https://www.set.or.th/api/set/company/AOT/board-of-director?lang=en\u001b[0m\n",
      "\u001b[32m2025-10-05 21:10:13\u001b[0m | \u001b[1mINFO    \u001b[0m | \u001b[36msettfex.utils.data_fetcher\u001b[0m:\u001b[36m__init__\u001b[0m:\u001b[36m113\u001b[0m | \u001b[1mAsyncDataFetcher initialized with browser=chrome120, timeout=30s, rate_limit=0.0s\u001b[0m\n",
      "\u001b[32m2025-10-05 21:10:13\u001b[0m | \u001b[1mINFO    \u001b[0m | \u001b[36msettfex.services.set.stock.board_of_director\u001b[0m:\u001b[36m__init__\u001b[0m:\u001b[36m45\u001b[0m | \u001b[1mBoardOfDirectorService initialized with base_url=https://www.set.or.th\u001b[0m\n",
      "\u001b[32m2025-10-05 21:10:13\u001b[0m | \u001b[1mINFO    \u001b[0m | \u001b[36msettfex.services.set.stock.board_of_director\u001b[0m:\u001b[36mfetch_board_of_directors\u001b[0m:\u001b[36m83\u001b[0m | \u001b[1mFetching board of directors for symbol 'MINT' (lang=en) from https://www.set.or.th/api/set/company/MINT/board-of-director?lang=en\u001b[0m\n",
      "\u001b[32m2025-10-05 21:10:13\u001b[0m | \u001b[1mINFO    \u001b[0m | \u001b[36msettfex.utils.data_fetcher\u001b[0m:\u001b[36m__init__\u001b[0m:\u001b[36m113\u001b[0m | \u001b[1mAsyncDataFetcher initialized with browser=chrome120, timeout=30s, rate_limit=0.0s\u001b[0m\n",
      "\u001b[32m2025-10-05 21:10:13\u001b[0m | \u001b[1mINFO    \u001b[0m | \u001b[36msettfex.utils.data_fetcher\u001b[0m:\u001b[36mfetch\u001b[0m:\u001b[36m303\u001b[0m | \u001b[1mFetch successful: url=https://www.set.or.th/api/set/company/PTT/board-of-director?lang=en, status=200, elapsed=0.01s, size=1209 bytes\u001b[0m\n",
      "\u001b[32m2025-10-05 21:10:13\u001b[0m | \u001b[1mINFO    \u001b[0m | \u001b[36msettfex.services.set.stock.board_of_director\u001b[0m:\u001b[36mfetch_board_of_directors\u001b[0m:\u001b[36m127\u001b[0m | \u001b[1mSuccessfully fetched 15 board members for PTT\u001b[0m\n",
      "\u001b[32m2025-10-05 21:10:13\u001b[0m | \u001b[1mINFO    \u001b[0m | \u001b[36msettfex.utils.data_fetcher\u001b[0m:\u001b[36mfetch\u001b[0m:\u001b[36m303\u001b[0m | \u001b[1mFetch successful: url=https://www.set.or.th/api/set/company/KBANK/board-of-director?lang=en, status=200, elapsed=0.05s, size=1127 bytes\u001b[0m\n",
      "\u001b[32m2025-10-05 21:10:13\u001b[0m | \u001b[1mINFO    \u001b[0m | \u001b[36msettfex.services.set.stock.board_of_director\u001b[0m:\u001b[36mfetch_board_of_directors\u001b[0m:\u001b[36m127\u001b[0m | \u001b[1mSuccessfully fetched 13 board members for KBANK\u001b[0m\n",
      "\u001b[32m2025-10-05 21:10:13\u001b[0m | \u001b[1mINFO    \u001b[0m | \u001b[36msettfex.utils.data_fetcher\u001b[0m:\u001b[36mfetch\u001b[0m:\u001b[36m303\u001b[0m | \u001b[1mFetch successful: url=https://www.set.or.th/api/set/company/CPALL/board-of-director?lang=en, status=200, elapsed=0.05s, size=1304 bytes\u001b[0m\n",
      "\u001b[32m2025-10-05 21:10:13\u001b[0m | \u001b[1mINFO    \u001b[0m | \u001b[36msettfex.services.set.stock.board_of_director\u001b[0m:\u001b[36mfetch_board_of_directors\u001b[0m:\u001b[36m127\u001b[0m | \u001b[1mSuccessfully fetched 17 board members for CPALL\u001b[0m\n",
      "\u001b[32m2025-10-05 21:10:13\u001b[0m | \u001b[1mINFO    \u001b[0m | \u001b[36msettfex.utils.data_fetcher\u001b[0m:\u001b[36mfetch\u001b[0m:\u001b[36m303\u001b[0m | \u001b[1mFetch successful: url=https://www.set.or.th/api/set/company/MINT/board-of-director?lang=en, status=200, elapsed=0.05s, size=699 bytes\u001b[0m\n",
      "\u001b[32m2025-10-05 21:10:13\u001b[0m | \u001b[1mINFO    \u001b[0m | \u001b[36msettfex.services.set.stock.board_of_director\u001b[0m:\u001b[36mfetch_board_of_directors\u001b[0m:\u001b[36m127\u001b[0m | \u001b[1mSuccessfully fetched 9 board members for MINT\u001b[0m\n",
      "\u001b[32m2025-10-05 21:10:13\u001b[0m | \u001b[1mINFO    \u001b[0m | \u001b[36msettfex.utils.data_fetcher\u001b[0m:\u001b[36mfetch\u001b[0m:\u001b[36m303\u001b[0m | \u001b[1mFetch successful: url=https://www.set.or.th/api/set/company/AOT/board-of-director?lang=en, status=200, elapsed=0.06s, size=1087 bytes\u001b[0m\n",
      "\u001b[32m2025-10-05 21:10:13\u001b[0m | \u001b[1mINFO    \u001b[0m | \u001b[36msettfex.services.set.stock.board_of_director\u001b[0m:\u001b[36mfetch_board_of_directors\u001b[0m:\u001b[36m127\u001b[0m | \u001b[1mSuccessfully fetched 14 board members for AOT\u001b[0m\n"
     ]
    },
    {
     "name": "stdout",
     "output_type": "stream",
     "text": [
      "Board Size Analysis:\n",
      "\n",
      "symbol  total_directors  independent_dirs  independent_pct\n",
      " CPALL               17                 0         0.000000\n",
      "   PTT               15                 2        13.333333\n",
      "   AOT               14                 3        21.428571\n",
      " KBANK               13                 0         0.000000\n",
      "  MINT                9                 0         0.000000\n"
     ]
    }
   ],
   "source": [
    "async def analyze_board_size(symbols: list[str]):\n",
    "    \"\"\"\n",
    "    Compare board sizes across companies.\n",
    "    \"\"\"\n",
    "    tasks = [get_board_of_directors(symbol) for symbol in symbols]\n",
    "    results = await asyncio.gather(*tasks, return_exceptions=True)\n",
    "    \n",
    "    data = []\n",
    "    for symbol, directors in zip(symbols, results):\n",
    "        if isinstance(directors, Exception):\n",
    "            continue\n",
    "        \n",
    "        independent = sum(1 for d in directors if any(\"Independent\" in p for p in d.positions))\n",
    "        \n",
    "        data.append({\n",
    "            \"symbol\": symbol,\n",
    "            \"total_directors\": len(directors),\n",
    "            \"independent_dirs\": independent,\n",
    "            \"independent_pct\": (independent / len(directors) * 100) if directors else 0\n",
    "        })\n",
    "    \n",
    "    df = pd.DataFrame(data).sort_values('total_directors', ascending=False)\n",
    "    return df\n",
    "\n",
    "symbols = [\"PTT\", \"KBANK\", \"CPALL\", \"AOT\", \"MINT\"]\n",
    "board_analysis = await analyze_board_size(symbols)\n",
    "\n",
    "print(\"Board Size Analysis:\\n\")\n",
    "print(board_analysis.to_string(index=False))"
   ]
  },
  {
   "cell_type": "markdown",
   "metadata": {},
   "source": [
    "## Next Steps\n",
    "\n",
    "- **[Company Profile](04_company_profile.ipynb)** - Management and governance scores\n",
    "- **[Shareholder](06_shareholder.ipynb)** - Ownership structure\n",
    "\n",
    "**Documentation**: `/docs/settfex/services/set/board_of_director.md`"
   ]
  }
 ],
 "metadata": {
  "kernelspec": {
   "display_name": "settfex",
   "language": "python",
   "name": "python3"
  },
  "language_info": {
   "codemirror_mode": {
    "name": "ipython",
    "version": 3
   },
   "file_extension": ".py",
   "mimetype": "text/x-python",
   "name": "python",
   "nbconvert_exporter": "python",
   "pygments_lexer": "ipython3",
   "version": "3.13.5"
  }
 },
 "nbformat": 4,
 "nbformat_minor": 4
}
