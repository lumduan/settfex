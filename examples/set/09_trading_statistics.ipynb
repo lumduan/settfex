{
 "cells": [
  {
   "cell_type": "markdown",
   "metadata": {},
   "source": [
    "# Trading Statistics Service - Historical Performance Metrics\n",
    "\n",
    "Analyze trading statistics across multiple time periods (YTD, 1M, 3M, 6M, 1Y) including price, volume, and valuation metrics."
   ]
  },
  {
   "cell_type": "markdown",
   "metadata": {},
   "source": [
    "## Overview\n",
    "\n",
    "The **Trading Statistics Service** provides multi-period historical data:\n",
    "\n",
    "- **Time Periods**: YTD, 1 Month, 3 Months, 6 Months, 1 Year\n",
    "- **Price Data**: OHLC (Open, High, Low, Close), average price\n",
    "- **Volume Metrics**: Total volume, total value, average daily value\n",
    "- **Valuation**: P/E, P/B, market cap, dividend yield\n",
    "- **Risk**: Beta coefficient\n",
    "- **Liquidity**: Turnover ratio\n",
    "\n",
    "### When to Use\n",
    "\n",
    "- Historical performance analysis\n",
    "- Trend identification\n",
    "- Volatility assessment\n",
    "- Comparative period analysis\n",
    "- Technical trading strategies"
   ]
  },
  {
   "cell_type": "code",
   "execution_count": null,
   "metadata": {},
   "outputs": [],
   "source": [
    "!pip install settfex"
   ]
  },
  {
   "cell_type": "code",
   "execution_count": 8,
   "metadata": {},
   "outputs": [
    {
     "name": "stdout",
     "output_type": "stream",
     "text": [
      "Libraries imported!\n"
     ]
    }
   ],
   "source": [
    "import asyncio\n",
    "from settfex.services.set import get_trading_stats\n",
    "import pandas as pd\n",
    "import matplotlib.pyplot as plt\n",
    "\n",
    "print(\"Libraries imported!\")"
   ]
  },
  {
   "cell_type": "markdown",
   "metadata": {},
   "source": [
    "## Basic Usage"
   ]
  },
  {
   "cell_type": "code",
   "execution_count": 29,
   "metadata": {},
   "outputs": [
    {
     "name": "stdout",
     "output_type": "stream",
     "text": [
      "Trading Statistics for MINT (3 periods)\n",
      "\n",
      "Period: YTD\n",
      "  Date: 2025-10-03 00:00:00+07:00\n",
      "  Close: 23.00 THB (-11.54%)\n",
      "  High: 29.50, Low: 21.70\n",
      "  Volume: 3,365,073,549.0\n",
      "  P/E: 17.91, Market Cap: 130,409,470,471 THB\n",
      "\n",
      "Period: 2024\n",
      "  Date: 2024-12-30 00:00:00+07:00\n",
      "  Close: 26.00 THB (-11.86%)\n",
      "  High: 34.00, Low: 23.80\n",
      "  Volume: 3,864,045,824.0\n",
      "  P/E: 28.89, Market Cap: 147,419,401,402 THB\n",
      "\n",
      "Period: 2023\n",
      "  Date: 2023-12-28 00:00:00+07:00\n",
      "  Close: 29.50 THB (-8.53%)\n",
      "  High: 35.00, Low: 25.75\n",
      "  Volume: 4,250,693,728.0\n",
      "  P/E: 26.06, Market Cap: 165,076,043,154 THB\n",
      "\n"
     ]
    }
   ],
   "source": [
    "# Fetch trading statistics\n",
    "stats = await get_trading_stats(\"MINT\")\n",
    "\n",
    "print(f\"Trading Statistics for MINT ({len(stats)} periods)\\n\")\n",
    "\n",
    "for stat in stats:\n",
    "    print(f\"Period: {stat.period}\")\n",
    "    print(f\"  Date: {stat.date}\")\n",
    "    print(f\"  Close: {stat.close:.2f} THB ({stat.percent_change:+.2f}%)\")\n",
    "    print(f\"  High: {stat.high:.2f}, Low: {stat.low:.2f}\")\n",
    "    print(f\"  Volume: {stat.total_volume:,}\")\n",
    "    print(f\"  P/E: {stat.pe}, Market Cap: {stat.market_cap:,.0f} THB\")\n",
    "    print()"
   ]
  },
  {
   "cell_type": "markdown",
   "metadata": {},
   "source": [
    "## Advanced Usage - Performance Comparison"
   ]
  },
  {
   "cell_type": "code",
   "execution_count": 10,
   "metadata": {},
   "outputs": [
    {
     "name": "stdout",
     "output_type": "stream",
     "text": [
      "Performance by Period:\n",
      "\n",
      "period  close  change_pct    pe  beta\n",
      "   YTD   23.0  -11.538462 17.91  1.08\n",
      "  2024   26.0  -11.864407 28.89  1.19\n",
      "  2023   29.5   -8.527132 26.06  1.04\n"
     ]
    }
   ],
   "source": [
    "# Convert to DataFrame for analysis\n",
    "df = pd.DataFrame([\n",
    "    {\n",
    "        \"period\": s.period,\n",
    "        \"close\": s.close,\n",
    "        \"change_pct\": s.percent_change,\n",
    "        \"volume\": s.total_volume,\n",
    "        \"avg_value\": s.average_value,\n",
    "        \"pe\": s.pe,\n",
    "        \"pbv\": s.pbv,\n",
    "        \"beta\": s.beta\n",
    "    }\n",
    "    for s in stats\n",
    "])\n",
    "\n",
    "print(\"Performance by Period:\\n\")\n",
    "print(df[['period', 'close', 'change_pct', 'pe', 'beta']].to_string(index=False))"
   ]
  },
  {
   "cell_type": "markdown",
   "metadata": {},
   "source": [
    "## Use Case: Multi-Stock Performance Dashboard"
   ]
  },
  {
   "cell_type": "code",
   "execution_count": null,
   "metadata": {},
   "outputs": [],
   "source": [
    "async def performance_dashboard(symbols: list[str], period: str = \"YTD\"):\n",
    "    \"\"\"\n",
    "    Build performance dashboard for specific period.\n",
    "    Available periods: \"YTD\", \"2024\", \"2023\", etc.\n",
    "    \"\"\"\n",
    "    tasks = [get_trading_stats(symbol) for symbol in symbols]\n",
    "    results = await asyncio.gather(*tasks, return_exceptions=True)\n",
    "    \n",
    "    dashboard = []\n",
    "    for symbol, stats in zip(symbols, results):\n",
    "        if isinstance(stats, Exception):\n",
    "            continue\n",
    "        \n",
    "        # Find specific period\n",
    "        period_stat = next((s for s in stats if s.period == period), None)\n",
    "        if period_stat:\n",
    "            dashboard.append({\n",
    "                \"symbol\": symbol,\n",
    "                \"close\": period_stat.close,\n",
    "                \"change_pct\": period_stat.percent_change,\n",
    "                \"volume\": period_stat.total_volume,\n",
    "                \"pe\": period_stat.pe,\n",
    "                \"beta\": period_stat.beta,\n",
    "                \"turnover\": period_stat.turnover_ratio\n",
    "            })\n",
    "    \n",
    "    df = pd.DataFrame(dashboard).sort_values('change_pct', ascending=False)\n",
    "    return df\n",
    "\n",
    "# Build dashboard\n",
    "symbols = [\"PTT\", \"KBANK\", \"CPALL\", \"AOT\", \"BBL\", \"SCB\", \"MINT\"]\n",
    "dashboard_ytd = await performance_dashboard(symbols, period=\"YTD\")\n"
   ]
  },
  {
   "cell_type": "code",
   "execution_count": 27,
   "metadata": {},
   "outputs": [
    {
     "name": "stdout",
     "output_type": "stream",
     "text": [
      "YTD Performance Dashboard:\n",
      "\n",
      "symbol  close  change_pct       volume    pe  beta  turnover\n",
      "   SCB 127.00    8.085106 1698678204.0  8.92  0.50 50.449186\n",
      " KBANK 165.50    6.430868 2368875681.0  8.05  0.44 99.980927\n",
      "   PTT  32.25    1.574803 9076955456.0 12.96  0.55 31.778723\n",
      "   BBL 148.50   -1.655629 1489230475.0  5.99  0.45 78.017446\n",
      "  MINT  23.00  -11.538462 3365073549.0 17.91  1.08 59.348981\n",
      " CPALL  48.00  -13.901345 6802733754.0 15.78  1.01 75.728120\n",
      "   AOT  43.50  -26.890756 6656459108.0 33.53  1.39 46.595260\n"
     ]
    }
   ],
   "source": [
    "print(f\"YTD Performance Dashboard:\\n\")\n",
    "print(dashboard_ytd.to_string(index=False))"
   ]
  },
  {
   "cell_type": "markdown",
   "metadata": {},
   "source": [
    "## Use Case: Volatility Analysis"
   ]
  },
  {
   "cell_type": "code",
   "execution_count": 12,
   "metadata": {},
   "outputs": [
    {
     "name": "stdout",
     "output_type": "stream",
     "text": [
      "Volatility by Period:\n",
      "\n",
      "period  price_range_pct  beta\n",
      "   YTD        33.913043  1.08\n",
      "  2024        39.230769  1.19\n",
      "  2023        31.355932  1.04\n"
     ]
    }
   ],
   "source": [
    "# Compare volatility across periods\n",
    "volatility_data = []\n",
    "for stat in stats:\n",
    "    if stat.high and stat.low and stat.close:\n",
    "        price_range = ((stat.high - stat.low) / stat.close) * 100\n",
    "        volatility_data.append({\n",
    "            \"period\": stat.period,\n",
    "            \"price_range_pct\": price_range,\n",
    "            \"beta\": stat.beta\n",
    "        })\n",
    "\n",
    "vol_df = pd.DataFrame(volatility_data)\n",
    "print(\"Volatility by Period:\\n\")\n",
    "print(vol_df.to_string(index=False))"
   ]
  },
  {
   "cell_type": "markdown",
   "metadata": {},
   "source": [
    "## Next Steps\n",
    "\n",
    "- **[Highlight Data](02_highlight_data.ipynb)** - Current market metrics\n",
    "- **[Price Performance](10_price_performance.ipynb)** - Comparative performance\n",
    "\n",
    "**Documentation**: `/docs/settfex/services/set/trading_stat.md`"
   ]
  }
 ],
 "metadata": {
  "kernelspec": {
   "display_name": "settfex",
   "language": "python",
   "name": "python3"
  },
  "language_info": {
   "codemirror_mode": {
    "name": "ipython",
    "version": 3
   },
   "file_extension": ".py",
   "mimetype": "text/x-python",
   "name": "python",
   "nbconvert_exporter": "python",
   "pygments_lexer": "ipython3",
   "version": "3.13.5"
  }
 },
 "nbformat": 4,
 "nbformat_minor": 4
}
