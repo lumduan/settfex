{
 "cells": [
  {
   "cell_type": "markdown",
   "metadata": {},
   "source": [
    "# Trading Statistics Service - Historical Performance Metrics\n",
    "\n",
    "Analyze trading statistics across multiple time periods (YTD, 1M, 3M, 6M, 1Y) including price, volume, and valuation metrics."
   ]
  },
  {
   "cell_type": "markdown",
   "metadata": {},
   "source": [
    "## Overview\n",
    "\n",
    "The **Trading Statistics Service** provides multi-period historical data:\n",
    "\n",
    "- **Time Periods**: YTD, 1 Month, 3 Months, 6 Months, 1 Year\n",
    "- **Price Data**: OHLC (Open, High, Low, Close), average price\n",
    "- **Volume Metrics**: Total volume, total value, average daily value\n",
    "- **Valuation**: P/E, P/B, market cap, dividend yield\n",
    "- **Risk**: Beta coefficient\n",
    "- **Liquidity**: Turnover ratio\n",
    "\n",
    "### When to Use\n",
    "\n",
    "- Historical performance analysis\n",
    "- Trend identification\n",
    "- Volatility assessment\n",
    "- Comparative period analysis\n",
    "- Technical trading strategies"
   ]
  },
  {
   "cell_type": "code",
   "execution_count": 1,
   "metadata": {},
   "outputs": [
    {
     "name": "stdout",
     "output_type": "stream",
     "text": [
      "zsh:1: command not found: pip\n"
     ]
    }
   ],
   "source": [
    "!pip install settfex"
   ]
  },
  {
   "cell_type": "code",
   "execution_count": 2,
   "metadata": {},
   "outputs": [
    {
     "name": "stdout",
     "output_type": "stream",
     "text": [
      "Libraries imported!\n"
     ]
    }
   ],
   "source": [
    "import asyncio\n",
    "from settfex.services.set import get_trading_stats\n",
    "import pandas as pd\n",
    "import matplotlib.pyplot as plt\n",
    "\n",
    "print(\"Libraries imported!\")"
   ]
  },
  {
   "cell_type": "markdown",
   "metadata": {},
   "source": [
    "## Basic Usage"
   ]
  },
  {
   "cell_type": "code",
   "execution_count": null,
   "metadata": {},
   "outputs": [],
   "source": "# Fetch trading statistics\nstats = await get_trading_stats(\"MINT\")\n\nprint(f\"Trading Statistics for MINT ({len(stats)} periods)\\n\")\n\nfor stat in stats:\n    print(f\"Period: {stat.period}\")\n    print(f\"  Date: {stat.date}\")\n    print(f\"  Close: {stat.close:.2f} THB ({stat.percent_change:+.2f}%)\")\n    print(f\"  High: {stat.high:.2f}, Low: {stat.low:.2f}\")\n    print(f\"  Volume: {stat.total_volume:,}\")\n    print(f\"  P/E: {stat.pe}, Market Cap: {stat.market_cap:,.0f} THB\")\n    print()"
  },
  {
   "cell_type": "markdown",
   "metadata": {},
   "source": [
    "## Advanced Usage - Performance Comparison"
   ]
  },
  {
   "cell_type": "code",
   "execution_count": null,
   "metadata": {},
   "outputs": [],
   "source": "# Convert to DataFrame for analysis\ndf = pd.DataFrame([\n    {\n        \"period\": s.period,\n        \"close\": s.close,\n        \"change_pct\": s.percent_change,\n        \"volume\": s.total_volume,\n        \"avg_value\": s.average_value,\n        \"pe\": s.pe,\n        \"pbv\": s.pbv,\n        \"beta\": s.beta\n    }\n    for s in stats\n])\n\nprint(\"Performance by Period:\\n\")\nprint(df[['period', 'close', 'change_pct', 'pe', 'beta']].to_string(index=False))"
  },
  {
   "cell_type": "markdown",
   "metadata": {},
   "source": [
    "## Use Case: Multi-Stock Performance Dashboard"
   ]
  },
  {
   "cell_type": "code",
   "execution_count": null,
   "metadata": {},
   "outputs": [],
   "source": [
    "async def performance_dashboard(symbols: list[str], period: str = \"1M\"):\n",
    "    \"\"\"\n",
    "    Build performance dashboard for specific period.\n",
    "    \"\"\"\n",
    "    tasks = [get_trading_stats(symbol) for symbol in symbols]\n",
    "    results = await asyncio.gather(*tasks, return_exceptions=True)\n",
    "    \n",
    "    dashboard = []\n",
    "    for symbol, stats in zip(symbols, results):\n",
    "        if isinstance(stats, Exception):\n",
    "            continue\n",
    "        \n",
    "        # Find specific period\n",
    "        period_stat = next((s for s in stats if s.period == period), None)\n",
    "        if period_stat:\n",
    "            dashboard.append({\n",
    "                \"symbol\": symbol,\n",
    "                \"close\": period_stat.close,\n",
    "                \"change_pct\": period_stat.percent_change,\n",
    "                \"volume\": period_stat.total_volume,\n",
    "                \"pe\": period_stat.pe,\n",
    "                \"beta\": period_stat.beta,\n",
    "                \"turnover\": period_stat.turnover_ratio\n",
    "            })\n",
    "    \n",
    "    df = pd.DataFrame(dashboard).sort_values('change_pct', ascending=False)\n",
    "    return df\n",
    "\n",
    "# Build dashboard\n",
    "symbols = [\"PTT\", \"KBANK\", \"CPALL\", \"AOT\", \"BBL\", \"SCB\", \"MINT\"]\n",
    "dashboard_1m = await performance_dashboard(symbols, period=\"1M\")\n",
    "\n",
    "print(f\"1-Month Performance Dashboard:\\n\")\n",
    "print(dashboard_1m.to_string(index=False))"
   ]
  },
  {
   "cell_type": "markdown",
   "metadata": {},
   "source": [
    "## Use Case: Volatility Analysis"
   ]
  },
  {
   "cell_type": "code",
   "execution_count": null,
   "metadata": {},
   "outputs": [],
   "source": "# Compare volatility across periods\nvolatility_data = []\nfor stat in stats:\n    if stat.high and stat.low and stat.close:\n        price_range = ((stat.high - stat.low) / stat.close) * 100\n        volatility_data.append({\n            \"period\": stat.period,\n            \"price_range_pct\": price_range,\n            \"beta\": stat.beta\n        })\n\nvol_df = pd.DataFrame(volatility_data)\nprint(\"Volatility by Period:\\n\")\nprint(vol_df.to_string(index=False))"
  },
  {
   "cell_type": "markdown",
   "metadata": {},
   "source": [
    "## Next Steps\n",
    "\n",
    "- **[Highlight Data](02_highlight_data.ipynb)** - Current market metrics\n",
    "- **[Price Performance](10_price_performance.ipynb)** - Comparative performance\n",
    "\n",
    "**Documentation**: `/docs/settfex/services/set/trading_stat.md`"
   ]
  }
 ],
 "metadata": {
  "kernelspec": {
   "display_name": "settfex",
   "language": "python",
   "name": "python3"
  },
  "language_info": {
   "codemirror_mode": {
    "name": "ipython",
    "version": 3
   },
   "file_extension": ".py",
   "mimetype": "text/x-python",
   "name": "python",
   "nbconvert_exporter": "python",
   "pygments_lexer": "ipython3",
   "version": "3.13.5"
  }
 },
 "nbformat": 4,
 "nbformat_minor": 4
}