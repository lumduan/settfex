{
 "cells": [
  {
   "cell_type": "markdown",
   "metadata": {},
   "source": [
    "# Shareholder Service - Ownership Structure Analysis\n",
    "\n",
    "Track major shareholders, free float percentages, and ownership distribution for investment analysis."
   ]
  },
  {
   "cell_type": "markdown",
   "metadata": {},
   "source": [
    "## Overview\n",
    "\n",
    "The **Shareholder Service** provides ownership data:\n",
    "\n",
    "- **Major Shareholders**: Top shareholders with ownership percentages\n",
    "- **Free Float**: Tradable shares percentage and holder count\n",
    "- **NVDR Identification**: Non-Voting Depositary Receipt holders\n",
    "- **Ownership Concentration**: Analyze control and liquidity\n",
    "- **Foreign vs Local**: Track nationality of major holders\n",
    "\n",
    "### When to Use\n",
    "\n",
    "- Liquidity analysis (free float monitoring)\n",
    "- Control analysis (ownership concentration)\n",
    "- Corporate governance research\n",
    "- M&A potential assessment\n",
    "- Shareholder activism tracking"
   ]
  },
  {
   "cell_type": "code",
   "execution_count": 1,
   "metadata": {},
   "outputs": [
    {
     "name": "stdout",
     "output_type": "stream",
     "text": [
      "zsh:1: command not found: pip\n"
     ]
    }
   ],
   "source": [
    "!pip install settfex"
   ]
  },
  {
   "cell_type": "code",
   "execution_count": 2,
   "metadata": {},
   "outputs": [
    {
     "name": "stdout",
     "output_type": "stream",
     "text": [
      "Libraries imported!\n"
     ]
    }
   ],
   "source": [
    "import asyncio\n",
    "from settfex.services.set import get_shareholder_data\n",
    "import pandas as pd\n",
    "\n",
    "print(\"Libraries imported!\")"
   ]
  },
  {
   "cell_type": "markdown",
   "metadata": {},
   "source": [
    "## Basic Usage"
   ]
  },
  {
   "cell_type": "code",
   "execution_count": 3,
   "metadata": {},
   "outputs": [
    {
     "name": "stderr",
     "output_type": "stream",
     "text": [
      "\u001b[32m2025-10-05 17:38:49\u001b[0m | \u001b[1mINFO    \u001b[0m | \u001b[36msettfex.services.set.stock.shareholder\u001b[0m:\u001b[36m__init__\u001b[0m:\u001b[36m104\u001b[0m | \u001b[1mShareholderService initialized with base_url=https://www.set.or.th\u001b[0m\n",
      "\u001b[32m2025-10-05 17:38:49\u001b[0m | \u001b[1mINFO    \u001b[0m | \u001b[36msettfex.services.set.stock.shareholder\u001b[0m:\u001b[36mfetch_shareholder_data\u001b[0m:\u001b[36m144\u001b[0m | \u001b[1mFetching shareholder data for symbol 'MINT' (lang=en) from https://www.set.or.th/api/set/stock/MINT/shareholder?lang=en\u001b[0m\n",
      "\u001b[32m2025-10-05 17:38:49\u001b[0m | \u001b[1mINFO    \u001b[0m | \u001b[36msettfex.utils.data_fetcher\u001b[0m:\u001b[36m__init__\u001b[0m:\u001b[36m113\u001b[0m | \u001b[1mAsyncDataFetcher initialized with browser=chrome120, timeout=30s, rate_limit=0.0s\u001b[0m\n",
      "\u001b[32m2025-10-05 17:38:49\u001b[0m | \u001b[1mINFO    \u001b[0m | \u001b[36msettfex.utils.session_manager\u001b[0m:\u001b[36m__init__\u001b[0m:\u001b[36m98\u001b[0m | \u001b[1mSessionManager created with browser=chrome120, warmup_site=set, cache=enabled\u001b[0m\n",
      "\u001b[32m2025-10-05 17:38:49\u001b[0m | \u001b[1mINFO    \u001b[0m | \u001b[36msettfex.utils.session_cache\u001b[0m:\u001b[36m__init__\u001b[0m:\u001b[36m76\u001b[0m | \u001b[1mSessionCache initialized at /Users/sarat/.settfex/cache (ttl=3600s, size_limit=100MB)\u001b[0m\n",
      "\u001b[32m2025-10-05 17:38:49\u001b[0m | \u001b[32m\u001b[1mSUCCESS \u001b[0m | \u001b[36msettfex.utils.session_manager\u001b[0m:\u001b[36m_try_load_from_cache\u001b[0m:\u001b[36m202\u001b[0m | \u001b[32m\u001b[1m✓ Loaded session from cache: 4 cookies (age=467s, browser=chrome120)\u001b[0m\n",
      "\u001b[32m2025-10-05 17:38:49\u001b[0m | \u001b[1mINFO    \u001b[0m | \u001b[36msettfex.utils.data_fetcher\u001b[0m:\u001b[36mfetch\u001b[0m:\u001b[36m303\u001b[0m | \u001b[1mFetch successful: url=https://www.set.or.th/api/set/stock/MINT/shareholder?lang=en, status=200, elapsed=0.08s, size=3624 bytes\u001b[0m\n",
      "\u001b[32m2025-10-05 17:38:49\u001b[0m | \u001b[1mINFO    \u001b[0m | \u001b[36msettfex.services.set.stock.shareholder\u001b[0m:\u001b[36mfetch_shareholder_data\u001b[0m:\u001b[36m175\u001b[0m | \u001b[1mSuccessfully fetched shareholder data for MINT: 21 major shareholders, Free Float=59.51%\u001b[0m\n"
     ]
    },
    {
     "name": "stdout",
     "output_type": "stream",
     "text": [
      "Symbol: MINT\n",
      "Total Shareholders: 48,794\n",
      "Book Close Date: 2025-09-02 00:00:00+07:00\n",
      "\n",
      "Free Float:\n",
      "  Percentage: 59.51%\n"
     ]
    },
    {
     "ename": "AttributeError",
     "evalue": "'FreeFloat' object has no attribute 'free_float_holder'",
     "output_type": "error",
     "traceback": [
      "\u001b[31m---------------------------------------------------------------------------\u001b[39m",
      "\u001b[31mAttributeError\u001b[39m                            Traceback (most recent call last)",
      "\u001b[36mCell\u001b[39m\u001b[36m \u001b[39m\u001b[32mIn[3]\u001b[39m\u001b[32m, line 9\u001b[39m\n\u001b[32m      7\u001b[39m \u001b[38;5;28mprint\u001b[39m(\u001b[33mf\u001b[39m\u001b[33m\"\u001b[39m\u001b[38;5;130;01m\\n\u001b[39;00m\u001b[33mFree Float:\u001b[39m\u001b[33m\"\u001b[39m)\n\u001b[32m      8\u001b[39m \u001b[38;5;28mprint\u001b[39m(\u001b[33mf\u001b[39m\u001b[33m\"\u001b[39m\u001b[33m  Percentage: \u001b[39m\u001b[38;5;132;01m{\u001b[39;00mdata.free_float.percent_free_float\u001b[38;5;132;01m:\u001b[39;00m\u001b[33m.2f\u001b[39m\u001b[38;5;132;01m}\u001b[39;00m\u001b[33m%\u001b[39m\u001b[33m\"\u001b[39m)\n\u001b[32m----> \u001b[39m\u001b[32m9\u001b[39m \u001b[38;5;28mprint\u001b[39m(\u001b[33mf\u001b[39m\u001b[33m\"\u001b[39m\u001b[33m  Number of Holders: \u001b[39m\u001b[38;5;132;01m{\u001b[39;00m\u001b[43mdata\u001b[49m\u001b[43m.\u001b[49m\u001b[43mfree_float\u001b[49m\u001b[43m.\u001b[49m\u001b[43mfree_float_holder\u001b[49m\u001b[38;5;132;01m:\u001b[39;00m\u001b[33m,\u001b[39m\u001b[38;5;132;01m}\u001b[39;00m\u001b[33m\"\u001b[39m)\n\u001b[32m     10\u001b[39m \u001b[38;5;28mprint\u001b[39m(\u001b[33mf\u001b[39m\u001b[33m\"\u001b[39m\u001b[38;5;130;01m\\n\u001b[39;00m\u001b[33mTop 10 Major Shareholders:\u001b[39m\u001b[38;5;130;01m\\n\u001b[39;00m\u001b[33m\"\u001b[39m)\n\u001b[32m     12\u001b[39m \u001b[38;5;28;01mfor\u001b[39;00m sh \u001b[38;5;129;01min\u001b[39;00m data.major_shareholders[:\u001b[32m10\u001b[39m]:\n",
      "\u001b[36mFile \u001b[39m\u001b[32m~/Code/python-lib/settfex/.venv/lib/python3.13/site-packages/pydantic/main.py:991\u001b[39m, in \u001b[36mBaseModel.__getattr__\u001b[39m\u001b[34m(self, item)\u001b[39m\n\u001b[32m    988\u001b[39m     \u001b[38;5;28;01mreturn\u001b[39;00m \u001b[38;5;28msuper\u001b[39m().\u001b[34m__getattribute__\u001b[39m(item)  \u001b[38;5;66;03m# Raises AttributeError if appropriate\u001b[39;00m\n\u001b[32m    989\u001b[39m \u001b[38;5;28;01melse\u001b[39;00m:\n\u001b[32m    990\u001b[39m     \u001b[38;5;66;03m# this is the current error\u001b[39;00m\n\u001b[32m--> \u001b[39m\u001b[32m991\u001b[39m     \u001b[38;5;28;01mraise\u001b[39;00m \u001b[38;5;167;01mAttributeError\u001b[39;00m(\u001b[33mf\u001b[39m\u001b[33m'\u001b[39m\u001b[38;5;132;01m{\u001b[39;00m\u001b[38;5;28mtype\u001b[39m(\u001b[38;5;28mself\u001b[39m).\u001b[34m__name__\u001b[39m\u001b[38;5;132;01m!r}\u001b[39;00m\u001b[33m object has no attribute \u001b[39m\u001b[38;5;132;01m{\u001b[39;00mitem\u001b[38;5;132;01m!r}\u001b[39;00m\u001b[33m'\u001b[39m)\n",
      "\u001b[31mAttributeError\u001b[39m: 'FreeFloat' object has no attribute 'free_float_holder'"
     ]
    }
   ],
   "source": [
    "# Fetch shareholder data\n",
    "data = await get_shareholder_data(\"MINT\")\n",
    "\n",
    "print(f\"Symbol: {data.symbol}\")\n",
    "print(f\"Total Shareholders: {data.total_shareholder:,}\")\n",
    "print(f\"Book Close Date: {data.book_close_date}\")\n",
    "print(f\"\\nFree Float:\")\n",
    "print(f\"  Percentage: {data.free_float.percent_free_float:.2f}%\")\n",
    "print(f\"  Number of Holders: {data.free_float.free_float_holder:,}\")\n",
    "print(f\"\\nTop 10 Major Shareholders:\\n\")\n",
    "\n",
    "for sh in data.major_shareholders[:10]:\n",
    "    nvdr_flag = \" [NVDR]\" if sh.is_thai_nvdr else \"\"\n",
    "    print(f\"{sh.sequence}. {sh.name}{nvdr_flag}\")\n",
    "    print(f\"   Nationality: {sh.nationality}\")\n",
    "    print(f\"   Shares: {sh.share_amount:,} ({sh.percent_of_share:.2f}%)\")\n",
    "    print()"
   ]
  },
  {
   "cell_type": "markdown",
   "metadata": {},
   "source": [
    "## Advanced Usage - Ownership Concentration"
   ]
  },
  {
   "cell_type": "code",
   "execution_count": null,
   "metadata": {},
   "outputs": [],
   "source": [
    "async def analyze_ownership_concentration(symbols: list[str]):\n",
    "    \"\"\"\n",
    "    Analyze ownership concentration for multiple stocks.\n",
    "    \"\"\"\n",
    "    tasks = [get_shareholder_data(symbol) for symbol in symbols]\n",
    "    results = await asyncio.gather(*tasks, return_exceptions=True)\n",
    "    \n",
    "    analysis = []\n",
    "    for symbol, data in zip(symbols, results):\n",
    "        if isinstance(data, Exception):\n",
    "            continue\n",
    "        \n",
    "        # Calculate concentration metrics\n",
    "        top5_pct = sum(sh.percent_of_share for sh in data.major_shareholders[:5])\n",
    "        top10_pct = sum(sh.percent_of_share for sh in data.major_shareholders[:10])\n",
    "        \n",
    "        analysis.append({\n",
    "            \"symbol\": symbol,\n",
    "            \"total_shareholders\": data.total_shareholder,\n",
    "            \"free_float_pct\": data.free_float.percent_free_float,\n",
    "            \"top5_ownership\": top5_pct,\n",
    "            \"top10_ownership\": top10_pct,\n",
    "            \"major_shareholders_count\": len(data.major_shareholders)\n",
    "        })\n",
    "    \n",
    "    df = pd.DataFrame(analysis).sort_values('top5_ownership', ascending=False)\n",
    "    return df\n",
    "\n",
    "# Analyze blue chips\n",
    "symbols = [\"PTT\", \"KBANK\", \"CPALL\", \"AOT\", \"BBL\", \"MINT\"]\n",
    "concentration = await analyze_ownership_concentration(symbols)\n",
    "\n",
    "print(\"Ownership Concentration Analysis:\\n\")\n",
    "print(concentration.to_string(index=False))"
   ]
  },
  {
   "cell_type": "markdown",
   "metadata": {},
   "source": [
    "## Use Case: Foreign vs Local Shareholders"
   ]
  },
  {
   "cell_type": "code",
   "execution_count": null,
   "metadata": {},
   "outputs": [],
   "source": [
    "# Analyze nationality distribution\n",
    "data = await get_shareholder_data(\"CPALL\")\n",
    "\n",
    "thai_holders = [sh for sh in data.major_shareholders if sh.nationality == \"THAI\"]\n",
    "foreign_holders = [sh for sh in data.major_shareholders if sh.nationality != \"THAI\"]\n",
    "\n",
    "thai_pct = sum(sh.percent_of_share for sh in thai_holders)\n",
    "foreign_pct = sum(sh.percent_of_share for sh in foreign_holders)\n",
    "\n",
    "print(f\"Ownership by Nationality for {data.symbol}:\")\n",
    "print(f\"\\nThai Shareholders: {len(thai_holders)} ({thai_pct:.2f}%)\")\n",
    "print(f\"Foreign Shareholders: {len(foreign_holders)} ({foreign_pct:.2f}%)\")\n",
    "print(f\"\\nTop Foreign Shareholders:\")\n",
    "for sh in foreign_holders[:5]:\n",
    "    print(f\"  {sh.name} ({sh.nationality}): {sh.percent_of_share:.2f}%\")"
   ]
  },
  {
   "cell_type": "markdown",
   "metadata": {},
   "source": [
    "## Use Case: NVDR Analysis"
   ]
  },
  {
   "cell_type": "code",
   "execution_count": null,
   "metadata": {},
   "outputs": [],
   "source": [
    "# Identify NVDR shareholders\n",
    "nvdr_holders = [sh for sh in data.major_shareholders if sh.is_thai_nvdr]\n",
    "\n",
    "print(f\"NVDR Shareholders: {len(nvdr_holders)}\\n\")\n",
    "for sh in nvdr_holders:\n",
    "    print(f\"{sh.name}\")\n",
    "    print(f\"  Ownership: {sh.percent_of_share:.2f}%\")\n",
    "    print(f\"  Shares: {sh.share_amount:,}\")\n",
    "    print()"
   ]
  },
  {
   "cell_type": "markdown",
   "metadata": {},
   "source": [
    "## Next Steps\n",
    "\n",
    "- **[NVDR Holder](07_nvdr_holder.ipynb)** - NVDR-specific data\n",
    "- **[Company Profile](04_company_profile.ipynb)** - Governance and management\n",
    "- **[Stock Profile](03_stock_profile.ipynb)** - Foreign ownership limits\n",
    "\n",
    "**Documentation**: `/docs/settfex/services/set/shareholder.md`"
   ]
  }
 ],
 "metadata": {
  "kernelspec": {
   "display_name": "settfex",
   "language": "python",
   "name": "python3"
  },
  "language_info": {
   "codemirror_mode": {
    "name": "ipython",
    "version": 3
   },
   "file_extension": ".py",
   "mimetype": "text/x-python",
   "name": "python",
   "nbconvert_exporter": "python",
   "pygments_lexer": "ipython3",
   "version": "3.13.5"
  }
 },
 "nbformat": 4,
 "nbformat_minor": 4
}
