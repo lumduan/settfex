{
 "cells": [
  {
   "cell_type": "markdown",
   "metadata": {},
   "source": [
    "# Shareholder Service - Ownership Structure Analysis\n",
    "\n",
    "Track major shareholders, free float percentages, and ownership distribution for investment analysis."
   ]
  },
  {
   "cell_type": "markdown",
   "metadata": {},
   "source": [
    "## Overview\n",
    "\n",
    "The **Shareholder Service** provides ownership data:\n",
    "\n",
    "- **Major Shareholders**: Top shareholders with ownership percentages\n",
    "- **Free Float**: Tradable shares percentage and holder count\n",
    "- **NVDR Identification**: Non-Voting Depositary Receipt holders\n",
    "- **Ownership Concentration**: Analyze control and liquidity\n",
    "- **Foreign vs Local**: Track nationality of major holders\n",
    "\n",
    "### When to Use\n",
    "\n",
    "- Liquidity analysis (free float monitoring)\n",
    "- Control analysis (ownership concentration)\n",
    "- Corporate governance research\n",
    "- M&A potential assessment\n",
    "- Shareholder activism tracking"
   ]
  },
  {
   "cell_type": "code",
   "execution_count": 1,
   "metadata": {},
   "outputs": [
    {
     "name": "stdout",
     "output_type": "stream",
     "text": [
      "zsh:1: command not found: pip\n"
     ]
    }
   ],
   "source": [
    "!pip install settfex"
   ]
  },
  {
   "cell_type": "code",
   "execution_count": 2,
   "metadata": {},
   "outputs": [
    {
     "name": "stdout",
     "output_type": "stream",
     "text": [
      "Libraries imported!\n"
     ]
    }
   ],
   "source": [
    "import asyncio\n",
    "from settfex.services.set import get_shareholder_data\n",
    "import pandas as pd\n",
    "\n",
    "print(\"Libraries imported!\")"
   ]
  },
  {
   "cell_type": "markdown",
   "metadata": {},
   "source": [
    "## Basic Usage"
   ]
  },
  {
   "cell_type": "code",
   "execution_count": 3,
   "metadata": {},
   "outputs": [
    {
     "name": "stderr",
     "output_type": "stream",
     "text": [
      "\u001b[32m2025-10-05 21:09:06\u001b[0m | \u001b[1mINFO    \u001b[0m | \u001b[36msettfex.services.set.stock.shareholder\u001b[0m:\u001b[36m__init__\u001b[0m:\u001b[36m104\u001b[0m | \u001b[1mShareholderService initialized with base_url=https://www.set.or.th\u001b[0m\n",
      "\u001b[32m2025-10-05 21:09:06\u001b[0m | \u001b[1mINFO    \u001b[0m | \u001b[36msettfex.services.set.stock.shareholder\u001b[0m:\u001b[36mfetch_shareholder_data\u001b[0m:\u001b[36m144\u001b[0m | \u001b[1mFetching shareholder data for symbol 'MINT' (lang=en) from https://www.set.or.th/api/set/stock/MINT/shareholder?lang=en\u001b[0m\n",
      "\u001b[32m2025-10-05 21:09:06\u001b[0m | \u001b[1mINFO    \u001b[0m | \u001b[36msettfex.utils.data_fetcher\u001b[0m:\u001b[36m__init__\u001b[0m:\u001b[36m113\u001b[0m | \u001b[1mAsyncDataFetcher initialized with browser=chrome120, timeout=30s, rate_limit=0.0s\u001b[0m\n",
      "\u001b[32m2025-10-05 21:09:06\u001b[0m | \u001b[1mINFO    \u001b[0m | \u001b[36msettfex.utils.session_manager\u001b[0m:\u001b[36m__init__\u001b[0m:\u001b[36m98\u001b[0m | \u001b[1mSessionManager created with browser=chrome120, warmup_site=set, cache=enabled\u001b[0m\n",
      "\u001b[32m2025-10-05 21:09:06\u001b[0m | \u001b[1mINFO    \u001b[0m | \u001b[36msettfex.utils.session_cache\u001b[0m:\u001b[36m__init__\u001b[0m:\u001b[36m76\u001b[0m | \u001b[1mSessionCache initialized at /Users/sarat/.settfex/cache (ttl=3600s, size_limit=100MB)\u001b[0m\n",
      "\u001b[32m2025-10-05 21:09:06\u001b[0m | \u001b[32m\u001b[1mSUCCESS \u001b[0m | \u001b[36msettfex.utils.session_manager\u001b[0m:\u001b[36m_try_load_from_cache\u001b[0m:\u001b[36m202\u001b[0m | \u001b[32m\u001b[1m✓ Loaded session from cache: 4 cookies (age=1370s, browser=chrome120)\u001b[0m\n",
      "\u001b[32m2025-10-05 21:09:06\u001b[0m | \u001b[1mINFO    \u001b[0m | \u001b[36msettfex.utils.data_fetcher\u001b[0m:\u001b[36mfetch\u001b[0m:\u001b[36m303\u001b[0m | \u001b[1mFetch successful: url=https://www.set.or.th/api/set/stock/MINT/shareholder?lang=en, status=200, elapsed=0.06s, size=3624 bytes\u001b[0m\n",
      "\u001b[32m2025-10-05 21:09:06\u001b[0m | \u001b[1mINFO    \u001b[0m | \u001b[36msettfex.services.set.stock.shareholder\u001b[0m:\u001b[36mfetch_shareholder_data\u001b[0m:\u001b[36m175\u001b[0m | \u001b[1mSuccessfully fetched shareholder data for MINT: 21 major shareholders, Free Float=59.51%\u001b[0m\n"
     ]
    },
    {
     "name": "stdout",
     "output_type": "stream",
     "text": [
      "Symbol: MINT\n",
      "Total Shareholders: 48,794\n",
      "Book Close Date: 2025-09-02 00:00:00+07:00\n",
      "\n",
      "Free Float:\n",
      "  Percentage: 59.51%\n",
      "  Number of Holders: 41,108\n",
      "\n",
      "Top 10 Major Shareholders:\n",
      "\n",
      "1. บริษัท  ไมเนอร์ โฮลดิ้ง (ไทย) จำกัด\n",
      "   Nationality: None\n",
      "   Shares: 916,556,730 (16.17%)\n",
      "\n",
      "2. นาย นิติ โอสถานุเคราะห์\n",
      "   Nationality: None\n",
      "   Shares: 558,134,428 (9.84%)\n",
      "\n",
      "3. UBS AG SINGAPORE BRANCH\n",
      "   Nationality: None\n",
      "   Shares: 475,893,748 (8.39%)\n",
      "\n",
      "4. Thai NVDR Company Limited [NVDR]\n",
      "   Nationality: None\n",
      "   Shares: 465,082,581 (8.20%)\n",
      "\n",
      "5. SOUTH EAST ASIA UK (TYPE C) NOMINEES LIMITED\n",
      "   Nationality: None\n",
      "   Shares: 232,679,330 (4.10%)\n",
      "\n",
      "6. BANQUE PICTET & CIE SA\n",
      "   Nationality: None\n",
      "   Shares: 202,602,593 (3.57%)\n",
      "\n",
      "7. นาย วิลเลียม เอ็ลล์วู๊ด ไฮเน็ค\n",
      "   Nationality: None\n",
      "   Shares: 188,562,074 (3.33%)\n",
      "\n",
      "8. SOCIAL SECURITY OFFICE\n",
      "   Nationality: None\n",
      "   Shares: 187,751,038 (3.31%)\n",
      "\n",
      "9. กองทุนรวม  วายุภักษ์หนึ่ง\n",
      "   Nationality: None\n",
      "   Shares: 159,527,610 (2.81%)\n",
      "\n",
      "10. THE BANK OF NEW YORK MELLON\n",
      "   Nationality: None\n",
      "   Shares: 152,911,797 (2.70%)\n",
      "\n"
     ]
    }
   ],
   "source": [
    "# Fetch shareholder data\n",
    "data = await get_shareholder_data(\"MINT\")\n",
    "\n",
    "print(f\"Symbol: {data.symbol}\")\n",
    "print(f\"Total Shareholders: {data.total_shareholder:,}\")\n",
    "print(f\"Book Close Date: {data.book_close_date}\")\n",
    "print(f\"\\nFree Float:\")\n",
    "print(f\"  Percentage: {data.free_float.percent_free_float:.2f}%\")\n",
    "print(f\"  Number of Holders: {data.free_float.number_of_holder:,}\")\n",
    "print(f\"\\nTop 10 Major Shareholders:\\n\")\n",
    "\n",
    "for sh in data.major_shareholders[:10]:\n",
    "    nvdr_flag = \" [NVDR]\" if sh.is_thai_nvdr else \"\"\n",
    "    print(f\"{sh.sequence}. {sh.name}{nvdr_flag}\")\n",
    "    print(f\"   Nationality: {sh.nationality}\")\n",
    "    print(f\"   Shares: {sh.number_of_share:,} ({sh.percent_of_share:.2f}%)\")\n",
    "    print()"
   ]
  },
  {
   "cell_type": "markdown",
   "metadata": {},
   "source": [
    "## Advanced Usage - Ownership Concentration"
   ]
  },
  {
   "cell_type": "code",
   "execution_count": 4,
   "metadata": {},
   "outputs": [
    {
     "name": "stderr",
     "output_type": "stream",
     "text": [
      "\u001b[32m2025-10-05 21:09:06\u001b[0m | \u001b[1mINFO    \u001b[0m | \u001b[36msettfex.services.set.stock.shareholder\u001b[0m:\u001b[36m__init__\u001b[0m:\u001b[36m104\u001b[0m | \u001b[1mShareholderService initialized with base_url=https://www.set.or.th\u001b[0m\n",
      "\u001b[32m2025-10-05 21:09:06\u001b[0m | \u001b[1mINFO    \u001b[0m | \u001b[36msettfex.services.set.stock.shareholder\u001b[0m:\u001b[36mfetch_shareholder_data\u001b[0m:\u001b[36m144\u001b[0m | \u001b[1mFetching shareholder data for symbol 'PTT' (lang=en) from https://www.set.or.th/api/set/stock/PTT/shareholder?lang=en\u001b[0m\n",
      "\u001b[32m2025-10-05 21:09:06\u001b[0m | \u001b[1mINFO    \u001b[0m | \u001b[36msettfex.utils.data_fetcher\u001b[0m:\u001b[36m__init__\u001b[0m:\u001b[36m113\u001b[0m | \u001b[1mAsyncDataFetcher initialized with browser=chrome120, timeout=30s, rate_limit=0.0s\u001b[0m\n",
      "\u001b[32m2025-10-05 21:09:06\u001b[0m | \u001b[1mINFO    \u001b[0m | \u001b[36msettfex.services.set.stock.shareholder\u001b[0m:\u001b[36m__init__\u001b[0m:\u001b[36m104\u001b[0m | \u001b[1mShareholderService initialized with base_url=https://www.set.or.th\u001b[0m\n",
      "\u001b[32m2025-10-05 21:09:06\u001b[0m | \u001b[1mINFO    \u001b[0m | \u001b[36msettfex.services.set.stock.shareholder\u001b[0m:\u001b[36mfetch_shareholder_data\u001b[0m:\u001b[36m144\u001b[0m | \u001b[1mFetching shareholder data for symbol 'KBANK' (lang=en) from https://www.set.or.th/api/set/stock/KBANK/shareholder?lang=en\u001b[0m\n",
      "\u001b[32m2025-10-05 21:09:06\u001b[0m | \u001b[1mINFO    \u001b[0m | \u001b[36msettfex.utils.data_fetcher\u001b[0m:\u001b[36m__init__\u001b[0m:\u001b[36m113\u001b[0m | \u001b[1mAsyncDataFetcher initialized with browser=chrome120, timeout=30s, rate_limit=0.0s\u001b[0m\n",
      "\u001b[32m2025-10-05 21:09:06\u001b[0m | \u001b[1mINFO    \u001b[0m | \u001b[36msettfex.services.set.stock.shareholder\u001b[0m:\u001b[36m__init__\u001b[0m:\u001b[36m104\u001b[0m | \u001b[1mShareholderService initialized with base_url=https://www.set.or.th\u001b[0m\n",
      "\u001b[32m2025-10-05 21:09:06\u001b[0m | \u001b[1mINFO    \u001b[0m | \u001b[36msettfex.services.set.stock.shareholder\u001b[0m:\u001b[36mfetch_shareholder_data\u001b[0m:\u001b[36m144\u001b[0m | \u001b[1mFetching shareholder data for symbol 'CPALL' (lang=en) from https://www.set.or.th/api/set/stock/CPALL/shareholder?lang=en\u001b[0m\n",
      "\u001b[32m2025-10-05 21:09:06\u001b[0m | \u001b[1mINFO    \u001b[0m | \u001b[36msettfex.utils.data_fetcher\u001b[0m:\u001b[36m__init__\u001b[0m:\u001b[36m113\u001b[0m | \u001b[1mAsyncDataFetcher initialized with browser=chrome120, timeout=30s, rate_limit=0.0s\u001b[0m\n",
      "\u001b[32m2025-10-05 21:09:06\u001b[0m | \u001b[1mINFO    \u001b[0m | \u001b[36msettfex.services.set.stock.shareholder\u001b[0m:\u001b[36m__init__\u001b[0m:\u001b[36m104\u001b[0m | \u001b[1mShareholderService initialized with base_url=https://www.set.or.th\u001b[0m\n",
      "\u001b[32m2025-10-05 21:09:06\u001b[0m | \u001b[1mINFO    \u001b[0m | \u001b[36msettfex.services.set.stock.shareholder\u001b[0m:\u001b[36mfetch_shareholder_data\u001b[0m:\u001b[36m144\u001b[0m | \u001b[1mFetching shareholder data for symbol 'AOT' (lang=en) from https://www.set.or.th/api/set/stock/AOT/shareholder?lang=en\u001b[0m\n",
      "\u001b[32m2025-10-05 21:09:06\u001b[0m | \u001b[1mINFO    \u001b[0m | \u001b[36msettfex.utils.data_fetcher\u001b[0m:\u001b[36m__init__\u001b[0m:\u001b[36m113\u001b[0m | \u001b[1mAsyncDataFetcher initialized with browser=chrome120, timeout=30s, rate_limit=0.0s\u001b[0m\n",
      "\u001b[32m2025-10-05 21:09:06\u001b[0m | \u001b[1mINFO    \u001b[0m | \u001b[36msettfex.services.set.stock.shareholder\u001b[0m:\u001b[36m__init__\u001b[0m:\u001b[36m104\u001b[0m | \u001b[1mShareholderService initialized with base_url=https://www.set.or.th\u001b[0m\n",
      "\u001b[32m2025-10-05 21:09:06\u001b[0m | \u001b[1mINFO    \u001b[0m | \u001b[36msettfex.services.set.stock.shareholder\u001b[0m:\u001b[36mfetch_shareholder_data\u001b[0m:\u001b[36m144\u001b[0m | \u001b[1mFetching shareholder data for symbol 'BBL' (lang=en) from https://www.set.or.th/api/set/stock/BBL/shareholder?lang=en\u001b[0m\n",
      "\u001b[32m2025-10-05 21:09:06\u001b[0m | \u001b[1mINFO    \u001b[0m | \u001b[36msettfex.utils.data_fetcher\u001b[0m:\u001b[36m__init__\u001b[0m:\u001b[36m113\u001b[0m | \u001b[1mAsyncDataFetcher initialized with browser=chrome120, timeout=30s, rate_limit=0.0s\u001b[0m\n",
      "\u001b[32m2025-10-05 21:09:06\u001b[0m | \u001b[1mINFO    \u001b[0m | \u001b[36msettfex.services.set.stock.shareholder\u001b[0m:\u001b[36m__init__\u001b[0m:\u001b[36m104\u001b[0m | \u001b[1mShareholderService initialized with base_url=https://www.set.or.th\u001b[0m\n",
      "\u001b[32m2025-10-05 21:09:06\u001b[0m | \u001b[1mINFO    \u001b[0m | \u001b[36msettfex.services.set.stock.shareholder\u001b[0m:\u001b[36mfetch_shareholder_data\u001b[0m:\u001b[36m144\u001b[0m | \u001b[1mFetching shareholder data for symbol 'MINT' (lang=en) from https://www.set.or.th/api/set/stock/MINT/shareholder?lang=en\u001b[0m\n",
      "\u001b[32m2025-10-05 21:09:06\u001b[0m | \u001b[1mINFO    \u001b[0m | \u001b[36msettfex.utils.data_fetcher\u001b[0m:\u001b[36m__init__\u001b[0m:\u001b[36m113\u001b[0m | \u001b[1mAsyncDataFetcher initialized with browser=chrome120, timeout=30s, rate_limit=0.0s\u001b[0m\n",
      "\u001b[32m2025-10-05 21:09:06\u001b[0m | \u001b[1mINFO    \u001b[0m | \u001b[36msettfex.utils.data_fetcher\u001b[0m:\u001b[36mfetch\u001b[0m:\u001b[36m303\u001b[0m | \u001b[1mFetch successful: url=https://www.set.or.th/api/set/stock/PTT/shareholder?lang=en, status=200, elapsed=0.04s, size=1855 bytes\u001b[0m\n",
      "\u001b[32m2025-10-05 21:09:06\u001b[0m | \u001b[1mINFO    \u001b[0m | \u001b[36msettfex.services.set.stock.shareholder\u001b[0m:\u001b[36mfetch_shareholder_data\u001b[0m:\u001b[36m175\u001b[0m | \u001b[1mSuccessfully fetched shareholder data for PTT: 10 major shareholders, Free Float=48.88%\u001b[0m\n",
      "\u001b[32m2025-10-05 21:09:06\u001b[0m | \u001b[1mINFO    \u001b[0m | \u001b[36msettfex.utils.data_fetcher\u001b[0m:\u001b[36mfetch\u001b[0m:\u001b[36m303\u001b[0m | \u001b[1mFetch successful: url=https://www.set.or.th/api/set/stock/CPALL/shareholder?lang=en, status=200, elapsed=0.05s, size=2948 bytes\u001b[0m\n",
      "\u001b[32m2025-10-05 21:09:06\u001b[0m | \u001b[1mINFO    \u001b[0m | \u001b[36msettfex.services.set.stock.shareholder\u001b[0m:\u001b[36mfetch_shareholder_data\u001b[0m:\u001b[36m175\u001b[0m | \u001b[1mSuccessfully fetched shareholder data for CPALL: 17 major shareholders, Free Float=63.94%\u001b[0m\n",
      "\u001b[32m2025-10-05 21:09:06\u001b[0m | \u001b[1mINFO    \u001b[0m | \u001b[36msettfex.utils.data_fetcher\u001b[0m:\u001b[36mfetch\u001b[0m:\u001b[36m303\u001b[0m | \u001b[1mFetch successful: url=https://www.set.or.th/api/set/stock/MINT/shareholder?lang=en, status=200, elapsed=0.05s, size=3624 bytes\u001b[0m\n",
      "\u001b[32m2025-10-05 21:09:06\u001b[0m | \u001b[1mINFO    \u001b[0m | \u001b[36msettfex.services.set.stock.shareholder\u001b[0m:\u001b[36mfetch_shareholder_data\u001b[0m:\u001b[36m175\u001b[0m | \u001b[1mSuccessfully fetched shareholder data for MINT: 21 major shareholders, Free Float=59.51%\u001b[0m\n",
      "\u001b[32m2025-10-05 21:09:06\u001b[0m | \u001b[1mINFO    \u001b[0m | \u001b[36msettfex.utils.data_fetcher\u001b[0m:\u001b[36mfetch\u001b[0m:\u001b[36m303\u001b[0m | \u001b[1mFetch successful: url=https://www.set.or.th/api/set/stock/KBANK/shareholder?lang=en, status=200, elapsed=0.07s, size=3784 bytes\u001b[0m\n",
      "\u001b[32m2025-10-05 21:09:06\u001b[0m | \u001b[1mINFO    \u001b[0m | \u001b[36msettfex.services.set.stock.shareholder\u001b[0m:\u001b[36mfetch_shareholder_data\u001b[0m:\u001b[36m175\u001b[0m | \u001b[1mSuccessfully fetched shareholder data for KBANK: 22 major shareholders, Free Float=82.51%\u001b[0m\n",
      "\u001b[32m2025-10-05 21:09:06\u001b[0m | \u001b[1mINFO    \u001b[0m | \u001b[36msettfex.utils.data_fetcher\u001b[0m:\u001b[36mfetch\u001b[0m:\u001b[36m303\u001b[0m | \u001b[1mFetch successful: url=https://www.set.or.th/api/set/stock/AOT/shareholder?lang=en, status=200, elapsed=0.08s, size=2060 bytes\u001b[0m\n",
      "\u001b[32m2025-10-05 21:09:06\u001b[0m | \u001b[1mINFO    \u001b[0m | \u001b[36msettfex.services.set.stock.shareholder\u001b[0m:\u001b[36mfetch_shareholder_data\u001b[0m:\u001b[36m175\u001b[0m | \u001b[1mSuccessfully fetched shareholder data for AOT: 10 major shareholders, Free Float=30.00%\u001b[0m\n",
      "\u001b[32m2025-10-05 21:09:06\u001b[0m | \u001b[1mINFO    \u001b[0m | \u001b[36msettfex.utils.data_fetcher\u001b[0m:\u001b[36mfetch\u001b[0m:\u001b[36m303\u001b[0m | \u001b[1mFetch successful: url=https://www.set.or.th/api/set/stock/BBL/shareholder?lang=en, status=200, elapsed=0.08s, size=3654 bytes\u001b[0m\n",
      "\u001b[32m2025-10-05 21:09:06\u001b[0m | \u001b[1mINFO    \u001b[0m | \u001b[36msettfex.services.set.stock.shareholder\u001b[0m:\u001b[36mfetch_shareholder_data\u001b[0m:\u001b[36m175\u001b[0m | \u001b[1mSuccessfully fetched shareholder data for BBL: 21 major shareholders, Free Float=98.59%\u001b[0m\n"
     ]
    },
    {
     "name": "stdout",
     "output_type": "stream",
     "text": [
      "Ownership Concentration Analysis:\n",
      "\n",
      "symbol  total_shareholders  free_float_pct  top5_ownership  top10_ownership  major_shareholders_count\n",
      "   AOT              106375       30.000000           77.76            80.40                        10\n",
      "   PTT              185903       48.880001           70.96            76.86                        10\n",
      " CPALL              136961       63.939999           52.26            61.99                        17\n",
      "  MINT               48794       59.509998           46.70            62.42                        21\n",
      "   BBL               64388       98.589996           38.70            48.51                        21\n",
      " KBANK               80838       82.510002           36.30            48.43                        22\n"
     ]
    }
   ],
   "source": [
    "async def analyze_ownership_concentration(symbols: list[str]):\n",
    "    \"\"\"\n",
    "    Analyze ownership concentration for multiple stocks.\n",
    "    \"\"\"\n",
    "    tasks = [get_shareholder_data(symbol) for symbol in symbols]\n",
    "    results = await asyncio.gather(*tasks, return_exceptions=True)\n",
    "    \n",
    "    analysis = []\n",
    "    for symbol, data in zip(symbols, results):\n",
    "        if isinstance(data, Exception):\n",
    "            continue\n",
    "        \n",
    "        # Calculate concentration metrics\n",
    "        top5_pct = sum(sh.percent_of_share for sh in data.major_shareholders[:5])\n",
    "        top10_pct = sum(sh.percent_of_share for sh in data.major_shareholders[:10])\n",
    "        \n",
    "        analysis.append({\n",
    "            \"symbol\": symbol,\n",
    "            \"total_shareholders\": data.total_shareholder,\n",
    "            \"free_float_pct\": data.free_float.percent_free_float,\n",
    "            \"top5_ownership\": top5_pct,\n",
    "            \"top10_ownership\": top10_pct,\n",
    "            \"major_shareholders_count\": len(data.major_shareholders)\n",
    "        })\n",
    "    \n",
    "    df = pd.DataFrame(analysis).sort_values('top5_ownership', ascending=False)\n",
    "    return df\n",
    "\n",
    "# Analyze blue chips\n",
    "symbols = [\"PTT\", \"KBANK\", \"CPALL\", \"AOT\", \"BBL\", \"MINT\"]\n",
    "concentration = await analyze_ownership_concentration(symbols)\n",
    "\n",
    "print(\"Ownership Concentration Analysis:\\n\")\n",
    "print(concentration.to_string(index=False))"
   ]
  },
  {
   "cell_type": "markdown",
   "metadata": {},
   "source": [
    "## Use Case: Foreign vs Local Shareholders"
   ]
  },
  {
   "cell_type": "code",
   "execution_count": 5,
   "metadata": {},
   "outputs": [
    {
     "name": "stderr",
     "output_type": "stream",
     "text": [
      "\u001b[32m2025-10-05 21:09:06\u001b[0m | \u001b[1mINFO    \u001b[0m | \u001b[36msettfex.services.set.stock.shareholder\u001b[0m:\u001b[36m__init__\u001b[0m:\u001b[36m104\u001b[0m | \u001b[1mShareholderService initialized with base_url=https://www.set.or.th\u001b[0m\n",
      "\u001b[32m2025-10-05 21:09:06\u001b[0m | \u001b[1mINFO    \u001b[0m | \u001b[36msettfex.services.set.stock.shareholder\u001b[0m:\u001b[36mfetch_shareholder_data\u001b[0m:\u001b[36m144\u001b[0m | \u001b[1mFetching shareholder data for symbol 'CPALL' (lang=en) from https://www.set.or.th/api/set/stock/CPALL/shareholder?lang=en\u001b[0m\n",
      "\u001b[32m2025-10-05 21:09:06\u001b[0m | \u001b[1mINFO    \u001b[0m | \u001b[36msettfex.utils.data_fetcher\u001b[0m:\u001b[36m__init__\u001b[0m:\u001b[36m113\u001b[0m | \u001b[1mAsyncDataFetcher initialized with browser=chrome120, timeout=30s, rate_limit=0.0s\u001b[0m\n",
      "\u001b[32m2025-10-05 21:09:06\u001b[0m | \u001b[1mINFO    \u001b[0m | \u001b[36msettfex.utils.data_fetcher\u001b[0m:\u001b[36mfetch\u001b[0m:\u001b[36m303\u001b[0m | \u001b[1mFetch successful: url=https://www.set.or.th/api/set/stock/CPALL/shareholder?lang=en, status=200, elapsed=0.01s, size=2948 bytes\u001b[0m\n",
      "\u001b[32m2025-10-05 21:09:06\u001b[0m | \u001b[1mINFO    \u001b[0m | \u001b[36msettfex.services.set.stock.shareholder\u001b[0m:\u001b[36mfetch_shareholder_data\u001b[0m:\u001b[36m175\u001b[0m | \u001b[1mSuccessfully fetched shareholder data for CPALL: 17 major shareholders, Free Float=63.94%\u001b[0m\n"
     ]
    },
    {
     "name": "stdout",
     "output_type": "stream",
     "text": [
      "Ownership by Nationality for CPALL:\n",
      "\n",
      "Thai Shareholders: 0 (0.00%)\n",
      "Foreign Shareholders: 17 (68.14%)\n",
      "\n",
      "Top Foreign Shareholders:\n",
      "  บริษัท  ซี.พี.เมอร์แชนไดซิ่ง จำกัด (None): 30.78%\n",
      "  Thai NVDR Company Limited (None): 12.95%\n",
      "  SOCIAL SECURITY OFFICE (None): 3.15%\n",
      "  SOUTH EAST ASIA UK (TYPE C) NOMINEES LIMITED (None): 3.00%\n",
      "  STATE STREET EUROPE LIMITED (None): 2.38%\n"
     ]
    }
   ],
   "source": [
    "# Analyze nationality distribution\n",
    "data = await get_shareholder_data(\"CPALL\")\n",
    "\n",
    "thai_holders = [sh for sh in data.major_shareholders if sh.nationality == \"THAI\"]\n",
    "foreign_holders = [sh for sh in data.major_shareholders if sh.nationality != \"THAI\"]\n",
    "\n",
    "thai_pct = sum(sh.percent_of_share for sh in thai_holders)\n",
    "foreign_pct = sum(sh.percent_of_share for sh in foreign_holders)\n",
    "\n",
    "print(f\"Ownership by Nationality for {data.symbol}:\")\n",
    "print(f\"\\nThai Shareholders: {len(thai_holders)} ({thai_pct:.2f}%)\")\n",
    "print(f\"Foreign Shareholders: {len(foreign_holders)} ({foreign_pct:.2f}%)\")\n",
    "print(f\"\\nTop Foreign Shareholders:\")\n",
    "for sh in foreign_holders[:5]:\n",
    "    print(f\"  {sh.name} ({sh.nationality}): {sh.percent_of_share:.2f}%\")"
   ]
  },
  {
   "cell_type": "markdown",
   "metadata": {},
   "source": [
    "## Use Case: NVDR Analysis"
   ]
  },
  {
   "cell_type": "code",
   "execution_count": 6,
   "metadata": {},
   "outputs": [
    {
     "name": "stdout",
     "output_type": "stream",
     "text": [
      "NVDR Shareholders: 1\n",
      "\n",
      "Thai NVDR Company Limited\n",
      "  Ownership: 12.95%\n",
      "  Shares: 1,163,476,555\n",
      "\n"
     ]
    }
   ],
   "source": [
    "# Identify NVDR shareholders\n",
    "nvdr_holders = [sh for sh in data.major_shareholders if sh.is_thai_nvdr]\n",
    "\n",
    "print(f\"NVDR Shareholders: {len(nvdr_holders)}\\n\")\n",
    "for sh in nvdr_holders:\n",
    "    print(f\"{sh.name}\")\n",
    "    print(f\"  Ownership: {sh.percent_of_share:.2f}%\")\n",
    "    print(f\"  Shares: {sh.number_of_share:,}\")\n",
    "    print()"
   ]
  },
  {
   "cell_type": "markdown",
   "metadata": {},
   "source": [
    "## Next Steps\n",
    "\n",
    "- **[NVDR Holder](07_nvdr_holder.ipynb)** - NVDR-specific data\n",
    "- **[Company Profile](04_company_profile.ipynb)** - Governance and management\n",
    "- **[Stock Profile](03_stock_profile.ipynb)** - Foreign ownership limits\n",
    "\n",
    "**Documentation**: `/docs/settfex/services/set/shareholder.md`"
   ]
  }
 ],
 "metadata": {
  "kernelspec": {
   "display_name": "settfex",
   "language": "python",
   "name": "python3"
  },
  "language_info": {
   "codemirror_mode": {
    "name": "ipython",
    "version": 3
   },
   "file_extension": ".py",
   "mimetype": "text/x-python",
   "name": "python",
   "nbconvert_exporter": "python",
   "pygments_lexer": "ipython3",
   "version": "3.13.5"
  }
 },
 "nbformat": 4,
 "nbformat_minor": 4
}
