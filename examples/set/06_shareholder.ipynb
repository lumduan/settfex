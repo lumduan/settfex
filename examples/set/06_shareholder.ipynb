{
 "cells": [
  {
   "cell_type": "markdown",
   "metadata": {},
   "source": [
    "# Shareholder Service - Ownership Structure Analysis\n",
    "\n",
    "Track major shareholders, free float percentages, and ownership distribution for investment analysis."
   ]
  },
  {
   "cell_type": "markdown",
   "metadata": {},
   "source": [
    "## Overview\n",
    "\n",
    "The **Shareholder Service** provides ownership data:\n",
    "\n",
    "- **Major Shareholders**: Top shareholders with ownership percentages\n",
    "- **Free Float**: Tradable shares percentage and holder count\n",
    "- **NVDR Identification**: Non-Voting Depositary Receipt holders\n",
    "- **Ownership Concentration**: Analyze control and liquidity\n",
    "- **Foreign vs Local**: Track nationality of major holders\n",
    "\n",
    "### When to Use\n",
    "\n",
    "- Liquidity analysis (free float monitoring)\n",
    "- Control analysis (ownership concentration)\n",
    "- Corporate governance research\n",
    "- M&A potential assessment\n",
    "- Shareholder activism tracking"
   ]
  },
  {
   "cell_type": "code",
   "execution_count": 1,
   "metadata": {},
   "outputs": [
    {
     "name": "stdout",
     "output_type": "stream",
     "text": [
      "zsh:1: command not found: pip\n"
     ]
    }
   ],
   "source": [
    "!pip install settfex"
   ]
  },
  {
   "cell_type": "code",
   "execution_count": 2,
   "metadata": {},
   "outputs": [
    {
     "name": "stdout",
     "output_type": "stream",
     "text": [
      "Libraries imported!\n"
     ]
    }
   ],
   "source": [
    "import asyncio\n",
    "from settfex.services.set import get_shareholder_data\n",
    "import pandas as pd\n",
    "\n",
    "print(\"Libraries imported!\")"
   ]
  },
  {
   "cell_type": "markdown",
   "metadata": {},
   "source": [
    "## Basic Usage"
   ]
  },
  {
   "cell_type": "code",
   "execution_count": null,
   "metadata": {},
   "outputs": [],
   "source": "# Fetch shareholder data\ndata = await get_shareholder_data(\"MINT\")\n\nprint(f\"Symbol: {data.symbol}\")\nprint(f\"Total Shareholders: {data.total_shareholder:,}\")\nprint(f\"Book Close Date: {data.book_close_date}\")\nprint(f\"\\nFree Float:\")\nprint(f\"  Percentage: {data.free_float.percent_free_float:.2f}%\")\nprint(f\"  Number of Holders: {data.free_float.number_of_holder:,}\")\nprint(f\"\\nTop 10 Major Shareholders:\\n\")\n\nfor sh in data.major_shareholders[:10]:\n    nvdr_flag = \" [NVDR]\" if sh.is_thai_nvdr else \"\"\n    print(f\"{sh.sequence}. {sh.name}{nvdr_flag}\")\n    print(f\"   Nationality: {sh.nationality}\")\n    print(f\"   Shares: {sh.number_of_share:,} ({sh.percent_of_share:.2f}%)\")\n    print()"
  },
  {
   "cell_type": "markdown",
   "metadata": {},
   "source": [
    "## Advanced Usage - Ownership Concentration"
   ]
  },
  {
   "cell_type": "code",
   "execution_count": null,
   "metadata": {},
   "outputs": [],
   "source": [
    "async def analyze_ownership_concentration(symbols: list[str]):\n",
    "    \"\"\"\n",
    "    Analyze ownership concentration for multiple stocks.\n",
    "    \"\"\"\n",
    "    tasks = [get_shareholder_data(symbol) for symbol in symbols]\n",
    "    results = await asyncio.gather(*tasks, return_exceptions=True)\n",
    "    \n",
    "    analysis = []\n",
    "    for symbol, data in zip(symbols, results):\n",
    "        if isinstance(data, Exception):\n",
    "            continue\n",
    "        \n",
    "        # Calculate concentration metrics\n",
    "        top5_pct = sum(sh.percent_of_share for sh in data.major_shareholders[:5])\n",
    "        top10_pct = sum(sh.percent_of_share for sh in data.major_shareholders[:10])\n",
    "        \n",
    "        analysis.append({\n",
    "            \"symbol\": symbol,\n",
    "            \"total_shareholders\": data.total_shareholder,\n",
    "            \"free_float_pct\": data.free_float.percent_free_float,\n",
    "            \"top5_ownership\": top5_pct,\n",
    "            \"top10_ownership\": top10_pct,\n",
    "            \"major_shareholders_count\": len(data.major_shareholders)\n",
    "        })\n",
    "    \n",
    "    df = pd.DataFrame(analysis).sort_values('top5_ownership', ascending=False)\n",
    "    return df\n",
    "\n",
    "# Analyze blue chips\n",
    "symbols = [\"PTT\", \"KBANK\", \"CPALL\", \"AOT\", \"BBL\", \"MINT\"]\n",
    "concentration = await analyze_ownership_concentration(symbols)\n",
    "\n",
    "print(\"Ownership Concentration Analysis:\\n\")\n",
    "print(concentration.to_string(index=False))"
   ]
  },
  {
   "cell_type": "markdown",
   "metadata": {},
   "source": [
    "## Use Case: Foreign vs Local Shareholders"
   ]
  },
  {
   "cell_type": "code",
   "execution_count": null,
   "metadata": {},
   "outputs": [],
   "source": "# Analyze nationality distribution\ndata = await get_shareholder_data(\"CPALL\")\n\nthai_holders = [sh for sh in data.major_shareholders if sh.nationality == \"THAI\"]\nforeign_holders = [sh for sh in data.major_shareholders if sh.nationality != \"THAI\"]\n\nthai_pct = sum(sh.percent_of_share for sh in thai_holders)\nforeign_pct = sum(sh.percent_of_share for sh in foreign_holders)\n\nprint(f\"Ownership by Nationality for {data.symbol}:\")\nprint(f\"\\nThai Shareholders: {len(thai_holders)} ({thai_pct:.2f}%)\")\nprint(f\"Foreign Shareholders: {len(foreign_holders)} ({foreign_pct:.2f}%)\")\nprint(f\"\\nTop Foreign Shareholders:\")\nfor sh in foreign_holders[:5]:\n    print(f\"  {sh.name} ({sh.nationality}): {sh.percent_of_share:.2f}%\")"
  },
  {
   "cell_type": "markdown",
   "metadata": {},
   "source": [
    "## Use Case: NVDR Analysis"
   ]
  },
  {
   "cell_type": "code",
   "execution_count": null,
   "metadata": {},
   "outputs": [],
   "source": "# Identify NVDR shareholders\nnvdr_holders = [sh for sh in data.major_shareholders if sh.is_thai_nvdr]\n\nprint(f\"NVDR Shareholders: {len(nvdr_holders)}\\n\")\nfor sh in nvdr_holders:\n    print(f\"{sh.name}\")\n    print(f\"  Ownership: {sh.percent_of_share:.2f}%\")\n    print(f\"  Shares: {sh.number_of_share:,}\")\n    print()"
  },
  {
   "cell_type": "markdown",
   "metadata": {},
   "source": [
    "## Next Steps\n",
    "\n",
    "- **[NVDR Holder](07_nvdr_holder.ipynb)** - NVDR-specific data\n",
    "- **[Company Profile](04_company_profile.ipynb)** - Governance and management\n",
    "- **[Stock Profile](03_stock_profile.ipynb)** - Foreign ownership limits\n",
    "\n",
    "**Documentation**: `/docs/settfex/services/set/shareholder.md`"
   ]
  }
 ],
 "metadata": {
  "kernelspec": {
   "display_name": "settfex",
   "language": "python",
   "name": "python3"
  },
  "language_info": {
   "codemirror_mode": {
    "name": "ipython",
    "version": 3
   },
   "file_extension": ".py",
   "mimetype": "text/x-python",
   "name": "python",
   "nbconvert_exporter": "python",
   "pygments_lexer": "ipython3",
   "version": "3.13.5"
  }
 },
 "nbformat": 4,
 "nbformat_minor": 4
}